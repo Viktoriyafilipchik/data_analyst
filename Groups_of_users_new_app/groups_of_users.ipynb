{
 "cells": [
  {
   "cell_type": "markdown",
   "metadata": {},
   "source": [
    "# Выделение групп пользователей на основе поведения в мобильном приложении \"Ненужные вещи\""
   ]
  },
  {
   "cell_type": "markdown",
   "metadata": {},
   "source": [
    "<div class=\"alert alert-info\"> <b></b> \n",
    "    \n",
    "ПРЕЗЕНТАЦИЯ: (https://drive.google.com/file/d/1d5mtaRcfQoY1QtaSBeXyS4QyB9xUAtn6/view?usp=sharing)\n",
    "    \n",
    "ДАШБОРД: \n",
    "           (https://public.tableau.com/app/profile/vika.alekseeva/viz/_16883893186820/sheet2)  \n",
    "</div>"
   ]
  },
  {
   "cell_type": "markdown",
   "metadata": {},
   "source": [
    "***ЦЕЛЬ ИССЛЕДОВАНИЯ:*** "
   ]
  },
  {
   "cell_type": "markdown",
   "metadata": {},
   "source": [
    "Отследить зависимости в поведении разных групп пользователей в мобильном приложении с целью увеличения показателей выручки."
   ]
  },
  {
   "cell_type": "markdown",
   "metadata": {},
   "source": [
    "***ОПИСАНИЕ ДАННЫХ:***"
   ]
  },
  {
   "cell_type": "markdown",
   "metadata": {},
   "source": [
    "Датасет содержит данные о событиях, совершенных в мобильном приложении \"Ненужные вещи\". В нем пользователи продают свои ненужные вещи, размещая их на доске объявлений.\n",
    "В датасете содержатся данные пользователей, впервые совершивших действия в приложении после 7 октября 2019 года.\n",
    "\n",
    "Датасет mobile_dataset.csv содержит колонки: \n",
    "\n",
    "event.time — время совершения\n",
    "\n",
    "event.name — название события\n",
    "\n",
    "user.id — идентификатор пользователя\n",
    "\n",
    "Датасет mobile_sources.csv содержит колонки:\n",
    "\n",
    "userId — идентификатор пользователя\n",
    "\n",
    "source — источник, с которого пользователь установил приложение\n",
    "\n",
    "Расшифровки событий:\n",
    "\n",
    "advert_open — открытие карточки объявления\n",
    "\n",
    "photos_show — просмотр фотографий в объявлении\n",
    "\n",
    "tips_show — пользователь увидел рекомендованные объявления\n",
    "\n",
    "tips_click — пользователь кликнул по рекомендованному объявлению\n",
    "\n",
    "contacts_show и show_contacts  — пользователь нажал на кнопку \"посмотреть номер\n",
    "телефона\" на карточке объявления\n",
    "\n",
    "contacts_call — пользователь позвонил по номеру телефона на карточке\n",
    "объявления\n",
    "\n",
    "map — пользователь открыл карту размещенных объявлений\n",
    "\n",
    "search_1 — search_7 — разные события, связанные с поиском по сайту\n",
    "\n",
    "favorites_add — добавление объявления в избранное"
   ]
  },
  {
   "cell_type": "markdown",
   "metadata": {},
   "source": [
    "# ДЕКОМПОЗИЦИЯ"
   ]
  },
  {
   "cell_type": "markdown",
   "metadata": {},
   "source": [
    "***1. ЗАГРУЗКА ДАННЫХ***\n",
    "\n",
    "***2. ПРЕДОБРАБОТКА ДАННЫХ***\n",
    "\n",
    "2.1 Работа с пропусками\n",
    "\n",
    "2.2 Проверка дубликатов\n",
    "\n",
    "2.3 Работа с типами данных \n",
    "\n",
    "2.5 Обработка выбросов (принято решение ограничивать выбросы срезами по ходу исследования)\n",
    "\n",
    "***3. ИССЛЕДОВАТЕЛЬСКИЙ АНАЛИЗ ДАННЫХ***\n",
    "\n",
    "3.1 Рассчитать Retention Rate\n",
    "\n",
    "3.2 Рассчитать время нахождения в приложении (сессии)\n",
    "\n",
    "3.3 Рассчитать частоту совершения событий\n",
    "\n",
    "3.4 Рассчитать конверсию в целевое действие (show_contacts)\n",
    "\n",
    "***4. СЕГМЕНТАЦИЯ ПОЛЬЗОВАТЕЛЕЙ НА ОСНОВЕ ДЕЙСТВИЙ (на выбор по одному признаку)***\n",
    "\n",
    "4.1 Пользователи какой группы склонны часто возвращаться в мобильное приложение? Рассчитать Retention rate.\n",
    "\n",
    "4.2 Пользователи какой группы часто делают целевое событие (show_contacts)? Рассчитать конверсию в целевое действие.\n",
    "\n",
    "***5. ПРОВЕРКА СТАТИСТИЧЕСКИХ ГИПОТЕЗ***\n",
    "\n",
    "5.1 Некоторые пользователи установили приложение по ссылке из yandex, другие — из google. Проверьте гипотезу: две эти группы демонстрируют разную конверсию в просмотры контактов.\n",
    "\n",
    "5.2 Сформулируйте собственную гипотезу. Дополните её нулевой и альтернативной гипотезами. Проведите статистический тест.\n",
    "\n",
    "***Нулевая гипотеза: Пользователи, установившие приложение в будние и выходные дни демонстрируют разную конверсию в просмотры контактов.***\n",
    "\n",
    "***Альтерантивная гипотеза: Конверсия в обеих группах (будние и выходные дни) не имеет статистической разницы.***\n",
    "\n",
    "***6. ИТОГОВЫЙ ВЫВОД И РЕКОМЕНДАЦИИ***"
   ]
  },
  {
   "cell_type": "markdown",
   "metadata": {},
   "source": [
    "***ОСНОВНОЙ ПРОЕКТ***"
   ]
  },
  {
   "cell_type": "markdown",
   "metadata": {},
   "source": [
    "***1. ЗАГРУЗКА ДАННЫХ***"
   ]
  },
  {
   "cell_type": "code",
   "execution_count": 67,
   "metadata": {},
   "outputs": [],
   "source": [
    "import pandas as pd   #импортируем библиотеки\n",
    "import datetime as dt\n",
    "import seaborn as sns\n",
    "import numpy as np\n",
    "from scipy import stats as st\n",
    "import math as mth\n",
    "import matplotlib.pyplot as plt\n",
    "from pandas.plotting import register_matplotlib_converters\n",
    "import warnings\n",
    "from plotly import graph_objects as go\n",
    "plt.style.use ('seaborn-deep')\n",
    "import plotly.express as px\n",
    "from numpy import median\n",
    "from numpy import mean\n",
    " \n",
    "register_matplotlib_converters()\n",
    "from folium import Map, Choropleth, Marker\n",
    "import json\n",
    "from folium.plugins import MarkerCluster"
   ]
  },
  {
   "cell_type": "code",
   "execution_count": 68,
   "metadata": {},
   "outputs": [],
   "source": [
    "try:\n",
    "    mobile_sourсes = pd.read_csv('https://code.s3.yandex.net/datasets/mobile_soures.csv')\n",
    "    mobile_dataset = pd.read_csv('https://code.s3.yandex.net/datasets/mobile_dataset.csv')\n",
    "except: \n",
    "    print(\"Ошибка в исходных файлах\")"
   ]
  },
  {
   "cell_type": "markdown",
   "metadata": {},
   "source": [
    "***2. ПРЕДОБРАБОТКА ДАННЫХ***"
   ]
  },
  {
   "cell_type": "markdown",
   "metadata": {},
   "source": [
    "2.1 Работа с пропусками"
   ]
  },
  {
   "cell_type": "markdown",
   "metadata": {},
   "source": [
    "2.2 Проверка дубликатов"
   ]
  },
  {
   "cell_type": "code",
   "execution_count": 69,
   "metadata": {},
   "outputs": [],
   "source": [
    "def show_info(df): #функция для отображения информации по датасету, поиск дубликатов, пропусков, вывод первых 10 строк датасета\n",
    "    print(df.info())\n",
    "    print ('В таблице' , df.duplicated().sum(), 'дубликатов')\n",
    "    print ('В столбцах:', df.isna().sum(), 'пропусков')\n",
    "    display(df.head(10))"
   ]
  },
  {
   "cell_type": "code",
   "execution_count": 70,
   "metadata": {},
   "outputs": [
    {
     "name": "stdout",
     "output_type": "stream",
     "text": [
      "<class 'pandas.core.frame.DataFrame'>\n",
      "RangeIndex: 4293 entries, 0 to 4292\n",
      "Data columns (total 2 columns):\n",
      " #   Column  Non-Null Count  Dtype \n",
      "---  ------  --------------  ----- \n",
      " 0   userId  4293 non-null   object\n",
      " 1   source  4293 non-null   object\n",
      "dtypes: object(2)\n",
      "memory usage: 67.2+ KB\n",
      "None\n",
      "В таблице 0 дубликатов\n",
      "В столбцах: userId    0\n",
      "source    0\n",
      "dtype: int64 пропусков\n"
     ]
    },
    {
     "data": {
      "text/html": [
       "<div>\n",
       "<style scoped>\n",
       "    .dataframe tbody tr th:only-of-type {\n",
       "        vertical-align: middle;\n",
       "    }\n",
       "\n",
       "    .dataframe tbody tr th {\n",
       "        vertical-align: top;\n",
       "    }\n",
       "\n",
       "    .dataframe thead th {\n",
       "        text-align: right;\n",
       "    }\n",
       "</style>\n",
       "<table border=\"1\" class=\"dataframe\">\n",
       "  <thead>\n",
       "    <tr style=\"text-align: right;\">\n",
       "      <th></th>\n",
       "      <th>userId</th>\n",
       "      <th>source</th>\n",
       "    </tr>\n",
       "  </thead>\n",
       "  <tbody>\n",
       "    <tr>\n",
       "      <th>0</th>\n",
       "      <td>020292ab-89bc-4156-9acf-68bc2783f894</td>\n",
       "      <td>other</td>\n",
       "    </tr>\n",
       "    <tr>\n",
       "      <th>1</th>\n",
       "      <td>cf7eda61-9349-469f-ac27-e5b6f5ec475c</td>\n",
       "      <td>yandex</td>\n",
       "    </tr>\n",
       "    <tr>\n",
       "      <th>2</th>\n",
       "      <td>8c356c42-3ba9-4cb6-80b8-3f868d0192c3</td>\n",
       "      <td>yandex</td>\n",
       "    </tr>\n",
       "    <tr>\n",
       "      <th>3</th>\n",
       "      <td>d9b06b47-0f36-419b-bbb0-3533e582a6cb</td>\n",
       "      <td>other</td>\n",
       "    </tr>\n",
       "    <tr>\n",
       "      <th>4</th>\n",
       "      <td>f32e1e2a-3027-4693-b793-b7b3ff274439</td>\n",
       "      <td>google</td>\n",
       "    </tr>\n",
       "    <tr>\n",
       "      <th>5</th>\n",
       "      <td>17f6b2db-2964-4d11-89d8-7e38d2cb4750</td>\n",
       "      <td>yandex</td>\n",
       "    </tr>\n",
       "    <tr>\n",
       "      <th>6</th>\n",
       "      <td>62aa104f-592d-4ccb-8226-2ba0e719ded5</td>\n",
       "      <td>yandex</td>\n",
       "    </tr>\n",
       "    <tr>\n",
       "      <th>7</th>\n",
       "      <td>57321726-5d66-4d51-84f4-c797c35dcf2b</td>\n",
       "      <td>google</td>\n",
       "    </tr>\n",
       "    <tr>\n",
       "      <th>8</th>\n",
       "      <td>c2cf55c0-95f7-4269-896c-931d14deaab5</td>\n",
       "      <td>google</td>\n",
       "    </tr>\n",
       "    <tr>\n",
       "      <th>9</th>\n",
       "      <td>48e614d6-fe03-40f7-bf9e-4c4f61c19f64</td>\n",
       "      <td>yandex</td>\n",
       "    </tr>\n",
       "  </tbody>\n",
       "</table>\n",
       "</div>"
      ],
      "text/plain": [
       "                                 userId  source\n",
       "0  020292ab-89bc-4156-9acf-68bc2783f894   other\n",
       "1  cf7eda61-9349-469f-ac27-e5b6f5ec475c  yandex\n",
       "2  8c356c42-3ba9-4cb6-80b8-3f868d0192c3  yandex\n",
       "3  d9b06b47-0f36-419b-bbb0-3533e582a6cb   other\n",
       "4  f32e1e2a-3027-4693-b793-b7b3ff274439  google\n",
       "5  17f6b2db-2964-4d11-89d8-7e38d2cb4750  yandex\n",
       "6  62aa104f-592d-4ccb-8226-2ba0e719ded5  yandex\n",
       "7  57321726-5d66-4d51-84f4-c797c35dcf2b  google\n",
       "8  c2cf55c0-95f7-4269-896c-931d14deaab5  google\n",
       "9  48e614d6-fe03-40f7-bf9e-4c4f61c19f64  yandex"
      ]
     },
     "metadata": {},
     "output_type": "display_data"
    }
   ],
   "source": [
    "show_info(mobile_sourсes)"
   ]
  },
  {
   "cell_type": "code",
   "execution_count": 71,
   "metadata": {},
   "outputs": [
    {
     "name": "stdout",
     "output_type": "stream",
     "text": [
      "<class 'pandas.core.frame.DataFrame'>\n",
      "RangeIndex: 74197 entries, 0 to 74196\n",
      "Data columns (total 3 columns):\n",
      " #   Column      Non-Null Count  Dtype \n",
      "---  ------      --------------  ----- \n",
      " 0   event.time  74197 non-null  object\n",
      " 1   event.name  74197 non-null  object\n",
      " 2   user.id     74197 non-null  object\n",
      "dtypes: object(3)\n",
      "memory usage: 1.7+ MB\n",
      "None\n",
      "В таблице 0 дубликатов\n",
      "В столбцах: event.time    0\n",
      "event.name    0\n",
      "user.id       0\n",
      "dtype: int64 пропусков\n"
     ]
    },
    {
     "data": {
      "text/html": [
       "<div>\n",
       "<style scoped>\n",
       "    .dataframe tbody tr th:only-of-type {\n",
       "        vertical-align: middle;\n",
       "    }\n",
       "\n",
       "    .dataframe tbody tr th {\n",
       "        vertical-align: top;\n",
       "    }\n",
       "\n",
       "    .dataframe thead th {\n",
       "        text-align: right;\n",
       "    }\n",
       "</style>\n",
       "<table border=\"1\" class=\"dataframe\">\n",
       "  <thead>\n",
       "    <tr style=\"text-align: right;\">\n",
       "      <th></th>\n",
       "      <th>event.time</th>\n",
       "      <th>event.name</th>\n",
       "      <th>user.id</th>\n",
       "    </tr>\n",
       "  </thead>\n",
       "  <tbody>\n",
       "    <tr>\n",
       "      <th>0</th>\n",
       "      <td>2019-10-07 00:00:00.431357</td>\n",
       "      <td>advert_open</td>\n",
       "      <td>020292ab-89bc-4156-9acf-68bc2783f894</td>\n",
       "    </tr>\n",
       "    <tr>\n",
       "      <th>1</th>\n",
       "      <td>2019-10-07 00:00:01.236320</td>\n",
       "      <td>tips_show</td>\n",
       "      <td>020292ab-89bc-4156-9acf-68bc2783f894</td>\n",
       "    </tr>\n",
       "    <tr>\n",
       "      <th>2</th>\n",
       "      <td>2019-10-07 00:00:02.245341</td>\n",
       "      <td>tips_show</td>\n",
       "      <td>cf7eda61-9349-469f-ac27-e5b6f5ec475c</td>\n",
       "    </tr>\n",
       "    <tr>\n",
       "      <th>3</th>\n",
       "      <td>2019-10-07 00:00:07.039334</td>\n",
       "      <td>tips_show</td>\n",
       "      <td>020292ab-89bc-4156-9acf-68bc2783f894</td>\n",
       "    </tr>\n",
       "    <tr>\n",
       "      <th>4</th>\n",
       "      <td>2019-10-07 00:00:56.319813</td>\n",
       "      <td>advert_open</td>\n",
       "      <td>cf7eda61-9349-469f-ac27-e5b6f5ec475c</td>\n",
       "    </tr>\n",
       "    <tr>\n",
       "      <th>5</th>\n",
       "      <td>2019-10-07 00:01:19.993624</td>\n",
       "      <td>tips_show</td>\n",
       "      <td>cf7eda61-9349-469f-ac27-e5b6f5ec475c</td>\n",
       "    </tr>\n",
       "    <tr>\n",
       "      <th>6</th>\n",
       "      <td>2019-10-07 00:01:27.770232</td>\n",
       "      <td>advert_open</td>\n",
       "      <td>020292ab-89bc-4156-9acf-68bc2783f894</td>\n",
       "    </tr>\n",
       "    <tr>\n",
       "      <th>7</th>\n",
       "      <td>2019-10-07 00:01:34.804591</td>\n",
       "      <td>tips_show</td>\n",
       "      <td>020292ab-89bc-4156-9acf-68bc2783f894</td>\n",
       "    </tr>\n",
       "    <tr>\n",
       "      <th>8</th>\n",
       "      <td>2019-10-07 00:01:49.732803</td>\n",
       "      <td>advert_open</td>\n",
       "      <td>cf7eda61-9349-469f-ac27-e5b6f5ec475c</td>\n",
       "    </tr>\n",
       "    <tr>\n",
       "      <th>9</th>\n",
       "      <td>2019-10-07 00:01:54.958298</td>\n",
       "      <td>advert_open</td>\n",
       "      <td>020292ab-89bc-4156-9acf-68bc2783f894</td>\n",
       "    </tr>\n",
       "  </tbody>\n",
       "</table>\n",
       "</div>"
      ],
      "text/plain": [
       "                   event.time   event.name  \\\n",
       "0  2019-10-07 00:00:00.431357  advert_open   \n",
       "1  2019-10-07 00:00:01.236320    tips_show   \n",
       "2  2019-10-07 00:00:02.245341    tips_show   \n",
       "3  2019-10-07 00:00:07.039334    tips_show   \n",
       "4  2019-10-07 00:00:56.319813  advert_open   \n",
       "5  2019-10-07 00:01:19.993624    tips_show   \n",
       "6  2019-10-07 00:01:27.770232  advert_open   \n",
       "7  2019-10-07 00:01:34.804591    tips_show   \n",
       "8  2019-10-07 00:01:49.732803  advert_open   \n",
       "9  2019-10-07 00:01:54.958298  advert_open   \n",
       "\n",
       "                                user.id  \n",
       "0  020292ab-89bc-4156-9acf-68bc2783f894  \n",
       "1  020292ab-89bc-4156-9acf-68bc2783f894  \n",
       "2  cf7eda61-9349-469f-ac27-e5b6f5ec475c  \n",
       "3  020292ab-89bc-4156-9acf-68bc2783f894  \n",
       "4  cf7eda61-9349-469f-ac27-e5b6f5ec475c  \n",
       "5  cf7eda61-9349-469f-ac27-e5b6f5ec475c  \n",
       "6  020292ab-89bc-4156-9acf-68bc2783f894  \n",
       "7  020292ab-89bc-4156-9acf-68bc2783f894  \n",
       "8  cf7eda61-9349-469f-ac27-e5b6f5ec475c  \n",
       "9  020292ab-89bc-4156-9acf-68bc2783f894  "
      ]
     },
     "metadata": {},
     "output_type": "display_data"
    }
   ],
   "source": [
    "show_info(mobile_dataset)"
   ]
  },
  {
   "cell_type": "markdown",
   "metadata": {},
   "source": [
    "***ВЫВОД: В датасетах отсутвуют дубликаты и пропуски.***"
   ]
  },
  {
   "cell_type": "markdown",
   "metadata": {},
   "source": [
    "2.3 Работа с типами данных "
   ]
  },
  {
   "cell_type": "code",
   "execution_count": 72,
   "metadata": {},
   "outputs": [],
   "source": [
    "mobile_dataset['event.time'] = pd.to_datetime(mobile_dataset['event.time']) # измение типа данных"
   ]
  },
  {
   "cell_type": "markdown",
   "metadata": {},
   "source": [
    "***ВЫВОД: В столбце с датой и временем изменили тип данных на необходимый, остальные типы данных соответствуют.***"
   ]
  },
  {
   "cell_type": "markdown",
   "metadata": {},
   "source": [
    "2.4 Приведение данных к единому виду (переименовать столбцы, обработка категоральных данных)"
   ]
  },
  {
   "cell_type": "code",
   "execution_count": 73,
   "metadata": {},
   "outputs": [],
   "source": [
    "mobile_dataset = mobile_dataset.rename (columns={'event.time': 'event_time','event.name': 'event_name', 'user.id':'userId'}) #переименовали столбцы"
   ]
  },
  {
   "cell_type": "code",
   "execution_count": 74,
   "metadata": {},
   "outputs": [
    {
     "data": {
      "text/plain": [
       "array(['advert_open', 'tips_show', 'map', 'contacts_show', 'search_4',\n",
       "       'search_5', 'tips_click', 'photos_show', 'search_1', 'search_2',\n",
       "       'search_3', 'favorites_add', 'contacts_call', 'search_6',\n",
       "       'search_7', 'show_contacts'], dtype=object)"
      ]
     },
     "execution_count": 74,
     "metadata": {},
     "output_type": "execute_result"
    }
   ],
   "source": [
    "mobile_dataset['event_name'].unique() #проверили уникальные значения столбца event_name"
   ]
  },
  {
   "cell_type": "code",
   "execution_count": 75,
   "metadata": {},
   "outputs": [],
   "source": [
    "mobile_dataset['event_name'] = mobile_dataset['event_name'].str.replace('show_contacts','contacts_show') #заменим show_contacts на contacts_show "
   ]
  },
  {
   "cell_type": "code",
   "execution_count": 76,
   "metadata": {},
   "outputs": [
    {
     "data": {
      "text/plain": [
       "event_name\n",
       "advert_open       6164\n",
       "contacts_call      541\n",
       "contacts_show     4529\n",
       "favorites_add     1417\n",
       "map               3881\n",
       "photos_show      10012\n",
       "search_1          3506\n",
       "search_2           324\n",
       "search_3           522\n",
       "search_4           701\n",
       "search_5          1049\n",
       "search_6           460\n",
       "search_7           222\n",
       "tips_click         814\n",
       "tips_show        40055\n",
       "Name: userId, dtype: int64"
      ]
     },
     "execution_count": 76,
     "metadata": {},
     "output_type": "execute_result"
    }
   ],
   "source": [
    "mobile_dataset.groupby('event_name')['userId'].agg('count') #проверили данные по столбцу event_name"
   ]
  },
  {
   "cell_type": "markdown",
   "metadata": {},
   "source": [
    "2.5 Обработка выбросов (принято решение ограничивать выбросы срезами по ходу исследования)"
   ]
  },
  {
   "cell_type": "markdown",
   "metadata": {},
   "source": [
    "***3. ИССЛЕДОВАТЕЛЬСКИЙ АНАЛИЗ ДАННЫХ***"
   ]
  },
  {
   "cell_type": "markdown",
   "metadata": {},
   "source": [
    "3.1 Рассчитать Retention Rate"
   ]
  },
  {
   "cell_type": "markdown",
   "metadata": {},
   "source": [
    "***СОЗДАДИМ ФУНКЦИИ: получения профилей и Retention***"
   ]
  },
  {
   "cell_type": "code",
   "execution_count": 77,
   "metadata": {},
   "outputs": [],
   "source": [
    "def get_profiles(sessions):\n",
    "    profiles = (\n",
    "        sessions.sort_values(by=['userId', 'event_time'])\n",
    "        .groupby('userId')\n",
    "        .agg(\n",
    "            {\n",
    "                'event_time': 'first',\n",
    "        \n",
    "            }\n",
    "        )\n",
    "         # время первого посещения назовём first_ts\n",
    "        .rename(columns={'event_time': 'first_ts'})\n",
    "        .reset_index()  # возвращаем user_id из индекса\n",
    "    )\n",
    "\n",
    "    # для когортного анализа определяем дату первого посещения\n",
    "    # и первый день месяца, в который это посещение произошло\n",
    "    profiles['dt'] = profiles['first_ts'].dt.date\n",
    "    profiles['month'] = profiles['first_ts'].astype('datetime64[M]')\n",
    "    \n",
    "    # считаем количество уникальных пользователей\n",
    "    # с одинаковыми источником и датой привлечения\n",
    "    new_users = (\n",
    "        profiles.groupby(['dt'])\n",
    "        .agg({'userId': 'nunique'})\n",
    "         # столбец с числом пользователей назовём unique_users\n",
    "        .rename(columns={'userId': 'unique_users'})\n",
    "        .reset_index()  # возвращаем dt из индексов\n",
    "    )\n",
    "    return profiles  # возвращаем профили "
   ]
  },
  {
   "cell_type": "code",
   "execution_count": 78,
   "metadata": {
    "scrolled": true
   },
   "outputs": [
    {
     "data": {
      "text/html": [
       "<div>\n",
       "<style scoped>\n",
       "    .dataframe tbody tr th:only-of-type {\n",
       "        vertical-align: middle;\n",
       "    }\n",
       "\n",
       "    .dataframe tbody tr th {\n",
       "        vertical-align: top;\n",
       "    }\n",
       "\n",
       "    .dataframe thead th {\n",
       "        text-align: right;\n",
       "    }\n",
       "</style>\n",
       "<table border=\"1\" class=\"dataframe\">\n",
       "  <thead>\n",
       "    <tr style=\"text-align: right;\">\n",
       "      <th></th>\n",
       "      <th>userId</th>\n",
       "      <th>first_ts</th>\n",
       "      <th>dt</th>\n",
       "      <th>month</th>\n",
       "    </tr>\n",
       "  </thead>\n",
       "  <tbody>\n",
       "    <tr>\n",
       "      <th>0</th>\n",
       "      <td>0001b1d5-b74a-4cbf-aeb0-7df5947bf349</td>\n",
       "      <td>2019-10-07 13:39:45.989359</td>\n",
       "      <td>2019-10-07</td>\n",
       "      <td>2019-10-01</td>\n",
       "    </tr>\n",
       "    <tr>\n",
       "      <th>1</th>\n",
       "      <td>00157779-810c-4498-9e05-a1e9e3cedf93</td>\n",
       "      <td>2019-10-19 21:34:33.849769</td>\n",
       "      <td>2019-10-19</td>\n",
       "      <td>2019-10-01</td>\n",
       "    </tr>\n",
       "    <tr>\n",
       "      <th>2</th>\n",
       "      <td>00463033-5717-4bf1-91b4-09183923b9df</td>\n",
       "      <td>2019-11-01 13:54:35.385028</td>\n",
       "      <td>2019-11-01</td>\n",
       "      <td>2019-11-01</td>\n",
       "    </tr>\n",
       "    <tr>\n",
       "      <th>3</th>\n",
       "      <td>004690c3-5a84-4bb7-a8af-e0c8f8fca64e</td>\n",
       "      <td>2019-10-18 22:14:05.555052</td>\n",
       "      <td>2019-10-18</td>\n",
       "      <td>2019-10-01</td>\n",
       "    </tr>\n",
       "    <tr>\n",
       "      <th>4</th>\n",
       "      <td>00551e79-152e-4441-9cf7-565d7eb04090</td>\n",
       "      <td>2019-10-25 16:44:41.263364</td>\n",
       "      <td>2019-10-25</td>\n",
       "      <td>2019-10-01</td>\n",
       "    </tr>\n",
       "    <tr>\n",
       "      <th>...</th>\n",
       "      <td>...</td>\n",
       "      <td>...</td>\n",
       "      <td>...</td>\n",
       "      <td>...</td>\n",
       "    </tr>\n",
       "    <tr>\n",
       "      <th>4288</th>\n",
       "      <td>ffab8d8a-30bb-424a-a3ab-0b63ebbf7b07</td>\n",
       "      <td>2019-10-13 16:11:27.414960</td>\n",
       "      <td>2019-10-13</td>\n",
       "      <td>2019-10-01</td>\n",
       "    </tr>\n",
       "    <tr>\n",
       "      <th>4289</th>\n",
       "      <td>ffc01466-fdb1-4460-ae94-e800f52eb136</td>\n",
       "      <td>2019-10-07 20:32:49.997044</td>\n",
       "      <td>2019-10-07</td>\n",
       "      <td>2019-10-01</td>\n",
       "    </tr>\n",
       "    <tr>\n",
       "      <th>4290</th>\n",
       "      <td>ffcf50d9-293c-4254-8243-4890b030b238</td>\n",
       "      <td>2019-10-23 11:51:35.199237</td>\n",
       "      <td>2019-10-23</td>\n",
       "      <td>2019-10-01</td>\n",
       "    </tr>\n",
       "    <tr>\n",
       "      <th>4291</th>\n",
       "      <td>ffe68f10-e48e-470e-be9b-eeb93128ff1a</td>\n",
       "      <td>2019-10-21 16:39:33.867145</td>\n",
       "      <td>2019-10-21</td>\n",
       "      <td>2019-10-01</td>\n",
       "    </tr>\n",
       "    <tr>\n",
       "      <th>4292</th>\n",
       "      <td>fffb9e79-b927-4dbb-9b48-7fd09b23a62b</td>\n",
       "      <td>2019-10-12 00:57:21.241896</td>\n",
       "      <td>2019-10-12</td>\n",
       "      <td>2019-10-01</td>\n",
       "    </tr>\n",
       "  </tbody>\n",
       "</table>\n",
       "<p>4293 rows × 4 columns</p>\n",
       "</div>"
      ],
      "text/plain": [
       "                                    userId                   first_ts  \\\n",
       "0     0001b1d5-b74a-4cbf-aeb0-7df5947bf349 2019-10-07 13:39:45.989359   \n",
       "1     00157779-810c-4498-9e05-a1e9e3cedf93 2019-10-19 21:34:33.849769   \n",
       "2     00463033-5717-4bf1-91b4-09183923b9df 2019-11-01 13:54:35.385028   \n",
       "3     004690c3-5a84-4bb7-a8af-e0c8f8fca64e 2019-10-18 22:14:05.555052   \n",
       "4     00551e79-152e-4441-9cf7-565d7eb04090 2019-10-25 16:44:41.263364   \n",
       "...                                    ...                        ...   \n",
       "4288  ffab8d8a-30bb-424a-a3ab-0b63ebbf7b07 2019-10-13 16:11:27.414960   \n",
       "4289  ffc01466-fdb1-4460-ae94-e800f52eb136 2019-10-07 20:32:49.997044   \n",
       "4290  ffcf50d9-293c-4254-8243-4890b030b238 2019-10-23 11:51:35.199237   \n",
       "4291  ffe68f10-e48e-470e-be9b-eeb93128ff1a 2019-10-21 16:39:33.867145   \n",
       "4292  fffb9e79-b927-4dbb-9b48-7fd09b23a62b 2019-10-12 00:57:21.241896   \n",
       "\n",
       "              dt      month  \n",
       "0     2019-10-07 2019-10-01  \n",
       "1     2019-10-19 2019-10-01  \n",
       "2     2019-11-01 2019-11-01  \n",
       "3     2019-10-18 2019-10-01  \n",
       "4     2019-10-25 2019-10-01  \n",
       "...          ...        ...  \n",
       "4288  2019-10-13 2019-10-01  \n",
       "4289  2019-10-07 2019-10-01  \n",
       "4290  2019-10-23 2019-10-01  \n",
       "4291  2019-10-21 2019-10-01  \n",
       "4292  2019-10-12 2019-10-01  \n",
       "\n",
       "[4293 rows x 4 columns]"
      ]
     },
     "execution_count": 78,
     "metadata": {},
     "output_type": "execute_result"
    }
   ],
   "source": [
    "profiles = get_profiles(mobile_dataset)\n",
    "profiles"
   ]
  },
  {
   "cell_type": "code",
   "execution_count": 79,
   "metadata": {},
   "outputs": [],
   "source": [
    "def get_retention(\n",
    "    profiles, sessions, observation_date, horizon_days, ignore_horizon=False\n",
    "):\n",
    "\n",
    "    # исключаем пользователей, не «доживших» до горизонта анализа\n",
    "    last_suitable_acquisition_date = observation_date\n",
    "    if not ignore_horizon:\n",
    "        last_suitable_acquisition_date = observation_date - timedelta(\n",
    "            days=horizon_days - 1\n",
    "        )\n",
    "    result_raw = profiles.query('dt <= @last_suitable_acquisition_date')\n",
    "\n",
    "    # собираем «сырые» данные для расчёта удержания\n",
    "    result_raw = result_raw.merge(\n",
    "        sessions[['userId', 'event_time']], on='userId', how='left'\n",
    "    )\n",
    "    result_raw['lifetime'] = (\n",
    "        result_raw['event_time'] - result_raw['first_ts']\n",
    "    ).dt.days\n",
    "\n",
    "    # рассчитываем удержание\n",
    "    result_grouped = result_raw.pivot_table(\n",
    "        index=['dt'], columns='lifetime', values='userId', aggfunc='nunique'\n",
    "    )\n",
    "    cohort_sizes = (\n",
    "        result_raw.groupby('dt')\n",
    "        .agg({'userId': 'nunique'})\n",
    "        .rename(columns={'userId': 'cohort_size'})\n",
    "    )\n",
    "    result_grouped = cohort_sizes.merge(\n",
    "        result_grouped, on='dt', how='left'\n",
    "    ).fillna(0)\n",
    "    result_grouped = result_grouped.div(result_grouped['cohort_size'], axis=0)\n",
    "\n",
    "    # исключаем все лайфтаймы, превышающие горизонт анализа\n",
    "    result_grouped = result_grouped[\n",
    "        ['cohort_size'] + list(range(horizon_days))\n",
    "    ]\n",
    "\n",
    "    # восстанавливаем столбец с размерами когорт\n",
    "    result_grouped['cohort_size'] = cohort_sizes\n",
    "\n",
    "    # возвращаем таблицу удержания и сырые данные\n",
    "    # сырые данные пригодятся, если нужно будет отыскать ошибку в расчётах\n",
    "    return result_raw, result_grouped"
   ]
  },
  {
   "cell_type": "code",
   "execution_count": 80,
   "metadata": {},
   "outputs": [],
   "source": [
    "# импортируем функции для работы со временем\n",
    "from datetime import datetime, timedelta\n",
    "\n",
    "# задаём момент и горизонт анализа данных\n",
    "observation_date = datetime(2019, 11, 3).date() # максимальная дата выгрузки\n",
    "horizon_days = 14  #установим горизонт анализа две недели (14 дней) \n",
    "\n",
    "# создаём опцию «игнорировать горизонт»\n",
    "ignore_horizon = False"
   ]
  },
  {
   "cell_type": "code",
   "execution_count": 81,
   "metadata": {},
   "outputs": [
    {
     "data": {
      "text/html": [
       "<div>\n",
       "<style scoped>\n",
       "    .dataframe tbody tr th:only-of-type {\n",
       "        vertical-align: middle;\n",
       "    }\n",
       "\n",
       "    .dataframe tbody tr th {\n",
       "        vertical-align: top;\n",
       "    }\n",
       "\n",
       "    .dataframe thead th {\n",
       "        text-align: right;\n",
       "    }\n",
       "</style>\n",
       "<table border=\"1\" class=\"dataframe\">\n",
       "  <thead>\n",
       "    <tr style=\"text-align: right;\">\n",
       "      <th></th>\n",
       "      <th>cohort_size</th>\n",
       "      <th>0</th>\n",
       "      <th>1</th>\n",
       "      <th>2</th>\n",
       "      <th>3</th>\n",
       "      <th>4</th>\n",
       "      <th>5</th>\n",
       "      <th>6</th>\n",
       "      <th>7</th>\n",
       "      <th>8</th>\n",
       "      <th>9</th>\n",
       "      <th>10</th>\n",
       "      <th>11</th>\n",
       "      <th>12</th>\n",
       "      <th>13</th>\n",
       "    </tr>\n",
       "    <tr>\n",
       "      <th>dt</th>\n",
       "      <th></th>\n",
       "      <th></th>\n",
       "      <th></th>\n",
       "      <th></th>\n",
       "      <th></th>\n",
       "      <th></th>\n",
       "      <th></th>\n",
       "      <th></th>\n",
       "      <th></th>\n",
       "      <th></th>\n",
       "      <th></th>\n",
       "      <th></th>\n",
       "      <th></th>\n",
       "      <th></th>\n",
       "      <th></th>\n",
       "    </tr>\n",
       "  </thead>\n",
       "  <tbody>\n",
       "    <tr>\n",
       "      <th>2019-10-07</th>\n",
       "      <td>204</td>\n",
       "      <td>1.0</td>\n",
       "      <td>0.122549</td>\n",
       "      <td>0.098039</td>\n",
       "      <td>0.107843</td>\n",
       "      <td>0.053922</td>\n",
       "      <td>0.039216</td>\n",
       "      <td>0.058824</td>\n",
       "      <td>0.078431</td>\n",
       "      <td>0.053922</td>\n",
       "      <td>0.049020</td>\n",
       "      <td>0.049020</td>\n",
       "      <td>0.034314</td>\n",
       "      <td>0.024510</td>\n",
       "      <td>0.058824</td>\n",
       "    </tr>\n",
       "    <tr>\n",
       "      <th>2019-10-08</th>\n",
       "      <td>167</td>\n",
       "      <td>1.0</td>\n",
       "      <td>0.161677</td>\n",
       "      <td>0.125749</td>\n",
       "      <td>0.053892</td>\n",
       "      <td>0.041916</td>\n",
       "      <td>0.065868</td>\n",
       "      <td>0.053892</td>\n",
       "      <td>0.071856</td>\n",
       "      <td>0.059880</td>\n",
       "      <td>0.041916</td>\n",
       "      <td>0.059880</td>\n",
       "      <td>0.023952</td>\n",
       "      <td>0.029940</td>\n",
       "      <td>0.035928</td>\n",
       "    </tr>\n",
       "    <tr>\n",
       "      <th>2019-10-09</th>\n",
       "      <td>176</td>\n",
       "      <td>1.0</td>\n",
       "      <td>0.073864</td>\n",
       "      <td>0.062500</td>\n",
       "      <td>0.056818</td>\n",
       "      <td>0.068182</td>\n",
       "      <td>0.068182</td>\n",
       "      <td>0.056818</td>\n",
       "      <td>0.073864</td>\n",
       "      <td>0.062500</td>\n",
       "      <td>0.034091</td>\n",
       "      <td>0.022727</td>\n",
       "      <td>0.028409</td>\n",
       "      <td>0.034091</td>\n",
       "      <td>0.056818</td>\n",
       "    </tr>\n",
       "    <tr>\n",
       "      <th>2019-10-10</th>\n",
       "      <td>174</td>\n",
       "      <td>1.0</td>\n",
       "      <td>0.091954</td>\n",
       "      <td>0.103448</td>\n",
       "      <td>0.080460</td>\n",
       "      <td>0.097701</td>\n",
       "      <td>0.080460</td>\n",
       "      <td>0.068966</td>\n",
       "      <td>0.051724</td>\n",
       "      <td>0.080460</td>\n",
       "      <td>0.034483</td>\n",
       "      <td>0.034483</td>\n",
       "      <td>0.051724</td>\n",
       "      <td>0.045977</td>\n",
       "      <td>0.040230</td>\n",
       "    </tr>\n",
       "    <tr>\n",
       "      <th>2019-10-11</th>\n",
       "      <td>136</td>\n",
       "      <td>1.0</td>\n",
       "      <td>0.088235</td>\n",
       "      <td>0.117647</td>\n",
       "      <td>0.095588</td>\n",
       "      <td>0.088235</td>\n",
       "      <td>0.073529</td>\n",
       "      <td>0.073529</td>\n",
       "      <td>0.044118</td>\n",
       "      <td>0.014706</td>\n",
       "      <td>0.044118</td>\n",
       "      <td>0.036765</td>\n",
       "      <td>0.036765</td>\n",
       "      <td>0.051471</td>\n",
       "      <td>0.036765</td>\n",
       "    </tr>\n",
       "    <tr>\n",
       "      <th>2019-10-12</th>\n",
       "      <td>125</td>\n",
       "      <td>1.0</td>\n",
       "      <td>0.128000</td>\n",
       "      <td>0.160000</td>\n",
       "      <td>0.056000</td>\n",
       "      <td>0.064000</td>\n",
       "      <td>0.088000</td>\n",
       "      <td>0.080000</td>\n",
       "      <td>0.088000</td>\n",
       "      <td>0.080000</td>\n",
       "      <td>0.064000</td>\n",
       "      <td>0.064000</td>\n",
       "      <td>0.040000</td>\n",
       "      <td>0.072000</td>\n",
       "      <td>0.048000</td>\n",
       "    </tr>\n",
       "    <tr>\n",
       "      <th>2019-10-13</th>\n",
       "      <td>148</td>\n",
       "      <td>1.0</td>\n",
       "      <td>0.128378</td>\n",
       "      <td>0.067568</td>\n",
       "      <td>0.054054</td>\n",
       "      <td>0.067568</td>\n",
       "      <td>0.054054</td>\n",
       "      <td>0.054054</td>\n",
       "      <td>0.047297</td>\n",
       "      <td>0.047297</td>\n",
       "      <td>0.047297</td>\n",
       "      <td>0.040541</td>\n",
       "      <td>0.040541</td>\n",
       "      <td>0.047297</td>\n",
       "      <td>0.047297</td>\n",
       "    </tr>\n",
       "    <tr>\n",
       "      <th>2019-10-14</th>\n",
       "      <td>185</td>\n",
       "      <td>1.0</td>\n",
       "      <td>0.113514</td>\n",
       "      <td>0.102703</td>\n",
       "      <td>0.102703</td>\n",
       "      <td>0.081081</td>\n",
       "      <td>0.070270</td>\n",
       "      <td>0.054054</td>\n",
       "      <td>0.043243</td>\n",
       "      <td>0.075676</td>\n",
       "      <td>0.037838</td>\n",
       "      <td>0.037838</td>\n",
       "      <td>0.048649</td>\n",
       "      <td>0.016216</td>\n",
       "      <td>0.064865</td>\n",
       "    </tr>\n",
       "    <tr>\n",
       "      <th>2019-10-15</th>\n",
       "      <td>186</td>\n",
       "      <td>1.0</td>\n",
       "      <td>0.139785</td>\n",
       "      <td>0.091398</td>\n",
       "      <td>0.080645</td>\n",
       "      <td>0.053763</td>\n",
       "      <td>0.053763</td>\n",
       "      <td>0.080645</td>\n",
       "      <td>0.075269</td>\n",
       "      <td>0.064516</td>\n",
       "      <td>0.021505</td>\n",
       "      <td>0.037634</td>\n",
       "      <td>0.037634</td>\n",
       "      <td>0.032258</td>\n",
       "      <td>0.037634</td>\n",
       "    </tr>\n",
       "    <tr>\n",
       "      <th>2019-10-16</th>\n",
       "      <td>166</td>\n",
       "      <td>1.0</td>\n",
       "      <td>0.126506</td>\n",
       "      <td>0.072289</td>\n",
       "      <td>0.030120</td>\n",
       "      <td>0.048193</td>\n",
       "      <td>0.060241</td>\n",
       "      <td>0.042169</td>\n",
       "      <td>0.054217</td>\n",
       "      <td>0.060241</td>\n",
       "      <td>0.042169</td>\n",
       "      <td>0.024096</td>\n",
       "      <td>0.036145</td>\n",
       "      <td>0.048193</td>\n",
       "      <td>0.042169</td>\n",
       "    </tr>\n",
       "    <tr>\n",
       "      <th>2019-10-17</th>\n",
       "      <td>170</td>\n",
       "      <td>1.0</td>\n",
       "      <td>0.141176</td>\n",
       "      <td>0.129412</td>\n",
       "      <td>0.088235</td>\n",
       "      <td>0.088235</td>\n",
       "      <td>0.094118</td>\n",
       "      <td>0.094118</td>\n",
       "      <td>0.047059</td>\n",
       "      <td>0.047059</td>\n",
       "      <td>0.041176</td>\n",
       "      <td>0.035294</td>\n",
       "      <td>0.076471</td>\n",
       "      <td>0.029412</td>\n",
       "      <td>0.041176</td>\n",
       "    </tr>\n",
       "    <tr>\n",
       "      <th>2019-10-18</th>\n",
       "      <td>156</td>\n",
       "      <td>1.0</td>\n",
       "      <td>0.083333</td>\n",
       "      <td>0.096154</td>\n",
       "      <td>0.096154</td>\n",
       "      <td>0.057692</td>\n",
       "      <td>0.064103</td>\n",
       "      <td>0.064103</td>\n",
       "      <td>0.076923</td>\n",
       "      <td>0.070513</td>\n",
       "      <td>0.032051</td>\n",
       "      <td>0.038462</td>\n",
       "      <td>0.025641</td>\n",
       "      <td>0.051282</td>\n",
       "      <td>0.038462</td>\n",
       "    </tr>\n",
       "    <tr>\n",
       "      <th>2019-10-19</th>\n",
       "      <td>159</td>\n",
       "      <td>1.0</td>\n",
       "      <td>0.094340</td>\n",
       "      <td>0.113208</td>\n",
       "      <td>0.069182</td>\n",
       "      <td>0.025157</td>\n",
       "      <td>0.056604</td>\n",
       "      <td>0.062893</td>\n",
       "      <td>0.062893</td>\n",
       "      <td>0.031447</td>\n",
       "      <td>0.044025</td>\n",
       "      <td>0.037736</td>\n",
       "      <td>0.025157</td>\n",
       "      <td>0.031447</td>\n",
       "      <td>0.018868</td>\n",
       "    </tr>\n",
       "    <tr>\n",
       "      <th>2019-10-20</th>\n",
       "      <td>144</td>\n",
       "      <td>1.0</td>\n",
       "      <td>0.104167</td>\n",
       "      <td>0.076389</td>\n",
       "      <td>0.048611</td>\n",
       "      <td>0.069444</td>\n",
       "      <td>0.062500</td>\n",
       "      <td>0.041667</td>\n",
       "      <td>0.069444</td>\n",
       "      <td>0.055556</td>\n",
       "      <td>0.027778</td>\n",
       "      <td>0.013889</td>\n",
       "      <td>0.020833</td>\n",
       "      <td>0.034722</td>\n",
       "      <td>0.006944</td>\n",
       "    </tr>\n",
       "    <tr>\n",
       "      <th>2019-10-21</th>\n",
       "      <td>161</td>\n",
       "      <td>1.0</td>\n",
       "      <td>0.093168</td>\n",
       "      <td>0.086957</td>\n",
       "      <td>0.105590</td>\n",
       "      <td>0.043478</td>\n",
       "      <td>0.037267</td>\n",
       "      <td>0.049689</td>\n",
       "      <td>0.093168</td>\n",
       "      <td>0.037267</td>\n",
       "      <td>0.024845</td>\n",
       "      <td>0.037267</td>\n",
       "      <td>0.024845</td>\n",
       "      <td>0.006211</td>\n",
       "      <td>0.006211</td>\n",
       "    </tr>\n",
       "  </tbody>\n",
       "</table>\n",
       "</div>"
      ],
      "text/plain": [
       "            cohort_size    0         1         2         3         4  \\\n",
       "dt                                                                     \n",
       "2019-10-07          204  1.0  0.122549  0.098039  0.107843  0.053922   \n",
       "2019-10-08          167  1.0  0.161677  0.125749  0.053892  0.041916   \n",
       "2019-10-09          176  1.0  0.073864  0.062500  0.056818  0.068182   \n",
       "2019-10-10          174  1.0  0.091954  0.103448  0.080460  0.097701   \n",
       "2019-10-11          136  1.0  0.088235  0.117647  0.095588  0.088235   \n",
       "2019-10-12          125  1.0  0.128000  0.160000  0.056000  0.064000   \n",
       "2019-10-13          148  1.0  0.128378  0.067568  0.054054  0.067568   \n",
       "2019-10-14          185  1.0  0.113514  0.102703  0.102703  0.081081   \n",
       "2019-10-15          186  1.0  0.139785  0.091398  0.080645  0.053763   \n",
       "2019-10-16          166  1.0  0.126506  0.072289  0.030120  0.048193   \n",
       "2019-10-17          170  1.0  0.141176  0.129412  0.088235  0.088235   \n",
       "2019-10-18          156  1.0  0.083333  0.096154  0.096154  0.057692   \n",
       "2019-10-19          159  1.0  0.094340  0.113208  0.069182  0.025157   \n",
       "2019-10-20          144  1.0  0.104167  0.076389  0.048611  0.069444   \n",
       "2019-10-21          161  1.0  0.093168  0.086957  0.105590  0.043478   \n",
       "\n",
       "                   5         6         7         8         9        10  \\\n",
       "dt                                                                       \n",
       "2019-10-07  0.039216  0.058824  0.078431  0.053922  0.049020  0.049020   \n",
       "2019-10-08  0.065868  0.053892  0.071856  0.059880  0.041916  0.059880   \n",
       "2019-10-09  0.068182  0.056818  0.073864  0.062500  0.034091  0.022727   \n",
       "2019-10-10  0.080460  0.068966  0.051724  0.080460  0.034483  0.034483   \n",
       "2019-10-11  0.073529  0.073529  0.044118  0.014706  0.044118  0.036765   \n",
       "2019-10-12  0.088000  0.080000  0.088000  0.080000  0.064000  0.064000   \n",
       "2019-10-13  0.054054  0.054054  0.047297  0.047297  0.047297  0.040541   \n",
       "2019-10-14  0.070270  0.054054  0.043243  0.075676  0.037838  0.037838   \n",
       "2019-10-15  0.053763  0.080645  0.075269  0.064516  0.021505  0.037634   \n",
       "2019-10-16  0.060241  0.042169  0.054217  0.060241  0.042169  0.024096   \n",
       "2019-10-17  0.094118  0.094118  0.047059  0.047059  0.041176  0.035294   \n",
       "2019-10-18  0.064103  0.064103  0.076923  0.070513  0.032051  0.038462   \n",
       "2019-10-19  0.056604  0.062893  0.062893  0.031447  0.044025  0.037736   \n",
       "2019-10-20  0.062500  0.041667  0.069444  0.055556  0.027778  0.013889   \n",
       "2019-10-21  0.037267  0.049689  0.093168  0.037267  0.024845  0.037267   \n",
       "\n",
       "                  11        12        13  \n",
       "dt                                        \n",
       "2019-10-07  0.034314  0.024510  0.058824  \n",
       "2019-10-08  0.023952  0.029940  0.035928  \n",
       "2019-10-09  0.028409  0.034091  0.056818  \n",
       "2019-10-10  0.051724  0.045977  0.040230  \n",
       "2019-10-11  0.036765  0.051471  0.036765  \n",
       "2019-10-12  0.040000  0.072000  0.048000  \n",
       "2019-10-13  0.040541  0.047297  0.047297  \n",
       "2019-10-14  0.048649  0.016216  0.064865  \n",
       "2019-10-15  0.037634  0.032258  0.037634  \n",
       "2019-10-16  0.036145  0.048193  0.042169  \n",
       "2019-10-17  0.076471  0.029412  0.041176  \n",
       "2019-10-18  0.025641  0.051282  0.038462  \n",
       "2019-10-19  0.025157  0.031447  0.018868  \n",
       "2019-10-20  0.020833  0.034722  0.006944  \n",
       "2019-10-21  0.024845  0.006211  0.006211  "
      ]
     },
     "execution_count": 81,
     "metadata": {},
     "output_type": "execute_result"
    }
   ],
   "source": [
    "retention_raw, retention = get_retention(\n",
    "    profiles, mobile_dataset, datetime(2019,11,3).date(), 14\n",
    ")\n",
    "\n",
    "retention #находим retention rate"
   ]
  },
  {
   "cell_type": "code",
   "execution_count": 82,
   "metadata": {},
   "outputs": [
    {
     "data": {
      "image/png": "[encoded data removed]",
      "text/plain": [
       "<Figure size 1440x720 with 2 Axes>"
      ]
     },
     "metadata": {
      "needs_background": "light"
     },
     "output_type": "display_data"
    }
   ],
   "source": [
    "plt.figure(figsize=(20, 10))  # задаём размер графика\n",
    "sns.heatmap(retention.drop(columns = [0, 'cohort_size']),  # удаляем размеры когорт\n",
    "    annot=True,  # включаем подписи\n",
    "    fmt='.2%',  # переводим значения в проценты\n",
    ")\n",
    "plt.xlabel('Лайфтайм', size=15)\n",
    "plt.ylabel('Дата привлечения', size=15)\n",
    "plt.title('Тепловая карта удержания', size = 15)  # название графика\n",
    "plt.show() "
   ]
  },
  {
   "cell_type": "markdown",
   "metadata": {},
   "source": [
    "***ВЫВОД: Наибольший и длительный % возврата демонстрируют пользователи привлеченные 2019-10-08 и 2019-10-12. Также стоит отметить, что на 7 лайфтайм % RR у пользователей привлеченых 2019-10-21 и 2019-10-12 самый высокий. % возврата пользователей начинает снижаться с 8 лайфтайма.***"
   ]
  },
  {
   "cell_type": "markdown",
   "metadata": {},
   "source": [
    "3.2 Рассчитать время нахождения в приложении (сессии)"
   ]
  },
  {
   "cell_type": "code",
   "execution_count": 83,
   "metadata": {
    "scrolled": false
   },
   "outputs": [
    {
     "data": {
      "text/html": [
       "<div>\n",
       "<style scoped>\n",
       "    .dataframe tbody tr th:only-of-type {\n",
       "        vertical-align: middle;\n",
       "    }\n",
       "\n",
       "    .dataframe tbody tr th {\n",
       "        vertical-align: top;\n",
       "    }\n",
       "\n",
       "    .dataframe thead th {\n",
       "        text-align: right;\n",
       "    }\n",
       "</style>\n",
       "<table border=\"1\" class=\"dataframe\">\n",
       "  <thead>\n",
       "    <tr style=\"text-align: right;\">\n",
       "      <th></th>\n",
       "      <th>event_time</th>\n",
       "      <th>event_name</th>\n",
       "      <th>userId</th>\n",
       "    </tr>\n",
       "  </thead>\n",
       "  <tbody>\n",
       "    <tr>\n",
       "      <th>805</th>\n",
       "      <td>2019-10-07 13:39:45.989359</td>\n",
       "      <td>tips_show</td>\n",
       "      <td>0001b1d5-b74a-4cbf-aeb0-7df5947bf349</td>\n",
       "    </tr>\n",
       "    <tr>\n",
       "      <th>806</th>\n",
       "      <td>2019-10-07 13:40:31.052909</td>\n",
       "      <td>tips_show</td>\n",
       "      <td>0001b1d5-b74a-4cbf-aeb0-7df5947bf349</td>\n",
       "    </tr>\n",
       "    <tr>\n",
       "      <th>809</th>\n",
       "      <td>2019-10-07 13:41:05.722489</td>\n",
       "      <td>tips_show</td>\n",
       "      <td>0001b1d5-b74a-4cbf-aeb0-7df5947bf349</td>\n",
       "    </tr>\n",
       "    <tr>\n",
       "      <th>820</th>\n",
       "      <td>2019-10-07 13:43:20.735461</td>\n",
       "      <td>tips_show</td>\n",
       "      <td>0001b1d5-b74a-4cbf-aeb0-7df5947bf349</td>\n",
       "    </tr>\n",
       "    <tr>\n",
       "      <th>830</th>\n",
       "      <td>2019-10-07 13:45:30.917502</td>\n",
       "      <td>tips_show</td>\n",
       "      <td>0001b1d5-b74a-4cbf-aeb0-7df5947bf349</td>\n",
       "    </tr>\n",
       "    <tr>\n",
       "      <th>...</th>\n",
       "      <td>...</td>\n",
       "      <td>...</td>\n",
       "      <td>...</td>\n",
       "    </tr>\n",
       "    <tr>\n",
       "      <th>72584</th>\n",
       "      <td>2019-11-03 15:51:23.959572</td>\n",
       "      <td>tips_show</td>\n",
       "      <td>fffb9e79-b927-4dbb-9b48-7fd09b23a62b</td>\n",
       "    </tr>\n",
       "    <tr>\n",
       "      <th>72589</th>\n",
       "      <td>2019-11-03 15:51:57.899997</td>\n",
       "      <td>contacts_show</td>\n",
       "      <td>fffb9e79-b927-4dbb-9b48-7fd09b23a62b</td>\n",
       "    </tr>\n",
       "    <tr>\n",
       "      <th>72684</th>\n",
       "      <td>2019-11-03 16:07:40.932077</td>\n",
       "      <td>tips_show</td>\n",
       "      <td>fffb9e79-b927-4dbb-9b48-7fd09b23a62b</td>\n",
       "    </tr>\n",
       "    <tr>\n",
       "      <th>72688</th>\n",
       "      <td>2019-11-03 16:08:18.202734</td>\n",
       "      <td>tips_show</td>\n",
       "      <td>fffb9e79-b927-4dbb-9b48-7fd09b23a62b</td>\n",
       "    </tr>\n",
       "    <tr>\n",
       "      <th>72689</th>\n",
       "      <td>2019-11-03 16:08:25.388712</td>\n",
       "      <td>tips_show</td>\n",
       "      <td>fffb9e79-b927-4dbb-9b48-7fd09b23a62b</td>\n",
       "    </tr>\n",
       "  </tbody>\n",
       "</table>\n",
       "<p>74197 rows × 3 columns</p>\n",
       "</div>"
      ],
      "text/plain": [
       "                      event_time     event_name  \\\n",
       "805   2019-10-07 13:39:45.989359      tips_show   \n",
       "806   2019-10-07 13:40:31.052909      tips_show   \n",
       "809   2019-10-07 13:41:05.722489      tips_show   \n",
       "820   2019-10-07 13:43:20.735461      tips_show   \n",
       "830   2019-10-07 13:45:30.917502      tips_show   \n",
       "...                          ...            ...   \n",
       "72584 2019-11-03 15:51:23.959572      tips_show   \n",
       "72589 2019-11-03 15:51:57.899997  contacts_show   \n",
       "72684 2019-11-03 16:07:40.932077      tips_show   \n",
       "72688 2019-11-03 16:08:18.202734      tips_show   \n",
       "72689 2019-11-03 16:08:25.388712      tips_show   \n",
       "\n",
       "                                     userId  \n",
       "805    0001b1d5-b74a-4cbf-aeb0-7df5947bf349  \n",
       "806    0001b1d5-b74a-4cbf-aeb0-7df5947bf349  \n",
       "809    0001b1d5-b74a-4cbf-aeb0-7df5947bf349  \n",
       "820    0001b1d5-b74a-4cbf-aeb0-7df5947bf349  \n",
       "830    0001b1d5-b74a-4cbf-aeb0-7df5947bf349  \n",
       "...                                     ...  \n",
       "72584  fffb9e79-b927-4dbb-9b48-7fd09b23a62b  \n",
       "72589  fffb9e79-b927-4dbb-9b48-7fd09b23a62b  \n",
       "72684  fffb9e79-b927-4dbb-9b48-7fd09b23a62b  \n",
       "72688  fffb9e79-b927-4dbb-9b48-7fd09b23a62b  \n",
       "72689  fffb9e79-b927-4dbb-9b48-7fd09b23a62b  \n",
       "\n",
       "[74197 rows x 3 columns]"
      ]
     },
     "execution_count": 83,
     "metadata": {},
     "output_type": "execute_result"
    }
   ],
   "source": [
    "sessions = mobile_dataset.sort_values(['userId','event_time'])\n",
    "sessions"
   ]
  },
  {
   "cell_type": "code",
   "execution_count": 84,
   "metadata": {
    "scrolled": true
   },
   "outputs": [],
   "source": [
    "t = (sessions.groupby('userId')['event_time'].diff() > pd.Timedelta('5Min')).cumsum()\n",
    "sessions['session_id'] = sessions.groupby(['userId', t], sort=False).ngroup() + 1"
   ]
  },
  {
   "cell_type": "code",
   "execution_count": 85,
   "metadata": {
    "scrolled": true
   },
   "outputs": [
    {
     "data": {
      "text/html": [
       "<div>\n",
       "<style scoped>\n",
       "    .dataframe tbody tr th:only-of-type {\n",
       "        vertical-align: middle;\n",
       "    }\n",
       "\n",
       "    .dataframe tbody tr th {\n",
       "        vertical-align: top;\n",
       "    }\n",
       "\n",
       "    .dataframe thead th {\n",
       "        text-align: right;\n",
       "    }\n",
       "</style>\n",
       "<table border=\"1\" class=\"dataframe\">\n",
       "  <thead>\n",
       "    <tr style=\"text-align: right;\">\n",
       "      <th></th>\n",
       "      <th>event_time</th>\n",
       "      <th>event_name</th>\n",
       "      <th>userId</th>\n",
       "      <th>session_id</th>\n",
       "    </tr>\n",
       "  </thead>\n",
       "  <tbody>\n",
       "    <tr>\n",
       "      <th>805</th>\n",
       "      <td>2019-10-07 13:39:45.989359</td>\n",
       "      <td>tips_show</td>\n",
       "      <td>0001b1d5-b74a-4cbf-aeb0-7df5947bf349</td>\n",
       "      <td>1</td>\n",
       "    </tr>\n",
       "    <tr>\n",
       "      <th>806</th>\n",
       "      <td>2019-10-07 13:40:31.052909</td>\n",
       "      <td>tips_show</td>\n",
       "      <td>0001b1d5-b74a-4cbf-aeb0-7df5947bf349</td>\n",
       "      <td>1</td>\n",
       "    </tr>\n",
       "    <tr>\n",
       "      <th>809</th>\n",
       "      <td>2019-10-07 13:41:05.722489</td>\n",
       "      <td>tips_show</td>\n",
       "      <td>0001b1d5-b74a-4cbf-aeb0-7df5947bf349</td>\n",
       "      <td>1</td>\n",
       "    </tr>\n",
       "    <tr>\n",
       "      <th>820</th>\n",
       "      <td>2019-10-07 13:43:20.735461</td>\n",
       "      <td>tips_show</td>\n",
       "      <td>0001b1d5-b74a-4cbf-aeb0-7df5947bf349</td>\n",
       "      <td>1</td>\n",
       "    </tr>\n",
       "    <tr>\n",
       "      <th>830</th>\n",
       "      <td>2019-10-07 13:45:30.917502</td>\n",
       "      <td>tips_show</td>\n",
       "      <td>0001b1d5-b74a-4cbf-aeb0-7df5947bf349</td>\n",
       "      <td>1</td>\n",
       "    </tr>\n",
       "    <tr>\n",
       "      <th>...</th>\n",
       "      <td>...</td>\n",
       "      <td>...</td>\n",
       "      <td>...</td>\n",
       "      <td>...</td>\n",
       "    </tr>\n",
       "    <tr>\n",
       "      <th>72584</th>\n",
       "      <td>2019-11-03 15:51:23.959572</td>\n",
       "      <td>tips_show</td>\n",
       "      <td>fffb9e79-b927-4dbb-9b48-7fd09b23a62b</td>\n",
       "      <td>16365</td>\n",
       "    </tr>\n",
       "    <tr>\n",
       "      <th>72589</th>\n",
       "      <td>2019-11-03 15:51:57.899997</td>\n",
       "      <td>contacts_show</td>\n",
       "      <td>fffb9e79-b927-4dbb-9b48-7fd09b23a62b</td>\n",
       "      <td>16365</td>\n",
       "    </tr>\n",
       "    <tr>\n",
       "      <th>72684</th>\n",
       "      <td>2019-11-03 16:07:40.932077</td>\n",
       "      <td>tips_show</td>\n",
       "      <td>fffb9e79-b927-4dbb-9b48-7fd09b23a62b</td>\n",
       "      <td>16366</td>\n",
       "    </tr>\n",
       "    <tr>\n",
       "      <th>72688</th>\n",
       "      <td>2019-11-03 16:08:18.202734</td>\n",
       "      <td>tips_show</td>\n",
       "      <td>fffb9e79-b927-4dbb-9b48-7fd09b23a62b</td>\n",
       "      <td>16366</td>\n",
       "    </tr>\n",
       "    <tr>\n",
       "      <th>72689</th>\n",
       "      <td>2019-11-03 16:08:25.388712</td>\n",
       "      <td>tips_show</td>\n",
       "      <td>fffb9e79-b927-4dbb-9b48-7fd09b23a62b</td>\n",
       "      <td>16366</td>\n",
       "    </tr>\n",
       "  </tbody>\n",
       "</table>\n",
       "<p>74197 rows × 4 columns</p>\n",
       "</div>"
      ],
      "text/plain": [
       "                      event_time     event_name  \\\n",
       "805   2019-10-07 13:39:45.989359      tips_show   \n",
       "806   2019-10-07 13:40:31.052909      tips_show   \n",
       "809   2019-10-07 13:41:05.722489      tips_show   \n",
       "820   2019-10-07 13:43:20.735461      tips_show   \n",
       "830   2019-10-07 13:45:30.917502      tips_show   \n",
       "...                          ...            ...   \n",
       "72584 2019-11-03 15:51:23.959572      tips_show   \n",
       "72589 2019-11-03 15:51:57.899997  contacts_show   \n",
       "72684 2019-11-03 16:07:40.932077      tips_show   \n",
       "72688 2019-11-03 16:08:18.202734      tips_show   \n",
       "72689 2019-11-03 16:08:25.388712      tips_show   \n",
       "\n",
       "                                     userId  session_id  \n",
       "805    0001b1d5-b74a-4cbf-aeb0-7df5947bf349           1  \n",
       "806    0001b1d5-b74a-4cbf-aeb0-7df5947bf349           1  \n",
       "809    0001b1d5-b74a-4cbf-aeb0-7df5947bf349           1  \n",
       "820    0001b1d5-b74a-4cbf-aeb0-7df5947bf349           1  \n",
       "830    0001b1d5-b74a-4cbf-aeb0-7df5947bf349           1  \n",
       "...                                     ...         ...  \n",
       "72584  fffb9e79-b927-4dbb-9b48-7fd09b23a62b       16365  \n",
       "72589  fffb9e79-b927-4dbb-9b48-7fd09b23a62b       16365  \n",
       "72684  fffb9e79-b927-4dbb-9b48-7fd09b23a62b       16366  \n",
       "72688  fffb9e79-b927-4dbb-9b48-7fd09b23a62b       16366  \n",
       "72689  fffb9e79-b927-4dbb-9b48-7fd09b23a62b       16366  \n",
       "\n",
       "[74197 rows x 4 columns]"
      ]
     },
     "execution_count": 85,
     "metadata": {},
     "output_type": "execute_result"
    }
   ],
   "source": [
    "mobile_dataset = sessions\n",
    "mobile_dataset"
   ]
  },
  {
   "cell_type": "code",
   "execution_count": 86,
   "metadata": {
    "scrolled": true
   },
   "outputs": [
    {
     "data": {
      "text/html": [
       "<div>\n",
       "<style scoped>\n",
       "    .dataframe tbody tr th:only-of-type {\n",
       "        vertical-align: middle;\n",
       "    }\n",
       "\n",
       "    .dataframe tbody tr th {\n",
       "        vertical-align: top;\n",
       "    }\n",
       "\n",
       "    .dataframe thead th {\n",
       "        text-align: right;\n",
       "    }\n",
       "</style>\n",
       "<table border=\"1\" class=\"dataframe\">\n",
       "  <thead>\n",
       "    <tr style=\"text-align: right;\">\n",
       "      <th></th>\n",
       "      <th>session_id</th>\n",
       "      <th>event_time</th>\n",
       "    </tr>\n",
       "  </thead>\n",
       "  <tbody>\n",
       "    <tr>\n",
       "      <th>0</th>\n",
       "      <td>8183</td>\n",
       "      <td>0 days 00:00:00</td>\n",
       "    </tr>\n",
       "    <tr>\n",
       "      <th>1</th>\n",
       "      <td>10492</td>\n",
       "      <td>0 days 00:00:00</td>\n",
       "    </tr>\n",
       "    <tr>\n",
       "      <th>2</th>\n",
       "      <td>4293</td>\n",
       "      <td>0 days 00:00:00</td>\n",
       "    </tr>\n",
       "    <tr>\n",
       "      <th>3</th>\n",
       "      <td>10493</td>\n",
       "      <td>0 days 00:00:00</td>\n",
       "    </tr>\n",
       "    <tr>\n",
       "      <th>4</th>\n",
       "      <td>10494</td>\n",
       "      <td>0 days 00:00:00</td>\n",
       "    </tr>\n",
       "    <tr>\n",
       "      <th>...</th>\n",
       "      <td>...</td>\n",
       "      <td>...</td>\n",
       "    </tr>\n",
       "    <tr>\n",
       "      <th>16361</th>\n",
       "      <td>6699</td>\n",
       "      <td>0 days 01:19:44.109857</td>\n",
       "    </tr>\n",
       "    <tr>\n",
       "      <th>16362</th>\n",
       "      <td>8187</td>\n",
       "      <td>0 days 01:27:56.309836</td>\n",
       "    </tr>\n",
       "    <tr>\n",
       "      <th>16363</th>\n",
       "      <td>4631</td>\n",
       "      <td>0 days 01:35:26.474474</td>\n",
       "    </tr>\n",
       "    <tr>\n",
       "      <th>16364</th>\n",
       "      <td>12195</td>\n",
       "      <td>0 days 01:40:00.992615</td>\n",
       "    </tr>\n",
       "    <tr>\n",
       "      <th>16365</th>\n",
       "      <td>14852</td>\n",
       "      <td>0 days 01:58:56.369648</td>\n",
       "    </tr>\n",
       "  </tbody>\n",
       "</table>\n",
       "<p>16366 rows × 2 columns</p>\n",
       "</div>"
      ],
      "text/plain": [
       "       session_id             event_time\n",
       "0            8183        0 days 00:00:00\n",
       "1           10492        0 days 00:00:00\n",
       "2            4293        0 days 00:00:00\n",
       "3           10493        0 days 00:00:00\n",
       "4           10494        0 days 00:00:00\n",
       "...           ...                    ...\n",
       "16361        6699 0 days 01:19:44.109857\n",
       "16362        8187 0 days 01:27:56.309836\n",
       "16363        4631 0 days 01:35:26.474474\n",
       "16364       12195 0 days 01:40:00.992615\n",
       "16365       14852 0 days 01:58:56.369648\n",
       "\n",
       "[16366 rows x 2 columns]"
      ]
     },
     "execution_count": 86,
     "metadata": {},
     "output_type": "execute_result"
    }
   ],
   "source": [
    "mobile_dataset_avg = mobile_dataset.groupby('session_id')['event_time'].agg('max') - mobile_dataset.groupby('session_id')['event_time'].agg('min')\n",
    "mobile_dataset_avg = mobile_dataset_avg.sort_values().to_frame().reset_index()\n",
    "mobile_dataset_avg#найдем длительность сессий"
   ]
  },
  {
   "cell_type": "markdown",
   "metadata": {},
   "source": [
    "***ВЫВОД: Было принято решение взять за одну сессию интервал в 5 минут, как наиболее безопасный интервал.По дефолту во всяких гугл аналитика, Яндекс метрика тайм аут сессии 30 мин. Зависит от степени конфиденциальности приложения,чем меньше, тем безопаснее***"
   ]
  },
  {
   "cell_type": "code",
   "execution_count": 87,
   "metadata": {},
   "outputs": [
    {
     "data": {
      "text/html": [
       "<div>\n",
       "<style scoped>\n",
       "    .dataframe tbody tr th:only-of-type {\n",
       "        vertical-align: middle;\n",
       "    }\n",
       "\n",
       "    .dataframe tbody tr th {\n",
       "        vertical-align: top;\n",
       "    }\n",
       "\n",
       "    .dataframe thead th {\n",
       "        text-align: right;\n",
       "    }\n",
       "</style>\n",
       "<table border=\"1\" class=\"dataframe\">\n",
       "  <thead>\n",
       "    <tr style=\"text-align: right;\">\n",
       "      <th></th>\n",
       "      <th>session_id</th>\n",
       "      <th>event_time</th>\n",
       "    </tr>\n",
       "  </thead>\n",
       "  <tbody>\n",
       "    <tr>\n",
       "      <th>count</th>\n",
       "      <td>16366.000000</td>\n",
       "      <td>16366</td>\n",
       "    </tr>\n",
       "    <tr>\n",
       "      <th>mean</th>\n",
       "      <td>8183.500000</td>\n",
       "      <td>0 days 00:04:15.473311926</td>\n",
       "    </tr>\n",
       "    <tr>\n",
       "      <th>std</th>\n",
       "      <td>4724.601588</td>\n",
       "      <td>0 days 00:06:57.697522347</td>\n",
       "    </tr>\n",
       "    <tr>\n",
       "      <th>min</th>\n",
       "      <td>1.000000</td>\n",
       "      <td>0 days 00:00:00</td>\n",
       "    </tr>\n",
       "    <tr>\n",
       "      <th>25%</th>\n",
       "      <td>4092.250000</td>\n",
       "      <td>0 days 00:00:00</td>\n",
       "    </tr>\n",
       "    <tr>\n",
       "      <th>50%</th>\n",
       "      <td>8183.500000</td>\n",
       "      <td>0 days 00:01:36.690971</td>\n",
       "    </tr>\n",
       "    <tr>\n",
       "      <th>75%</th>\n",
       "      <td>12274.750000</td>\n",
       "      <td>0 days 00:05:37.067660</td>\n",
       "    </tr>\n",
       "    <tr>\n",
       "      <th>max</th>\n",
       "      <td>16366.000000</td>\n",
       "      <td>0 days 01:58:56.369648</td>\n",
       "    </tr>\n",
       "  </tbody>\n",
       "</table>\n",
       "</div>"
      ],
      "text/plain": [
       "         session_id                 event_time\n",
       "count  16366.000000                      16366\n",
       "mean    8183.500000  0 days 00:04:15.473311926\n",
       "std     4724.601588  0 days 00:06:57.697522347\n",
       "min        1.000000            0 days 00:00:00\n",
       "25%     4092.250000            0 days 00:00:00\n",
       "50%     8183.500000     0 days 00:01:36.690971\n",
       "75%    12274.750000     0 days 00:05:37.067660\n",
       "max    16366.000000     0 days 01:58:56.369648"
      ]
     },
     "execution_count": 87,
     "metadata": {},
     "output_type": "execute_result"
    }
   ],
   "source": [
    "mobile_dataset_avg.describe() #посмотрим на выбросы"
   ]
  },
  {
   "cell_type": "code",
   "execution_count": 88,
   "metadata": {},
   "outputs": [
    {
     "data": {
      "text/html": [
       "<div>\n",
       "<style scoped>\n",
       "    .dataframe tbody tr th:only-of-type {\n",
       "        vertical-align: middle;\n",
       "    }\n",
       "\n",
       "    .dataframe tbody tr th {\n",
       "        vertical-align: top;\n",
       "    }\n",
       "\n",
       "    .dataframe thead th {\n",
       "        text-align: right;\n",
       "    }\n",
       "</style>\n",
       "<table border=\"1\" class=\"dataframe\">\n",
       "  <thead>\n",
       "    <tr style=\"text-align: right;\">\n",
       "      <th></th>\n",
       "      <th>session_id</th>\n",
       "      <th>event_time</th>\n",
       "    </tr>\n",
       "  </thead>\n",
       "  <tbody>\n",
       "    <tr>\n",
       "      <th>0</th>\n",
       "      <td>8183</td>\n",
       "      <td>0 days</td>\n",
       "    </tr>\n",
       "    <tr>\n",
       "      <th>1</th>\n",
       "      <td>10492</td>\n",
       "      <td>0 days</td>\n",
       "    </tr>\n",
       "    <tr>\n",
       "      <th>2</th>\n",
       "      <td>4293</td>\n",
       "      <td>0 days</td>\n",
       "    </tr>\n",
       "    <tr>\n",
       "      <th>3</th>\n",
       "      <td>10493</td>\n",
       "      <td>0 days</td>\n",
       "    </tr>\n",
       "    <tr>\n",
       "      <th>4</th>\n",
       "      <td>10494</td>\n",
       "      <td>0 days</td>\n",
       "    </tr>\n",
       "    <tr>\n",
       "      <th>...</th>\n",
       "      <td>...</td>\n",
       "      <td>...</td>\n",
       "    </tr>\n",
       "    <tr>\n",
       "      <th>5216</th>\n",
       "      <td>327</td>\n",
       "      <td>0 days</td>\n",
       "    </tr>\n",
       "    <tr>\n",
       "      <th>5217</th>\n",
       "      <td>13188</td>\n",
       "      <td>0 days</td>\n",
       "    </tr>\n",
       "    <tr>\n",
       "      <th>5218</th>\n",
       "      <td>2363</td>\n",
       "      <td>0 days</td>\n",
       "    </tr>\n",
       "    <tr>\n",
       "      <th>5219</th>\n",
       "      <td>2338</td>\n",
       "      <td>0 days</td>\n",
       "    </tr>\n",
       "    <tr>\n",
       "      <th>5220</th>\n",
       "      <td>15829</td>\n",
       "      <td>0 days</td>\n",
       "    </tr>\n",
       "  </tbody>\n",
       "</table>\n",
       "<p>5221 rows × 2 columns</p>\n",
       "</div>"
      ],
      "text/plain": [
       "      session_id event_time\n",
       "0           8183     0 days\n",
       "1          10492     0 days\n",
       "2           4293     0 days\n",
       "3          10493     0 days\n",
       "4          10494     0 days\n",
       "...          ...        ...\n",
       "5216         327     0 days\n",
       "5217       13188     0 days\n",
       "5218        2363     0 days\n",
       "5219        2338     0 days\n",
       "5220       15829     0 days\n",
       "\n",
       "[5221 rows x 2 columns]"
      ]
     },
     "execution_count": 88,
     "metadata": {},
     "output_type": "execute_result"
    }
   ],
   "source": [
    "mobile_dataset_null = mobile_dataset_avg.query('event_time == \"0 days 00:00:00\"')\n",
    "mobile_dataset_null # рассмотрим более детальнонулевые сессии"
   ]
  },
  {
   "cell_type": "code",
   "execution_count": 89,
   "metadata": {},
   "outputs": [
    {
     "data": {
      "text/plain": [
       "[8,\n",
       " 13,\n",
       " 21,\n",
       " 22,\n",
       " 27,\n",
       " 28,\n",
       " 29,\n",
       " 30,\n",
       " 36,\n",
       " 37,\n",
       " 41,\n",
       " 51,\n",
       " 52,\n",
       " 60,\n",
       " 61,\n",
       " 62,\n",
       " 63,\n",
       " 66,\n",
       " 73,\n",
       " 74,\n",
       " 78,\n",
       " 80,\n",
       " 81,\n",
       " 82,\n",
       " 84,\n",
       " 85,\n",
       " 86,\n",
       " 88,\n",
       " 89,\n",
       " 95,\n",
       " 96,\n",
       " 103,\n",
       " 113,\n",
       " 120,\n",
       " 122,\n",
       " 125,\n",
       " 129,\n",
       " 132,\n",
       " 133,\n",
       " 135,\n",
       " 137,\n",
       " 138,\n",
       " 139,\n",
       " 142,\n",
       " 143,\n",
       " 144,\n",
       " 145,\n",
       " 146,\n",
       " 147,\n",
       " 148,\n",
       " 149,\n",
       " 153,\n",
       " 154,\n",
       " 161,\n",
       " 163,\n",
       " 166,\n",
       " 168,\n",
       " 173,\n",
       " 174,\n",
       " 177,\n",
       " 188,\n",
       " 189,\n",
       " 192,\n",
       " 193,\n",
       " 200,\n",
       " 201,\n",
       " 202,\n",
       " 209,\n",
       " 210,\n",
       " 211,\n",
       " 212,\n",
       " 219,\n",
       " 223,\n",
       " 228,\n",
       " 229,\n",
       " 231,\n",
       " 232,\n",
       " 233,\n",
       " 234,\n",
       " 235,\n",
       " 236,\n",
       " 237,\n",
       " 238,\n",
       " 239,\n",
       " 240,\n",
       " 244,\n",
       " 248,\n",
       " 255,\n",
       " 267,\n",
       " 271,\n",
       " 279,\n",
       " 284,\n",
       " 292,\n",
       " 302,\n",
       " 313,\n",
       " 316,\n",
       " 319,\n",
       " 322,\n",
       " 323,\n",
       " 327,\n",
       " 328,\n",
       " 336,\n",
       " 346,\n",
       " 361,\n",
       " 363,\n",
       " 367,\n",
       " 370,\n",
       " 379,\n",
       " 394,\n",
       " 395,\n",
       " 400,\n",
       " 402,\n",
       " 406,\n",
       " 412,\n",
       " 414,\n",
       " 415,\n",
       " 416,\n",
       " 417,\n",
       " 418,\n",
       " 421,\n",
       " 423,\n",
       " 425,\n",
       " 431,\n",
       " 432,\n",
       " 434,\n",
       " 437,\n",
       " 443,\n",
       " 444,\n",
       " 446,\n",
       " 447,\n",
       " 451,\n",
       " 452,\n",
       " 453,\n",
       " 454,\n",
       " 456,\n",
       " 460,\n",
       " 466,\n",
       " 471,\n",
       " 477,\n",
       " 483,\n",
       " 484,\n",
       " 486,\n",
       " 487,\n",
       " 489,\n",
       " 491,\n",
       " 498,\n",
       " 499,\n",
       " 501,\n",
       " 502,\n",
       " 503,\n",
       " 504,\n",
       " 506,\n",
       " 507,\n",
       " 509,\n",
       " 510,\n",
       " 511,\n",
       " 514,\n",
       " 515,\n",
       " 522,\n",
       " 526,\n",
       " 535,\n",
       " 539,\n",
       " 540,\n",
       " 541,\n",
       " 543,\n",
       " 546,\n",
       " 547,\n",
       " 549,\n",
       " 555,\n",
       " 559,\n",
       " 560,\n",
       " 561,\n",
       " 563,\n",
       " 565,\n",
       " 566,\n",
       " 569,\n",
       " 570,\n",
       " 571,\n",
       " 577,\n",
       " 588,\n",
       " 590,\n",
       " 591,\n",
       " 594,\n",
       " 595,\n",
       " 601,\n",
       " 604,\n",
       " 605,\n",
       " 607,\n",
       " 609,\n",
       " 610,\n",
       " 611,\n",
       " 620,\n",
       " 625,\n",
       " 626,\n",
       " 633,\n",
       " 639,\n",
       " 640,\n",
       " 641,\n",
       " 657,\n",
       " 660,\n",
       " 662,\n",
       " 664,\n",
       " 671,\n",
       " 672,\n",
       " 675,\n",
       " 679,\n",
       " 681,\n",
       " 682,\n",
       " 683,\n",
       " 684,\n",
       " 685,\n",
       " 686,\n",
       " 687,\n",
       " 698,\n",
       " 700,\n",
       " 703,\n",
       " 708,\n",
       " 719,\n",
       " 724,\n",
       " 725,\n",
       " 730,\n",
       " 732,\n",
       " 734,\n",
       " 735,\n",
       " 736,\n",
       " 737,\n",
       " 741,\n",
       " 743,\n",
       " 744,\n",
       " 746,\n",
       " 747,\n",
       " 748,\n",
       " 750,\n",
       " 759,\n",
       " 762,\n",
       " 770,\n",
       " 775,\n",
       " 776,\n",
       " 779,\n",
       " 782,\n",
       " 785,\n",
       " 786,\n",
       " 789,\n",
       " 794,\n",
       " 795,\n",
       " 796,\n",
       " 797,\n",
       " 798,\n",
       " 799,\n",
       " 800,\n",
       " 803,\n",
       " 809,\n",
       " 810,\n",
       " 811,\n",
       " 814,\n",
       " 815,\n",
       " 816,\n",
       " 818,\n",
       " 821,\n",
       " 827,\n",
       " 832,\n",
       " 833,\n",
       " 835,\n",
       " 836,\n",
       " 837,\n",
       " 841,\n",
       " 843,\n",
       " 844,\n",
       " 845,\n",
       " 847,\n",
       " 853,\n",
       " 854,\n",
       " 857,\n",
       " 858,\n",
       " 859,\n",
       " 860,\n",
       " 866,\n",
       " 867,\n",
       " 869,\n",
       " 878,\n",
       " 881,\n",
       " 884,\n",
       " 886,\n",
       " 890,\n",
       " 895,\n",
       " 898,\n",
       " 900,\n",
       " 902,\n",
       " 903,\n",
       " 915,\n",
       " 916,\n",
       " 918,\n",
       " 923,\n",
       " 926,\n",
       " 967,\n",
       " 969,\n",
       " 970,\n",
       " 973,\n",
       " 975,\n",
       " 976,\n",
       " 977,\n",
       " 985,\n",
       " 986,\n",
       " 989,\n",
       " 990,\n",
       " 991,\n",
       " 992,\n",
       " 996,\n",
       " 998,\n",
       " 999,\n",
       " 1000,\n",
       " 1002,\n",
       " 1005,\n",
       " 1009,\n",
       " 1010,\n",
       " 1012,\n",
       " 1016,\n",
       " 1018,\n",
       " 1021,\n",
       " 1023,\n",
       " 1025,\n",
       " 1030,\n",
       " 1031,\n",
       " 1032,\n",
       " 1036,\n",
       " 1037,\n",
       " 1038,\n",
       " 1040,\n",
       " 1044,\n",
       " 1047,\n",
       " 1050,\n",
       " 1052,\n",
       " 1060,\n",
       " 1067,\n",
       " 1069,\n",
       " 1071,\n",
       " 1081,\n",
       " 1088,\n",
       " 1092,\n",
       " 1097,\n",
       " 1099,\n",
       " 1100,\n",
       " 1102,\n",
       " 1103,\n",
       " 1110,\n",
       " 1111,\n",
       " 1113,\n",
       " 1115,\n",
       " 1116,\n",
       " 1117,\n",
       " 1118,\n",
       " 1119,\n",
       " 1123,\n",
       " 1126,\n",
       " 1127,\n",
       " 1128,\n",
       " 1129,\n",
       " 1132,\n",
       " 1140,\n",
       " 1141,\n",
       " 1142,\n",
       " 1146,\n",
       " 1147,\n",
       " 1149,\n",
       " 1151,\n",
       " 1156,\n",
       " 1158,\n",
       " 1159,\n",
       " 1160,\n",
       " 1161,\n",
       " 1162,\n",
       " 1166,\n",
       " 1170,\n",
       " 1171,\n",
       " 1172,\n",
       " 1173,\n",
       " 1174,\n",
       " 1175,\n",
       " 1178,\n",
       " 1179,\n",
       " 1183,\n",
       " 1186,\n",
       " 1189,\n",
       " 1190,\n",
       " 1192,\n",
       " 1193,\n",
       " 1207,\n",
       " 1208,\n",
       " 1209,\n",
       " 1213,\n",
       " 1215,\n",
       " 1219,\n",
       " 1222,\n",
       " 1223,\n",
       " 1224,\n",
       " 1226,\n",
       " 1228,\n",
       " 1229,\n",
       " 1231,\n",
       " 1234,\n",
       " 1238,\n",
       " 1240,\n",
       " 1242,\n",
       " 1245,\n",
       " 1246,\n",
       " 1247,\n",
       " 1252,\n",
       " 1253,\n",
       " 1256,\n",
       " 1258,\n",
       " 1259,\n",
       " 1260,\n",
       " 1261,\n",
       " 1262,\n",
       " 1264,\n",
       " 1267,\n",
       " 1270,\n",
       " 1273,\n",
       " 1275,\n",
       " 1281,\n",
       " 1293,\n",
       " 1295,\n",
       " 1296,\n",
       " 1297,\n",
       " 1298,\n",
       " 1299,\n",
       " 1300,\n",
       " 1302,\n",
       " 1303,\n",
       " 1304,\n",
       " 1312,\n",
       " 1313,\n",
       " 1314,\n",
       " 1316,\n",
       " 1317,\n",
       " 1318,\n",
       " 1319,\n",
       " 1322,\n",
       " 1335,\n",
       " 1350,\n",
       " 1355,\n",
       " 1360,\n",
       " 1361,\n",
       " 1362,\n",
       " 1364,\n",
       " 1367,\n",
       " 1368,\n",
       " 1370,\n",
       " 1372,\n",
       " 1373,\n",
       " 1376,\n",
       " 1382,\n",
       " 1383,\n",
       " 1401,\n",
       " 1403,\n",
       " 1406,\n",
       " 1408,\n",
       " 1413,\n",
       " 1416,\n",
       " 1422,\n",
       " 1423,\n",
       " 1425,\n",
       " 1426,\n",
       " 1427,\n",
       " 1428,\n",
       " 1429,\n",
       " 1430,\n",
       " 1431,\n",
       " 1433,\n",
       " 1434,\n",
       " 1435,\n",
       " 1437,\n",
       " 1439,\n",
       " 1444,\n",
       " 1447,\n",
       " 1451,\n",
       " 1455,\n",
       " 1469,\n",
       " 1477,\n",
       " 1495,\n",
       " 1496,\n",
       " 1500,\n",
       " 1502,\n",
       " 1508,\n",
       " 1509,\n",
       " 1510,\n",
       " 1517,\n",
       " 1520,\n",
       " 1521,\n",
       " 1522,\n",
       " 1523,\n",
       " 1526,\n",
       " 1527,\n",
       " 1533,\n",
       " 1538,\n",
       " 1539,\n",
       " 1540,\n",
       " 1541,\n",
       " 1542,\n",
       " 1549,\n",
       " 1551,\n",
       " 1557,\n",
       " 1558,\n",
       " 1570,\n",
       " 1574,\n",
       " 1577,\n",
       " 1580,\n",
       " 1582,\n",
       " 1584,\n",
       " 1585,\n",
       " 1586,\n",
       " 1587,\n",
       " 1588,\n",
       " 1589,\n",
       " 1592,\n",
       " 1593,\n",
       " 1602,\n",
       " 1606,\n",
       " 1618,\n",
       " 1620,\n",
       " 1623,\n",
       " 1624,\n",
       " 1625,\n",
       " 1627,\n",
       " 1633,\n",
       " 1638,\n",
       " 1648,\n",
       " 1649,\n",
       " 1650,\n",
       " 1651,\n",
       " 1652,\n",
       " 1653,\n",
       " 1655,\n",
       " 1661,\n",
       " 1662,\n",
       " 1665,\n",
       " 1666,\n",
       " 1667,\n",
       " 1668,\n",
       " 1669,\n",
       " 1670,\n",
       " 1672,\n",
       " 1674,\n",
       " 1675,\n",
       " 1677,\n",
       " 1678,\n",
       " 1681,\n",
       " 1682,\n",
       " 1688,\n",
       " 1691,\n",
       " 1692,\n",
       " 1693,\n",
       " 1694,\n",
       " 1695,\n",
       " 1696,\n",
       " 1702,\n",
       " 1705,\n",
       " 1708,\n",
       " 1709,\n",
       " 1711,\n",
       " 1717,\n",
       " 1720,\n",
       " 1724,\n",
       " 1726,\n",
       " 1732,\n",
       " 1733,\n",
       " 1743,\n",
       " 1744,\n",
       " 1745,\n",
       " 1746,\n",
       " 1747,\n",
       " 1748,\n",
       " 1757,\n",
       " 1761,\n",
       " 1780,\n",
       " 1787,\n",
       " 1788,\n",
       " 1789,\n",
       " 1790,\n",
       " 1792,\n",
       " 1794,\n",
       " 1798,\n",
       " 1799,\n",
       " 1800,\n",
       " 1801,\n",
       " 1804,\n",
       " 1809,\n",
       " 1819,\n",
       " 1821,\n",
       " 1825,\n",
       " 1836,\n",
       " 1838,\n",
       " 1841,\n",
       " 1842,\n",
       " 1843,\n",
       " 1845,\n",
       " 1846,\n",
       " 1847,\n",
       " 1849,\n",
       " 1853,\n",
       " 1857,\n",
       " 1859,\n",
       " 1860,\n",
       " 1866,\n",
       " 1867,\n",
       " 1869,\n",
       " 1871,\n",
       " 1872,\n",
       " 1873,\n",
       " 1874,\n",
       " 1876,\n",
       " 1882,\n",
       " 1883,\n",
       " 1885,\n",
       " 1894,\n",
       " 1896,\n",
       " 1897,\n",
       " 1898,\n",
       " 1899,\n",
       " 1904,\n",
       " 1905,\n",
       " 1906,\n",
       " 1908,\n",
       " 1909,\n",
       " 1915,\n",
       " 1916,\n",
       " 1920,\n",
       " 1923,\n",
       " 1924,\n",
       " 1925,\n",
       " 1927,\n",
       " 1939,\n",
       " 1940,\n",
       " 1941,\n",
       " 1942,\n",
       " 1944,\n",
       " 1949,\n",
       " 1952,\n",
       " 1953,\n",
       " 1957,\n",
       " 1958,\n",
       " 1959,\n",
       " 1961,\n",
       " 1964,\n",
       " 1987,\n",
       " 1990,\n",
       " 1994,\n",
       " 2001,\n",
       " 2004,\n",
       " 2010,\n",
       " 2014,\n",
       " 2017,\n",
       " 2018,\n",
       " 2022,\n",
       " 2024,\n",
       " 2025,\n",
       " 2026,\n",
       " 2027,\n",
       " 2040,\n",
       " 2047,\n",
       " 2049,\n",
       " 2051,\n",
       " 2053,\n",
       " 2057,\n",
       " 2058,\n",
       " 2059,\n",
       " 2060,\n",
       " 2061,\n",
       " 2062,\n",
       " 2063,\n",
       " 2064,\n",
       " 2065,\n",
       " 2067,\n",
       " 2068,\n",
       " 2076,\n",
       " 2077,\n",
       " 2079,\n",
       " 2080,\n",
       " 2105,\n",
       " 2109,\n",
       " 2111,\n",
       " 2114,\n",
       " 2121,\n",
       " 2123,\n",
       " 2125,\n",
       " 2126,\n",
       " 2127,\n",
       " 2131,\n",
       " 2136,\n",
       " 2139,\n",
       " 2141,\n",
       " 2142,\n",
       " 2146,\n",
       " 2152,\n",
       " 2156,\n",
       " 2160,\n",
       " 2161,\n",
       " 2165,\n",
       " 2168,\n",
       " 2170,\n",
       " 2171,\n",
       " 2172,\n",
       " 2173,\n",
       " 2175,\n",
       " 2187,\n",
       " 2189,\n",
       " 2199,\n",
       " 2201,\n",
       " 2206,\n",
       " 2209,\n",
       " 2211,\n",
       " 2213,\n",
       " 2214,\n",
       " 2215,\n",
       " 2219,\n",
       " 2222,\n",
       " 2228,\n",
       " 2229,\n",
       " 2230,\n",
       " 2241,\n",
       " 2243,\n",
       " 2244,\n",
       " 2245,\n",
       " 2251,\n",
       " 2253,\n",
       " 2255,\n",
       " 2258,\n",
       " 2261,\n",
       " 2263,\n",
       " 2264,\n",
       " 2266,\n",
       " 2267,\n",
       " 2270,\n",
       " 2271,\n",
       " 2272,\n",
       " 2276,\n",
       " 2277,\n",
       " 2279,\n",
       " 2280,\n",
       " 2281,\n",
       " 2283,\n",
       " 2284,\n",
       " 2289,\n",
       " 2290,\n",
       " 2294,\n",
       " 2297,\n",
       " 2298,\n",
       " 2305,\n",
       " 2307,\n",
       " 2308,\n",
       " 2312,\n",
       " 2316,\n",
       " 2320,\n",
       " 2325,\n",
       " 2327,\n",
       " 2329,\n",
       " 2331,\n",
       " 2335,\n",
       " 2338,\n",
       " 2340,\n",
       " 2341,\n",
       " 2346,\n",
       " 2347,\n",
       " 2348,\n",
       " 2349,\n",
       " 2350,\n",
       " 2352,\n",
       " 2355,\n",
       " 2358,\n",
       " 2359,\n",
       " 2360,\n",
       " 2363,\n",
       " 2364,\n",
       " 2366,\n",
       " 2367,\n",
       " 2368,\n",
       " 2370,\n",
       " 2371,\n",
       " 2380,\n",
       " 2381,\n",
       " 2382,\n",
       " 2383,\n",
       " 2388,\n",
       " 2401,\n",
       " 2403,\n",
       " 2409,\n",
       " 2414,\n",
       " 2418,\n",
       " 2420,\n",
       " 2424,\n",
       " 2426,\n",
       " 2428,\n",
       " 2429,\n",
       " 2432,\n",
       " 2433,\n",
       " 2438,\n",
       " 2440,\n",
       " 2441,\n",
       " 2443,\n",
       " 2445,\n",
       " 2453,\n",
       " 2454,\n",
       " 2455,\n",
       " 2456,\n",
       " 2457,\n",
       " 2460,\n",
       " 2462,\n",
       " 2463,\n",
       " 2464,\n",
       " 2465,\n",
       " 2467,\n",
       " 2469,\n",
       " 2474,\n",
       " 2476,\n",
       " 2479,\n",
       " 2486,\n",
       " 2488,\n",
       " 2489,\n",
       " 2491,\n",
       " 2497,\n",
       " 2498,\n",
       " 2499,\n",
       " 2516,\n",
       " 2525,\n",
       " 2528,\n",
       " 2530,\n",
       " 2531,\n",
       " 2532,\n",
       " 2533,\n",
       " 2536,\n",
       " 2538,\n",
       " 2539,\n",
       " 2542,\n",
       " 2543,\n",
       " 2550,\n",
       " 2553,\n",
       " 2554,\n",
       " 2555,\n",
       " 2556,\n",
       " 2559,\n",
       " 2568,\n",
       " 2569,\n",
       " 2574,\n",
       " 2575,\n",
       " 2578,\n",
       " 2582,\n",
       " 2585,\n",
       " 2588,\n",
       " 2592,\n",
       " 2593,\n",
       " 2595,\n",
       " 2597,\n",
       " 2601,\n",
       " 2603,\n",
       " 2608,\n",
       " 2614,\n",
       " 2617,\n",
       " 2622,\n",
       " 2624,\n",
       " 2625,\n",
       " 2626,\n",
       " 2630,\n",
       " 2631,\n",
       " 2636,\n",
       " 2637,\n",
       " 2643,\n",
       " 2646,\n",
       " 2653,\n",
       " 2664,\n",
       " 2670,\n",
       " 2671,\n",
       " 2679,\n",
       " 2683,\n",
       " 2684,\n",
       " 2687,\n",
       " 2691,\n",
       " 2703,\n",
       " 2707,\n",
       " 2712,\n",
       " 2714,\n",
       " 2720,\n",
       " 2724,\n",
       " 2734,\n",
       " 2738,\n",
       " 2741,\n",
       " 2742,\n",
       " 2751,\n",
       " 2754,\n",
       " 2755,\n",
       " 2762,\n",
       " 2763,\n",
       " 2764,\n",
       " 2770,\n",
       " 2775,\n",
       " 2777,\n",
       " 2778,\n",
       " 2779,\n",
       " 2780,\n",
       " 2783,\n",
       " 2785,\n",
       " 2788,\n",
       " 2790,\n",
       " 2808,\n",
       " 2810,\n",
       " 2813,\n",
       " 2816,\n",
       " 2821,\n",
       " 2822,\n",
       " 2824,\n",
       " 2830,\n",
       " 2834,\n",
       " 2835,\n",
       " 2837,\n",
       " 2840,\n",
       " 2842,\n",
       " 2845,\n",
       " 2849,\n",
       " 2850,\n",
       " 2851,\n",
       " 2852,\n",
       " 2853,\n",
       " 2862,\n",
       " 2863,\n",
       " 2864,\n",
       " 2865,\n",
       " 2867,\n",
       " 2868,\n",
       " 2871,\n",
       " 2874,\n",
       " 2875,\n",
       " 2876,\n",
       " 2878,\n",
       " 2881,\n",
       " 2886,\n",
       " 2890,\n",
       " 2894,\n",
       " 2900,\n",
       " 2901,\n",
       " 2904,\n",
       " 2905,\n",
       " 2909,\n",
       " 2913,\n",
       " 2914,\n",
       " 2917,\n",
       " 2918,\n",
       " 2920,\n",
       " 2925,\n",
       " 2932,\n",
       " 2933,\n",
       " 2936,\n",
       " 2937,\n",
       " 2940,\n",
       " 2944,\n",
       " 2951,\n",
       " 2952,\n",
       " 2956,\n",
       " 2957,\n",
       " 2958,\n",
       " 2959,\n",
       " 2960,\n",
       " 2961,\n",
       " 2966,\n",
       " 2968,\n",
       " 2970,\n",
       " 2971,\n",
       " 2978,\n",
       " 2981,\n",
       " 2983,\n",
       " 2986,\n",
       " 2988,\n",
       " 2999,\n",
       " 3001,\n",
       " 3002,\n",
       " 3003,\n",
       " 3004,\n",
       " 3006,\n",
       " 3009,\n",
       " 3011,\n",
       " 3013,\n",
       " 3028,\n",
       " 3030,\n",
       " 3035,\n",
       " 3040,\n",
       " 3044,\n",
       " 3047,\n",
       " 3049,\n",
       " 3054,\n",
       " 3055,\n",
       " 3056,\n",
       " 3066,\n",
       " 3072,\n",
       " 3073,\n",
       " 3074,\n",
       " 3081,\n",
       " 3084,\n",
       " 3085,\n",
       " 3086,\n",
       " 3094,\n",
       " 3097,\n",
       " 3098,\n",
       " ...]"
      ]
     },
     "execution_count": 89,
     "metadata": {},
     "output_type": "execute_result"
    }
   ],
   "source": [
    "null_session = mobile_dataset_null['session_id'].to_list()\n",
    "sorted (null_session) #выделим список session_id с нулевой длительностью"
   ]
  },
  {
   "cell_type": "code",
   "execution_count": 90,
   "metadata": {
    "scrolled": true
   },
   "outputs": [
    {
     "data": {
      "text/html": [
       "<div>\n",
       "<style scoped>\n",
       "    .dataframe tbody tr th:only-of-type {\n",
       "        vertical-align: middle;\n",
       "    }\n",
       "\n",
       "    .dataframe tbody tr th {\n",
       "        vertical-align: top;\n",
       "    }\n",
       "\n",
       "    .dataframe thead th {\n",
       "        text-align: right;\n",
       "    }\n",
       "</style>\n",
       "<table border=\"1\" class=\"dataframe\">\n",
       "  <thead>\n",
       "    <tr style=\"text-align: right;\">\n",
       "      <th></th>\n",
       "      <th>event_time</th>\n",
       "      <th>event_name</th>\n",
       "      <th>userId</th>\n",
       "      <th>session_id</th>\n",
       "    </tr>\n",
       "  </thead>\n",
       "  <tbody>\n",
       "    <tr>\n",
       "      <th>33482</th>\n",
       "      <td>2019-10-20 18:49:24.115634</td>\n",
       "      <td>search_1</td>\n",
       "      <td>00157779-810c-4498-9e05-a1e9e3cedf93</td>\n",
       "      <td>8</td>\n",
       "    </tr>\n",
       "    <tr>\n",
       "      <th>33601</th>\n",
       "      <td>2019-10-20 19:57:15.652784</td>\n",
       "      <td>photos_show</td>\n",
       "      <td>00157779-810c-4498-9e05-a1e9e3cedf93</td>\n",
       "      <td>13</td>\n",
       "    </tr>\n",
       "    <tr>\n",
       "      <th>61336</th>\n",
       "      <td>2019-10-30 08:26:53.933176</td>\n",
       "      <td>contacts_show</td>\n",
       "      <td>00157779-810c-4498-9e05-a1e9e3cedf93</td>\n",
       "      <td>21</td>\n",
       "    </tr>\n",
       "    <tr>\n",
       "      <th>72809</th>\n",
       "      <td>2019-11-03 17:12:09.708771</td>\n",
       "      <td>contacts_show</td>\n",
       "      <td>00157779-810c-4498-9e05-a1e9e3cedf93</td>\n",
       "      <td>22</td>\n",
       "    </tr>\n",
       "    <tr>\n",
       "      <th>48631</th>\n",
       "      <td>2019-10-25 22:17:31.839852</td>\n",
       "      <td>search_7</td>\n",
       "      <td>004690c3-5a84-4bb7-a8af-e0c8f8fca64e</td>\n",
       "      <td>27</td>\n",
       "    </tr>\n",
       "    <tr>\n",
       "      <th>...</th>\n",
       "      <td>...</td>\n",
       "      <td>...</td>\n",
       "      <td>...</td>\n",
       "      <td>...</td>\n",
       "    </tr>\n",
       "    <tr>\n",
       "      <th>25778</th>\n",
       "      <td>2019-10-17 15:34:19.450186</td>\n",
       "      <td>tips_show</td>\n",
       "      <td>fffb9e79-b927-4dbb-9b48-7fd09b23a62b</td>\n",
       "      <td>16328</td>\n",
       "    </tr>\n",
       "    <tr>\n",
       "      <th>61768</th>\n",
       "      <td>2019-10-30 11:31:45.886946</td>\n",
       "      <td>tips_show</td>\n",
       "      <td>fffb9e79-b927-4dbb-9b48-7fd09b23a62b</td>\n",
       "      <td>16357</td>\n",
       "    </tr>\n",
       "    <tr>\n",
       "      <th>69525</th>\n",
       "      <td>2019-11-02 01:16:48.947231</td>\n",
       "      <td>tips_show</td>\n",
       "      <td>fffb9e79-b927-4dbb-9b48-7fd09b23a62b</td>\n",
       "      <td>16359</td>\n",
       "    </tr>\n",
       "    <tr>\n",
       "      <th>70585</th>\n",
       "      <td>2019-11-02 18:01:27.094834</td>\n",
       "      <td>tips_show</td>\n",
       "      <td>fffb9e79-b927-4dbb-9b48-7fd09b23a62b</td>\n",
       "      <td>16360</td>\n",
       "    </tr>\n",
       "    <tr>\n",
       "      <th>70661</th>\n",
       "      <td>2019-11-02 18:17:41.386651</td>\n",
       "      <td>contacts_show</td>\n",
       "      <td>fffb9e79-b927-4dbb-9b48-7fd09b23a62b</td>\n",
       "      <td>16361</td>\n",
       "    </tr>\n",
       "  </tbody>\n",
       "</table>\n",
       "<p>5221 rows × 4 columns</p>\n",
       "</div>"
      ],
      "text/plain": [
       "                      event_time     event_name  \\\n",
       "33482 2019-10-20 18:49:24.115634       search_1   \n",
       "33601 2019-10-20 19:57:15.652784    photos_show   \n",
       "61336 2019-10-30 08:26:53.933176  contacts_show   \n",
       "72809 2019-11-03 17:12:09.708771  contacts_show   \n",
       "48631 2019-10-25 22:17:31.839852       search_7   \n",
       "...                          ...            ...   \n",
       "25778 2019-10-17 15:34:19.450186      tips_show   \n",
       "61768 2019-10-30 11:31:45.886946      tips_show   \n",
       "69525 2019-11-02 01:16:48.947231      tips_show   \n",
       "70585 2019-11-02 18:01:27.094834      tips_show   \n",
       "70661 2019-11-02 18:17:41.386651  contacts_show   \n",
       "\n",
       "                                     userId  session_id  \n",
       "33482  00157779-810c-4498-9e05-a1e9e3cedf93           8  \n",
       "33601  00157779-810c-4498-9e05-a1e9e3cedf93          13  \n",
       "61336  00157779-810c-4498-9e05-a1e9e3cedf93          21  \n",
       "72809  00157779-810c-4498-9e05-a1e9e3cedf93          22  \n",
       "48631  004690c3-5a84-4bb7-a8af-e0c8f8fca64e          27  \n",
       "...                                     ...         ...  \n",
       "25778  fffb9e79-b927-4dbb-9b48-7fd09b23a62b       16328  \n",
       "61768  fffb9e79-b927-4dbb-9b48-7fd09b23a62b       16357  \n",
       "69525  fffb9e79-b927-4dbb-9b48-7fd09b23a62b       16359  \n",
       "70585  fffb9e79-b927-4dbb-9b48-7fd09b23a62b       16360  \n",
       "70661  fffb9e79-b927-4dbb-9b48-7fd09b23a62b       16361  \n",
       "\n",
       "[5221 rows x 4 columns]"
      ]
     },
     "execution_count": 90,
     "metadata": {},
     "output_type": "execute_result"
    }
   ],
   "source": [
    "null_name = mobile_dataset.query('session_id == @null_session')\n",
    "null_name #добавим название события к нулевым сессиям"
   ]
  },
  {
   "cell_type": "code",
   "execution_count": 91,
   "metadata": {
    "scrolled": true
   },
   "outputs": [
    {
     "data": {
      "text/plain": [
       "event_name\n",
       "advert_open       114\n",
       "contacts_call       1\n",
       "contacts_show     385\n",
       "favorites_add      99\n",
       "map               254\n",
       "photos_show      1098\n",
       "search_1          643\n",
       "search_3           15\n",
       "search_4            8\n",
       "search_5           45\n",
       "search_6            1\n",
       "search_7            5\n",
       "tips_click         37\n",
       "tips_show        2516\n",
       "Name: session_id, dtype: int64"
      ]
     },
     "execution_count": 91,
     "metadata": {},
     "output_type": "execute_result"
    }
   ],
   "source": [
    "null_name.groupby('event_name')['session_id'].agg('nunique')#выведем названия и количество нулевых сессий"
   ]
  },
  {
   "cell_type": "markdown",
   "metadata": {},
   "source": [
    "***ВЫВОД: Наибольшее количество нулевых сессии tips_show 2 516 (показать подсказку).***"
   ]
  },
  {
   "cell_type": "code",
   "execution_count": 92,
   "metadata": {
    "scrolled": true
   },
   "outputs": [
    {
     "data": {
      "text/html": [
       "<div>\n",
       "<style scoped>\n",
       "    .dataframe tbody tr th:only-of-type {\n",
       "        vertical-align: middle;\n",
       "    }\n",
       "\n",
       "    .dataframe tbody tr th {\n",
       "        vertical-align: top;\n",
       "    }\n",
       "\n",
       "    .dataframe thead th {\n",
       "        text-align: right;\n",
       "    }\n",
       "</style>\n",
       "<table border=\"1\" class=\"dataframe\">\n",
       "  <thead>\n",
       "    <tr style=\"text-align: right;\">\n",
       "      <th></th>\n",
       "      <th>session_id</th>\n",
       "      <th>event_time</th>\n",
       "    </tr>\n",
       "  </thead>\n",
       "  <tbody>\n",
       "    <tr>\n",
       "      <th>6541</th>\n",
       "      <td>15411</td>\n",
       "      <td>0 days 00:00:30.049948</td>\n",
       "    </tr>\n",
       "    <tr>\n",
       "      <th>6542</th>\n",
       "      <td>2826</td>\n",
       "      <td>0 days 00:00:30.092524</td>\n",
       "    </tr>\n",
       "    <tr>\n",
       "      <th>6543</th>\n",
       "      <td>5684</td>\n",
       "      <td>0 days 00:00:30.116302</td>\n",
       "    </tr>\n",
       "    <tr>\n",
       "      <th>6544</th>\n",
       "      <td>5688</td>\n",
       "      <td>0 days 00:00:30.120171</td>\n",
       "    </tr>\n",
       "    <tr>\n",
       "      <th>6545</th>\n",
       "      <td>8412</td>\n",
       "      <td>0 days 00:00:30.245684</td>\n",
       "    </tr>\n",
       "    <tr>\n",
       "      <th>...</th>\n",
       "      <td>...</td>\n",
       "      <td>...</td>\n",
       "    </tr>\n",
       "    <tr>\n",
       "      <th>16150</th>\n",
       "      <td>5295</td>\n",
       "      <td>0 days 00:29:49.599939</td>\n",
       "    </tr>\n",
       "    <tr>\n",
       "      <th>16151</th>\n",
       "      <td>2972</td>\n",
       "      <td>0 days 00:29:51.469493</td>\n",
       "    </tr>\n",
       "    <tr>\n",
       "      <th>16152</th>\n",
       "      <td>75</td>\n",
       "      <td>0 days 00:29:55.959226</td>\n",
       "    </tr>\n",
       "    <tr>\n",
       "      <th>16153</th>\n",
       "      <td>10302</td>\n",
       "      <td>0 days 00:29:57.400456</td>\n",
       "    </tr>\n",
       "    <tr>\n",
       "      <th>16154</th>\n",
       "      <td>12771</td>\n",
       "      <td>0 days 00:29:59.442878</td>\n",
       "    </tr>\n",
       "  </tbody>\n",
       "</table>\n",
       "<p>9614 rows × 2 columns</p>\n",
       "</div>"
      ],
      "text/plain": [
       "       session_id             event_time\n",
       "6541        15411 0 days 00:00:30.049948\n",
       "6542         2826 0 days 00:00:30.092524\n",
       "6543         5684 0 days 00:00:30.116302\n",
       "6544         5688 0 days 00:00:30.120171\n",
       "6545         8412 0 days 00:00:30.245684\n",
       "...           ...                    ...\n",
       "16150        5295 0 days 00:29:49.599939\n",
       "16151        2972 0 days 00:29:51.469493\n",
       "16152          75 0 days 00:29:55.959226\n",
       "16153       10302 0 days 00:29:57.400456\n",
       "16154       12771 0 days 00:29:59.442878\n",
       "\n",
       "[9614 rows x 2 columns]"
      ]
     },
     "execution_count": 92,
     "metadata": {},
     "output_type": "execute_result"
    }
   ],
   "source": [
    "mobile_dataset_avg = mobile_dataset_avg.query('event_time >= \"0 days 00:00:30\"and event_time <= \"0 days 00:30:00\"')\n",
    "mobile_dataset_avg #удалим выбросы (нулевую, крайне малую длительность и длительность сессий свыше 30 минут)"
   ]
  },
  {
   "cell_type": "code",
   "execution_count": 93,
   "metadata": {},
   "outputs": [
    {
     "data": {
      "text/html": [
       "<div>\n",
       "<style scoped>\n",
       "    .dataframe tbody tr th:only-of-type {\n",
       "        vertical-align: middle;\n",
       "    }\n",
       "\n",
       "    .dataframe tbody tr th {\n",
       "        vertical-align: top;\n",
       "    }\n",
       "\n",
       "    .dataframe thead th {\n",
       "        text-align: right;\n",
       "    }\n",
       "</style>\n",
       "<table border=\"1\" class=\"dataframe\">\n",
       "  <thead>\n",
       "    <tr style=\"text-align: right;\">\n",
       "      <th></th>\n",
       "      <th>session_id</th>\n",
       "      <th>event_time</th>\n",
       "    </tr>\n",
       "  </thead>\n",
       "  <tbody>\n",
       "    <tr>\n",
       "      <th>count</th>\n",
       "      <td>9614.000000</td>\n",
       "      <td>9614</td>\n",
       "    </tr>\n",
       "    <tr>\n",
       "      <th>mean</th>\n",
       "      <td>8209.896297</td>\n",
       "      <td>0 days 00:06:18.239127718</td>\n",
       "    </tr>\n",
       "    <tr>\n",
       "      <th>std</th>\n",
       "      <td>4735.220734</td>\n",
       "      <td>0 days 00:05:37.681245193</td>\n",
       "    </tr>\n",
       "    <tr>\n",
       "      <th>min</th>\n",
       "      <td>1.000000</td>\n",
       "      <td>0 days 00:00:30.049948</td>\n",
       "    </tr>\n",
       "    <tr>\n",
       "      <th>25%</th>\n",
       "      <td>4099.250000</td>\n",
       "      <td>0 days 00:02:14.613138500</td>\n",
       "    </tr>\n",
       "    <tr>\n",
       "      <th>50%</th>\n",
       "      <td>8267.000000</td>\n",
       "      <td>0 days 00:04:31.413739</td>\n",
       "    </tr>\n",
       "    <tr>\n",
       "      <th>75%</th>\n",
       "      <td>12345.750000</td>\n",
       "      <td>0 days 00:08:30.895350500</td>\n",
       "    </tr>\n",
       "    <tr>\n",
       "      <th>max</th>\n",
       "      <td>16366.000000</td>\n",
       "      <td>0 days 00:29:59.442878</td>\n",
       "    </tr>\n",
       "  </tbody>\n",
       "</table>\n",
       "</div>"
      ],
      "text/plain": [
       "         session_id                 event_time\n",
       "count   9614.000000                       9614\n",
       "mean    8209.896297  0 days 00:06:18.239127718\n",
       "std     4735.220734  0 days 00:05:37.681245193\n",
       "min        1.000000     0 days 00:00:30.049948\n",
       "25%     4099.250000  0 days 00:02:14.613138500\n",
       "50%     8267.000000     0 days 00:04:31.413739\n",
       "75%    12345.750000  0 days 00:08:30.895350500\n",
       "max    16366.000000     0 days 00:29:59.442878"
      ]
     },
     "execution_count": 93,
     "metadata": {},
     "output_type": "execute_result"
    }
   ],
   "source": [
    "mobile_dataset_avg.describe()"
   ]
  },
  {
   "cell_type": "code",
   "execution_count": 94,
   "metadata": {},
   "outputs": [
    {
     "name": "stdout",
     "output_type": "stream",
     "text": [
      "Среднее время сессии составляет: 0 days 00:06:18.239127718\n"
     ]
    }
   ],
   "source": [
    "print('Среднее время сессии составляет:', mobile_dataset_avg['event_time'].mean()) #среднее время сессии"
   ]
  },
  {
   "cell_type": "markdown",
   "metadata": {},
   "source": [
    "***ВЫВОД: Исключили из датасета сесии с очень малой продолжительностью до 30 секунд и нулевые сессии, а также сессии крайне продолжительные от получаса. Среднее время сессии составило 6 минуты 18 секунд. Наибольшее количество нулевых сессии tips_show 2 516 (показать подсказку), для аналитики исключим из исследования этот тип событий, не всегда пользователи пользуются подсказками и это действительно не является программным сбоем.***"
   ]
  },
  {
   "cell_type": "markdown",
   "metadata": {},
   "source": [
    "3.3 Рассчитать частоту совершения событий"
   ]
  },
  {
   "cell_type": "code",
   "execution_count": 95,
   "metadata": {
    "scrolled": true
   },
   "outputs": [
    {
     "data": {
      "text/html": [
       "<div>\n",
       "<style scoped>\n",
       "    .dataframe tbody tr th:only-of-type {\n",
       "        vertical-align: middle;\n",
       "    }\n",
       "\n",
       "    .dataframe tbody tr th {\n",
       "        vertical-align: top;\n",
       "    }\n",
       "\n",
       "    .dataframe thead th {\n",
       "        text-align: right;\n",
       "    }\n",
       "</style>\n",
       "<table border=\"1\" class=\"dataframe\">\n",
       "  <thead>\n",
       "    <tr style=\"text-align: right;\">\n",
       "      <th></th>\n",
       "      <th>event_time</th>\n",
       "      <th>event_name</th>\n",
       "      <th>userId</th>\n",
       "      <th>session_id</th>\n",
       "      <th>duration</th>\n",
       "    </tr>\n",
       "  </thead>\n",
       "  <tbody>\n",
       "    <tr>\n",
       "      <th>805</th>\n",
       "      <td>2019-10-07 13:39:45.989359</td>\n",
       "      <td>tips_show</td>\n",
       "      <td>0001b1d5-b74a-4cbf-aeb0-7df5947bf349</td>\n",
       "      <td>1</td>\n",
       "      <td>0 days 00:01:18.837507</td>\n",
       "    </tr>\n",
       "    <tr>\n",
       "      <th>806</th>\n",
       "      <td>2019-10-07 13:40:31.052909</td>\n",
       "      <td>tips_show</td>\n",
       "      <td>0001b1d5-b74a-4cbf-aeb0-7df5947bf349</td>\n",
       "      <td>1</td>\n",
       "      <td>0 days 00:06:53.148759</td>\n",
       "    </tr>\n",
       "    <tr>\n",
       "      <th>809</th>\n",
       "      <td>2019-10-07 13:41:05.722489</td>\n",
       "      <td>tips_show</td>\n",
       "      <td>0001b1d5-b74a-4cbf-aeb0-7df5947bf349</td>\n",
       "      <td>1</td>\n",
       "      <td>0 days 00:00:00</td>\n",
       "    </tr>\n",
       "    <tr>\n",
       "      <th>820</th>\n",
       "      <td>2019-10-07 13:43:20.735461</td>\n",
       "      <td>tips_show</td>\n",
       "      <td>0001b1d5-b74a-4cbf-aeb0-7df5947bf349</td>\n",
       "      <td>1</td>\n",
       "      <td>0 days 00:01:28.750679</td>\n",
       "    </tr>\n",
       "    <tr>\n",
       "      <th>830</th>\n",
       "      <td>2019-10-07 13:45:30.917502</td>\n",
       "      <td>tips_show</td>\n",
       "      <td>0001b1d5-b74a-4cbf-aeb0-7df5947bf349</td>\n",
       "      <td>1</td>\n",
       "      <td>0 days 00:01:31.768081</td>\n",
       "    </tr>\n",
       "    <tr>\n",
       "      <th>...</th>\n",
       "      <td>...</td>\n",
       "      <td>...</td>\n",
       "      <td>...</td>\n",
       "      <td>...</td>\n",
       "      <td>...</td>\n",
       "    </tr>\n",
       "    <tr>\n",
       "      <th>72584</th>\n",
       "      <td>2019-11-03 15:51:23.959572</td>\n",
       "      <td>tips_show</td>\n",
       "      <td>fffb9e79-b927-4dbb-9b48-7fd09b23a62b</td>\n",
       "      <td>16365</td>\n",
       "      <td>NaT</td>\n",
       "    </tr>\n",
       "    <tr>\n",
       "      <th>72589</th>\n",
       "      <td>2019-11-03 15:51:57.899997</td>\n",
       "      <td>contacts_show</td>\n",
       "      <td>fffb9e79-b927-4dbb-9b48-7fd09b23a62b</td>\n",
       "      <td>16365</td>\n",
       "      <td>NaT</td>\n",
       "    </tr>\n",
       "    <tr>\n",
       "      <th>72684</th>\n",
       "      <td>2019-11-03 16:07:40.932077</td>\n",
       "      <td>tips_show</td>\n",
       "      <td>fffb9e79-b927-4dbb-9b48-7fd09b23a62b</td>\n",
       "      <td>16366</td>\n",
       "      <td>NaT</td>\n",
       "    </tr>\n",
       "    <tr>\n",
       "      <th>72688</th>\n",
       "      <td>2019-11-03 16:08:18.202734</td>\n",
       "      <td>tips_show</td>\n",
       "      <td>fffb9e79-b927-4dbb-9b48-7fd09b23a62b</td>\n",
       "      <td>16366</td>\n",
       "      <td>NaT</td>\n",
       "    </tr>\n",
       "    <tr>\n",
       "      <th>72689</th>\n",
       "      <td>2019-11-03 16:08:25.388712</td>\n",
       "      <td>tips_show</td>\n",
       "      <td>fffb9e79-b927-4dbb-9b48-7fd09b23a62b</td>\n",
       "      <td>16366</td>\n",
       "      <td>NaT</td>\n",
       "    </tr>\n",
       "  </tbody>\n",
       "</table>\n",
       "<p>74197 rows × 5 columns</p>\n",
       "</div>"
      ],
      "text/plain": [
       "                      event_time     event_name  \\\n",
       "805   2019-10-07 13:39:45.989359      tips_show   \n",
       "806   2019-10-07 13:40:31.052909      tips_show   \n",
       "809   2019-10-07 13:41:05.722489      tips_show   \n",
       "820   2019-10-07 13:43:20.735461      tips_show   \n",
       "830   2019-10-07 13:45:30.917502      tips_show   \n",
       "...                          ...            ...   \n",
       "72584 2019-11-03 15:51:23.959572      tips_show   \n",
       "72589 2019-11-03 15:51:57.899997  contacts_show   \n",
       "72684 2019-11-03 16:07:40.932077      tips_show   \n",
       "72688 2019-11-03 16:08:18.202734      tips_show   \n",
       "72689 2019-11-03 16:08:25.388712      tips_show   \n",
       "\n",
       "                                     userId  session_id               duration  \n",
       "805    0001b1d5-b74a-4cbf-aeb0-7df5947bf349           1 0 days 00:01:18.837507  \n",
       "806    0001b1d5-b74a-4cbf-aeb0-7df5947bf349           1 0 days 00:06:53.148759  \n",
       "809    0001b1d5-b74a-4cbf-aeb0-7df5947bf349           1        0 days 00:00:00  \n",
       "820    0001b1d5-b74a-4cbf-aeb0-7df5947bf349           1 0 days 00:01:28.750679  \n",
       "830    0001b1d5-b74a-4cbf-aeb0-7df5947bf349           1 0 days 00:01:31.768081  \n",
       "...                                     ...         ...                    ...  \n",
       "72584  fffb9e79-b927-4dbb-9b48-7fd09b23a62b       16365                    NaT  \n",
       "72589  fffb9e79-b927-4dbb-9b48-7fd09b23a62b       16365                    NaT  \n",
       "72684  fffb9e79-b927-4dbb-9b48-7fd09b23a62b       16366                    NaT  \n",
       "72688  fffb9e79-b927-4dbb-9b48-7fd09b23a62b       16366                    NaT  \n",
       "72689  fffb9e79-b927-4dbb-9b48-7fd09b23a62b       16366                    NaT  \n",
       "\n",
       "[74197 rows x 5 columns]"
      ]
     },
     "execution_count": 95,
     "metadata": {},
     "output_type": "execute_result"
    }
   ],
   "source": [
    "mobile_dataset['duration'] = mobile_dataset.groupby('session_id')['event_time'].agg('max') - mobile_dataset.groupby('session_id')['event_time'].agg('min')\n",
    "mobile_dataset # найдем длительность сессии"
   ]
  },
  {
   "cell_type": "code",
   "execution_count": 96,
   "metadata": {},
   "outputs": [
    {
     "data": {
      "text/html": [
       "<div>\n",
       "<style scoped>\n",
       "    .dataframe tbody tr th:only-of-type {\n",
       "        vertical-align: middle;\n",
       "    }\n",
       "\n",
       "    .dataframe tbody tr th {\n",
       "        vertical-align: top;\n",
       "    }\n",
       "\n",
       "    .dataframe thead th {\n",
       "        text-align: right;\n",
       "    }\n",
       "</style>\n",
       "<table border=\"1\" class=\"dataframe\">\n",
       "  <thead>\n",
       "    <tr style=\"text-align: right;\">\n",
       "      <th></th>\n",
       "      <th>event_time</th>\n",
       "      <th>event_name</th>\n",
       "      <th>userId</th>\n",
       "      <th>session_id</th>\n",
       "      <th>duration</th>\n",
       "    </tr>\n",
       "  </thead>\n",
       "  <tbody>\n",
       "    <tr>\n",
       "      <th>805</th>\n",
       "      <td>2019-10-07 13:39:45.989359</td>\n",
       "      <td>tips_show</td>\n",
       "      <td>0001b1d5-b74a-4cbf-aeb0-7df5947bf349</td>\n",
       "      <td>1</td>\n",
       "      <td>0 days 00:01:18.837507</td>\n",
       "    </tr>\n",
       "    <tr>\n",
       "      <th>806</th>\n",
       "      <td>2019-10-07 13:40:31.052909</td>\n",
       "      <td>tips_show</td>\n",
       "      <td>0001b1d5-b74a-4cbf-aeb0-7df5947bf349</td>\n",
       "      <td>1</td>\n",
       "      <td>0 days 00:06:53.148759</td>\n",
       "    </tr>\n",
       "    <tr>\n",
       "      <th>820</th>\n",
       "      <td>2019-10-07 13:43:20.735461</td>\n",
       "      <td>tips_show</td>\n",
       "      <td>0001b1d5-b74a-4cbf-aeb0-7df5947bf349</td>\n",
       "      <td>1</td>\n",
       "      <td>0 days 00:01:28.750679</td>\n",
       "    </tr>\n",
       "    <tr>\n",
       "      <th>830</th>\n",
       "      <td>2019-10-07 13:45:30.917502</td>\n",
       "      <td>tips_show</td>\n",
       "      <td>0001b1d5-b74a-4cbf-aeb0-7df5947bf349</td>\n",
       "      <td>1</td>\n",
       "      <td>0 days 00:01:31.768081</td>\n",
       "    </tr>\n",
       "    <tr>\n",
       "      <th>839</th>\n",
       "      <td>2019-10-07 13:49:41.716617</td>\n",
       "      <td>tips_show</td>\n",
       "      <td>0001b1d5-b74a-4cbf-aeb0-7df5947bf349</td>\n",
       "      <td>1</td>\n",
       "      <td>0 days 00:00:43.111827</td>\n",
       "    </tr>\n",
       "    <tr>\n",
       "      <th>...</th>\n",
       "      <td>...</td>\n",
       "      <td>...</td>\n",
       "      <td>...</td>\n",
       "      <td>...</td>\n",
       "      <td>...</td>\n",
       "    </tr>\n",
       "    <tr>\n",
       "      <th>11383</th>\n",
       "      <td>2019-10-12 01:07:11.782372</td>\n",
       "      <td>tips_show</td>\n",
       "      <td>fffb9e79-b927-4dbb-9b48-7fd09b23a62b</td>\n",
       "      <td>16317</td>\n",
       "      <td>0 days 00:02:50.690941</td>\n",
       "    </tr>\n",
       "    <tr>\n",
       "      <th>11384</th>\n",
       "      <td>2019-10-12 01:07:53.959366</td>\n",
       "      <td>map</td>\n",
       "      <td>fffb9e79-b927-4dbb-9b48-7fd09b23a62b</td>\n",
       "      <td>16317</td>\n",
       "      <td>0 days 00:01:45.075992</td>\n",
       "    </tr>\n",
       "    <tr>\n",
       "      <th>11385</th>\n",
       "      <td>2019-10-12 01:08:03.825098</td>\n",
       "      <td>tips_show</td>\n",
       "      <td>fffb9e79-b927-4dbb-9b48-7fd09b23a62b</td>\n",
       "      <td>16317</td>\n",
       "      <td>0 days 00:05:57.907389</td>\n",
       "    </tr>\n",
       "    <tr>\n",
       "      <th>11387</th>\n",
       "      <td>2019-10-12 01:08:49.357548</td>\n",
       "      <td>map</td>\n",
       "      <td>fffb9e79-b927-4dbb-9b48-7fd09b23a62b</td>\n",
       "      <td>16317</td>\n",
       "      <td>0 days 00:03:45.934813</td>\n",
       "    </tr>\n",
       "    <tr>\n",
       "      <th>11391</th>\n",
       "      <td>2019-10-12 01:10:55.363877</td>\n",
       "      <td>tips_show</td>\n",
       "      <td>fffb9e79-b927-4dbb-9b48-7fd09b23a62b</td>\n",
       "      <td>16317</td>\n",
       "      <td>0 days 00:07:17.701032</td>\n",
       "    </tr>\n",
       "  </tbody>\n",
       "</table>\n",
       "<p>9614 rows × 5 columns</p>\n",
       "</div>"
      ],
      "text/plain": [
       "                      event_time event_name  \\\n",
       "805   2019-10-07 13:39:45.989359  tips_show   \n",
       "806   2019-10-07 13:40:31.052909  tips_show   \n",
       "820   2019-10-07 13:43:20.735461  tips_show   \n",
       "830   2019-10-07 13:45:30.917502  tips_show   \n",
       "839   2019-10-07 13:49:41.716617  tips_show   \n",
       "...                          ...        ...   \n",
       "11383 2019-10-12 01:07:11.782372  tips_show   \n",
       "11384 2019-10-12 01:07:53.959366        map   \n",
       "11385 2019-10-12 01:08:03.825098  tips_show   \n",
       "11387 2019-10-12 01:08:49.357548        map   \n",
       "11391 2019-10-12 01:10:55.363877  tips_show   \n",
       "\n",
       "                                     userId  session_id               duration  \n",
       "805    0001b1d5-b74a-4cbf-aeb0-7df5947bf349           1 0 days 00:01:18.837507  \n",
       "806    0001b1d5-b74a-4cbf-aeb0-7df5947bf349           1 0 days 00:06:53.148759  \n",
       "820    0001b1d5-b74a-4cbf-aeb0-7df5947bf349           1 0 days 00:01:28.750679  \n",
       "830    0001b1d5-b74a-4cbf-aeb0-7df5947bf349           1 0 days 00:01:31.768081  \n",
       "839    0001b1d5-b74a-4cbf-aeb0-7df5947bf349           1 0 days 00:00:43.111827  \n",
       "...                                     ...         ...                    ...  \n",
       "11383  fffb9e79-b927-4dbb-9b48-7fd09b23a62b       16317 0 days 00:02:50.690941  \n",
       "11384  fffb9e79-b927-4dbb-9b48-7fd09b23a62b       16317 0 days 00:01:45.075992  \n",
       "11385  fffb9e79-b927-4dbb-9b48-7fd09b23a62b       16317 0 days 00:05:57.907389  \n",
       "11387  fffb9e79-b927-4dbb-9b48-7fd09b23a62b       16317 0 days 00:03:45.934813  \n",
       "11391  fffb9e79-b927-4dbb-9b48-7fd09b23a62b       16317 0 days 00:07:17.701032  \n",
       "\n",
       "[9614 rows x 5 columns]"
      ]
     },
     "execution_count": 96,
     "metadata": {},
     "output_type": "execute_result"
    }
   ],
   "source": [
    "new_data = mobile_dataset.query('duration >=\"0 days 00:00:30\" and duration <=\"0 days 00:30:00\"')\n",
    "new_data #убрали выбросы "
   ]
  },
  {
   "cell_type": "code",
   "execution_count": 97,
   "metadata": {},
   "outputs": [
    {
     "name": "stdout",
     "output_type": "stream",
     "text": [
      "Средняя частота совершения событий в сессии составляет: 3.59\n"
     ]
    }
   ],
   "source": [
    "data = new_data.groupby('session_id')['event_name'].agg('count')\n",
    "print ('Средняя частота совершения событий в сессии составляет:' , data.mean().round (2))"
   ]
  },
  {
   "cell_type": "markdown",
   "metadata": {},
   "source": [
    "3.4 Рассчитать конверсию в целевое действие (show_contacts)"
   ]
  },
  {
   "cell_type": "code",
   "execution_count": 98,
   "metadata": {
    "scrolled": true
   },
   "outputs": [
    {
     "name": "stdout",
     "output_type": "stream",
     "text": [
      "Конверсия в целевое действие составляет: 15.931593159315932 %\n"
     ]
    }
   ],
   "source": [
    "conversion = new_data.query('event_name == \"contacts_show\"')['userId'].nunique()/new_data.userId.nunique()\n",
    "print('Конверсия в целевое действие составляет:', conversion * 100, '%')"
   ]
  },
  {
   "cell_type": "markdown",
   "metadata": {},
   "source": [
    "***ВЫВОД:Конверсия в целевое действие составила порядка 15,9 %, что говорит о высоком уровне конверсии.***"
   ]
  },
  {
   "cell_type": "code",
   "execution_count": 99,
   "metadata": {},
   "outputs": [
    {
     "name": "stderr",
     "output_type": "stream",
     "text": [
      "/tmp/ipykernel_125/2223867318.py:1: SettingWithCopyWarning:\n",
      "\n",
      "\n",
      "A value is trying to be set on a copy of a slice from a DataFrame.\n",
      "Try using .loc[row_indexer,col_indexer] = value instead\n",
      "\n",
      "See the caveats in the documentation: https://pandas.pydata.org/pandas-docs/stable/user_guide/indexing.html#returning-a-view-versus-a-copy\n",
      "\n"
     ]
    },
    {
     "data": {
      "text/html": [
       "<div>\n",
       "<style scoped>\n",
       "    .dataframe tbody tr th:only-of-type {\n",
       "        vertical-align: middle;\n",
       "    }\n",
       "\n",
       "    .dataframe tbody tr th {\n",
       "        vertical-align: top;\n",
       "    }\n",
       "\n",
       "    .dataframe thead th {\n",
       "        text-align: right;\n",
       "    }\n",
       "</style>\n",
       "<table border=\"1\" class=\"dataframe\">\n",
       "  <thead>\n",
       "    <tr style=\"text-align: right;\">\n",
       "      <th></th>\n",
       "      <th>event_time</th>\n",
       "      <th>event_name</th>\n",
       "      <th>userId</th>\n",
       "      <th>session_id</th>\n",
       "      <th>duration</th>\n",
       "      <th>hour</th>\n",
       "    </tr>\n",
       "  </thead>\n",
       "  <tbody>\n",
       "    <tr>\n",
       "      <th>805</th>\n",
       "      <td>2019-10-07 13:39:45.989359</td>\n",
       "      <td>tips_show</td>\n",
       "      <td>0001b1d5-b74a-4cbf-aeb0-7df5947bf349</td>\n",
       "      <td>1</td>\n",
       "      <td>0 days 00:01:18.837507</td>\n",
       "      <td>13</td>\n",
       "    </tr>\n",
       "    <tr>\n",
       "      <th>806</th>\n",
       "      <td>2019-10-07 13:40:31.052909</td>\n",
       "      <td>tips_show</td>\n",
       "      <td>0001b1d5-b74a-4cbf-aeb0-7df5947bf349</td>\n",
       "      <td>1</td>\n",
       "      <td>0 days 00:06:53.148759</td>\n",
       "      <td>13</td>\n",
       "    </tr>\n",
       "    <tr>\n",
       "      <th>820</th>\n",
       "      <td>2019-10-07 13:43:20.735461</td>\n",
       "      <td>tips_show</td>\n",
       "      <td>0001b1d5-b74a-4cbf-aeb0-7df5947bf349</td>\n",
       "      <td>1</td>\n",
       "      <td>0 days 00:01:28.750679</td>\n",
       "      <td>13</td>\n",
       "    </tr>\n",
       "    <tr>\n",
       "      <th>830</th>\n",
       "      <td>2019-10-07 13:45:30.917502</td>\n",
       "      <td>tips_show</td>\n",
       "      <td>0001b1d5-b74a-4cbf-aeb0-7df5947bf349</td>\n",
       "      <td>1</td>\n",
       "      <td>0 days 00:01:31.768081</td>\n",
       "      <td>13</td>\n",
       "    </tr>\n",
       "    <tr>\n",
       "      <th>839</th>\n",
       "      <td>2019-10-07 13:49:41.716617</td>\n",
       "      <td>tips_show</td>\n",
       "      <td>0001b1d5-b74a-4cbf-aeb0-7df5947bf349</td>\n",
       "      <td>1</td>\n",
       "      <td>0 days 00:00:43.111827</td>\n",
       "      <td>13</td>\n",
       "    </tr>\n",
       "    <tr>\n",
       "      <th>...</th>\n",
       "      <td>...</td>\n",
       "      <td>...</td>\n",
       "      <td>...</td>\n",
       "      <td>...</td>\n",
       "      <td>...</td>\n",
       "      <td>...</td>\n",
       "    </tr>\n",
       "    <tr>\n",
       "      <th>11383</th>\n",
       "      <td>2019-10-12 01:07:11.782372</td>\n",
       "      <td>tips_show</td>\n",
       "      <td>fffb9e79-b927-4dbb-9b48-7fd09b23a62b</td>\n",
       "      <td>16317</td>\n",
       "      <td>0 days 00:02:50.690941</td>\n",
       "      <td>1</td>\n",
       "    </tr>\n",
       "    <tr>\n",
       "      <th>11384</th>\n",
       "      <td>2019-10-12 01:07:53.959366</td>\n",
       "      <td>map</td>\n",
       "      <td>fffb9e79-b927-4dbb-9b48-7fd09b23a62b</td>\n",
       "      <td>16317</td>\n",
       "      <td>0 days 00:01:45.075992</td>\n",
       "      <td>1</td>\n",
       "    </tr>\n",
       "    <tr>\n",
       "      <th>11385</th>\n",
       "      <td>2019-10-12 01:08:03.825098</td>\n",
       "      <td>tips_show</td>\n",
       "      <td>fffb9e79-b927-4dbb-9b48-7fd09b23a62b</td>\n",
       "      <td>16317</td>\n",
       "      <td>0 days 00:05:57.907389</td>\n",
       "      <td>1</td>\n",
       "    </tr>\n",
       "    <tr>\n",
       "      <th>11387</th>\n",
       "      <td>2019-10-12 01:08:49.357548</td>\n",
       "      <td>map</td>\n",
       "      <td>fffb9e79-b927-4dbb-9b48-7fd09b23a62b</td>\n",
       "      <td>16317</td>\n",
       "      <td>0 days 00:03:45.934813</td>\n",
       "      <td>1</td>\n",
       "    </tr>\n",
       "    <tr>\n",
       "      <th>11391</th>\n",
       "      <td>2019-10-12 01:10:55.363877</td>\n",
       "      <td>tips_show</td>\n",
       "      <td>fffb9e79-b927-4dbb-9b48-7fd09b23a62b</td>\n",
       "      <td>16317</td>\n",
       "      <td>0 days 00:07:17.701032</td>\n",
       "      <td>1</td>\n",
       "    </tr>\n",
       "  </tbody>\n",
       "</table>\n",
       "<p>9614 rows × 6 columns</p>\n",
       "</div>"
      ],
      "text/plain": [
       "                      event_time event_name  \\\n",
       "805   2019-10-07 13:39:45.989359  tips_show   \n",
       "806   2019-10-07 13:40:31.052909  tips_show   \n",
       "820   2019-10-07 13:43:20.735461  tips_show   \n",
       "830   2019-10-07 13:45:30.917502  tips_show   \n",
       "839   2019-10-07 13:49:41.716617  tips_show   \n",
       "...                          ...        ...   \n",
       "11383 2019-10-12 01:07:11.782372  tips_show   \n",
       "11384 2019-10-12 01:07:53.959366        map   \n",
       "11385 2019-10-12 01:08:03.825098  tips_show   \n",
       "11387 2019-10-12 01:08:49.357548        map   \n",
       "11391 2019-10-12 01:10:55.363877  tips_show   \n",
       "\n",
       "                                     userId  session_id  \\\n",
       "805    0001b1d5-b74a-4cbf-aeb0-7df5947bf349           1   \n",
       "806    0001b1d5-b74a-4cbf-aeb0-7df5947bf349           1   \n",
       "820    0001b1d5-b74a-4cbf-aeb0-7df5947bf349           1   \n",
       "830    0001b1d5-b74a-4cbf-aeb0-7df5947bf349           1   \n",
       "839    0001b1d5-b74a-4cbf-aeb0-7df5947bf349           1   \n",
       "...                                     ...         ...   \n",
       "11383  fffb9e79-b927-4dbb-9b48-7fd09b23a62b       16317   \n",
       "11384  fffb9e79-b927-4dbb-9b48-7fd09b23a62b       16317   \n",
       "11385  fffb9e79-b927-4dbb-9b48-7fd09b23a62b       16317   \n",
       "11387  fffb9e79-b927-4dbb-9b48-7fd09b23a62b       16317   \n",
       "11391  fffb9e79-b927-4dbb-9b48-7fd09b23a62b       16317   \n",
       "\n",
       "                    duration  hour  \n",
       "805   0 days 00:01:18.837507    13  \n",
       "806   0 days 00:06:53.148759    13  \n",
       "820   0 days 00:01:28.750679    13  \n",
       "830   0 days 00:01:31.768081    13  \n",
       "839   0 days 00:00:43.111827    13  \n",
       "...                      ...   ...  \n",
       "11383 0 days 00:02:50.690941     1  \n",
       "11384 0 days 00:01:45.075992     1  \n",
       "11385 0 days 00:05:57.907389     1  \n",
       "11387 0 days 00:03:45.934813     1  \n",
       "11391 0 days 00:07:17.701032     1  \n",
       "\n",
       "[9614 rows x 6 columns]"
      ]
     },
     "execution_count": 99,
     "metadata": {},
     "output_type": "execute_result"
    }
   ],
   "source": [
    "new_data['hour'] = pd.DatetimeIndex(new_data['event_time']).hour\n",
    "new_data"
   ]
  },
  {
   "cell_type": "code",
   "execution_count": 100,
   "metadata": {},
   "outputs": [
    {
     "data": {
      "text/html": [
       "<div>\n",
       "<style scoped>\n",
       "    .dataframe tbody tr th:only-of-type {\n",
       "        vertical-align: middle;\n",
       "    }\n",
       "\n",
       "    .dataframe tbody tr th {\n",
       "        vertical-align: top;\n",
       "    }\n",
       "\n",
       "    .dataframe thead th {\n",
       "        text-align: right;\n",
       "    }\n",
       "</style>\n",
       "<table border=\"1\" class=\"dataframe\">\n",
       "  <thead>\n",
       "    <tr style=\"text-align: right;\">\n",
       "      <th></th>\n",
       "      <th>hour</th>\n",
       "      <th>session_id</th>\n",
       "    </tr>\n",
       "  </thead>\n",
       "  <tbody>\n",
       "    <tr>\n",
       "      <th>0</th>\n",
       "      <td>0</td>\n",
       "      <td>70</td>\n",
       "    </tr>\n",
       "    <tr>\n",
       "      <th>1</th>\n",
       "      <td>1</td>\n",
       "      <td>29</td>\n",
       "    </tr>\n",
       "    <tr>\n",
       "      <th>2</th>\n",
       "      <td>2</td>\n",
       "      <td>20</td>\n",
       "    </tr>\n",
       "    <tr>\n",
       "      <th>3</th>\n",
       "      <td>3</td>\n",
       "      <td>17</td>\n",
       "    </tr>\n",
       "    <tr>\n",
       "      <th>4</th>\n",
       "      <td>4</td>\n",
       "      <td>9</td>\n",
       "    </tr>\n",
       "    <tr>\n",
       "      <th>5</th>\n",
       "      <td>5</td>\n",
       "      <td>4</td>\n",
       "    </tr>\n",
       "    <tr>\n",
       "      <th>6</th>\n",
       "      <td>6</td>\n",
       "      <td>18</td>\n",
       "    </tr>\n",
       "    <tr>\n",
       "      <th>7</th>\n",
       "      <td>7</td>\n",
       "      <td>20</td>\n",
       "    </tr>\n",
       "    <tr>\n",
       "      <th>8</th>\n",
       "      <td>8</td>\n",
       "      <td>66</td>\n",
       "    </tr>\n",
       "    <tr>\n",
       "      <th>9</th>\n",
       "      <td>9</td>\n",
       "      <td>133</td>\n",
       "    </tr>\n",
       "    <tr>\n",
       "      <th>10</th>\n",
       "      <td>10</td>\n",
       "      <td>182</td>\n",
       "    </tr>\n",
       "    <tr>\n",
       "      <th>11</th>\n",
       "      <td>11</td>\n",
       "      <td>163</td>\n",
       "    </tr>\n",
       "    <tr>\n",
       "      <th>12</th>\n",
       "      <td>12</td>\n",
       "      <td>188</td>\n",
       "    </tr>\n",
       "    <tr>\n",
       "      <th>13</th>\n",
       "      <td>13</td>\n",
       "      <td>221</td>\n",
       "    </tr>\n",
       "    <tr>\n",
       "      <th>14</th>\n",
       "      <td>14</td>\n",
       "      <td>194</td>\n",
       "    </tr>\n",
       "    <tr>\n",
       "      <th>15</th>\n",
       "      <td>15</td>\n",
       "      <td>207</td>\n",
       "    </tr>\n",
       "    <tr>\n",
       "      <th>16</th>\n",
       "      <td>16</td>\n",
       "      <td>204</td>\n",
       "    </tr>\n",
       "    <tr>\n",
       "      <th>17</th>\n",
       "      <td>17</td>\n",
       "      <td>170</td>\n",
       "    </tr>\n",
       "    <tr>\n",
       "      <th>18</th>\n",
       "      <td>18</td>\n",
       "      <td>157</td>\n",
       "    </tr>\n",
       "    <tr>\n",
       "      <th>19</th>\n",
       "      <td>19</td>\n",
       "      <td>177</td>\n",
       "    </tr>\n",
       "    <tr>\n",
       "      <th>20</th>\n",
       "      <td>20</td>\n",
       "      <td>197</td>\n",
       "    </tr>\n",
       "    <tr>\n",
       "      <th>21</th>\n",
       "      <td>21</td>\n",
       "      <td>171</td>\n",
       "    </tr>\n",
       "    <tr>\n",
       "      <th>22</th>\n",
       "      <td>22</td>\n",
       "      <td>134</td>\n",
       "    </tr>\n",
       "    <tr>\n",
       "      <th>23</th>\n",
       "      <td>23</td>\n",
       "      <td>118</td>\n",
       "    </tr>\n",
       "  </tbody>\n",
       "</table>\n",
       "</div>"
      ],
      "text/plain": [
       "    hour  session_id\n",
       "0      0          70\n",
       "1      1          29\n",
       "2      2          20\n",
       "3      3          17\n",
       "4      4           9\n",
       "5      5           4\n",
       "6      6          18\n",
       "7      7          20\n",
       "8      8          66\n",
       "9      9         133\n",
       "10    10         182\n",
       "11    11         163\n",
       "12    12         188\n",
       "13    13         221\n",
       "14    14         194\n",
       "15    15         207\n",
       "16    16         204\n",
       "17    17         170\n",
       "18    18         157\n",
       "19    19         177\n",
       "20    20         197\n",
       "21    21         171\n",
       "22    22         134\n",
       "23    23         118"
      ]
     },
     "execution_count": 100,
     "metadata": {},
     "output_type": "execute_result"
    }
   ],
   "source": [
    "viz = new_data.groupby('hour')['session_id'].agg('nunique').to_frame().reset_index()\n",
    "viz"
   ]
  },
  {
   "cell_type": "code",
   "execution_count": 101,
   "metadata": {},
   "outputs": [
    {
     "data": {
      "image/png": "[encoded data removed]",
      "text/plain": [
       "<Figure size 1152x576 with 1 Axes>"
      ]
     },
     "metadata": {
      "needs_background": "light"
     },
     "output_type": "display_data"
    }
   ],
   "source": [
    "plt.figure(figsize=(16,8)) #построим столбчатую диаграмму\n",
    "\n",
    "ax = sns.barplot(x='hour', \n",
    "           y='session_id', \n",
    "           data=viz)\n",
    "\n",
    "\n",
    "plt.xlabel('Время', size=15)\n",
    "plt.ylabel('Количество сессий', size=15)\n",
    "plt.title('Разбивка по количеству сессий в сутки', size=18)\n",
    "plt.tight_layout()"
   ]
  },
  {
   "cell_type": "markdown",
   "metadata": {},
   "source": [
    "***ВЫВОД:  Наибольшее количество сессий наблюдается в период с 10, 13 и 20-22, смею предположить, что именно в это время (дорога на рабту, обед и дорога домой) по этой причине наблюдается повышенная активность сессий, наименьшая активность ночью (время сна), рост количества сессий наблюдается с 8 утра время пробуждения.***"
   ]
  },
  {
   "cell_type": "markdown",
   "metadata": {},
   "source": [
    " ***ВЫВОД:***\n",
    "\n",
    "Наибольший и длительный % возврата демонстрируют пользователи привлеченные 2019-10-12 и 2019-10-17. Также стоит отметить, что на 7 лайфтайм % RR у пользователей привлеченых 2019-10-21 и 2019-10-12 самый высокий. % возврата пользователей начинает снижаться с 8 лайфтайма.\n",
    "\n",
    "Среднее время сессии (за сессию было принято взять продолжительность 5 минут) составило 6 минут 18 секунд, в ходе исследования было установлено, что большая часть нулевых сессий относится к типу события tips_show (показать подсказку), что не всегда является актуальным для пользователя. Из исследования были исключены сессии менее 30 секунд и очень длительные сессии более 30 минут.\n",
    "\n",
    "Конверсия в целевое действие (contacts_show просмотр контактов) составила порядка 15,9 %, что говорит о высоком уровне конверсии пользователей.\n",
    "\n",
    "Наибольшее количество сессий наблюдается в период с 10, 13 и 19-20, смею предположить, что именно в это время (дорога на работу, обед и дорога домой) по этой причине наблюдается повышенная активность сессий, наименьшая активность ночью (время сна), рост количества сессий наблюдается с 7-8 утра время пробуждения."
   ]
  },
  {
   "cell_type": "markdown",
   "metadata": {},
   "source": [
    "***4. СЕГМЕНТАЦИЯ ПОЛЬЗОВАТЕЛЕЙ НА ОСНОВЕ ДЕЙСТВИЙ (на выбор по одному признаку)***"
   ]
  },
  {
   "cell_type": "markdown",
   "metadata": {},
   "source": [
    "4.1 Пользователи какой группы склонны часто возвращаться в мобильное приложение? Рассчитать Retention rate."
   ]
  },
  {
   "cell_type": "markdown",
   "metadata": {},
   "source": [
    "***РАССМОТРИМ ПОЛЬЗОВАТЕЛЕЙ В РАЗРЕЗЕ ИСТОЧНИКА ПРИВЛЕЧЕНИЯ YANDEX/GOOGLE/OTHER***"
   ]
  },
  {
   "cell_type": "markdown",
   "metadata": {},
   "source": [
    "Было принято решение рассмотрения пользователей в разрезе групп привлечения (источник) для дальнейшей аналитики рекламной кампании (откуда приходят более качественные пользователи), усовершенствования источника привлечения или отказа от какого-то источника в пользу наиболее качественного."
   ]
  },
  {
   "cell_type": "code",
   "execution_count": 102,
   "metadata": {
    "scrolled": true
   },
   "outputs": [
    {
     "data": {
      "text/html": [
       "<div>\n",
       "<style scoped>\n",
       "    .dataframe tbody tr th:only-of-type {\n",
       "        vertical-align: middle;\n",
       "    }\n",
       "\n",
       "    .dataframe tbody tr th {\n",
       "        vertical-align: top;\n",
       "    }\n",
       "\n",
       "    .dataframe thead th {\n",
       "        text-align: right;\n",
       "    }\n",
       "</style>\n",
       "<table border=\"1\" class=\"dataframe\">\n",
       "  <thead>\n",
       "    <tr style=\"text-align: right;\">\n",
       "      <th></th>\n",
       "      <th>event_time</th>\n",
       "      <th>event_name</th>\n",
       "      <th>userId</th>\n",
       "      <th>session_id</th>\n",
       "      <th>duration</th>\n",
       "      <th>hour</th>\n",
       "      <th>source</th>\n",
       "    </tr>\n",
       "  </thead>\n",
       "  <tbody>\n",
       "    <tr>\n",
       "      <th>0</th>\n",
       "      <td>2019-10-07 13:39:45.989359</td>\n",
       "      <td>tips_show</td>\n",
       "      <td>0001b1d5-b74a-4cbf-aeb0-7df5947bf349</td>\n",
       "      <td>1</td>\n",
       "      <td>0 days 00:01:18.837507</td>\n",
       "      <td>13</td>\n",
       "      <td>other</td>\n",
       "    </tr>\n",
       "    <tr>\n",
       "      <th>1</th>\n",
       "      <td>2019-10-07 13:40:31.052909</td>\n",
       "      <td>tips_show</td>\n",
       "      <td>0001b1d5-b74a-4cbf-aeb0-7df5947bf349</td>\n",
       "      <td>1</td>\n",
       "      <td>0 days 00:06:53.148759</td>\n",
       "      <td>13</td>\n",
       "      <td>other</td>\n",
       "    </tr>\n",
       "    <tr>\n",
       "      <th>2</th>\n",
       "      <td>2019-10-07 13:43:20.735461</td>\n",
       "      <td>tips_show</td>\n",
       "      <td>0001b1d5-b74a-4cbf-aeb0-7df5947bf349</td>\n",
       "      <td>1</td>\n",
       "      <td>0 days 00:01:28.750679</td>\n",
       "      <td>13</td>\n",
       "      <td>other</td>\n",
       "    </tr>\n",
       "    <tr>\n",
       "      <th>3</th>\n",
       "      <td>2019-10-07 13:45:30.917502</td>\n",
       "      <td>tips_show</td>\n",
       "      <td>0001b1d5-b74a-4cbf-aeb0-7df5947bf349</td>\n",
       "      <td>1</td>\n",
       "      <td>0 days 00:01:31.768081</td>\n",
       "      <td>13</td>\n",
       "      <td>other</td>\n",
       "    </tr>\n",
       "    <tr>\n",
       "      <th>4</th>\n",
       "      <td>2019-10-07 13:49:41.716617</td>\n",
       "      <td>tips_show</td>\n",
       "      <td>0001b1d5-b74a-4cbf-aeb0-7df5947bf349</td>\n",
       "      <td>1</td>\n",
       "      <td>0 days 00:00:43.111827</td>\n",
       "      <td>13</td>\n",
       "      <td>other</td>\n",
       "    </tr>\n",
       "    <tr>\n",
       "      <th>...</th>\n",
       "      <td>...</td>\n",
       "      <td>...</td>\n",
       "      <td>...</td>\n",
       "      <td>...</td>\n",
       "      <td>...</td>\n",
       "      <td>...</td>\n",
       "      <td>...</td>\n",
       "    </tr>\n",
       "    <tr>\n",
       "      <th>9609</th>\n",
       "      <td>2019-10-12 01:07:11.782372</td>\n",
       "      <td>tips_show</td>\n",
       "      <td>fffb9e79-b927-4dbb-9b48-7fd09b23a62b</td>\n",
       "      <td>16317</td>\n",
       "      <td>0 days 00:02:50.690941</td>\n",
       "      <td>1</td>\n",
       "      <td>google</td>\n",
       "    </tr>\n",
       "    <tr>\n",
       "      <th>9610</th>\n",
       "      <td>2019-10-12 01:07:53.959366</td>\n",
       "      <td>map</td>\n",
       "      <td>fffb9e79-b927-4dbb-9b48-7fd09b23a62b</td>\n",
       "      <td>16317</td>\n",
       "      <td>0 days 00:01:45.075992</td>\n",
       "      <td>1</td>\n",
       "      <td>google</td>\n",
       "    </tr>\n",
       "    <tr>\n",
       "      <th>9611</th>\n",
       "      <td>2019-10-12 01:08:03.825098</td>\n",
       "      <td>tips_show</td>\n",
       "      <td>fffb9e79-b927-4dbb-9b48-7fd09b23a62b</td>\n",
       "      <td>16317</td>\n",
       "      <td>0 days 00:05:57.907389</td>\n",
       "      <td>1</td>\n",
       "      <td>google</td>\n",
       "    </tr>\n",
       "    <tr>\n",
       "      <th>9612</th>\n",
       "      <td>2019-10-12 01:08:49.357548</td>\n",
       "      <td>map</td>\n",
       "      <td>fffb9e79-b927-4dbb-9b48-7fd09b23a62b</td>\n",
       "      <td>16317</td>\n",
       "      <td>0 days 00:03:45.934813</td>\n",
       "      <td>1</td>\n",
       "      <td>google</td>\n",
       "    </tr>\n",
       "    <tr>\n",
       "      <th>9613</th>\n",
       "      <td>2019-10-12 01:10:55.363877</td>\n",
       "      <td>tips_show</td>\n",
       "      <td>fffb9e79-b927-4dbb-9b48-7fd09b23a62b</td>\n",
       "      <td>16317</td>\n",
       "      <td>0 days 00:07:17.701032</td>\n",
       "      <td>1</td>\n",
       "      <td>google</td>\n",
       "    </tr>\n",
       "  </tbody>\n",
       "</table>\n",
       "<p>9614 rows × 7 columns</p>\n",
       "</div>"
      ],
      "text/plain": [
       "                     event_time event_name  \\\n",
       "0    2019-10-07 13:39:45.989359  tips_show   \n",
       "1    2019-10-07 13:40:31.052909  tips_show   \n",
       "2    2019-10-07 13:43:20.735461  tips_show   \n",
       "3    2019-10-07 13:45:30.917502  tips_show   \n",
       "4    2019-10-07 13:49:41.716617  tips_show   \n",
       "...                         ...        ...   \n",
       "9609 2019-10-12 01:07:11.782372  tips_show   \n",
       "9610 2019-10-12 01:07:53.959366        map   \n",
       "9611 2019-10-12 01:08:03.825098  tips_show   \n",
       "9612 2019-10-12 01:08:49.357548        map   \n",
       "9613 2019-10-12 01:10:55.363877  tips_show   \n",
       "\n",
       "                                    userId  session_id               duration  \\\n",
       "0     0001b1d5-b74a-4cbf-aeb0-7df5947bf349           1 0 days 00:01:18.837507   \n",
       "1     0001b1d5-b74a-4cbf-aeb0-7df5947bf349           1 0 days 00:06:53.148759   \n",
       "2     0001b1d5-b74a-4cbf-aeb0-7df5947bf349           1 0 days 00:01:28.750679   \n",
       "3     0001b1d5-b74a-4cbf-aeb0-7df5947bf349           1 0 days 00:01:31.768081   \n",
       "4     0001b1d5-b74a-4cbf-aeb0-7df5947bf349           1 0 days 00:00:43.111827   \n",
       "...                                    ...         ...                    ...   \n",
       "9609  fffb9e79-b927-4dbb-9b48-7fd09b23a62b       16317 0 days 00:02:50.690941   \n",
       "9610  fffb9e79-b927-4dbb-9b48-7fd09b23a62b       16317 0 days 00:01:45.075992   \n",
       "9611  fffb9e79-b927-4dbb-9b48-7fd09b23a62b       16317 0 days 00:05:57.907389   \n",
       "9612  fffb9e79-b927-4dbb-9b48-7fd09b23a62b       16317 0 days 00:03:45.934813   \n",
       "9613  fffb9e79-b927-4dbb-9b48-7fd09b23a62b       16317 0 days 00:07:17.701032   \n",
       "\n",
       "      hour  source  \n",
       "0       13   other  \n",
       "1       13   other  \n",
       "2       13   other  \n",
       "3       13   other  \n",
       "4       13   other  \n",
       "...    ...     ...  \n",
       "9609     1  google  \n",
       "9610     1  google  \n",
       "9611     1  google  \n",
       "9612     1  google  \n",
       "9613     1  google  \n",
       "\n",
       "[9614 rows x 7 columns]"
      ]
     },
     "execution_count": 102,
     "metadata": {},
     "output_type": "execute_result"
    }
   ],
   "source": [
    "source_user = new_data.merge(mobile_sourсes, on = 'userId', how = 'left')\n",
    "source_user # объединим два датасета с источником привлечения "
   ]
  },
  {
   "cell_type": "code",
   "execution_count": 103,
   "metadata": {},
   "outputs": [
    {
     "data": {
      "text/html": [
       "<div>\n",
       "<style scoped>\n",
       "    .dataframe tbody tr th:only-of-type {\n",
       "        vertical-align: middle;\n",
       "    }\n",
       "\n",
       "    .dataframe tbody tr th {\n",
       "        vertical-align: top;\n",
       "    }\n",
       "\n",
       "    .dataframe thead th {\n",
       "        text-align: right;\n",
       "    }\n",
       "</style>\n",
       "<table border=\"1\" class=\"dataframe\">\n",
       "  <thead>\n",
       "    <tr style=\"text-align: right;\">\n",
       "      <th></th>\n",
       "      <th>source</th>\n",
       "      <th>userId</th>\n",
       "    </tr>\n",
       "  </thead>\n",
       "  <tbody>\n",
       "    <tr>\n",
       "      <th>0</th>\n",
       "      <td>google</td>\n",
       "      <td>280</td>\n",
       "    </tr>\n",
       "    <tr>\n",
       "      <th>1</th>\n",
       "      <td>other</td>\n",
       "      <td>300</td>\n",
       "    </tr>\n",
       "    <tr>\n",
       "      <th>2</th>\n",
       "      <td>yandex</td>\n",
       "      <td>531</td>\n",
       "    </tr>\n",
       "  </tbody>\n",
       "</table>\n",
       "</div>"
      ],
      "text/plain": [
       "   source  userId\n",
       "0  google     280\n",
       "1   other     300\n",
       "2  yandex     531"
      ]
     },
     "execution_count": 103,
     "metadata": {},
     "output_type": "execute_result"
    }
   ],
   "source": [
    "pie = source_user.groupby('source')['userId'].agg('nunique').to_frame().reset_index()\n",
    "pie"
   ]
  },
  {
   "cell_type": "code",
   "execution_count": 104,
   "metadata": {},
   "outputs": [
    {
     "data": {
      "application/vnd.plotly.v1+json": {
       "config": {
        "plotlyServerURL": "https://plot.ly"
       },
       "data": [
        {
         "labels": [
          "google",
          "other",
          "yandex"
         ],
         "type": "pie",
         "values": [
          461,
          493,
          794
         ]
        }
       ],
       "layout": {
        "template": {
         "data": {
          "bar": [
           {
            "error_x": {
             "color": "#2a3f5f"
            },
            "error_y": {
             "color": "#2a3f5f"
            },
            "marker": {
             "line": {
              "color": "#E5ECF6",
              "width": 0.5
             },
             "pattern": {
              "fillmode": "overlay",
              "size": 10,
              "solidity": 0.2
             }
            },
            "type": "bar"
           }
          ],
          "barpolar": [
           {
            "marker": {
             "line": {
              "color": "#E5ECF6",
              "width": 0.5
             },
             "pattern": {
              "fillmode": "overlay",
              "size": 10,
              "solidity": 0.2
             }
            },
            "type": "barpolar"
           }
          ],
          "carpet": [
           {
            "aaxis": {
             "endlinecolor": "#2a3f5f",
             "gridcolor": "white",
             "linecolor": "white",
             "minorgridcolor": "white",
             "startlinecolor": "#2a3f5f"
            },
            "baxis": {
             "endlinecolor": "#2a3f5f",
             "gridcolor": "white",
             "linecolor": "white",
             "minorgridcolor": "white",
             "startlinecolor": "#2a3f5f"
            },
            "type": "carpet"
           }
          ],
          "choropleth": [
           {
            "colorbar": {
             "outlinewidth": 0,
             "ticks": ""
            },
            "type": "choropleth"
           }
          ],
          "contour": [
           {
            "colorbar": {
             "outlinewidth": 0,
             "ticks": ""
            },
            "colorscale": [
             [
              0,
              "#0d0887"
             ],
             [
              0.1111111111111111,
              "#46039f"
             ],
             [
              0.2222222222222222,
              "#7201a8"
             ],
             [
              0.3333333333333333,
              "#9c179e"
             ],
             [
              0.4444444444444444,
              "#bd3786"
             ],
             [
              0.5555555555555556,
              "#d8576b"
             ],
             [
              0.6666666666666666,
              "#ed7953"
             ],
             [
              0.7777777777777778,
              "#fb9f3a"
             ],
             [
              0.8888888888888888,
              "#fdca26"
             ],
             [
              1,
              "#f0f921"
             ]
            ],
            "type": "contour"
           }
          ],
          "contourcarpet": [
           {
            "colorbar": {
             "outlinewidth": 0,
             "ticks": ""
            },
            "type": "contourcarpet"
           }
          ],
          "heatmap": [
           {
            "colorbar": {
             "outlinewidth": 0,
             "ticks": ""
            },
            "colorscale": [
             [
              0,
              "#0d0887"
             ],
             [
              0.1111111111111111,
              "#46039f"
             ],
             [
              0.2222222222222222,
              "#7201a8"
             ],
             [
              0.3333333333333333,
              "#9c179e"
             ],
             [
              0.4444444444444444,
              "#bd3786"
             ],
             [
              0.5555555555555556,
              "#d8576b"
             ],
             [
              0.6666666666666666,
              "#ed7953"
             ],
             [
              0.7777777777777778,
              "#fb9f3a"
             ],
             [
              0.8888888888888888,
              "#fdca26"
             ],
             [
              1,
              "#f0f921"
             ]
            ],
            "type": "heatmap"
           }
          ],
          "heatmapgl": [
           {
            "colorbar": {
             "outlinewidth": 0,
             "ticks": ""
            },
            "colorscale": [
             [
              0,
              "#0d0887"
             ],
             [
              0.1111111111111111,
              "#46039f"
             ],
             [
              0.2222222222222222,
              "#7201a8"
             ],
             [
              0.3333333333333333,
              "#9c179e"
             ],
             [
              0.4444444444444444,
              "#bd3786"
             ],
             [
              0.5555555555555556,
              "#d8576b"
             ],
             [
              0.6666666666666666,
              "#ed7953"
             ],
             [
              0.7777777777777778,
              "#fb9f3a"
             ],
             [
              0.8888888888888888,
              "#fdca26"
             ],
             [
              1,
              "#f0f921"
             ]
            ],
            "type": "heatmapgl"
           }
          ],
          "histogram": [
           {
            "marker": {
             "pattern": {
              "fillmode": "overlay",
              "size": 10,
              "solidity": 0.2
             }
            },
            "type": "histogram"
           }
          ],
          "histogram2d": [
           {
            "colorbar": {
             "outlinewidth": 0,
             "ticks": ""
            },
            "colorscale": [
             [
              0,
              "#0d0887"
             ],
             [
              0.1111111111111111,
              "#46039f"
             ],
             [
              0.2222222222222222,
              "#7201a8"
             ],
             [
              0.3333333333333333,
              "#9c179e"
             ],
             [
              0.4444444444444444,
              "#bd3786"
             ],
             [
              0.5555555555555556,
              "#d8576b"
             ],
             [
              0.6666666666666666,
              "#ed7953"
             ],
             [
              0.7777777777777778,
              "#fb9f3a"
             ],
             [
              0.8888888888888888,
              "#fdca26"
             ],
             [
              1,
              "#f0f921"
             ]
            ],
            "type": "histogram2d"
           }
          ],
          "histogram2dcontour": [
           {
            "colorbar": {
             "outlinewidth": 0,
             "ticks": ""
            },
            "colorscale": [
             [
              0,
              "#0d0887"
             ],
             [
              0.1111111111111111,
              "#46039f"
             ],
             [
              0.2222222222222222,
              "#7201a8"
             ],
             [
              0.3333333333333333,
              "#9c179e"
             ],
             [
              0.4444444444444444,
              "#bd3786"
             ],
             [
              0.5555555555555556,
              "#d8576b"
             ],
             [
              0.6666666666666666,
              "#ed7953"
             ],
             [
              0.7777777777777778,
              "#fb9f3a"
             ],
             [
              0.8888888888888888,
              "#fdca26"
             ],
             [
              1,
              "#f0f921"
             ]
            ],
            "type": "histogram2dcontour"
           }
          ],
          "mesh3d": [
           {
            "colorbar": {
             "outlinewidth": 0,
             "ticks": ""
            },
            "type": "mesh3d"
           }
          ],
          "parcoords": [
           {
            "line": {
             "colorbar": {
              "outlinewidth": 0,
              "ticks": ""
             }
            },
            "type": "parcoords"
           }
          ],
          "pie": [
           {
            "automargin": true,
            "type": "pie"
           }
          ],
          "scatter": [
           {
            "marker": {
             "colorbar": {
              "outlinewidth": 0,
              "ticks": ""
             }
            },
            "type": "scatter"
           }
          ],
          "scatter3d": [
           {
            "line": {
             "colorbar": {
              "outlinewidth": 0,
              "ticks": ""
             }
            },
            "marker": {
             "colorbar": {
              "outlinewidth": 0,
              "ticks": ""
             }
            },
            "type": "scatter3d"
           }
          ],
          "scattercarpet": [
           {
            "marker": {
             "colorbar": {
              "outlinewidth": 0,
              "ticks": ""
             }
            },
            "type": "scattercarpet"
           }
          ],
          "scattergeo": [
           {
            "marker": {
             "colorbar": {
              "outlinewidth": 0,
              "ticks": ""
             }
            },
            "type": "scattergeo"
           }
          ],
          "scattergl": [
           {
            "marker": {
             "colorbar": {
              "outlinewidth": 0,
              "ticks": ""
             }
            },
            "type": "scattergl"
           }
          ],
          "scattermapbox": [
           {
            "marker": {
             "colorbar": {
              "outlinewidth": 0,
              "ticks": ""
             }
            },
            "type": "scattermapbox"
           }
          ],
          "scatterpolar": [
           {
            "marker": {
             "colorbar": {
              "outlinewidth": 0,
              "ticks": ""
             }
            },
            "type": "scatterpolar"
           }
          ],
          "scatterpolargl": [
           {
            "marker": {
             "colorbar": {
              "outlinewidth": 0,
              "ticks": ""
             }
            },
            "type": "scatterpolargl"
           }
          ],
          "scatterternary": [
           {
            "marker": {
             "colorbar": {
              "outlinewidth": 0,
              "ticks": ""
             }
            },
            "type": "scatterternary"
           }
          ],
          "surface": [
           {
            "colorbar": {
             "outlinewidth": 0,
             "ticks": ""
            },
            "colorscale": [
             [
              0,
              "#0d0887"
             ],
             [
              0.1111111111111111,
              "#46039f"
             ],
             [
              0.2222222222222222,
              "#7201a8"
             ],
             [
              0.3333333333333333,
              "#9c179e"
             ],
             [
              0.4444444444444444,
              "#bd3786"
             ],
             [
              0.5555555555555556,
              "#d8576b"
             ],
             [
              0.6666666666666666,
              "#ed7953"
             ],
             [
              0.7777777777777778,
              "#fb9f3a"
             ],
             [
              0.8888888888888888,
              "#fdca26"
             ],
             [
              1,
              "#f0f921"
             ]
            ],
            "type": "surface"
           }
          ],
          "table": [
           {
            "cells": {
             "fill": {
              "color": "#EBF0F8"
             },
             "line": {
              "color": "white"
             }
            },
            "header": {
             "fill": {
              "color": "#C8D4E3"
             },
             "line": {
              "color": "white"
             }
            },
            "type": "table"
           }
          ]
         },
         "layout": {
          "annotationdefaults": {
           "arrowcolor": "#2a3f5f",
           "arrowhead": 0,
           "arrowwidth": 1
          },
          "autotypenumbers": "strict",
          "coloraxis": {
           "colorbar": {
            "outlinewidth": 0,
            "ticks": ""
           }
          },
          "colorscale": {
           "diverging": [
            [
             0,
             "#8e0152"
            ],
            [
             0.1,
             "#c51b7d"
            ],
            [
             0.2,
             "#de77ae"
            ],
            [
             0.3,
             "#f1b6da"
            ],
            [
             0.4,
             "#fde0ef"
            ],
            [
             0.5,
             "#f7f7f7"
            ],
            [
             0.6,
             "#e6f5d0"
            ],
            [
             0.7,
             "#b8e186"
            ],
            [
             0.8,
             "#7fbc41"
            ],
            [
             0.9,
             "#4d9221"
            ],
            [
             1,
             "#276419"
            ]
           ],
           "sequential": [
            [
             0,
             "#0d0887"
            ],
            [
             0.1111111111111111,
             "#46039f"
            ],
            [
             0.2222222222222222,
             "#7201a8"
            ],
            [
             0.3333333333333333,
             "#9c179e"
            ],
            [
             0.4444444444444444,
             "#bd3786"
            ],
            [
             0.5555555555555556,
             "#d8576b"
            ],
            [
             0.6666666666666666,
             "#ed7953"
            ],
            [
             0.7777777777777778,
             "#fb9f3a"
            ],
            [
             0.8888888888888888,
             "#fdca26"
            ],
            [
             1,
             "#f0f921"
            ]
           ],
           "sequentialminus": [
            [
             0,
             "#0d0887"
            ],
            [
             0.1111111111111111,
             "#46039f"
            ],
            [
             0.2222222222222222,
             "#7201a8"
            ],
            [
             0.3333333333333333,
             "#9c179e"
            ],
            [
             0.4444444444444444,
             "#bd3786"
            ],
            [
             0.5555555555555556,
             "#d8576b"
            ],
            [
             0.6666666666666666,
             "#ed7953"
            ],
            [
             0.7777777777777778,
             "#fb9f3a"
            ],
            [
             0.8888888888888888,
             "#fdca26"
            ],
            [
             1,
             "#f0f921"
            ]
           ]
          },
          "colorway": [
           "#636efa",
           "#EF553B",
           "#00cc96",
           "#ab63fa",
           "#FFA15A",
           "#19d3f3",
           "#FF6692",
           "#B6E880",
           "#FF97FF",
           "#FECB52"
          ],
          "font": {
           "color": "#2a3f5f"
          },
          "geo": {
           "bgcolor": "white",
           "lakecolor": "white",
           "landcolor": "#E5ECF6",
           "showlakes": true,
           "showland": true,
           "subunitcolor": "white"
          },
          "hoverlabel": {
           "align": "left"
          },
          "hovermode": "closest",
          "mapbox": {
           "style": "light"
          },
          "paper_bgcolor": "white",
          "plot_bgcolor": "#E5ECF6",
          "polar": {
           "angularaxis": {
            "gridcolor": "white",
            "linecolor": "white",
            "ticks": ""
           },
           "bgcolor": "#E5ECF6",
           "radialaxis": {
            "gridcolor": "white",
            "linecolor": "white",
            "ticks": ""
           }
          },
          "scene": {
           "xaxis": {
            "backgroundcolor": "#E5ECF6",
            "gridcolor": "white",
            "gridwidth": 2,
            "linecolor": "white",
            "showbackground": true,
            "ticks": "",
            "zerolinecolor": "white"
           },
           "yaxis": {
            "backgroundcolor": "#E5ECF6",
            "gridcolor": "white",
            "gridwidth": 2,
            "linecolor": "white",
            "showbackground": true,
            "ticks": "",
            "zerolinecolor": "white"
           },
           "zaxis": {
            "backgroundcolor": "#E5ECF6",
            "gridcolor": "white",
            "gridwidth": 2,
            "linecolor": "white",
            "showbackground": true,
            "ticks": "",
            "zerolinecolor": "white"
           }
          },
          "shapedefaults": {
           "line": {
            "color": "#2a3f5f"
           }
          },
          "ternary": {
           "aaxis": {
            "gridcolor": "white",
            "linecolor": "white",
            "ticks": ""
           },
           "baxis": {
            "gridcolor": "white",
            "linecolor": "white",
            "ticks": ""
           },
           "bgcolor": "#E5ECF6",
           "caxis": {
            "gridcolor": "white",
            "linecolor": "white",
            "ticks": ""
           }
          },
          "title": {
           "x": 0.05
          },
          "xaxis": {
           "automargin": true,
           "gridcolor": "white",
           "linecolor": "white",
           "ticks": "",
           "title": {
            "standoff": 15
           },
           "zerolinecolor": "white",
           "zerolinewidth": 2
          },
          "yaxis": {
           "automargin": true,
           "gridcolor": "white",
           "linecolor": "white",
           "ticks": "",
           "title": {
            "standoff": 15
           },
           "zerolinecolor": "white",
           "zerolinewidth": 2
          }
         }
        },
        "title": {
         "text": "Распределние пользователей по источникам"
        }
       }
      },
      "text/html": [
       "<div>                            <div id=\"3f17d805-d102-4341-be8e-e79f94801a90\" class=\"plotly-graph-div\" style=\"height:525px; width:100%;\"></div>            <script type=\"text/javascript\">                require([\"plotly\"], function(Plotly) {                    window.PLOTLYENV=window.PLOTLYENV || {};                                    if (document.getElementById(\"3f17d805-d102-4341-be8e-e79f94801a90\")) {                    Plotly.newPlot(                        \"3f17d805-d102-4341-be8e-e79f94801a90\",                        [{\"labels\":[\"google\",\"other\",\"yandex\"],\"values\":[461,493,794],\"type\":\"pie\"}],                        {\"template\":{\"data\":{\"bar\":[{\"error_x\":{\"color\":\"#2a3f5f\"},\"error_y\":{\"color\":\"#2a3f5f\"},\"marker\":{\"line\":{\"color\":\"#E5ECF6\",\"width\":0.5},\"pattern\":{\"fillmode\":\"overlay\",\"size\":10,\"solidity\":0.2}},\"type\":\"bar\"}],\"barpolar\":[{\"marker\":{\"line\":{\"color\":\"#E5ECF6\",\"width\":0.5},\"pattern\":{\"fillmode\":\"overlay\",\"size\":10,\"solidity\":0.2}},\"type\":\"barpolar\"}],\"carpet\":[{\"aaxis\":{\"endlinecolor\":\"#2a3f5f\",\"gridcolor\":\"white\",\"linecolor\":\"white\",\"minorgridcolor\":\"white\",\"startlinecolor\":\"#2a3f5f\"},\"baxis\":{\"endlinecolor\":\"#2a3f5f\",\"gridcolor\":\"white\",\"linecolor\":\"white\",\"minorgridcolor\":\"white\",\"startlinecolor\":\"#2a3f5f\"},\"type\":\"carpet\"}],\"choropleth\":[{\"colorbar\":{\"outlinewidth\":0,\"ticks\":\"\"},\"type\":\"choropleth\"}],\"contour\":[{\"colorbar\":{\"outlinewidth\":0,\"ticks\":\"\"},\"colorscale\":[[0.0,\"#0d0887\"],[0.1111111111111111,\"#46039f\"],[0.2222222222222222,\"#7201a8\"],[0.3333333333333333,\"#9c179e\"],[0.4444444444444444,\"#bd3786\"],[0.5555555555555556,\"#d8576b\"],[0.6666666666666666,\"#ed7953\"],[0.7777777777777778,\"#fb9f3a\"],[0.8888888888888888,\"#fdca26\"],[1.0,\"#f0f921\"]],\"type\":\"contour\"}],\"contourcarpet\":[{\"colorbar\":{\"outlinewidth\":0,\"ticks\":\"\"},\"type\":\"contourcarpet\"}],\"heatmap\":[{\"colorbar\":{\"outlinewidth\":0,\"ticks\":\"\"},\"colorscale\":[[0.0,\"#0d0887\"],[0.1111111111111111,\"#46039f\"],[0.2222222222222222,\"#7201a8\"],[0.3333333333333333,\"#9c179e\"],[0.4444444444444444,\"#bd3786\"],[0.5555555555555556,\"#d8576b\"],[0.6666666666666666,\"#ed7953\"],[0.7777777777777778,\"#fb9f3a\"],[0.8888888888888888,\"#fdca26\"],[1.0,\"#f0f921\"]],\"type\":\"heatmap\"}],\"heatmapgl\":[{\"colorbar\":{\"outlinewidth\":0,\"ticks\":\"\"},\"colorscale\":[[0.0,\"#0d0887\"],[0.1111111111111111,\"#46039f\"],[0.2222222222222222,\"#7201a8\"],[0.3333333333333333,\"#9c179e\"],[0.4444444444444444,\"#bd3786\"],[0.5555555555555556,\"#d8576b\"],[0.6666666666666666,\"#ed7953\"],[0.7777777777777778,\"#fb9f3a\"],[0.8888888888888888,\"#fdca26\"],[1.0,\"#f0f921\"]],\"type\":\"heatmapgl\"}],\"histogram\":[{\"marker\":{\"pattern\":{\"fillmode\":\"overlay\",\"size\":10,\"solidity\":0.2}},\"type\":\"histogram\"}],\"histogram2d\":[{\"colorbar\":{\"outlinewidth\":0,\"ticks\":\"\"},\"colorscale\":[[0.0,\"#0d0887\"],[0.1111111111111111,\"#46039f\"],[0.2222222222222222,\"#7201a8\"],[0.3333333333333333,\"#9c179e\"],[0.4444444444444444,\"#bd3786\"],[0.5555555555555556,\"#d8576b\"],[0.6666666666666666,\"#ed7953\"],[0.7777777777777778,\"#fb9f3a\"],[0.8888888888888888,\"#fdca26\"],[1.0,\"#f0f921\"]],\"type\":\"histogram2d\"}],\"histogram2dcontour\":[{\"colorbar\":{\"outlinewidth\":0,\"ticks\":\"\"},\"colorscale\":[[0.0,\"#0d0887\"],[0.1111111111111111,\"#46039f\"],[0.2222222222222222,\"#7201a8\"],[0.3333333333333333,\"#9c179e\"],[0.4444444444444444,\"#bd3786\"],[0.5555555555555556,\"#d8576b\"],[0.6666666666666666,\"#ed7953\"],[0.7777777777777778,\"#fb9f3a\"],[0.8888888888888888,\"#fdca26\"],[1.0,\"#f0f921\"]],\"type\":\"histogram2dcontour\"}],\"mesh3d\":[{\"colorbar\":{\"outlinewidth\":0,\"ticks\":\"\"},\"type\":\"mesh3d\"}],\"parcoords\":[{\"line\":{\"colorbar\":{\"outlinewidth\":0,\"ticks\":\"\"}},\"type\":\"parcoords\"}],\"pie\":[{\"automargin\":true,\"type\":\"pie\"}],\"scatter\":[{\"marker\":{\"colorbar\":{\"outlinewidth\":0,\"ticks\":\"\"}},\"type\":\"scatter\"}],\"scatter3d\":[{\"line\":{\"colorbar\":{\"outlinewidth\":0,\"ticks\":\"\"}},\"marker\":{\"colorbar\":{\"outlinewidth\":0,\"ticks\":\"\"}},\"type\":\"scatter3d\"}],\"scattercarpet\":[{\"marker\":{\"colorbar\":{\"outlinewidth\":0,\"ticks\":\"\"}},\"type\":\"scattercarpet\"}],\"scattergeo\":[{\"marker\":{\"colorbar\":{\"outlinewidth\":0,\"ticks\":\"\"}},\"type\":\"scattergeo\"}],\"scattergl\":[{\"marker\":{\"colorbar\":{\"outlinewidth\":0,\"ticks\":\"\"}},\"type\":\"scattergl\"}],\"scattermapbox\":[{\"marker\":{\"colorbar\":{\"outlinewidth\":0,\"ticks\":\"\"}},\"type\":\"scattermapbox\"}],\"scatterpolar\":[{\"marker\":{\"colorbar\":{\"outlinewidth\":0,\"ticks\":\"\"}},\"type\":\"scatterpolar\"}],\"scatterpolargl\":[{\"marker\":{\"colorbar\":{\"outlinewidth\":0,\"ticks\":\"\"}},\"type\":\"scatterpolargl\"}],\"scatterternary\":[{\"marker\":{\"colorbar\":{\"outlinewidth\":0,\"ticks\":\"\"}},\"type\":\"scatterternary\"}],\"surface\":[{\"colorbar\":{\"outlinewidth\":0,\"ticks\":\"\"},\"colorscale\":[[0.0,\"#0d0887\"],[0.1111111111111111,\"#46039f\"],[0.2222222222222222,\"#7201a8\"],[0.3333333333333333,\"#9c179e\"],[0.4444444444444444,\"#bd3786\"],[0.5555555555555556,\"#d8576b\"],[0.6666666666666666,\"#ed7953\"],[0.7777777777777778,\"#fb9f3a\"],[0.8888888888888888,\"#fdca26\"],[1.0,\"#f0f921\"]],\"type\":\"surface\"}],\"table\":[{\"cells\":{\"fill\":{\"color\":\"#EBF0F8\"},\"line\":{\"color\":\"white\"}},\"header\":{\"fill\":{\"color\":\"#C8D4E3\"},\"line\":{\"color\":\"white\"}},\"type\":\"table\"}]},\"layout\":{\"annotationdefaults\":{\"arrowcolor\":\"#2a3f5f\",\"arrowhead\":0,\"arrowwidth\":1},\"autotypenumbers\":\"strict\",\"coloraxis\":{\"colorbar\":{\"outlinewidth\":0,\"ticks\":\"\"}},\"colorscale\":{\"diverging\":[[0,\"#8e0152\"],[0.1,\"#c51b7d\"],[0.2,\"#de77ae\"],[0.3,\"#f1b6da\"],[0.4,\"#fde0ef\"],[0.5,\"#f7f7f7\"],[0.6,\"#e6f5d0\"],[0.7,\"#b8e186\"],[0.8,\"#7fbc41\"],[0.9,\"#4d9221\"],[1,\"#276419\"]],\"sequential\":[[0.0,\"#0d0887\"],[0.1111111111111111,\"#46039f\"],[0.2222222222222222,\"#7201a8\"],[0.3333333333333333,\"#9c179e\"],[0.4444444444444444,\"#bd3786\"],[0.5555555555555556,\"#d8576b\"],[0.6666666666666666,\"#ed7953\"],[0.7777777777777778,\"#fb9f3a\"],[0.8888888888888888,\"#fdca26\"],[1.0,\"#f0f921\"]],\"sequentialminus\":[[0.0,\"#0d0887\"],[0.1111111111111111,\"#46039f\"],[0.2222222222222222,\"#7201a8\"],[0.3333333333333333,\"#9c179e\"],[0.4444444444444444,\"#bd3786\"],[0.5555555555555556,\"#d8576b\"],[0.6666666666666666,\"#ed7953\"],[0.7777777777777778,\"#fb9f3a\"],[0.8888888888888888,\"#fdca26\"],[1.0,\"#f0f921\"]]},\"colorway\":[\"#636efa\",\"#EF553B\",\"#00cc96\",\"#ab63fa\",\"#FFA15A\",\"#19d3f3\",\"#FF6692\",\"#B6E880\",\"#FF97FF\",\"#FECB52\"],\"font\":{\"color\":\"#2a3f5f\"},\"geo\":{\"bgcolor\":\"white\",\"lakecolor\":\"white\",\"landcolor\":\"#E5ECF6\",\"showlakes\":true,\"showland\":true,\"subunitcolor\":\"white\"},\"hoverlabel\":{\"align\":\"left\"},\"hovermode\":\"closest\",\"mapbox\":{\"style\":\"light\"},\"paper_bgcolor\":\"white\",\"plot_bgcolor\":\"#E5ECF6\",\"polar\":{\"angularaxis\":{\"gridcolor\":\"white\",\"linecolor\":\"white\",\"ticks\":\"\"},\"bgcolor\":\"#E5ECF6\",\"radialaxis\":{\"gridcolor\":\"white\",\"linecolor\":\"white\",\"ticks\":\"\"}},\"scene\":{\"xaxis\":{\"backgroundcolor\":\"#E5ECF6\",\"gridcolor\":\"white\",\"gridwidth\":2,\"linecolor\":\"white\",\"showbackground\":true,\"ticks\":\"\",\"zerolinecolor\":\"white\"},\"yaxis\":{\"backgroundcolor\":\"#E5ECF6\",\"gridcolor\":\"white\",\"gridwidth\":2,\"linecolor\":\"white\",\"showbackground\":true,\"ticks\":\"\",\"zerolinecolor\":\"white\"},\"zaxis\":{\"backgroundcolor\":\"#E5ECF6\",\"gridcolor\":\"white\",\"gridwidth\":2,\"linecolor\":\"white\",\"showbackground\":true,\"ticks\":\"\",\"zerolinecolor\":\"white\"}},\"shapedefaults\":{\"line\":{\"color\":\"#2a3f5f\"}},\"ternary\":{\"aaxis\":{\"gridcolor\":\"white\",\"linecolor\":\"white\",\"ticks\":\"\"},\"baxis\":{\"gridcolor\":\"white\",\"linecolor\":\"white\",\"ticks\":\"\"},\"bgcolor\":\"#E5ECF6\",\"caxis\":{\"gridcolor\":\"white\",\"linecolor\":\"white\",\"ticks\":\"\"}},\"title\":{\"x\":0.05},\"xaxis\":{\"automargin\":true,\"gridcolor\":\"white\",\"linecolor\":\"white\",\"ticks\":\"\",\"title\":{\"standoff\":15},\"zerolinecolor\":\"white\",\"zerolinewidth\":2},\"yaxis\":{\"automargin\":true,\"gridcolor\":\"white\",\"linecolor\":\"white\",\"ticks\":\"\",\"title\":{\"standoff\":15},\"zerolinecolor\":\"white\",\"zerolinewidth\":2}}},\"title\":{\"text\":\"\\u0420\\u0430\\u0441\\u043f\\u0440\\u0435\\u0434\\u0435\\u043b\\u043d\\u0438\\u0435 \\u043f\\u043e\\u043b\\u044c\\u0437\\u043e\\u0432\\u0430\\u0442\\u0435\\u043b\\u0435\\u0439 \\u043f\\u043e \\u0438\\u0441\\u0442\\u043e\\u0447\\u043d\\u0438\\u043a\\u0430\\u043c\"}},                        {\"responsive\": true}                    ).then(function(){\n",
       "                            \n",
       "var gd = document.getElementById('3f17d805-d102-4341-be8e-e79f94801a90');\n",
       "var x = new MutationObserver(function (mutations, observer) {{\n",
       "        var display = window.getComputedStyle(gd).display;\n",
       "        if (!display || display === 'none') {{\n",
       "            console.log([gd, 'removed!']);\n",
       "            Plotly.purge(gd);\n",
       "            observer.disconnect();\n",
       "        }}\n",
       "}});\n",
       "\n",
       "// Listen for the removal of the full notebook cells\n",
       "var notebookContainer = gd.closest('#notebook-container');\n",
       "if (notebookContainer) {{\n",
       "    x.observe(notebookContainer, {childList: true});\n",
       "}}\n",
       "\n",
       "// Listen for the clearing of the current output cell\n",
       "var outputEl = gd.closest('.output');\n",
       "if (outputEl) {{\n",
       "    x.observe(outputEl, {childList: true});\n",
       "}}\n",
       "\n",
       "                        })                };                });            </script>        </div>"
      ]
     },
     "metadata": {},
     "output_type": "display_data"
    }
   ],
   "source": [
    "source = ['google', 'other','yandex']\n",
    "values = [461,493,794]\n",
    "\n",
    "fig = go.Figure(data=[go.Pie(labels=source, values=values)], layout_title_text='Распределние пользователей по источникам')\n",
    "\n",
    "fig.show() "
   ]
  },
  {
   "cell_type": "markdown",
   "metadata": {},
   "source": [
    "***ВЫВОД: Наибольший процент пользователей установившие приложение из источника Яндекс (почти половина пользователей), из источника Google и other распределение более равномерное по 26% и 28%.***"
   ]
  },
  {
   "cell_type": "code",
   "execution_count": 105,
   "metadata": {},
   "outputs": [
    {
     "data": {
      "text/html": [
       "<div>\n",
       "<style scoped>\n",
       "    .dataframe tbody tr th:only-of-type {\n",
       "        vertical-align: middle;\n",
       "    }\n",
       "\n",
       "    .dataframe tbody tr th {\n",
       "        vertical-align: top;\n",
       "    }\n",
       "\n",
       "    .dataframe thead th {\n",
       "        text-align: right;\n",
       "    }\n",
       "</style>\n",
       "<table border=\"1\" class=\"dataframe\">\n",
       "  <thead>\n",
       "    <tr style=\"text-align: right;\">\n",
       "      <th></th>\n",
       "      <th>event_time</th>\n",
       "      <th>event_name</th>\n",
       "      <th>userId</th>\n",
       "      <th>session_id</th>\n",
       "      <th>duration</th>\n",
       "      <th>hour</th>\n",
       "      <th>source</th>\n",
       "    </tr>\n",
       "  </thead>\n",
       "  <tbody>\n",
       "    <tr>\n",
       "      <th>7</th>\n",
       "      <td>2019-10-11 11:22:54.442841</td>\n",
       "      <td>contacts_show</td>\n",
       "      <td>005fbea5-2678-406f-88a6-fbe9787e2268</td>\n",
       "      <td>44</td>\n",
       "      <td>0 days 00:02:50.674242</td>\n",
       "      <td>11</td>\n",
       "      <td>yandex</td>\n",
       "    </tr>\n",
       "    <tr>\n",
       "      <th>8</th>\n",
       "      <td>2019-10-11 11:23:00.152471</td>\n",
       "      <td>contacts_show</td>\n",
       "      <td>005fbea5-2678-406f-88a6-fbe9787e2268</td>\n",
       "      <td>44</td>\n",
       "      <td>0 days 00:07:14.442770</td>\n",
       "      <td>11</td>\n",
       "      <td>yandex</td>\n",
       "    </tr>\n",
       "    <tr>\n",
       "      <th>9</th>\n",
       "      <td>2019-10-11 11:23:11.379247</td>\n",
       "      <td>contacts_show</td>\n",
       "      <td>005fbea5-2678-406f-88a6-fbe9787e2268</td>\n",
       "      <td>44</td>\n",
       "      <td>0 days 00:05:05.122843</td>\n",
       "      <td>11</td>\n",
       "      <td>yandex</td>\n",
       "    </tr>\n",
       "    <tr>\n",
       "      <th>10</th>\n",
       "      <td>2019-10-11 11:29:10.270892</td>\n",
       "      <td>tips_show</td>\n",
       "      <td>005fbea5-2678-406f-88a6-fbe9787e2268</td>\n",
       "      <td>45</td>\n",
       "      <td>0 days 00:05:55.060398</td>\n",
       "      <td>11</td>\n",
       "      <td>yandex</td>\n",
       "    </tr>\n",
       "    <tr>\n",
       "      <th>11</th>\n",
       "      <td>2019-10-08 21:26:09.242929</td>\n",
       "      <td>photos_show</td>\n",
       "      <td>006a32d4-ee10-40dc-b237-11e0fde81cbc</td>\n",
       "      <td>47</td>\n",
       "      <td>0 days 00:06:45.314315</td>\n",
       "      <td>21</td>\n",
       "      <td>yandex</td>\n",
       "    </tr>\n",
       "    <tr>\n",
       "      <th>...</th>\n",
       "      <td>...</td>\n",
       "      <td>...</td>\n",
       "      <td>...</td>\n",
       "      <td>...</td>\n",
       "      <td>...</td>\n",
       "      <td>...</td>\n",
       "      <td>...</td>\n",
       "    </tr>\n",
       "    <tr>\n",
       "      <th>9599</th>\n",
       "      <td>2019-10-13 16:40:50.453911</td>\n",
       "      <td>tips_show</td>\n",
       "      <td>ffab8d8a-30bb-424a-a3ab-0b63ebbf7b07</td>\n",
       "      <td>16305</td>\n",
       "      <td>0 days 00:04:44.501016</td>\n",
       "      <td>16</td>\n",
       "      <td>yandex</td>\n",
       "    </tr>\n",
       "    <tr>\n",
       "      <th>9600</th>\n",
       "      <td>2019-10-07 20:32:49.997044</td>\n",
       "      <td>photos_show</td>\n",
       "      <td>ffc01466-fdb1-4460-ae94-e800f52eb136</td>\n",
       "      <td>16309</td>\n",
       "      <td>0 days 00:03:53.219300</td>\n",
       "      <td>20</td>\n",
       "      <td>yandex</td>\n",
       "    </tr>\n",
       "    <tr>\n",
       "      <th>9601</th>\n",
       "      <td>2019-10-07 20:32:50.117161</td>\n",
       "      <td>photos_show</td>\n",
       "      <td>ffc01466-fdb1-4460-ae94-e800f52eb136</td>\n",
       "      <td>16309</td>\n",
       "      <td>0 days 00:23:05.501478</td>\n",
       "      <td>20</td>\n",
       "      <td>yandex</td>\n",
       "    </tr>\n",
       "    <tr>\n",
       "      <th>9602</th>\n",
       "      <td>2019-10-07 20:33:03.056037</td>\n",
       "      <td>photos_show</td>\n",
       "      <td>ffc01466-fdb1-4460-ae94-e800f52eb136</td>\n",
       "      <td>16309</td>\n",
       "      <td>0 days 00:13:05.534628</td>\n",
       "      <td>20</td>\n",
       "      <td>yandex</td>\n",
       "    </tr>\n",
       "    <tr>\n",
       "      <th>9603</th>\n",
       "      <td>2019-10-07 20:33:42.135500</td>\n",
       "      <td>contacts_show</td>\n",
       "      <td>ffc01466-fdb1-4460-ae94-e800f52eb136</td>\n",
       "      <td>16309</td>\n",
       "      <td>0 days 00:08:06.999957</td>\n",
       "      <td>20</td>\n",
       "      <td>yandex</td>\n",
       "    </tr>\n",
       "  </tbody>\n",
       "</table>\n",
       "<p>4926 rows × 7 columns</p>\n",
       "</div>"
      ],
      "text/plain": [
       "                     event_time     event_name  \\\n",
       "7    2019-10-11 11:22:54.442841  contacts_show   \n",
       "8    2019-10-11 11:23:00.152471  contacts_show   \n",
       "9    2019-10-11 11:23:11.379247  contacts_show   \n",
       "10   2019-10-11 11:29:10.270892      tips_show   \n",
       "11   2019-10-08 21:26:09.242929    photos_show   \n",
       "...                         ...            ...   \n",
       "9599 2019-10-13 16:40:50.453911      tips_show   \n",
       "9600 2019-10-07 20:32:49.997044    photos_show   \n",
       "9601 2019-10-07 20:32:50.117161    photos_show   \n",
       "9602 2019-10-07 20:33:03.056037    photos_show   \n",
       "9603 2019-10-07 20:33:42.135500  contacts_show   \n",
       "\n",
       "                                    userId  session_id               duration  \\\n",
       "7     005fbea5-2678-406f-88a6-fbe9787e2268          44 0 days 00:02:50.674242   \n",
       "8     005fbea5-2678-406f-88a6-fbe9787e2268          44 0 days 00:07:14.442770   \n",
       "9     005fbea5-2678-406f-88a6-fbe9787e2268          44 0 days 00:05:05.122843   \n",
       "10    005fbea5-2678-406f-88a6-fbe9787e2268          45 0 days 00:05:55.060398   \n",
       "11    006a32d4-ee10-40dc-b237-11e0fde81cbc          47 0 days 00:06:45.314315   \n",
       "...                                    ...         ...                    ...   \n",
       "9599  ffab8d8a-30bb-424a-a3ab-0b63ebbf7b07       16305 0 days 00:04:44.501016   \n",
       "9600  ffc01466-fdb1-4460-ae94-e800f52eb136       16309 0 days 00:03:53.219300   \n",
       "9601  ffc01466-fdb1-4460-ae94-e800f52eb136       16309 0 days 00:23:05.501478   \n",
       "9602  ffc01466-fdb1-4460-ae94-e800f52eb136       16309 0 days 00:13:05.534628   \n",
       "9603  ffc01466-fdb1-4460-ae94-e800f52eb136       16309 0 days 00:08:06.999957   \n",
       "\n",
       "      hour  source  \n",
       "7       11  yandex  \n",
       "8       11  yandex  \n",
       "9       11  yandex  \n",
       "10      11  yandex  \n",
       "11      21  yandex  \n",
       "...    ...     ...  \n",
       "9599    16  yandex  \n",
       "9600    20  yandex  \n",
       "9601    20  yandex  \n",
       "9602    20  yandex  \n",
       "9603    20  yandex  \n",
       "\n",
       "[4926 rows x 7 columns]"
      ]
     },
     "execution_count": 105,
     "metadata": {},
     "output_type": "execute_result"
    }
   ],
   "source": [
    "a = source_user.query('source == \"yandex\"')\n",
    "a #пользователи из источника Яндекс"
   ]
  },
  {
   "cell_type": "code",
   "execution_count": 106,
   "metadata": {
    "scrolled": true
   },
   "outputs": [
    {
     "data": {
      "text/html": [
       "<div>\n",
       "<style scoped>\n",
       "    .dataframe tbody tr th:only-of-type {\n",
       "        vertical-align: middle;\n",
       "    }\n",
       "\n",
       "    .dataframe tbody tr th {\n",
       "        vertical-align: top;\n",
       "    }\n",
       "\n",
       "    .dataframe thead th {\n",
       "        text-align: right;\n",
       "    }\n",
       "</style>\n",
       "<table border=\"1\" class=\"dataframe\">\n",
       "  <thead>\n",
       "    <tr style=\"text-align: right;\">\n",
       "      <th></th>\n",
       "      <th>cohort_size</th>\n",
       "      <th>0.0</th>\n",
       "      <th>1.0</th>\n",
       "      <th>2.0</th>\n",
       "      <th>3.0</th>\n",
       "      <th>4.0</th>\n",
       "      <th>5.0</th>\n",
       "      <th>6.0</th>\n",
       "    </tr>\n",
       "    <tr>\n",
       "      <th>dt</th>\n",
       "      <th></th>\n",
       "      <th></th>\n",
       "      <th></th>\n",
       "      <th></th>\n",
       "      <th></th>\n",
       "      <th></th>\n",
       "      <th></th>\n",
       "      <th></th>\n",
       "    </tr>\n",
       "  </thead>\n",
       "  <tbody>\n",
       "    <tr>\n",
       "      <th>2019-10-07</th>\n",
       "      <td>204</td>\n",
       "      <td>0.426471</td>\n",
       "      <td>0.073529</td>\n",
       "      <td>0.039216</td>\n",
       "      <td>0.068627</td>\n",
       "      <td>0.029412</td>\n",
       "      <td>0.014706</td>\n",
       "      <td>0.014706</td>\n",
       "    </tr>\n",
       "    <tr>\n",
       "      <th>2019-10-08</th>\n",
       "      <td>167</td>\n",
       "      <td>0.419162</td>\n",
       "      <td>0.059880</td>\n",
       "      <td>0.047904</td>\n",
       "      <td>0.017964</td>\n",
       "      <td>0.017964</td>\n",
       "      <td>0.011976</td>\n",
       "      <td>0.000000</td>\n",
       "    </tr>\n",
       "    <tr>\n",
       "      <th>2019-10-09</th>\n",
       "      <td>176</td>\n",
       "      <td>0.437500</td>\n",
       "      <td>0.039773</td>\n",
       "      <td>0.034091</td>\n",
       "      <td>0.017045</td>\n",
       "      <td>0.000000</td>\n",
       "      <td>0.000000</td>\n",
       "      <td>0.000000</td>\n",
       "    </tr>\n",
       "    <tr>\n",
       "      <th>2019-10-10</th>\n",
       "      <td>174</td>\n",
       "      <td>0.448276</td>\n",
       "      <td>0.034483</td>\n",
       "      <td>0.045977</td>\n",
       "      <td>0.040230</td>\n",
       "      <td>0.005747</td>\n",
       "      <td>0.000000</td>\n",
       "      <td>0.000000</td>\n",
       "    </tr>\n",
       "    <tr>\n",
       "      <th>2019-10-11</th>\n",
       "      <td>136</td>\n",
       "      <td>0.463235</td>\n",
       "      <td>0.044118</td>\n",
       "      <td>0.036765</td>\n",
       "      <td>0.000000</td>\n",
       "      <td>0.000000</td>\n",
       "      <td>0.000000</td>\n",
       "      <td>0.000000</td>\n",
       "    </tr>\n",
       "    <tr>\n",
       "      <th>2019-10-12</th>\n",
       "      <td>125</td>\n",
       "      <td>0.464000</td>\n",
       "      <td>0.056000</td>\n",
       "      <td>0.000000</td>\n",
       "      <td>0.000000</td>\n",
       "      <td>0.000000</td>\n",
       "      <td>0.000000</td>\n",
       "      <td>0.000000</td>\n",
       "    </tr>\n",
       "  </tbody>\n",
       "</table>\n",
       "</div>"
      ],
      "text/plain": [
       "            cohort_size       0.0       1.0       2.0       3.0       4.0  \\\n",
       "dt                                                                          \n",
       "2019-10-07          204  0.426471  0.073529  0.039216  0.068627  0.029412   \n",
       "2019-10-08          167  0.419162  0.059880  0.047904  0.017964  0.017964   \n",
       "2019-10-09          176  0.437500  0.039773  0.034091  0.017045  0.000000   \n",
       "2019-10-10          174  0.448276  0.034483  0.045977  0.040230  0.005747   \n",
       "2019-10-11          136  0.463235  0.044118  0.036765  0.000000  0.000000   \n",
       "2019-10-12          125  0.464000  0.056000  0.000000  0.000000  0.000000   \n",
       "\n",
       "                 5.0       6.0  \n",
       "dt                              \n",
       "2019-10-07  0.014706  0.014706  \n",
       "2019-10-08  0.011976  0.000000  \n",
       "2019-10-09  0.000000  0.000000  \n",
       "2019-10-10  0.000000  0.000000  \n",
       "2019-10-11  0.000000  0.000000  \n",
       "2019-10-12  0.000000  0.000000  "
      ]
     },
     "execution_count": 106,
     "metadata": {},
     "output_type": "execute_result"
    }
   ],
   "source": [
    "retention_raw, retention_a = get_retention(\n",
    "    profiles, a, datetime(2019,10,18).date(), 7\n",
    ")\n",
    "\n",
    "retention_a"
   ]
  },
  {
   "cell_type": "code",
   "execution_count": 107,
   "metadata": {},
   "outputs": [
    {
     "data": {
      "image/png": "[encoded data removed]",
      "text/plain": [
       "<Figure size 1440x720 with 2 Axes>"
      ]
     },
     "metadata": {
      "needs_background": "light"
     },
     "output_type": "display_data"
    }
   ],
   "source": [
    "plt.figure(figsize=(20, 10))  # задаём размер графика\n",
    "sns.heatmap(retention_a.drop(columns = [0, 'cohort_size']),  # удаляем размеры когорт\n",
    "    annot=True,  # включаем подписи\n",
    "    fmt='.2%',  # переводим значения в проценты\n",
    ")\n",
    "plt.xlabel('Лайфтайм', size=15)\n",
    "plt.ylabel('Дата привлечения', size=15)\n",
    "plt.title('Тепловая карта удержания yandex', size=15)  # название графика\n",
    "plt.show() "
   ]
  },
  {
   "cell_type": "code",
   "execution_count": 108,
   "metadata": {},
   "outputs": [],
   "source": [
    "b = source_user.query('source == \"google\"')"
   ]
  },
  {
   "cell_type": "code",
   "execution_count": 109,
   "metadata": {},
   "outputs": [
    {
     "data": {
      "text/html": [
       "<div>\n",
       "<style scoped>\n",
       "    .dataframe tbody tr th:only-of-type {\n",
       "        vertical-align: middle;\n",
       "    }\n",
       "\n",
       "    .dataframe tbody tr th {\n",
       "        vertical-align: top;\n",
       "    }\n",
       "\n",
       "    .dataframe thead th {\n",
       "        text-align: right;\n",
       "    }\n",
       "</style>\n",
       "<table border=\"1\" class=\"dataframe\">\n",
       "  <thead>\n",
       "    <tr style=\"text-align: right;\">\n",
       "      <th></th>\n",
       "      <th>cohort_size</th>\n",
       "      <th>0.0</th>\n",
       "      <th>1.0</th>\n",
       "      <th>2.0</th>\n",
       "      <th>3.0</th>\n",
       "      <th>4.0</th>\n",
       "      <th>5.0</th>\n",
       "      <th>6.0</th>\n",
       "    </tr>\n",
       "    <tr>\n",
       "      <th>dt</th>\n",
       "      <th></th>\n",
       "      <th></th>\n",
       "      <th></th>\n",
       "      <th></th>\n",
       "      <th></th>\n",
       "      <th></th>\n",
       "      <th></th>\n",
       "      <th></th>\n",
       "    </tr>\n",
       "  </thead>\n",
       "  <tbody>\n",
       "    <tr>\n",
       "      <th>2019-10-07</th>\n",
       "      <td>204</td>\n",
       "      <td>0.254902</td>\n",
       "      <td>0.019608</td>\n",
       "      <td>0.014706</td>\n",
       "      <td>0.024510</td>\n",
       "      <td>0.009804</td>\n",
       "      <td>0.004902</td>\n",
       "      <td>0.009804</td>\n",
       "    </tr>\n",
       "    <tr>\n",
       "      <th>2019-10-08</th>\n",
       "      <td>167</td>\n",
       "      <td>0.239521</td>\n",
       "      <td>0.053892</td>\n",
       "      <td>0.035928</td>\n",
       "      <td>0.011976</td>\n",
       "      <td>0.005988</td>\n",
       "      <td>0.000000</td>\n",
       "      <td>0.000000</td>\n",
       "    </tr>\n",
       "    <tr>\n",
       "      <th>2019-10-09</th>\n",
       "      <td>176</td>\n",
       "      <td>0.238636</td>\n",
       "      <td>0.005682</td>\n",
       "      <td>0.011364</td>\n",
       "      <td>0.017045</td>\n",
       "      <td>0.011364</td>\n",
       "      <td>0.005682</td>\n",
       "      <td>0.000000</td>\n",
       "    </tr>\n",
       "    <tr>\n",
       "      <th>2019-10-10</th>\n",
       "      <td>174</td>\n",
       "      <td>0.189655</td>\n",
       "      <td>0.017241</td>\n",
       "      <td>0.017241</td>\n",
       "      <td>0.005747</td>\n",
       "      <td>0.000000</td>\n",
       "      <td>0.000000</td>\n",
       "      <td>0.000000</td>\n",
       "    </tr>\n",
       "    <tr>\n",
       "      <th>2019-10-11</th>\n",
       "      <td>136</td>\n",
       "      <td>0.250000</td>\n",
       "      <td>0.007353</td>\n",
       "      <td>0.007353</td>\n",
       "      <td>0.000000</td>\n",
       "      <td>0.000000</td>\n",
       "      <td>0.000000</td>\n",
       "      <td>0.000000</td>\n",
       "    </tr>\n",
       "    <tr>\n",
       "      <th>2019-10-12</th>\n",
       "      <td>125</td>\n",
       "      <td>0.256000</td>\n",
       "      <td>0.000000</td>\n",
       "      <td>0.000000</td>\n",
       "      <td>0.000000</td>\n",
       "      <td>0.000000</td>\n",
       "      <td>0.000000</td>\n",
       "      <td>0.000000</td>\n",
       "    </tr>\n",
       "  </tbody>\n",
       "</table>\n",
       "</div>"
      ],
      "text/plain": [
       "            cohort_size       0.0       1.0       2.0       3.0       4.0  \\\n",
       "dt                                                                          \n",
       "2019-10-07          204  0.254902  0.019608  0.014706  0.024510  0.009804   \n",
       "2019-10-08          167  0.239521  0.053892  0.035928  0.011976  0.005988   \n",
       "2019-10-09          176  0.238636  0.005682  0.011364  0.017045  0.011364   \n",
       "2019-10-10          174  0.189655  0.017241  0.017241  0.005747  0.000000   \n",
       "2019-10-11          136  0.250000  0.007353  0.007353  0.000000  0.000000   \n",
       "2019-10-12          125  0.256000  0.000000  0.000000  0.000000  0.000000   \n",
       "\n",
       "                 5.0       6.0  \n",
       "dt                              \n",
       "2019-10-07  0.004902  0.009804  \n",
       "2019-10-08  0.000000  0.000000  \n",
       "2019-10-09  0.005682  0.000000  \n",
       "2019-10-10  0.000000  0.000000  \n",
       "2019-10-11  0.000000  0.000000  \n",
       "2019-10-12  0.000000  0.000000  "
      ]
     },
     "execution_count": 109,
     "metadata": {},
     "output_type": "execute_result"
    }
   ],
   "source": [
    "retention_raw_b, retention_b = get_retention(\n",
    "    profiles, b, datetime(2019,10,18).date(), 7\n",
    ")\n",
    "\n",
    "retention_b"
   ]
  },
  {
   "cell_type": "code",
   "execution_count": 110,
   "metadata": {},
   "outputs": [
    {
     "data": {
      "image/png": "[encoded data removed]",
      "text/plain": [
       "<Figure size 1440x720 with 2 Axes>"
      ]
     },
     "metadata": {
      "needs_background": "light"
     },
     "output_type": "display_data"
    }
   ],
   "source": [
    "plt.figure(figsize=(20, 10))  # задаём размер графика\n",
    "sns.heatmap(retention_b.drop(columns = [0, 'cohort_size']),  # удаляем размеры когорт\n",
    "    annot=True,  # включаем подписи\n",
    "    fmt='.2%',  # переводим значения в проценты\n",
    ")\n",
    "plt.xlabel('Лайфтайм', size=15)\n",
    "plt.ylabel('Дата привлечения', size=15)\n",
    "plt.title('Тепловая карта удержания google', size=15)  # название графика\n",
    "plt.show() "
   ]
  },
  {
   "cell_type": "code",
   "execution_count": 111,
   "metadata": {},
   "outputs": [],
   "source": [
    "c = source_user.query('source == \"other\"')"
   ]
  },
  {
   "cell_type": "code",
   "execution_count": 112,
   "metadata": {},
   "outputs": [
    {
     "data": {
      "text/html": [
       "<div>\n",
       "<style scoped>\n",
       "    .dataframe tbody tr th:only-of-type {\n",
       "        vertical-align: middle;\n",
       "    }\n",
       "\n",
       "    .dataframe tbody tr th {\n",
       "        vertical-align: top;\n",
       "    }\n",
       "\n",
       "    .dataframe thead th {\n",
       "        text-align: right;\n",
       "    }\n",
       "</style>\n",
       "<table border=\"1\" class=\"dataframe\">\n",
       "  <thead>\n",
       "    <tr style=\"text-align: right;\">\n",
       "      <th></th>\n",
       "      <th>cohort_size</th>\n",
       "      <th>0.0</th>\n",
       "      <th>1.0</th>\n",
       "      <th>2.0</th>\n",
       "      <th>3.0</th>\n",
       "      <th>4.0</th>\n",
       "      <th>5.0</th>\n",
       "      <th>6.0</th>\n",
       "    </tr>\n",
       "    <tr>\n",
       "      <th>dt</th>\n",
       "      <th></th>\n",
       "      <th></th>\n",
       "      <th></th>\n",
       "      <th></th>\n",
       "      <th></th>\n",
       "      <th></th>\n",
       "      <th></th>\n",
       "      <th></th>\n",
       "    </tr>\n",
       "  </thead>\n",
       "  <tbody>\n",
       "    <tr>\n",
       "      <th>2019-10-07</th>\n",
       "      <td>204</td>\n",
       "      <td>0.254902</td>\n",
       "      <td>0.019608</td>\n",
       "      <td>0.029412</td>\n",
       "      <td>0.009804</td>\n",
       "      <td>0.009804</td>\n",
       "      <td>0.014706</td>\n",
       "      <td>0.009804</td>\n",
       "    </tr>\n",
       "    <tr>\n",
       "      <th>2019-10-08</th>\n",
       "      <td>167</td>\n",
       "      <td>0.293413</td>\n",
       "      <td>0.035928</td>\n",
       "      <td>0.035928</td>\n",
       "      <td>0.023952</td>\n",
       "      <td>0.017964</td>\n",
       "      <td>0.029940</td>\n",
       "      <td>0.000000</td>\n",
       "    </tr>\n",
       "    <tr>\n",
       "      <th>2019-10-09</th>\n",
       "      <td>176</td>\n",
       "      <td>0.238636</td>\n",
       "      <td>0.017045</td>\n",
       "      <td>0.011364</td>\n",
       "      <td>0.000000</td>\n",
       "      <td>0.017045</td>\n",
       "      <td>0.000000</td>\n",
       "      <td>0.000000</td>\n",
       "    </tr>\n",
       "    <tr>\n",
       "      <th>2019-10-10</th>\n",
       "      <td>174</td>\n",
       "      <td>0.316092</td>\n",
       "      <td>0.028736</td>\n",
       "      <td>0.022989</td>\n",
       "      <td>0.011494</td>\n",
       "      <td>0.000000</td>\n",
       "      <td>0.000000</td>\n",
       "      <td>0.000000</td>\n",
       "    </tr>\n",
       "    <tr>\n",
       "      <th>2019-10-11</th>\n",
       "      <td>136</td>\n",
       "      <td>0.198529</td>\n",
       "      <td>0.022059</td>\n",
       "      <td>0.022059</td>\n",
       "      <td>0.000000</td>\n",
       "      <td>0.000000</td>\n",
       "      <td>0.000000</td>\n",
       "      <td>0.000000</td>\n",
       "    </tr>\n",
       "    <tr>\n",
       "      <th>2019-10-12</th>\n",
       "      <td>125</td>\n",
       "      <td>0.240000</td>\n",
       "      <td>0.032000</td>\n",
       "      <td>0.000000</td>\n",
       "      <td>0.000000</td>\n",
       "      <td>0.000000</td>\n",
       "      <td>0.000000</td>\n",
       "      <td>0.000000</td>\n",
       "    </tr>\n",
       "  </tbody>\n",
       "</table>\n",
       "</div>"
      ],
      "text/plain": [
       "            cohort_size       0.0       1.0       2.0       3.0       4.0  \\\n",
       "dt                                                                          \n",
       "2019-10-07          204  0.254902  0.019608  0.029412  0.009804  0.009804   \n",
       "2019-10-08          167  0.293413  0.035928  0.035928  0.023952  0.017964   \n",
       "2019-10-09          176  0.238636  0.017045  0.011364  0.000000  0.017045   \n",
       "2019-10-10          174  0.316092  0.028736  0.022989  0.011494  0.000000   \n",
       "2019-10-11          136  0.198529  0.022059  0.022059  0.000000  0.000000   \n",
       "2019-10-12          125  0.240000  0.032000  0.000000  0.000000  0.000000   \n",
       "\n",
       "                 5.0       6.0  \n",
       "dt                              \n",
       "2019-10-07  0.014706  0.009804  \n",
       "2019-10-08  0.029940  0.000000  \n",
       "2019-10-09  0.000000  0.000000  \n",
       "2019-10-10  0.000000  0.000000  \n",
       "2019-10-11  0.000000  0.000000  \n",
       "2019-10-12  0.000000  0.000000  "
      ]
     },
     "execution_count": 112,
     "metadata": {},
     "output_type": "execute_result"
    }
   ],
   "source": [
    "retention_raw_c, retention_c = get_retention(\n",
    "    profiles, c, datetime(2019,10,18).date(), 7\n",
    ")\n",
    "\n",
    "retention_c"
   ]
  },
  {
   "cell_type": "code",
   "execution_count": 113,
   "metadata": {},
   "outputs": [
    {
     "data": {
      "image/png": "[encoded data removed]",
      "text/plain": [
       "<Figure size 1440x720 with 2 Axes>"
      ]
     },
     "metadata": {
      "needs_background": "light"
     },
     "output_type": "display_data"
    }
   ],
   "source": [
    "plt.figure(figsize=(20, 10))  # задаём размер графика\n",
    "sns.heatmap(retention_c.drop(columns = [0, 'cohort_size']),  # удаляем размеры когорт\n",
    "    annot=True,  # включаем подписи\n",
    "    fmt='.2%',  # переводим значения в проценты\n",
    ")\n",
    "plt.xlabel('Лайфтайм', size=15)\n",
    "plt.ylabel('Дата привлечения', size=15)\n",
    "plt.title('Тепловая карта удержания other', size=15)  # название графика\n",
    "plt.show() "
   ]
  },
  {
   "cell_type": "markdown",
   "metadata": {},
   "source": [
    "***ВЫВОД: Наибольший процент возврата демонстрируют пользователи из источника Yandex.***"
   ]
  },
  {
   "cell_type": "markdown",
   "metadata": {},
   "source": [
    "4.2 Пользователи какой группы часто делают целевое событие (show_contacts)? Рассчитать конверсию в целевое действие."
   ]
  },
  {
   "cell_type": "code",
   "execution_count": 114,
   "metadata": {},
   "outputs": [
    {
     "name": "stdout",
     "output_type": "stream",
     "text": [
      "Конверсия в целевое действие составляет: 19.2090395480226 %\n"
     ]
    }
   ],
   "source": [
    "conv_y = (a.query('event_name == \"contacts_show\"')['userId'].nunique()/a.userId.nunique()*100)\n",
    "print('Конверсия в целевое действие составляет:', conv_y, '%')"
   ]
  },
  {
   "cell_type": "code",
   "execution_count": 115,
   "metadata": {},
   "outputs": [
    {
     "name": "stdout",
     "output_type": "stream",
     "text": [
      "Конверсия в целевое действие составляет: 15.0 %\n"
     ]
    }
   ],
   "source": [
    "conv_g = (b.query('event_name == \"contacts_show\"')['userId'].nunique()/b.userId.nunique()*100)\n",
    "print('Конверсия в целевое действие составляет:', conv_g, '%')"
   ]
  },
  {
   "cell_type": "code",
   "execution_count": 116,
   "metadata": {},
   "outputs": [
    {
     "name": "stdout",
     "output_type": "stream",
     "text": [
      "Конверсия в целевое действие составляет: 11.0 %\n"
     ]
    }
   ],
   "source": [
    "conv_o = (c.query('event_name == \"contacts_show\"')['userId'].nunique()/c.userId.nunique()*100)\n",
    "print('Конверсия в целевое действие составляет:', conv_o, '%')"
   ]
  },
  {
   "cell_type": "markdown",
   "metadata": {},
   "source": [
    "***ВЫВОД: Наибольший процент коверсии 19,2% у пользователей установивших приложение из источника Yandex, далее конверсия 15% у пользователей из источника Google, %  конверсии пользователей  из источника Other 11 %. Можно сделать вывод, что наиболее качественные пользователи устанавливают приложение из источника Yandex.***"
   ]
  },
  {
   "cell_type": "markdown",
   "metadata": {},
   "source": [
    "***5. ПРОВЕРКА СТАТИСТИЧЕСКИХ ГИПОТЕЗ***"
   ]
  },
  {
   "cell_type": "markdown",
   "metadata": {},
   "source": [
    "5.1 Некоторые пользователи установили приложение по ссылке из yandex, другие — из google. Проверьте гипотезу: две эти группы демонстрируют разную конверсию в просмотры контактов."
   ]
  },
  {
   "cell_type": "markdown",
   "metadata": {},
   "source": [
    "***Проверим выгрузки на пересечение данных.***"
   ]
  },
  {
   "cell_type": "code",
   "execution_count": 117,
   "metadata": {},
   "outputs": [
    {
     "data": {
      "text/html": [
       "<div>\n",
       "<style scoped>\n",
       "    .dataframe tbody tr th:only-of-type {\n",
       "        vertical-align: middle;\n",
       "    }\n",
       "\n",
       "    .dataframe tbody tr th {\n",
       "        vertical-align: top;\n",
       "    }\n",
       "\n",
       "    .dataframe thead th {\n",
       "        text-align: right;\n",
       "    }\n",
       "</style>\n",
       "<table border=\"1\" class=\"dataframe\">\n",
       "  <thead>\n",
       "    <tr style=\"text-align: right;\">\n",
       "      <th></th>\n",
       "      <th>event_time_x</th>\n",
       "      <th>event_name_x</th>\n",
       "      <th>userId</th>\n",
       "      <th>session_id_x</th>\n",
       "      <th>duration_x</th>\n",
       "      <th>hour_x</th>\n",
       "      <th>source_x</th>\n",
       "      <th>event_time_y</th>\n",
       "      <th>event_name_y</th>\n",
       "      <th>session_id_y</th>\n",
       "      <th>duration_y</th>\n",
       "      <th>hour_y</th>\n",
       "      <th>source_y</th>\n",
       "    </tr>\n",
       "  </thead>\n",
       "  <tbody>\n",
       "    <tr>\n",
       "      <th>0</th>\n",
       "      <td>2019-10-11 11:22:54.442841</td>\n",
       "      <td>contacts_show</td>\n",
       "      <td>005fbea5-2678-406f-88a6-fbe9787e2268</td>\n",
       "      <td>44.0</td>\n",
       "      <td>0 days 00:02:50.674242</td>\n",
       "      <td>11.0</td>\n",
       "      <td>yandex</td>\n",
       "      <td>NaT</td>\n",
       "      <td>NaN</td>\n",
       "      <td>NaN</td>\n",
       "      <td>NaT</td>\n",
       "      <td>NaN</td>\n",
       "      <td>NaN</td>\n",
       "    </tr>\n",
       "    <tr>\n",
       "      <th>1</th>\n",
       "      <td>2019-10-11 11:23:00.152471</td>\n",
       "      <td>contacts_show</td>\n",
       "      <td>005fbea5-2678-406f-88a6-fbe9787e2268</td>\n",
       "      <td>44.0</td>\n",
       "      <td>0 days 00:07:14.442770</td>\n",
       "      <td>11.0</td>\n",
       "      <td>yandex</td>\n",
       "      <td>NaT</td>\n",
       "      <td>NaN</td>\n",
       "      <td>NaN</td>\n",
       "      <td>NaT</td>\n",
       "      <td>NaN</td>\n",
       "      <td>NaN</td>\n",
       "    </tr>\n",
       "    <tr>\n",
       "      <th>2</th>\n",
       "      <td>2019-10-11 11:23:11.379247</td>\n",
       "      <td>contacts_show</td>\n",
       "      <td>005fbea5-2678-406f-88a6-fbe9787e2268</td>\n",
       "      <td>44.0</td>\n",
       "      <td>0 days 00:05:05.122843</td>\n",
       "      <td>11.0</td>\n",
       "      <td>yandex</td>\n",
       "      <td>NaT</td>\n",
       "      <td>NaN</td>\n",
       "      <td>NaN</td>\n",
       "      <td>NaT</td>\n",
       "      <td>NaN</td>\n",
       "      <td>NaN</td>\n",
       "    </tr>\n",
       "    <tr>\n",
       "      <th>3</th>\n",
       "      <td>2019-10-11 11:29:10.270892</td>\n",
       "      <td>tips_show</td>\n",
       "      <td>005fbea5-2678-406f-88a6-fbe9787e2268</td>\n",
       "      <td>45.0</td>\n",
       "      <td>0 days 00:05:55.060398</td>\n",
       "      <td>11.0</td>\n",
       "      <td>yandex</td>\n",
       "      <td>NaT</td>\n",
       "      <td>NaN</td>\n",
       "      <td>NaN</td>\n",
       "      <td>NaT</td>\n",
       "      <td>NaN</td>\n",
       "      <td>NaN</td>\n",
       "    </tr>\n",
       "    <tr>\n",
       "      <th>4</th>\n",
       "      <td>2019-10-08 21:26:09.242929</td>\n",
       "      <td>photos_show</td>\n",
       "      <td>006a32d4-ee10-40dc-b237-11e0fde81cbc</td>\n",
       "      <td>47.0</td>\n",
       "      <td>0 days 00:06:45.314315</td>\n",
       "      <td>21.0</td>\n",
       "      <td>yandex</td>\n",
       "      <td>NaT</td>\n",
       "      <td>NaN</td>\n",
       "      <td>NaN</td>\n",
       "      <td>NaT</td>\n",
       "      <td>NaN</td>\n",
       "      <td>NaN</td>\n",
       "    </tr>\n",
       "    <tr>\n",
       "      <th>...</th>\n",
       "      <td>...</td>\n",
       "      <td>...</td>\n",
       "      <td>...</td>\n",
       "      <td>...</td>\n",
       "      <td>...</td>\n",
       "      <td>...</td>\n",
       "      <td>...</td>\n",
       "      <td>...</td>\n",
       "      <td>...</td>\n",
       "      <td>...</td>\n",
       "      <td>...</td>\n",
       "      <td>...</td>\n",
       "      <td>...</td>\n",
       "    </tr>\n",
       "    <tr>\n",
       "      <th>7243</th>\n",
       "      <td>NaT</td>\n",
       "      <td>NaN</td>\n",
       "      <td>fffb9e79-b927-4dbb-9b48-7fd09b23a62b</td>\n",
       "      <td>NaN</td>\n",
       "      <td>NaT</td>\n",
       "      <td>NaN</td>\n",
       "      <td>NaN</td>\n",
       "      <td>2019-10-12 01:07:11.782372</td>\n",
       "      <td>tips_show</td>\n",
       "      <td>16317.0</td>\n",
       "      <td>0 days 00:02:50.690941</td>\n",
       "      <td>1.0</td>\n",
       "      <td>google</td>\n",
       "    </tr>\n",
       "    <tr>\n",
       "      <th>7244</th>\n",
       "      <td>NaT</td>\n",
       "      <td>NaN</td>\n",
       "      <td>fffb9e79-b927-4dbb-9b48-7fd09b23a62b</td>\n",
       "      <td>NaN</td>\n",
       "      <td>NaT</td>\n",
       "      <td>NaN</td>\n",
       "      <td>NaN</td>\n",
       "      <td>2019-10-12 01:07:53.959366</td>\n",
       "      <td>map</td>\n",
       "      <td>16317.0</td>\n",
       "      <td>0 days 00:01:45.075992</td>\n",
       "      <td>1.0</td>\n",
       "      <td>google</td>\n",
       "    </tr>\n",
       "    <tr>\n",
       "      <th>7245</th>\n",
       "      <td>NaT</td>\n",
       "      <td>NaN</td>\n",
       "      <td>fffb9e79-b927-4dbb-9b48-7fd09b23a62b</td>\n",
       "      <td>NaN</td>\n",
       "      <td>NaT</td>\n",
       "      <td>NaN</td>\n",
       "      <td>NaN</td>\n",
       "      <td>2019-10-12 01:08:03.825098</td>\n",
       "      <td>tips_show</td>\n",
       "      <td>16317.0</td>\n",
       "      <td>0 days 00:05:57.907389</td>\n",
       "      <td>1.0</td>\n",
       "      <td>google</td>\n",
       "    </tr>\n",
       "    <tr>\n",
       "      <th>7246</th>\n",
       "      <td>NaT</td>\n",
       "      <td>NaN</td>\n",
       "      <td>fffb9e79-b927-4dbb-9b48-7fd09b23a62b</td>\n",
       "      <td>NaN</td>\n",
       "      <td>NaT</td>\n",
       "      <td>NaN</td>\n",
       "      <td>NaN</td>\n",
       "      <td>2019-10-12 01:08:49.357548</td>\n",
       "      <td>map</td>\n",
       "      <td>16317.0</td>\n",
       "      <td>0 days 00:03:45.934813</td>\n",
       "      <td>1.0</td>\n",
       "      <td>google</td>\n",
       "    </tr>\n",
       "    <tr>\n",
       "      <th>7247</th>\n",
       "      <td>NaT</td>\n",
       "      <td>NaN</td>\n",
       "      <td>fffb9e79-b927-4dbb-9b48-7fd09b23a62b</td>\n",
       "      <td>NaN</td>\n",
       "      <td>NaT</td>\n",
       "      <td>NaN</td>\n",
       "      <td>NaN</td>\n",
       "      <td>2019-10-12 01:10:55.363877</td>\n",
       "      <td>tips_show</td>\n",
       "      <td>16317.0</td>\n",
       "      <td>0 days 00:07:17.701032</td>\n",
       "      <td>1.0</td>\n",
       "      <td>google</td>\n",
       "    </tr>\n",
       "  </tbody>\n",
       "</table>\n",
       "<p>7248 rows × 13 columns</p>\n",
       "</div>"
      ],
      "text/plain": [
       "                   event_time_x   event_name_x  \\\n",
       "0    2019-10-11 11:22:54.442841  contacts_show   \n",
       "1    2019-10-11 11:23:00.152471  contacts_show   \n",
       "2    2019-10-11 11:23:11.379247  contacts_show   \n",
       "3    2019-10-11 11:29:10.270892      tips_show   \n",
       "4    2019-10-08 21:26:09.242929    photos_show   \n",
       "...                         ...            ...   \n",
       "7243                        NaT            NaN   \n",
       "7244                        NaT            NaN   \n",
       "7245                        NaT            NaN   \n",
       "7246                        NaT            NaN   \n",
       "7247                        NaT            NaN   \n",
       "\n",
       "                                    userId  session_id_x  \\\n",
       "0     005fbea5-2678-406f-88a6-fbe9787e2268          44.0   \n",
       "1     005fbea5-2678-406f-88a6-fbe9787e2268          44.0   \n",
       "2     005fbea5-2678-406f-88a6-fbe9787e2268          44.0   \n",
       "3     005fbea5-2678-406f-88a6-fbe9787e2268          45.0   \n",
       "4     006a32d4-ee10-40dc-b237-11e0fde81cbc          47.0   \n",
       "...                                    ...           ...   \n",
       "7243  fffb9e79-b927-4dbb-9b48-7fd09b23a62b           NaN   \n",
       "7244  fffb9e79-b927-4dbb-9b48-7fd09b23a62b           NaN   \n",
       "7245  fffb9e79-b927-4dbb-9b48-7fd09b23a62b           NaN   \n",
       "7246  fffb9e79-b927-4dbb-9b48-7fd09b23a62b           NaN   \n",
       "7247  fffb9e79-b927-4dbb-9b48-7fd09b23a62b           NaN   \n",
       "\n",
       "                 duration_x  hour_x source_x               event_time_y  \\\n",
       "0    0 days 00:02:50.674242    11.0   yandex                        NaT   \n",
       "1    0 days 00:07:14.442770    11.0   yandex                        NaT   \n",
       "2    0 days 00:05:05.122843    11.0   yandex                        NaT   \n",
       "3    0 days 00:05:55.060398    11.0   yandex                        NaT   \n",
       "4    0 days 00:06:45.314315    21.0   yandex                        NaT   \n",
       "...                     ...     ...      ...                        ...   \n",
       "7243                    NaT     NaN      NaN 2019-10-12 01:07:11.782372   \n",
       "7244                    NaT     NaN      NaN 2019-10-12 01:07:53.959366   \n",
       "7245                    NaT     NaN      NaN 2019-10-12 01:08:03.825098   \n",
       "7246                    NaT     NaN      NaN 2019-10-12 01:08:49.357548   \n",
       "7247                    NaT     NaN      NaN 2019-10-12 01:10:55.363877   \n",
       "\n",
       "     event_name_y  session_id_y             duration_y  hour_y source_y  \n",
       "0             NaN           NaN                    NaT     NaN      NaN  \n",
       "1             NaN           NaN                    NaT     NaN      NaN  \n",
       "2             NaN           NaN                    NaT     NaN      NaN  \n",
       "3             NaN           NaN                    NaT     NaN      NaN  \n",
       "4             NaN           NaN                    NaT     NaN      NaN  \n",
       "...           ...           ...                    ...     ...      ...  \n",
       "7243    tips_show       16317.0 0 days 00:02:50.690941     1.0   google  \n",
       "7244          map       16317.0 0 days 00:01:45.075992     1.0   google  \n",
       "7245    tips_show       16317.0 0 days 00:05:57.907389     1.0   google  \n",
       "7246          map       16317.0 0 days 00:03:45.934813     1.0   google  \n",
       "7247    tips_show       16317.0 0 days 00:07:17.701032     1.0   google  \n",
       "\n",
       "[7248 rows x 13 columns]"
      ]
     },
     "execution_count": 117,
     "metadata": {},
     "output_type": "execute_result"
    }
   ],
   "source": [
    "filteredUsers = a.merge(b, on='userId', how='outer') #объединим две таблицы с источниками, для обнаружения пересечений по userId\n",
    "filteredUsers"
   ]
  },
  {
   "cell_type": "code",
   "execution_count": 118,
   "metadata": {},
   "outputs": [
    {
     "data": {
      "text/html": [
       "<div>\n",
       "<style scoped>\n",
       "    .dataframe tbody tr th:only-of-type {\n",
       "        vertical-align: middle;\n",
       "    }\n",
       "\n",
       "    .dataframe tbody tr th {\n",
       "        vertical-align: top;\n",
       "    }\n",
       "\n",
       "    .dataframe thead th {\n",
       "        text-align: right;\n",
       "    }\n",
       "</style>\n",
       "<table border=\"1\" class=\"dataframe\">\n",
       "  <thead>\n",
       "    <tr style=\"text-align: right;\">\n",
       "      <th></th>\n",
       "      <th>event_time_x</th>\n",
       "      <th>event_name_x</th>\n",
       "      <th>userId</th>\n",
       "      <th>session_id_x</th>\n",
       "      <th>duration_x</th>\n",
       "      <th>hour_x</th>\n",
       "      <th>source_x</th>\n",
       "      <th>event_time_y</th>\n",
       "      <th>event_name_y</th>\n",
       "      <th>session_id_y</th>\n",
       "      <th>duration_y</th>\n",
       "      <th>hour_y</th>\n",
       "      <th>source_y</th>\n",
       "    </tr>\n",
       "  </thead>\n",
       "  <tbody>\n",
       "  </tbody>\n",
       "</table>\n",
       "</div>"
      ],
      "text/plain": [
       "Empty DataFrame\n",
       "Columns: [event_time_x, event_name_x, userId, session_id_x, duration_x, hour_x, source_x, event_time_y, event_name_y, session_id_y, duration_y, hour_y, source_y]\n",
       "Index: []"
      ]
     },
     "execution_count": 118,
     "metadata": {},
     "output_type": "execute_result"
    }
   ],
   "source": [
    "userIdDel = filteredUsers.query('source_x == \"yandex\" and source_y == \"google\"')\n",
    "userIdDel #проверили пересечение пользователей в двух выгрузках"
   ]
  },
  {
   "cell_type": "markdown",
   "metadata": {},
   "source": [
    "***ВЫВОД: Пересечения не найдены.***"
   ]
  },
  {
   "cell_type": "markdown",
   "metadata": {},
   "source": [
    "***Можно приступать к Z-тесту. Сформулируем нулевую и альтернативную гипотезы.***"
   ]
  },
  {
   "cell_type": "markdown",
   "metadata": {},
   "source": [
    "***Нулевая гипотеза: Конверсия пользователей в просмотры контактов, установивших приложение из источника Yandex не имеет статистической разницы от конверсии пользвателей из Google.***\n",
    "\n",
    "***Альтернативная гипотеза: Конверсия пользователей в просмотры контактов, установивших приложение из источника Yandex имеет статистическую разницу от конверсии пользвателей из Google.***"
   ]
  },
  {
   "cell_type": "code",
   "execution_count": 119,
   "metadata": {},
   "outputs": [
    {
     "data": {
      "text/html": [
       "<div>\n",
       "<style scoped>\n",
       "    .dataframe tbody tr th:only-of-type {\n",
       "        vertical-align: middle;\n",
       "    }\n",
       "\n",
       "    .dataframe tbody tr th {\n",
       "        vertical-align: top;\n",
       "    }\n",
       "\n",
       "    .dataframe thead th {\n",
       "        text-align: right;\n",
       "    }\n",
       "</style>\n",
       "<table border=\"1\" class=\"dataframe\">\n",
       "  <thead>\n",
       "    <tr style=\"text-align: right;\">\n",
       "      <th></th>\n",
       "      <th>source</th>\n",
       "      <th>userId</th>\n",
       "    </tr>\n",
       "  </thead>\n",
       "  <tbody>\n",
       "    <tr>\n",
       "      <th>0</th>\n",
       "      <td>google</td>\n",
       "      <td>280</td>\n",
       "    </tr>\n",
       "    <tr>\n",
       "      <th>1</th>\n",
       "      <td>other</td>\n",
       "      <td>300</td>\n",
       "    </tr>\n",
       "    <tr>\n",
       "      <th>2</th>\n",
       "      <td>yandex</td>\n",
       "      <td>531</td>\n",
       "    </tr>\n",
       "  </tbody>\n",
       "</table>\n",
       "</div>"
      ],
      "text/plain": [
       "   source  userId\n",
       "0  google     280\n",
       "1   other     300\n",
       "2  yandex     531"
      ]
     },
     "execution_count": 119,
     "metadata": {},
     "output_type": "execute_result"
    }
   ],
   "source": [
    "users_by_source = source_user.groupby('source')['userId'].agg('nunique').to_frame().reset_index()\n",
    "users_by_source"
   ]
  },
  {
   "cell_type": "code",
   "execution_count": 120,
   "metadata": {},
   "outputs": [
    {
     "data": {
      "text/plain": [
       "102"
      ]
     },
     "execution_count": 120,
     "metadata": {},
     "output_type": "execute_result"
    }
   ],
   "source": [
    "successes_Y = a.query('event_name == \"contacts_show\"')['userId'].nunique()\n",
    "successes_Y #пользователи совершившие целевое действие из источника Yandex"
   ]
  },
  {
   "cell_type": "code",
   "execution_count": 121,
   "metadata": {},
   "outputs": [
    {
     "data": {
      "text/plain": [
       "42"
      ]
     },
     "execution_count": 121,
     "metadata": {},
     "output_type": "execute_result"
    }
   ],
   "source": [
    "successes_G = b.query('event_name == \"contacts_show\"')['userId'].nunique()\n",
    "successes_G #пользователи совершившие целевое действие из источника Google"
   ]
  },
  {
   "cell_type": "code",
   "execution_count": 122,
   "metadata": {},
   "outputs": [
    {
     "name": "stdout",
     "output_type": "stream",
     "text": [
      "102 42 531 280\n",
      "p-значение:  0.13587326116821785\n",
      "Не получилось отвергнуть нулевую гипотезу, нет оснований считать доли разными\n"
     ]
    }
   ],
   "source": [
    "alpha = .05 # критический уровень статистической значимости\n",
    "\n",
    "successes = np.array([successes_Y, successes_G])\n",
    "trials = np.array([users_by_source.userId[2], users_by_source.userId[0]])\n",
    "\n",
    "# пропорция успехов в первой группе:\n",
    "p1 = successes[0]/trials[0]\n",
    "\n",
    "# пропорция успехов во второй группе:\n",
    "p2 = successes[1]/trials[1]\n",
    "\n",
    "print(successes[0], successes[1], trials[0], trials[1])\n",
    "\n",
    "# пропорция успехов в комбинированном датасете:\n",
    "p_combined = (successes[0] + successes[1]) / (trials[0] + trials[1])\n",
    "\n",
    "# разница пропорций в датасетах\n",
    "difference = p1 - p2 \n",
    "\n",
    "# считаем статистику в ст.отклонениях стандартного нормального распределения\n",
    "z_value = difference / mth.sqrt(p_combined * (1 - p_combined) * (1/trials[0] + 1/trials[1]))\n",
    "\n",
    "# задаем стандартное нормальное распределение (среднее 0, ст.отклонение 1)\n",
    "distr = st.norm(0, 1)  \n",
    "\n",
    "p_value = (1 - distr.cdf(abs(z_value))) * 2\n",
    "\n",
    "print('p-значение: ', p_value)\n",
    "\n",
    "if p_value < alpha:\n",
    "    print('Отвергаем нулевую гипотезу: между долями есть значимая разница')\n",
    "else:\n",
    "    print(\n",
    "        'Не получилось отвергнуть нулевую гипотезу, нет оснований считать доли разными'\n",
    "    ) "
   ]
  },
  {
   "cell_type": "markdown",
   "metadata": {},
   "source": [
    "***ВЫВОД: Исходя из проведенного z - теста можно сделать вывод, что конверсия пользователей в просмотры контактов, установивших приложение из источника Yandex не имеет статистической разницы от конверсии пользователей из Google.***"
   ]
  },
  {
   "cell_type": "markdown",
   "metadata": {},
   "source": [
    "5.2 Сформулируйте собственную гипотезу. Дополните её нулевой и альтернативной гипотезами. Проведите статистический тест."
   ]
  },
  {
   "cell_type": "markdown",
   "metadata": {},
   "source": [
    "***Нулевая гипотеза: Пользователи, установившие приложение в будние и выходные дни не имеют статистической разницы в показателе конверсии в просмотры контактов.***\n",
    "\n",
    "***Альтерантивная гипотеза: Конверсия в обеих группах (будние и выходные дни)  имеет статистическую разницу.***"
   ]
  },
  {
   "cell_type": "code",
   "execution_count": 123,
   "metadata": {
    "scrolled": true
   },
   "outputs": [],
   "source": [
    "profiles['weekday'] = profiles['first_ts'].dt.weekday #добавим столбец в профили пользователей с днем установки приложения, где понедельник - 0, воскресенье - 6"
   ]
  },
  {
   "cell_type": "code",
   "execution_count": 124,
   "metadata": {},
   "outputs": [
    {
     "data": {
      "text/html": [
       "<div>\n",
       "<style scoped>\n",
       "    .dataframe tbody tr th:only-of-type {\n",
       "        vertical-align: middle;\n",
       "    }\n",
       "\n",
       "    .dataframe tbody tr th {\n",
       "        vertical-align: top;\n",
       "    }\n",
       "\n",
       "    .dataframe thead th {\n",
       "        text-align: right;\n",
       "    }\n",
       "</style>\n",
       "<table border=\"1\" class=\"dataframe\">\n",
       "  <thead>\n",
       "    <tr style=\"text-align: right;\">\n",
       "      <th></th>\n",
       "      <th>userId</th>\n",
       "      <th>first_ts</th>\n",
       "      <th>dt</th>\n",
       "      <th>month</th>\n",
       "      <th>weekday</th>\n",
       "    </tr>\n",
       "  </thead>\n",
       "  <tbody>\n",
       "    <tr>\n",
       "      <th>1</th>\n",
       "      <td>00157779-810c-4498-9e05-a1e9e3cedf93</td>\n",
       "      <td>2019-10-19 21:34:33.849769</td>\n",
       "      <td>2019-10-19</td>\n",
       "      <td>2019-10-01</td>\n",
       "      <td>5</td>\n",
       "    </tr>\n",
       "    <tr>\n",
       "      <th>5</th>\n",
       "      <td>00554293-7e00-4122-b898-4e892c4a7c53</td>\n",
       "      <td>2019-10-27 12:32:28.005179</td>\n",
       "      <td>2019-10-27</td>\n",
       "      <td>2019-10-01</td>\n",
       "      <td>6</td>\n",
       "    </tr>\n",
       "    <tr>\n",
       "      <th>9</th>\n",
       "      <td>006f6ced-225b-4f9c-9f17-23404bc6835f</td>\n",
       "      <td>2019-10-13 10:21:52.569346</td>\n",
       "      <td>2019-10-13</td>\n",
       "      <td>2019-10-01</td>\n",
       "      <td>6</td>\n",
       "    </tr>\n",
       "    <tr>\n",
       "      <th>10</th>\n",
       "      <td>00753c79-ea81-4456-acd0-a47a23ca2fb9</td>\n",
       "      <td>2019-10-20 14:57:06.080501</td>\n",
       "      <td>2019-10-20</td>\n",
       "      <td>2019-10-01</td>\n",
       "      <td>6</td>\n",
       "    </tr>\n",
       "    <tr>\n",
       "      <th>12</th>\n",
       "      <td>009c0f37-8556-4c72-a007-100e28a37373</td>\n",
       "      <td>2019-10-20 02:05:28.051571</td>\n",
       "      <td>2019-10-20</td>\n",
       "      <td>2019-10-01</td>\n",
       "      <td>6</td>\n",
       "    </tr>\n",
       "    <tr>\n",
       "      <th>...</th>\n",
       "      <td>...</td>\n",
       "      <td>...</td>\n",
       "      <td>...</td>\n",
       "      <td>...</td>\n",
       "      <td>...</td>\n",
       "    </tr>\n",
       "    <tr>\n",
       "      <th>4272</th>\n",
       "      <td>fe3d5753-c633-4398-b3a8-b584c4d266b2</td>\n",
       "      <td>2019-10-27 20:23:50.483361</td>\n",
       "      <td>2019-10-27</td>\n",
       "      <td>2019-10-01</td>\n",
       "      <td>6</td>\n",
       "    </tr>\n",
       "    <tr>\n",
       "      <th>4277</th>\n",
       "      <td>fe92fa6c-7eef-484f-b31b-fa0db4e4d895</td>\n",
       "      <td>2019-10-13 18:02:11.003357</td>\n",
       "      <td>2019-10-13</td>\n",
       "      <td>2019-10-01</td>\n",
       "      <td>6</td>\n",
       "    </tr>\n",
       "    <tr>\n",
       "      <th>4282</th>\n",
       "      <td>fee3ba1c-16f4-46f7-bf56-4bf80cc4e2f5</td>\n",
       "      <td>2019-10-26 11:43:11.921954</td>\n",
       "      <td>2019-10-26</td>\n",
       "      <td>2019-10-01</td>\n",
       "      <td>5</td>\n",
       "    </tr>\n",
       "    <tr>\n",
       "      <th>4288</th>\n",
       "      <td>ffab8d8a-30bb-424a-a3ab-0b63ebbf7b07</td>\n",
       "      <td>2019-10-13 16:11:27.414960</td>\n",
       "      <td>2019-10-13</td>\n",
       "      <td>2019-10-01</td>\n",
       "      <td>6</td>\n",
       "    </tr>\n",
       "    <tr>\n",
       "      <th>4292</th>\n",
       "      <td>fffb9e79-b927-4dbb-9b48-7fd09b23a62b</td>\n",
       "      <td>2019-10-12 00:57:21.241896</td>\n",
       "      <td>2019-10-12</td>\n",
       "      <td>2019-10-01</td>\n",
       "      <td>5</td>\n",
       "    </tr>\n",
       "  </tbody>\n",
       "</table>\n",
       "<p>1086 rows × 5 columns</p>\n",
       "</div>"
      ],
      "text/plain": [
       "                                    userId                   first_ts  \\\n",
       "1     00157779-810c-4498-9e05-a1e9e3cedf93 2019-10-19 21:34:33.849769   \n",
       "5     00554293-7e00-4122-b898-4e892c4a7c53 2019-10-27 12:32:28.005179   \n",
       "9     006f6ced-225b-4f9c-9f17-23404bc6835f 2019-10-13 10:21:52.569346   \n",
       "10    00753c79-ea81-4456-acd0-a47a23ca2fb9 2019-10-20 14:57:06.080501   \n",
       "12    009c0f37-8556-4c72-a007-100e28a37373 2019-10-20 02:05:28.051571   \n",
       "...                                    ...                        ...   \n",
       "4272  fe3d5753-c633-4398-b3a8-b584c4d266b2 2019-10-27 20:23:50.483361   \n",
       "4277  fe92fa6c-7eef-484f-b31b-fa0db4e4d895 2019-10-13 18:02:11.003357   \n",
       "4282  fee3ba1c-16f4-46f7-bf56-4bf80cc4e2f5 2019-10-26 11:43:11.921954   \n",
       "4288  ffab8d8a-30bb-424a-a3ab-0b63ebbf7b07 2019-10-13 16:11:27.414960   \n",
       "4292  fffb9e79-b927-4dbb-9b48-7fd09b23a62b 2019-10-12 00:57:21.241896   \n",
       "\n",
       "              dt      month  weekday  \n",
       "1     2019-10-19 2019-10-01        5  \n",
       "5     2019-10-27 2019-10-01        6  \n",
       "9     2019-10-13 2019-10-01        6  \n",
       "10    2019-10-20 2019-10-01        6  \n",
       "12    2019-10-20 2019-10-01        6  \n",
       "...          ...        ...      ...  \n",
       "4272  2019-10-27 2019-10-01        6  \n",
       "4277  2019-10-13 2019-10-01        6  \n",
       "4282  2019-10-26 2019-10-01        5  \n",
       "4288  2019-10-13 2019-10-01        6  \n",
       "4292  2019-10-12 2019-10-01        5  \n",
       "\n",
       "[1086 rows x 5 columns]"
      ]
     },
     "execution_count": 124,
     "metadata": {},
     "output_type": "execute_result"
    }
   ],
   "source": [
    "profiles_day_off = profiles.query ('weekday == 5 or weekday == 6')\n",
    "profiles_day_off\n",
    "#срез пользователей установивших приложение в выходной день"
   ]
  },
  {
   "cell_type": "code",
   "execution_count": 125,
   "metadata": {},
   "outputs": [
    {
     "data": {
      "text/plain": [
       "1086"
      ]
     },
     "execution_count": 125,
     "metadata": {},
     "output_type": "execute_result"
    }
   ],
   "source": [
    "X = profiles_day_off['userId'].count()\n",
    "X "
   ]
  },
  {
   "cell_type": "code",
   "execution_count": 126,
   "metadata": {},
   "outputs": [
    {
     "data": {
      "text/html": [
       "<div>\n",
       "<style scoped>\n",
       "    .dataframe tbody tr th:only-of-type {\n",
       "        vertical-align: middle;\n",
       "    }\n",
       "\n",
       "    .dataframe tbody tr th {\n",
       "        vertical-align: top;\n",
       "    }\n",
       "\n",
       "    .dataframe thead th {\n",
       "        text-align: right;\n",
       "    }\n",
       "</style>\n",
       "<table border=\"1\" class=\"dataframe\">\n",
       "  <thead>\n",
       "    <tr style=\"text-align: right;\">\n",
       "      <th></th>\n",
       "      <th>userId</th>\n",
       "      <th>first_ts</th>\n",
       "      <th>dt</th>\n",
       "      <th>month</th>\n",
       "      <th>weekday</th>\n",
       "    </tr>\n",
       "  </thead>\n",
       "  <tbody>\n",
       "    <tr>\n",
       "      <th>0</th>\n",
       "      <td>0001b1d5-b74a-4cbf-aeb0-7df5947bf349</td>\n",
       "      <td>2019-10-07 13:39:45.989359</td>\n",
       "      <td>2019-10-07</td>\n",
       "      <td>2019-10-01</td>\n",
       "      <td>0</td>\n",
       "    </tr>\n",
       "    <tr>\n",
       "      <th>2</th>\n",
       "      <td>00463033-5717-4bf1-91b4-09183923b9df</td>\n",
       "      <td>2019-11-01 13:54:35.385028</td>\n",
       "      <td>2019-11-01</td>\n",
       "      <td>2019-11-01</td>\n",
       "      <td>4</td>\n",
       "    </tr>\n",
       "    <tr>\n",
       "      <th>3</th>\n",
       "      <td>004690c3-5a84-4bb7-a8af-e0c8f8fca64e</td>\n",
       "      <td>2019-10-18 22:14:05.555052</td>\n",
       "      <td>2019-10-18</td>\n",
       "      <td>2019-10-01</td>\n",
       "      <td>4</td>\n",
       "    </tr>\n",
       "    <tr>\n",
       "      <th>4</th>\n",
       "      <td>00551e79-152e-4441-9cf7-565d7eb04090</td>\n",
       "      <td>2019-10-25 16:44:41.263364</td>\n",
       "      <td>2019-10-25</td>\n",
       "      <td>2019-10-01</td>\n",
       "      <td>4</td>\n",
       "    </tr>\n",
       "    <tr>\n",
       "      <th>6</th>\n",
       "      <td>005fbea5-2678-406f-88a6-fbe9787e2268</td>\n",
       "      <td>2019-10-11 11:22:54.442841</td>\n",
       "      <td>2019-10-11</td>\n",
       "      <td>2019-10-01</td>\n",
       "      <td>4</td>\n",
       "    </tr>\n",
       "    <tr>\n",
       "      <th>...</th>\n",
       "      <td>...</td>\n",
       "      <td>...</td>\n",
       "      <td>...</td>\n",
       "      <td>...</td>\n",
       "      <td>...</td>\n",
       "    </tr>\n",
       "    <tr>\n",
       "      <th>4286</th>\n",
       "      <td>ff5c152c-bd63-4797-8fa2-29987199e76d</td>\n",
       "      <td>2019-10-17 12:25:13.794761</td>\n",
       "      <td>2019-10-17</td>\n",
       "      <td>2019-10-01</td>\n",
       "      <td>3</td>\n",
       "    </tr>\n",
       "    <tr>\n",
       "      <th>4287</th>\n",
       "      <td>ff82c7c7-16d6-44b1-833b-a217747b0b02</td>\n",
       "      <td>2019-10-15 23:41:07.647658</td>\n",
       "      <td>2019-10-15</td>\n",
       "      <td>2019-10-01</td>\n",
       "      <td>1</td>\n",
       "    </tr>\n",
       "    <tr>\n",
       "      <th>4289</th>\n",
       "      <td>ffc01466-fdb1-4460-ae94-e800f52eb136</td>\n",
       "      <td>2019-10-07 20:32:49.997044</td>\n",
       "      <td>2019-10-07</td>\n",
       "      <td>2019-10-01</td>\n",
       "      <td>0</td>\n",
       "    </tr>\n",
       "    <tr>\n",
       "      <th>4290</th>\n",
       "      <td>ffcf50d9-293c-4254-8243-4890b030b238</td>\n",
       "      <td>2019-10-23 11:51:35.199237</td>\n",
       "      <td>2019-10-23</td>\n",
       "      <td>2019-10-01</td>\n",
       "      <td>2</td>\n",
       "    </tr>\n",
       "    <tr>\n",
       "      <th>4291</th>\n",
       "      <td>ffe68f10-e48e-470e-be9b-eeb93128ff1a</td>\n",
       "      <td>2019-10-21 16:39:33.867145</td>\n",
       "      <td>2019-10-21</td>\n",
       "      <td>2019-10-01</td>\n",
       "      <td>0</td>\n",
       "    </tr>\n",
       "  </tbody>\n",
       "</table>\n",
       "<p>3207 rows × 5 columns</p>\n",
       "</div>"
      ],
      "text/plain": [
       "                                    userId                   first_ts  \\\n",
       "0     0001b1d5-b74a-4cbf-aeb0-7df5947bf349 2019-10-07 13:39:45.989359   \n",
       "2     00463033-5717-4bf1-91b4-09183923b9df 2019-11-01 13:54:35.385028   \n",
       "3     004690c3-5a84-4bb7-a8af-e0c8f8fca64e 2019-10-18 22:14:05.555052   \n",
       "4     00551e79-152e-4441-9cf7-565d7eb04090 2019-10-25 16:44:41.263364   \n",
       "6     005fbea5-2678-406f-88a6-fbe9787e2268 2019-10-11 11:22:54.442841   \n",
       "...                                    ...                        ...   \n",
       "4286  ff5c152c-bd63-4797-8fa2-29987199e76d 2019-10-17 12:25:13.794761   \n",
       "4287  ff82c7c7-16d6-44b1-833b-a217747b0b02 2019-10-15 23:41:07.647658   \n",
       "4289  ffc01466-fdb1-4460-ae94-e800f52eb136 2019-10-07 20:32:49.997044   \n",
       "4290  ffcf50d9-293c-4254-8243-4890b030b238 2019-10-23 11:51:35.199237   \n",
       "4291  ffe68f10-e48e-470e-be9b-eeb93128ff1a 2019-10-21 16:39:33.867145   \n",
       "\n",
       "              dt      month  weekday  \n",
       "0     2019-10-07 2019-10-01        0  \n",
       "2     2019-11-01 2019-11-01        4  \n",
       "3     2019-10-18 2019-10-01        4  \n",
       "4     2019-10-25 2019-10-01        4  \n",
       "6     2019-10-11 2019-10-01        4  \n",
       "...          ...        ...      ...  \n",
       "4286  2019-10-17 2019-10-01        3  \n",
       "4287  2019-10-15 2019-10-01        1  \n",
       "4289  2019-10-07 2019-10-01        0  \n",
       "4290  2019-10-23 2019-10-01        2  \n",
       "4291  2019-10-21 2019-10-01        0  \n",
       "\n",
       "[3207 rows x 5 columns]"
      ]
     },
     "execution_count": 126,
     "metadata": {},
     "output_type": "execute_result"
    }
   ],
   "source": [
    "profiles_weekday = profiles.query ('weekday != 5 and weekday != 6')\n",
    "profiles_weekday\n",
    " #срез пользователей установивших приложение в будний день"
   ]
  },
  {
   "cell_type": "code",
   "execution_count": 127,
   "metadata": {},
   "outputs": [
    {
     "data": {
      "text/plain": [
       "3207"
      ]
     },
     "execution_count": 127,
     "metadata": {},
     "output_type": "execute_result"
    }
   ],
   "source": [
    "Y = profiles_weekday['userId'].count()\n",
    "Y"
   ]
  },
  {
   "cell_type": "markdown",
   "metadata": {},
   "source": [
    "***Проверим выгрузки на пересечения***"
   ]
  },
  {
   "cell_type": "code",
   "execution_count": 128,
   "metadata": {},
   "outputs": [
    {
     "data": {
      "text/html": [
       "<div>\n",
       "<style scoped>\n",
       "    .dataframe tbody tr th:only-of-type {\n",
       "        vertical-align: middle;\n",
       "    }\n",
       "\n",
       "    .dataframe tbody tr th {\n",
       "        vertical-align: top;\n",
       "    }\n",
       "\n",
       "    .dataframe thead th {\n",
       "        text-align: right;\n",
       "    }\n",
       "</style>\n",
       "<table border=\"1\" class=\"dataframe\">\n",
       "  <thead>\n",
       "    <tr style=\"text-align: right;\">\n",
       "      <th></th>\n",
       "      <th>userId</th>\n",
       "      <th>first_ts_x</th>\n",
       "      <th>dt_x</th>\n",
       "      <th>month_x</th>\n",
       "      <th>weekday_x</th>\n",
       "      <th>first_ts_y</th>\n",
       "      <th>dt_y</th>\n",
       "      <th>month_y</th>\n",
       "      <th>weekday_y</th>\n",
       "    </tr>\n",
       "  </thead>\n",
       "  <tbody>\n",
       "    <tr>\n",
       "      <th>0</th>\n",
       "      <td>00157779-810c-4498-9e05-a1e9e3cedf93</td>\n",
       "      <td>2019-10-19 21:34:33.849769</td>\n",
       "      <td>2019-10-19</td>\n",
       "      <td>2019-10-01</td>\n",
       "      <td>5.0</td>\n",
       "      <td>NaT</td>\n",
       "      <td>NaN</td>\n",
       "      <td>NaT</td>\n",
       "      <td>NaN</td>\n",
       "    </tr>\n",
       "    <tr>\n",
       "      <th>1</th>\n",
       "      <td>00554293-7e00-4122-b898-4e892c4a7c53</td>\n",
       "      <td>2019-10-27 12:32:28.005179</td>\n",
       "      <td>2019-10-27</td>\n",
       "      <td>2019-10-01</td>\n",
       "      <td>6.0</td>\n",
       "      <td>NaT</td>\n",
       "      <td>NaN</td>\n",
       "      <td>NaT</td>\n",
       "      <td>NaN</td>\n",
       "    </tr>\n",
       "    <tr>\n",
       "      <th>2</th>\n",
       "      <td>006f6ced-225b-4f9c-9f17-23404bc6835f</td>\n",
       "      <td>2019-10-13 10:21:52.569346</td>\n",
       "      <td>2019-10-13</td>\n",
       "      <td>2019-10-01</td>\n",
       "      <td>6.0</td>\n",
       "      <td>NaT</td>\n",
       "      <td>NaN</td>\n",
       "      <td>NaT</td>\n",
       "      <td>NaN</td>\n",
       "    </tr>\n",
       "    <tr>\n",
       "      <th>3</th>\n",
       "      <td>00753c79-ea81-4456-acd0-a47a23ca2fb9</td>\n",
       "      <td>2019-10-20 14:57:06.080501</td>\n",
       "      <td>2019-10-20</td>\n",
       "      <td>2019-10-01</td>\n",
       "      <td>6.0</td>\n",
       "      <td>NaT</td>\n",
       "      <td>NaN</td>\n",
       "      <td>NaT</td>\n",
       "      <td>NaN</td>\n",
       "    </tr>\n",
       "    <tr>\n",
       "      <th>4</th>\n",
       "      <td>009c0f37-8556-4c72-a007-100e28a37373</td>\n",
       "      <td>2019-10-20 02:05:28.051571</td>\n",
       "      <td>2019-10-20</td>\n",
       "      <td>2019-10-01</td>\n",
       "      <td>6.0</td>\n",
       "      <td>NaT</td>\n",
       "      <td>NaN</td>\n",
       "      <td>NaT</td>\n",
       "      <td>NaN</td>\n",
       "    </tr>\n",
       "    <tr>\n",
       "      <th>...</th>\n",
       "      <td>...</td>\n",
       "      <td>...</td>\n",
       "      <td>...</td>\n",
       "      <td>...</td>\n",
       "      <td>...</td>\n",
       "      <td>...</td>\n",
       "      <td>...</td>\n",
       "      <td>...</td>\n",
       "      <td>...</td>\n",
       "    </tr>\n",
       "    <tr>\n",
       "      <th>4288</th>\n",
       "      <td>ff5c152c-bd63-4797-8fa2-29987199e76d</td>\n",
       "      <td>NaT</td>\n",
       "      <td>NaN</td>\n",
       "      <td>NaT</td>\n",
       "      <td>NaN</td>\n",
       "      <td>2019-10-17 12:25:13.794761</td>\n",
       "      <td>2019-10-17</td>\n",
       "      <td>2019-10-01</td>\n",
       "      <td>3.0</td>\n",
       "    </tr>\n",
       "    <tr>\n",
       "      <th>4289</th>\n",
       "      <td>ff82c7c7-16d6-44b1-833b-a217747b0b02</td>\n",
       "      <td>NaT</td>\n",
       "      <td>NaN</td>\n",
       "      <td>NaT</td>\n",
       "      <td>NaN</td>\n",
       "      <td>2019-10-15 23:41:07.647658</td>\n",
       "      <td>2019-10-15</td>\n",
       "      <td>2019-10-01</td>\n",
       "      <td>1.0</td>\n",
       "    </tr>\n",
       "    <tr>\n",
       "      <th>4290</th>\n",
       "      <td>ffc01466-fdb1-4460-ae94-e800f52eb136</td>\n",
       "      <td>NaT</td>\n",
       "      <td>NaN</td>\n",
       "      <td>NaT</td>\n",
       "      <td>NaN</td>\n",
       "      <td>2019-10-07 20:32:49.997044</td>\n",
       "      <td>2019-10-07</td>\n",
       "      <td>2019-10-01</td>\n",
       "      <td>0.0</td>\n",
       "    </tr>\n",
       "    <tr>\n",
       "      <th>4291</th>\n",
       "      <td>ffcf50d9-293c-4254-8243-4890b030b238</td>\n",
       "      <td>NaT</td>\n",
       "      <td>NaN</td>\n",
       "      <td>NaT</td>\n",
       "      <td>NaN</td>\n",
       "      <td>2019-10-23 11:51:35.199237</td>\n",
       "      <td>2019-10-23</td>\n",
       "      <td>2019-10-01</td>\n",
       "      <td>2.0</td>\n",
       "    </tr>\n",
       "    <tr>\n",
       "      <th>4292</th>\n",
       "      <td>ffe68f10-e48e-470e-be9b-eeb93128ff1a</td>\n",
       "      <td>NaT</td>\n",
       "      <td>NaN</td>\n",
       "      <td>NaT</td>\n",
       "      <td>NaN</td>\n",
       "      <td>2019-10-21 16:39:33.867145</td>\n",
       "      <td>2019-10-21</td>\n",
       "      <td>2019-10-01</td>\n",
       "      <td>0.0</td>\n",
       "    </tr>\n",
       "  </tbody>\n",
       "</table>\n",
       "<p>4293 rows × 9 columns</p>\n",
       "</div>"
      ],
      "text/plain": [
       "                                    userId                 first_ts_x  \\\n",
       "0     00157779-810c-4498-9e05-a1e9e3cedf93 2019-10-19 21:34:33.849769   \n",
       "1     00554293-7e00-4122-b898-4e892c4a7c53 2019-10-27 12:32:28.005179   \n",
       "2     006f6ced-225b-4f9c-9f17-23404bc6835f 2019-10-13 10:21:52.569346   \n",
       "3     00753c79-ea81-4456-acd0-a47a23ca2fb9 2019-10-20 14:57:06.080501   \n",
       "4     009c0f37-8556-4c72-a007-100e28a37373 2019-10-20 02:05:28.051571   \n",
       "...                                    ...                        ...   \n",
       "4288  ff5c152c-bd63-4797-8fa2-29987199e76d                        NaT   \n",
       "4289  ff82c7c7-16d6-44b1-833b-a217747b0b02                        NaT   \n",
       "4290  ffc01466-fdb1-4460-ae94-e800f52eb136                        NaT   \n",
       "4291  ffcf50d9-293c-4254-8243-4890b030b238                        NaT   \n",
       "4292  ffe68f10-e48e-470e-be9b-eeb93128ff1a                        NaT   \n",
       "\n",
       "            dt_x    month_x  weekday_x                 first_ts_y        dt_y  \\\n",
       "0     2019-10-19 2019-10-01        5.0                        NaT         NaN   \n",
       "1     2019-10-27 2019-10-01        6.0                        NaT         NaN   \n",
       "2     2019-10-13 2019-10-01        6.0                        NaT         NaN   \n",
       "3     2019-10-20 2019-10-01        6.0                        NaT         NaN   \n",
       "4     2019-10-20 2019-10-01        6.0                        NaT         NaN   \n",
       "...          ...        ...        ...                        ...         ...   \n",
       "4288         NaN        NaT        NaN 2019-10-17 12:25:13.794761  2019-10-17   \n",
       "4289         NaN        NaT        NaN 2019-10-15 23:41:07.647658  2019-10-15   \n",
       "4290         NaN        NaT        NaN 2019-10-07 20:32:49.997044  2019-10-07   \n",
       "4291         NaN        NaT        NaN 2019-10-23 11:51:35.199237  2019-10-23   \n",
       "4292         NaN        NaT        NaN 2019-10-21 16:39:33.867145  2019-10-21   \n",
       "\n",
       "        month_y  weekday_y  \n",
       "0           NaT        NaN  \n",
       "1           NaT        NaN  \n",
       "2           NaT        NaN  \n",
       "3           NaT        NaN  \n",
       "4           NaT        NaN  \n",
       "...         ...        ...  \n",
       "4288 2019-10-01        3.0  \n",
       "4289 2019-10-01        1.0  \n",
       "4290 2019-10-01        0.0  \n",
       "4291 2019-10-01        2.0  \n",
       "4292 2019-10-01        0.0  \n",
       "\n",
       "[4293 rows x 9 columns]"
      ]
     },
     "execution_count": 128,
     "metadata": {},
     "output_type": "execute_result"
    }
   ],
   "source": [
    "filteredUsers = profiles_day_off.merge(profiles_weekday, on = 'userId', how = 'outer') #объединим две таблицы, для обнаружения пересечений по userId\n",
    "filteredUsers"
   ]
  },
  {
   "cell_type": "code",
   "execution_count": 129,
   "metadata": {},
   "outputs": [
    {
     "data": {
      "text/html": [
       "<div>\n",
       "<style scoped>\n",
       "    .dataframe tbody tr th:only-of-type {\n",
       "        vertical-align: middle;\n",
       "    }\n",
       "\n",
       "    .dataframe tbody tr th {\n",
       "        vertical-align: top;\n",
       "    }\n",
       "\n",
       "    .dataframe thead th {\n",
       "        text-align: right;\n",
       "    }\n",
       "</style>\n",
       "<table border=\"1\" class=\"dataframe\">\n",
       "  <thead>\n",
       "    <tr style=\"text-align: right;\">\n",
       "      <th></th>\n",
       "      <th>userId</th>\n",
       "      <th>first_ts_x</th>\n",
       "      <th>dt_x</th>\n",
       "      <th>month_x</th>\n",
       "      <th>weekday_x</th>\n",
       "      <th>first_ts_y</th>\n",
       "      <th>dt_y</th>\n",
       "      <th>month_y</th>\n",
       "      <th>weekday_y</th>\n",
       "    </tr>\n",
       "  </thead>\n",
       "  <tbody>\n",
       "  </tbody>\n",
       "</table>\n",
       "</div>"
      ],
      "text/plain": [
       "Empty DataFrame\n",
       "Columns: [userId, first_ts_x, dt_x, month_x, weekday_x, first_ts_y, dt_y, month_y, weekday_y]\n",
       "Index: []"
      ]
     },
     "execution_count": 129,
     "metadata": {},
     "output_type": "execute_result"
    }
   ],
   "source": [
    "userIdDel = filteredUsers.query('weekday_x >=5 and weekday_y <=4')\n",
    "userIdDel #проверили пересечение пользователей в двух выгрузках"
   ]
  },
  {
   "cell_type": "markdown",
   "metadata": {},
   "source": [
    "***ВЫВОД: Пересечения не обнаружены.***"
   ]
  },
  {
   "cell_type": "code",
   "execution_count": 130,
   "metadata": {},
   "outputs": [],
   "source": [
    "successes_W = profiles_weekday.merge(new_data, on = 'userId', how = 'left')\n",
    "w = successes_W.query('event_name == \"contacts_show\"')\n",
    "s_w = w.groupby('weekday')['userId'].agg('nunique').sum()"
   ]
  },
  {
   "cell_type": "code",
   "execution_count": 131,
   "metadata": {},
   "outputs": [],
   "source": [
    "successes_D = profiles_day_off.merge(new_data, on = 'userId', how = 'left')\n",
    "d = successes_D.query('event_name == \"contacts_show\"')\n",
    "s_d = d.groupby('weekday')['userId'].agg('nunique').sum()"
   ]
  },
  {
   "cell_type": "code",
   "execution_count": 132,
   "metadata": {},
   "outputs": [
    {
     "name": "stdout",
     "output_type": "stream",
     "text": [
      "p-значение:  0.6240331709426399\n",
      "Не получилось отвергнуть нулевую гипотезу, нет оснований считать доли разными\n"
     ]
    }
   ],
   "source": [
    "alpha = .05 # критический уровень статистической значимости\n",
    "\n",
    "successes = np.array([s_w, s_d])\n",
    "trials = np.array([Y, X])\n",
    "\n",
    "# пропорция успехов в первой группе:\n",
    "p1 = successes[0]/trials[0]\n",
    "\n",
    "# пропорция успехов во второй группе:\n",
    "p2 = successes[1]/trials[1]\n",
    "\n",
    "# пропорция успехов в комбинированном датасете:\n",
    "p_combined = (successes[0] + successes[1]) / (trials[0] + trials[1])\n",
    "\n",
    "# разница пропорций в датасетах\n",
    "difference = p1 - p2 \n",
    "\n",
    "# считаем статистику в ст.отклонениях стандартного нормального распределения\n",
    "z_value = difference / mth.sqrt(p_combined * (1 - p_combined) * (1/trials[0] + 1/trials[1]))\n",
    "\n",
    "# задаем стандартное нормальное распределение (среднее 0, ст.отклонение 1)\n",
    "distr = st.norm(0, 1)  \n",
    "\n",
    "p_value = (1 - distr.cdf(abs(z_value))) * 2\n",
    "\n",
    "print('p-значение: ', p_value)\n",
    "\n",
    "if p_value < alpha:\n",
    "    print('Отвергаем нулевую гипотезу: между долями есть значимая разница')\n",
    "else:\n",
    "    print(\n",
    "        'Не получилось отвергнуть нулевую гипотезу, нет оснований считать доли разными'\n",
    "    ) "
   ]
  },
  {
   "cell_type": "markdown",
   "metadata": {},
   "source": [
    "***ВЫВОД: Пользователи, установившие приложение в будние и выходные дни не имеют статистическую разницу в показателях конверсии.***"
   ]
  },
  {
   "cell_type": "markdown",
   "metadata": {},
   "source": [
    "***ИТОГОВЫЙ ВЫВОД:  После проведенного исследования можно следать следующие выводы,***\n",
    "\n",
    "Наибольший и длительный % возврата демонстрируют пользователи привлеченные 2019-10-12 и 2019-10-08. Также стоит отметить, что на 7 лайфтайм % RR у пользователей привлеченых 2019-10-21 и 2019-10-12 самый высокий. % возврата пользователей начинает снижаться с 8 лайфтайма.\n",
    "\n",
    "Среднее время сессии  составило 6 минут 18 секунд, в ходе исследования было установлено, что большая часть нулевых сессий относится к типу события tips_show (показать подсказку), что не всегда является актуальным для пользователя. Из исследования были исключены сессии менее 30 секунд и очень длительные сессии более 30 минут.\n",
    "\n",
    "Конверсия в целевое действие (contacts_show просмотр контактов) составила порядка 15,9 %, что говорит о высоком уровне конверсии пользователей в целом.\n",
    "\n",
    "Далее была произведена сегментация пользователей в разрезе источников привлечение и наивысший уровень RR  показали пользователи привлеченные из источника Yandex, что говорит имеено эти пользователи готовы чаще возвращаться в приложение.\n",
    "\n",
    "В разрезе источников, пользователи из Yandex имеют наибольший процент коверсии 19,2% в целевое действие (show_contacts) что свидетельствет о высоком качестве пользователей привлеченных из данного источника.Далее конверсия 15% у пользователей из источника Google, %  конверсии пользователей  из источника Other 11 %, что также является высоким уровнем конверсии. \n",
    "\n",
    "В разрезе времени наибольшее количество сессий наблюдается в период с 10, 13 и 19-20, смею предположить, что именно в это время (дорога на работу, обед и дорога домой) по этой причине наблюдается повышенная активность сессий, наименьшая активность ночью (время сна), рост количества сессий наблюдается с 7-8 утра время пробуждения.\n",
    "\n",
    "Также в ходе исследования был проведен статистический тест в разрезе двух групп пользователей из источников Yandex и Google, по результатам тестирования нет оснований предполагать, что пользователи из двух групп демонстрируют разную конверсию в целевое действие.\n",
    "\n",
    "Далее был проведен Z-test на предмет различия пользователей установивших приложение в будние и выходные дни, по результаттам тестирования нет оснований считать доли разными, что говорит о том что показатели конверсии в обеих группах статистически одинаковы.\n",
    "\n",
    "Из рекомендаций продолжить работу с источниками Yandex и Google, адаптировать приложение под оба источника, так как  пользователи из указанных источников приходят качественные и демонстрируют высокий показатель конверсии в целевое действие и % возврата."
   ]
  }
 ],
 "metadata": {
  "ExecuteTimeLog": [
   {
    "duration": 1991,
    "start_time": "2023-06-23T15:33:50.771Z"
   },
   {
    "duration": 5,
    "start_time": "2023-06-23T15:35:03.635Z"
   },
   {
    "duration": 446,
    "start_time": "2023-06-23T15:35:03.642Z"
   },
   {
    "duration": 13,
    "start_time": "2023-06-23T15:35:16.714Z"
   },
   {
    "duration": 20,
    "start_time": "2023-06-23T15:35:31.274Z"
   },
   {
    "duration": 11,
    "start_time": "2023-06-23T15:36:05.252Z"
   },
   {
    "duration": 12,
    "start_time": "2023-06-23T15:36:26.865Z"
   },
   {
    "duration": 8,
    "start_time": "2023-06-23T15:38:01.005Z"
   },
   {
    "duration": 34,
    "start_time": "2023-06-23T15:38:18.206Z"
   },
   {
    "duration": 62,
    "start_time": "2023-06-24T10:11:19.230Z"
   },
   {
    "duration": 5,
    "start_time": "2023-06-26T10:10:57.311Z"
   },
   {
    "duration": 434,
    "start_time": "2023-06-26T10:10:57.318Z"
   },
   {
    "duration": 3,
    "start_time": "2023-06-26T10:20:01.215Z"
   },
   {
    "duration": 140,
    "start_time": "2023-06-26T10:22:17.406Z"
   },
   {
    "duration": 22,
    "start_time": "2023-06-26T10:22:30.451Z"
   },
   {
    "duration": 4,
    "start_time": "2023-06-26T10:22:56.405Z"
   },
   {
    "duration": 11,
    "start_time": "2023-06-26T10:23:00.040Z"
   },
   {
    "duration": 3,
    "start_time": "2023-06-26T10:23:27.107Z"
   },
   {
    "duration": 12,
    "start_time": "2023-06-26T10:23:29.386Z"
   },
   {
    "duration": 12,
    "start_time": "2023-06-26T10:23:48.989Z"
   },
   {
    "duration": 17,
    "start_time": "2023-06-26T10:24:05.191Z"
   },
   {
    "duration": 2,
    "start_time": "2023-06-26T10:24:42.240Z"
   },
   {
    "duration": 25,
    "start_time": "2023-06-26T10:24:45.559Z"
   },
   {
    "duration": 3,
    "start_time": "2023-06-26T10:25:22.090Z"
   },
   {
    "duration": 27,
    "start_time": "2023-06-26T10:25:25.108Z"
   },
   {
    "duration": 3,
    "start_time": "2023-06-26T10:25:31.389Z"
   },
   {
    "duration": 3,
    "start_time": "2023-06-26T10:25:37.404Z"
   },
   {
    "duration": 46,
    "start_time": "2023-06-26T10:25:41.594Z"
   },
   {
    "duration": 125,
    "start_time": "2023-06-26T10:26:30.870Z"
   },
   {
    "duration": 67,
    "start_time": "2023-06-26T10:26:43.519Z"
   },
   {
    "duration": 3,
    "start_time": "2023-06-26T10:26:51.144Z"
   },
   {
    "duration": 49,
    "start_time": "2023-06-26T10:26:56.734Z"
   },
   {
    "duration": 16,
    "start_time": "2023-06-26T10:28:52.835Z"
   },
   {
    "duration": 18,
    "start_time": "2023-06-26T10:30:02.359Z"
   },
   {
    "duration": 3,
    "start_time": "2023-06-26T10:30:29.519Z"
   },
   {
    "duration": 17,
    "start_time": "2023-06-26T10:30:34.404Z"
   },
   {
    "duration": 4,
    "start_time": "2023-06-26T10:32:01.206Z"
   },
   {
    "duration": 17,
    "start_time": "2023-06-26T10:32:03.639Z"
   },
   {
    "duration": 7,
    "start_time": "2023-06-26T10:32:48.368Z"
   },
   {
    "duration": 18,
    "start_time": "2023-06-26T10:33:12.996Z"
   },
   {
    "duration": 3,
    "start_time": "2023-06-26T10:33:29.500Z"
   },
   {
    "duration": 17,
    "start_time": "2023-06-26T10:33:33.989Z"
   },
   {
    "duration": 74,
    "start_time": "2023-06-26T10:34:17.839Z"
   },
   {
    "duration": 4,
    "start_time": "2023-06-26T11:02:19.201Z"
   },
   {
    "duration": 22,
    "start_time": "2023-06-26T11:02:28.241Z"
   },
   {
    "duration": 20,
    "start_time": "2023-06-26T11:19:01.705Z"
   },
   {
    "duration": 40,
    "start_time": "2023-06-26T11:19:50.113Z"
   },
   {
    "duration": 1190,
    "start_time": "2023-06-26T11:28:19.946Z"
   },
   {
    "duration": 5,
    "start_time": "2023-06-26T11:30:27.365Z"
   },
   {
    "duration": 12,
    "start_time": "2023-06-26T11:30:36.005Z"
   },
   {
    "duration": 5,
    "start_time": "2023-06-26T11:30:51.945Z"
   },
   {
    "duration": 12,
    "start_time": "2023-06-26T11:32:22.113Z"
   },
   {
    "duration": 7,
    "start_time": "2023-06-26T11:32:25.327Z"
   },
   {
    "duration": 10,
    "start_time": "2023-06-26T11:35:14.345Z"
   },
   {
    "duration": 31,
    "start_time": "2023-06-26T11:35:24.936Z"
   },
   {
    "duration": 11,
    "start_time": "2023-06-26T11:36:10.298Z"
   },
   {
    "duration": 15,
    "start_time": "2023-06-26T11:37:53.777Z"
   },
   {
    "duration": 12,
    "start_time": "2023-06-26T11:38:01.091Z"
   },
   {
    "duration": 58,
    "start_time": "2023-06-26T11:51:32.373Z"
   },
   {
    "duration": 4,
    "start_time": "2023-06-26T11:51:44.346Z"
   },
   {
    "duration": 17,
    "start_time": "2023-06-26T11:52:18.733Z"
   },
   {
    "duration": 6,
    "start_time": "2023-06-26T12:14:36.510Z"
   },
   {
    "duration": 115,
    "start_time": "2023-06-26T12:14:45.257Z"
   },
   {
    "duration": 5,
    "start_time": "2023-06-26T12:15:05.132Z"
   },
   {
    "duration": 1136,
    "start_time": "2023-06-26T12:15:57.102Z"
   },
   {
    "duration": 5,
    "start_time": "2023-06-26T12:16:27.717Z"
   },
   {
    "duration": 62,
    "start_time": "2023-06-26T12:16:42.309Z"
   },
   {
    "duration": 61,
    "start_time": "2023-06-26T12:17:08.805Z"
   },
   {
    "duration": 5,
    "start_time": "2023-06-26T12:17:38.306Z"
   },
   {
    "duration": 486,
    "start_time": "2023-06-26T12:17:38.313Z"
   },
   {
    "duration": 4,
    "start_time": "2023-06-26T12:17:38.801Z"
   },
   {
    "duration": 23,
    "start_time": "2023-06-26T12:17:38.806Z"
   },
   {
    "duration": 71,
    "start_time": "2023-06-26T12:17:38.832Z"
   },
   {
    "duration": 19,
    "start_time": "2023-06-26T12:17:38.904Z"
   },
   {
    "duration": 7,
    "start_time": "2023-06-26T12:17:38.925Z"
   },
   {
    "duration": 13,
    "start_time": "2023-06-26T12:17:38.933Z"
   },
   {
    "duration": 55,
    "start_time": "2023-06-26T12:17:38.947Z"
   },
   {
    "duration": 13,
    "start_time": "2023-06-26T12:17:39.004Z"
   },
   {
    "duration": 4,
    "start_time": "2023-06-26T12:17:47.918Z"
   },
   {
    "duration": 6,
    "start_time": "2023-06-26T12:18:04.914Z"
   },
   {
    "duration": 70,
    "start_time": "2023-06-26T12:18:09.805Z"
   },
   {
    "duration": 10,
    "start_time": "2023-06-26T12:18:48.899Z"
   },
   {
    "duration": 9,
    "start_time": "2023-06-26T12:22:57.078Z"
   },
   {
    "duration": 15,
    "start_time": "2023-06-26T12:23:00.587Z"
   },
   {
    "duration": 4,
    "start_time": "2023-06-26T12:23:25.722Z"
   },
   {
    "duration": 24,
    "start_time": "2023-06-26T12:23:29.650Z"
   },
   {
    "duration": 60,
    "start_time": "2023-06-26T12:24:19.472Z"
   },
   {
    "duration": 75,
    "start_time": "2023-06-26T12:24:28.354Z"
   },
   {
    "duration": 11,
    "start_time": "2023-06-26T12:31:06.807Z"
   },
   {
    "duration": 10,
    "start_time": "2023-06-26T12:31:15.101Z"
   },
   {
    "duration": 10,
    "start_time": "2023-06-26T12:31:32.772Z"
   },
   {
    "duration": 10,
    "start_time": "2023-06-26T12:31:59.823Z"
   },
   {
    "duration": 9,
    "start_time": "2023-06-26T12:32:10.813Z"
   },
   {
    "duration": 5,
    "start_time": "2023-06-26T12:35:21.314Z"
   },
   {
    "duration": 14,
    "start_time": "2023-06-26T12:35:24.319Z"
   },
   {
    "duration": 11,
    "start_time": "2023-06-26T12:35:31.346Z"
   },
   {
    "duration": 5,
    "start_time": "2023-06-26T12:35:41.742Z"
   },
   {
    "duration": 14,
    "start_time": "2023-06-26T12:35:44.415Z"
   },
   {
    "duration": 7,
    "start_time": "2023-06-26T12:36:40.435Z"
   },
   {
    "duration": 36,
    "start_time": "2023-06-26T12:36:44.150Z"
   },
   {
    "duration": 4,
    "start_time": "2023-06-26T12:52:46.932Z"
   },
   {
    "duration": 319,
    "start_time": "2023-06-26T12:52:46.938Z"
   },
   {
    "duration": 3,
    "start_time": "2023-06-26T12:52:47.258Z"
   },
   {
    "duration": 42,
    "start_time": "2023-06-26T12:52:47.263Z"
   },
   {
    "duration": 85,
    "start_time": "2023-06-26T12:52:47.307Z"
   },
   {
    "duration": 18,
    "start_time": "2023-06-26T12:52:47.394Z"
   },
   {
    "duration": 21,
    "start_time": "2023-06-26T12:52:47.414Z"
   },
   {
    "duration": 24,
    "start_time": "2023-06-26T12:52:47.437Z"
   },
   {
    "duration": 39,
    "start_time": "2023-06-26T12:52:47.463Z"
   },
   {
    "duration": 13,
    "start_time": "2023-06-26T12:52:47.504Z"
   },
   {
    "duration": 6,
    "start_time": "2023-06-26T12:52:47.519Z"
   },
   {
    "duration": 74,
    "start_time": "2023-06-26T12:52:47.526Z"
   },
   {
    "duration": 9,
    "start_time": "2023-06-26T12:52:47.601Z"
   },
   {
    "duration": 34,
    "start_time": "2023-06-26T12:52:47.612Z"
   },
   {
    "duration": 28,
    "start_time": "2023-06-26T12:52:47.648Z"
   },
   {
    "duration": 29,
    "start_time": "2023-06-26T12:52:47.677Z"
   },
   {
    "duration": 6,
    "start_time": "2023-06-26T12:52:52.351Z"
   },
   {
    "duration": 4,
    "start_time": "2023-06-26T13:00:13.314Z"
   },
   {
    "duration": 740,
    "start_time": "2023-06-26T13:00:13.320Z"
   },
   {
    "duration": 4,
    "start_time": "2023-06-26T13:00:14.062Z"
   },
   {
    "duration": 37,
    "start_time": "2023-06-26T13:00:14.069Z"
   },
   {
    "duration": 64,
    "start_time": "2023-06-26T13:00:14.108Z"
   },
   {
    "duration": 23,
    "start_time": "2023-06-26T13:00:14.174Z"
   },
   {
    "duration": 10,
    "start_time": "2023-06-26T13:00:14.199Z"
   },
   {
    "duration": 19,
    "start_time": "2023-06-26T13:00:14.211Z"
   },
   {
    "duration": 61,
    "start_time": "2023-06-26T13:00:14.232Z"
   },
   {
    "duration": 16,
    "start_time": "2023-06-26T13:00:14.296Z"
   },
   {
    "duration": 5,
    "start_time": "2023-06-26T13:00:14.314Z"
   },
   {
    "duration": 87,
    "start_time": "2023-06-26T13:00:14.321Z"
   },
   {
    "duration": 6,
    "start_time": "2023-06-26T13:00:14.409Z"
   },
   {
    "duration": 15,
    "start_time": "2023-06-26T13:00:14.416Z"
   },
   {
    "duration": 28,
    "start_time": "2023-06-26T13:00:14.432Z"
   },
   {
    "duration": 26,
    "start_time": "2023-06-26T13:00:14.461Z"
   },
   {
    "duration": 6,
    "start_time": "2023-06-26T13:00:14.488Z"
   },
   {
    "duration": 70,
    "start_time": "2023-06-26T13:00:14.496Z"
   },
   {
    "duration": 11,
    "start_time": "2023-06-26T13:00:14.568Z"
   },
   {
    "duration": 0,
    "start_time": "2023-06-26T13:00:14.580Z"
   },
   {
    "duration": 18,
    "start_time": "2023-06-26T13:00:28.592Z"
   },
   {
    "duration": 7,
    "start_time": "2023-06-26T13:00:31.164Z"
   },
   {
    "duration": 31,
    "start_time": "2023-06-26T13:00:33.090Z"
   },
   {
    "duration": 11,
    "start_time": "2023-06-26T13:01:38.004Z"
   },
   {
    "duration": 16,
    "start_time": "2023-06-26T13:02:29.933Z"
   },
   {
    "duration": 106,
    "start_time": "2023-06-26T13:03:15.124Z"
   },
   {
    "duration": 323,
    "start_time": "2023-06-26T13:03:20.596Z"
   },
   {
    "duration": 4060,
    "start_time": "2023-06-26T13:03:32.732Z"
   },
   {
    "duration": 4014,
    "start_time": "2023-06-26T13:04:03.813Z"
   },
   {
    "duration": 18,
    "start_time": "2023-06-26T13:12:20.345Z"
   },
   {
    "duration": 3853,
    "start_time": "2023-06-26T13:12:33.837Z"
   },
   {
    "duration": 12,
    "start_time": "2023-06-26T13:38:41.932Z"
   },
   {
    "duration": 1697,
    "start_time": "2023-06-26T13:40:37.504Z"
   },
   {
    "duration": 14,
    "start_time": "2023-06-26T13:41:19.862Z"
   },
   {
    "duration": 11,
    "start_time": "2023-06-26T13:43:06.398Z"
   },
   {
    "duration": 4,
    "start_time": "2023-06-26T13:43:48.569Z"
   },
   {
    "duration": 5,
    "start_time": "2023-06-26T13:43:58.431Z"
   },
   {
    "duration": 11,
    "start_time": "2023-06-26T13:44:58.750Z"
   },
   {
    "duration": 15,
    "start_time": "2023-06-26T13:45:03.913Z"
   },
   {
    "duration": 5,
    "start_time": "2023-06-26T13:45:26.405Z"
   },
   {
    "duration": 1879,
    "start_time": "2023-06-27T07:14:16.509Z"
   },
   {
    "duration": 1246,
    "start_time": "2023-06-27T07:14:18.391Z"
   },
   {
    "duration": 5,
    "start_time": "2023-06-27T07:14:19.639Z"
   },
   {
    "duration": 60,
    "start_time": "2023-06-27T07:14:19.647Z"
   },
   {
    "duration": 91,
    "start_time": "2023-06-27T07:14:19.711Z"
   },
   {
    "duration": 25,
    "start_time": "2023-06-27T07:14:19.805Z"
   },
   {
    "duration": 25,
    "start_time": "2023-06-27T07:14:19.832Z"
   },
   {
    "duration": 18,
    "start_time": "2023-06-27T07:14:19.859Z"
   },
   {
    "duration": 69,
    "start_time": "2023-06-27T07:14:19.880Z"
   },
   {
    "duration": 33,
    "start_time": "2023-06-27T07:14:19.952Z"
   },
   {
    "duration": 8,
    "start_time": "2023-06-27T07:14:19.987Z"
   },
   {
    "duration": 99,
    "start_time": "2023-06-27T07:14:19.998Z"
   },
   {
    "duration": 10,
    "start_time": "2023-06-27T07:14:20.099Z"
   },
   {
    "duration": 23,
    "start_time": "2023-06-27T07:14:20.112Z"
   },
   {
    "duration": 30,
    "start_time": "2023-06-27T07:14:20.137Z"
   },
   {
    "duration": 56,
    "start_time": "2023-06-27T07:14:20.169Z"
   },
   {
    "duration": 11,
    "start_time": "2023-06-27T07:14:20.228Z"
   },
   {
    "duration": 43,
    "start_time": "2023-06-27T07:14:20.242Z"
   },
   {
    "duration": 22,
    "start_time": "2023-06-27T07:14:20.286Z"
   },
   {
    "duration": 8,
    "start_time": "2023-06-27T07:14:20.310Z"
   },
   {
    "duration": 82,
    "start_time": "2023-06-27T07:14:20.321Z"
   },
   {
    "duration": 4699,
    "start_time": "2023-06-27T07:14:20.406Z"
   },
   {
    "duration": 22,
    "start_time": "2023-06-27T07:14:25.107Z"
   },
   {
    "duration": 1094,
    "start_time": "2023-06-27T07:14:44.816Z"
   },
   {
    "duration": 1102,
    "start_time": "2023-06-27T07:15:14.564Z"
   },
   {
    "duration": 1028,
    "start_time": "2023-06-27T07:15:19.198Z"
   },
   {
    "duration": 804,
    "start_time": "2023-06-27T07:15:30.547Z"
   },
   {
    "duration": 858,
    "start_time": "2023-06-27T07:15:39.033Z"
   },
   {
    "duration": 881,
    "start_time": "2023-06-27T07:15:53.512Z"
   },
   {
    "duration": 12,
    "start_time": "2023-06-27T07:17:27.621Z"
   },
   {
    "duration": 14,
    "start_time": "2023-06-27T07:17:38.499Z"
   },
   {
    "duration": 807,
    "start_time": "2023-06-27T07:18:19.449Z"
   },
   {
    "duration": 13,
    "start_time": "2023-06-27T07:18:23.771Z"
   },
   {
    "duration": 944,
    "start_time": "2023-06-27T07:19:07.804Z"
   },
   {
    "duration": 14,
    "start_time": "2023-06-27T07:19:10.716Z"
   },
   {
    "duration": 1585,
    "start_time": "2023-06-27T07:19:17.607Z"
   },
   {
    "duration": 8,
    "start_time": "2023-06-27T07:21:18.324Z"
   },
   {
    "duration": 17,
    "start_time": "2023-06-27T07:21:25.191Z"
   },
   {
    "duration": 18,
    "start_time": "2023-06-27T07:21:43.616Z"
   },
   {
    "duration": 23,
    "start_time": "2023-06-27T07:21:57.400Z"
   },
   {
    "duration": 880,
    "start_time": "2023-06-27T07:22:26.769Z"
   },
   {
    "duration": 25,
    "start_time": "2023-06-27T07:22:32.169Z"
   },
   {
    "duration": 840,
    "start_time": "2023-06-27T07:22:59.268Z"
   },
   {
    "duration": 18,
    "start_time": "2023-06-27T07:23:02.807Z"
   },
   {
    "duration": 788,
    "start_time": "2023-06-27T07:24:01.599Z"
   },
   {
    "duration": 6,
    "start_time": "2023-06-27T07:24:10.837Z"
   },
   {
    "duration": 381,
    "start_time": "2023-06-27T07:24:10.845Z"
   },
   {
    "duration": 3,
    "start_time": "2023-06-27T07:24:11.228Z"
   },
   {
    "duration": 34,
    "start_time": "2023-06-27T07:24:11.232Z"
   },
   {
    "duration": 64,
    "start_time": "2023-06-27T07:24:11.269Z"
   },
   {
    "duration": 36,
    "start_time": "2023-06-27T07:24:11.334Z"
   },
   {
    "duration": 8,
    "start_time": "2023-06-27T07:24:11.372Z"
   },
   {
    "duration": 15,
    "start_time": "2023-06-27T07:24:11.382Z"
   },
   {
    "duration": 39,
    "start_time": "2023-06-27T07:24:11.399Z"
   },
   {
    "duration": 28,
    "start_time": "2023-06-27T07:24:11.440Z"
   },
   {
    "duration": 6,
    "start_time": "2023-06-27T07:24:11.469Z"
   },
   {
    "duration": 79,
    "start_time": "2023-06-27T07:24:11.477Z"
   },
   {
    "duration": 12,
    "start_time": "2023-06-27T07:24:11.559Z"
   },
   {
    "duration": 10,
    "start_time": "2023-06-27T07:24:11.574Z"
   },
   {
    "duration": 109,
    "start_time": "2023-06-27T07:24:11.586Z"
   },
   {
    "duration": 20,
    "start_time": "2023-06-27T07:24:11.696Z"
   },
   {
    "duration": 7,
    "start_time": "2023-06-27T07:24:11.718Z"
   },
   {
    "duration": 51,
    "start_time": "2023-06-27T07:24:11.726Z"
   },
   {
    "duration": 21,
    "start_time": "2023-06-27T07:24:11.780Z"
   },
   {
    "duration": 7,
    "start_time": "2023-06-27T07:24:11.802Z"
   },
   {
    "duration": 58,
    "start_time": "2023-06-27T07:24:11.811Z"
   },
   {
    "duration": 4535,
    "start_time": "2023-06-27T07:24:11.871Z"
   },
   {
    "duration": 18,
    "start_time": "2023-06-27T07:24:16.408Z"
   },
   {
    "duration": 1019,
    "start_time": "2023-06-27T07:24:16.428Z"
   },
   {
    "duration": 928,
    "start_time": "2023-06-27T07:24:19.768Z"
   },
   {
    "duration": 25,
    "start_time": "2023-06-27T07:24:23.530Z"
   },
   {
    "duration": 848,
    "start_time": "2023-06-27T07:25:15.406Z"
   },
   {
    "duration": 22,
    "start_time": "2023-06-27T07:25:18.906Z"
   },
   {
    "duration": 23,
    "start_time": "2023-06-27T07:28:48.005Z"
   },
   {
    "duration": 20,
    "start_time": "2023-06-27T07:28:51.598Z"
   },
   {
    "duration": 7,
    "start_time": "2023-06-27T07:30:33.017Z"
   },
   {
    "duration": 9,
    "start_time": "2023-06-27T07:30:45.916Z"
   },
   {
    "duration": 12,
    "start_time": "2023-06-27T07:31:13.716Z"
   },
   {
    "duration": 22,
    "start_time": "2023-06-27T07:31:59.609Z"
   },
   {
    "duration": 27,
    "start_time": "2023-06-27T07:32:11.724Z"
   },
   {
    "duration": 30,
    "start_time": "2023-06-27T07:32:48.828Z"
   },
   {
    "duration": 25,
    "start_time": "2023-06-27T07:33:13.510Z"
   },
   {
    "duration": 31,
    "start_time": "2023-06-27T07:33:19.311Z"
   },
   {
    "duration": 7,
    "start_time": "2023-06-27T07:41:11.720Z"
   },
   {
    "duration": 433,
    "start_time": "2023-06-27T07:41:11.730Z"
   },
   {
    "duration": 4,
    "start_time": "2023-06-27T07:41:12.165Z"
   },
   {
    "duration": 40,
    "start_time": "2023-06-27T07:41:12.171Z"
   },
   {
    "duration": 144,
    "start_time": "2023-06-27T07:41:12.215Z"
   },
   {
    "duration": 37,
    "start_time": "2023-06-27T07:41:12.369Z"
   },
   {
    "duration": 22,
    "start_time": "2023-06-27T07:41:12.410Z"
   },
   {
    "duration": 14,
    "start_time": "2023-06-27T07:41:12.434Z"
   },
   {
    "duration": 62,
    "start_time": "2023-06-27T07:41:12.469Z"
   },
   {
    "duration": 38,
    "start_time": "2023-06-27T07:41:12.534Z"
   },
   {
    "duration": 11,
    "start_time": "2023-06-27T07:41:12.575Z"
   },
   {
    "duration": 141,
    "start_time": "2023-06-27T07:41:12.588Z"
   },
   {
    "duration": 15,
    "start_time": "2023-06-27T07:41:12.732Z"
   },
   {
    "duration": 13,
    "start_time": "2023-06-27T07:41:12.767Z"
   },
   {
    "duration": 22,
    "start_time": "2023-06-27T07:41:12.783Z"
   },
   {
    "duration": 61,
    "start_time": "2023-06-27T07:41:12.808Z"
   },
   {
    "duration": 11,
    "start_time": "2023-06-27T07:41:12.872Z"
   },
   {
    "duration": 55,
    "start_time": "2023-06-27T07:41:12.886Z"
   },
   {
    "duration": 37,
    "start_time": "2023-06-27T07:41:12.943Z"
   },
   {
    "duration": 13,
    "start_time": "2023-06-27T07:41:12.983Z"
   },
   {
    "duration": 56,
    "start_time": "2023-06-27T07:41:12.998Z"
   },
   {
    "duration": 4867,
    "start_time": "2023-06-27T07:41:13.057Z"
   },
   {
    "duration": 43,
    "start_time": "2023-06-27T07:41:17.926Z"
   },
   {
    "duration": 1080,
    "start_time": "2023-06-27T07:41:17.972Z"
   },
   {
    "duration": 29,
    "start_time": "2023-06-27T07:41:19.054Z"
   },
   {
    "duration": 23,
    "start_time": "2023-06-27T07:41:19.084Z"
   },
   {
    "duration": 24,
    "start_time": "2023-06-27T07:41:31.808Z"
   },
   {
    "duration": 66,
    "start_time": "2023-06-27T07:42:34.362Z"
   },
   {
    "duration": 23,
    "start_time": "2023-06-27T07:42:55.722Z"
   },
   {
    "duration": 28,
    "start_time": "2023-06-27T07:43:23.499Z"
   },
   {
    "duration": 5,
    "start_time": "2023-06-27T07:57:36.613Z"
   },
   {
    "duration": 417,
    "start_time": "2023-06-27T07:57:36.622Z"
   },
   {
    "duration": 7,
    "start_time": "2023-06-27T07:57:37.041Z"
   },
   {
    "duration": 40,
    "start_time": "2023-06-27T07:57:37.050Z"
   },
   {
    "duration": 80,
    "start_time": "2023-06-27T07:57:37.099Z"
   },
   {
    "duration": 36,
    "start_time": "2023-06-27T07:57:37.181Z"
   },
   {
    "duration": 33,
    "start_time": "2023-06-27T07:57:37.219Z"
   },
   {
    "duration": 41,
    "start_time": "2023-06-27T07:57:37.254Z"
   },
   {
    "duration": 41,
    "start_time": "2023-06-27T07:57:37.304Z"
   },
   {
    "duration": 15,
    "start_time": "2023-06-27T07:57:37.347Z"
   },
   {
    "duration": 12,
    "start_time": "2023-06-27T07:57:37.364Z"
   },
   {
    "duration": 123,
    "start_time": "2023-06-27T07:57:37.378Z"
   },
   {
    "duration": 9,
    "start_time": "2023-06-27T07:57:37.503Z"
   },
   {
    "duration": 10,
    "start_time": "2023-06-27T07:57:37.516Z"
   },
   {
    "duration": 16,
    "start_time": "2023-06-27T07:57:37.528Z"
   },
   {
    "duration": 50,
    "start_time": "2023-06-27T07:57:37.546Z"
   },
   {
    "duration": 13,
    "start_time": "2023-06-27T07:57:37.599Z"
   },
   {
    "duration": 45,
    "start_time": "2023-06-27T07:57:37.614Z"
   },
   {
    "duration": 40,
    "start_time": "2023-06-27T07:57:37.662Z"
   },
   {
    "duration": 13,
    "start_time": "2023-06-27T07:57:37.704Z"
   },
   {
    "duration": 51,
    "start_time": "2023-06-27T07:57:37.719Z"
   },
   {
    "duration": 5050,
    "start_time": "2023-06-27T07:57:37.771Z"
   },
   {
    "duration": 20,
    "start_time": "2023-06-27T07:57:42.823Z"
   },
   {
    "duration": 1004,
    "start_time": "2023-06-27T07:57:42.846Z"
   },
   {
    "duration": 31,
    "start_time": "2023-06-27T07:57:43.853Z"
   },
   {
    "duration": 38,
    "start_time": "2023-06-27T07:57:43.885Z"
   },
   {
    "duration": 14,
    "start_time": "2023-06-27T07:58:39.513Z"
   },
   {
    "duration": 705,
    "start_time": "2023-06-27T08:05:25.353Z"
   },
   {
    "duration": 1032,
    "start_time": "2023-06-27T08:05:57.031Z"
   },
   {
    "duration": 20,
    "start_time": "2023-06-27T08:06:32.614Z"
   },
   {
    "duration": 722,
    "start_time": "2023-06-27T08:06:45.904Z"
   },
   {
    "duration": 17,
    "start_time": "2023-06-27T08:07:38.342Z"
   },
   {
    "duration": 24,
    "start_time": "2023-06-27T08:08:05.105Z"
   },
   {
    "duration": 24,
    "start_time": "2023-06-27T08:09:25.433Z"
   },
   {
    "duration": 1403,
    "start_time": "2023-06-27T08:09:42.846Z"
   },
   {
    "duration": 16,
    "start_time": "2023-06-27T08:10:41.742Z"
   },
   {
    "duration": 693,
    "start_time": "2023-06-27T08:10:44.545Z"
   },
   {
    "duration": 7,
    "start_time": "2023-06-27T08:10:59.762Z"
   },
   {
    "duration": 482,
    "start_time": "2023-06-27T08:10:59.770Z"
   },
   {
    "duration": 4,
    "start_time": "2023-06-27T08:11:00.255Z"
   },
   {
    "duration": 54,
    "start_time": "2023-06-27T08:11:00.261Z"
   },
   {
    "duration": 112,
    "start_time": "2023-06-27T08:11:00.318Z"
   },
   {
    "duration": 23,
    "start_time": "2023-06-27T08:11:00.433Z"
   },
   {
    "duration": 43,
    "start_time": "2023-06-27T08:11:00.458Z"
   },
   {
    "duration": 55,
    "start_time": "2023-06-27T08:11:00.504Z"
   },
   {
    "duration": 83,
    "start_time": "2023-06-27T08:11:00.561Z"
   },
   {
    "duration": 42,
    "start_time": "2023-06-27T08:11:00.646Z"
   },
   {
    "duration": 9,
    "start_time": "2023-06-27T08:11:00.698Z"
   },
   {
    "duration": 118,
    "start_time": "2023-06-27T08:11:00.709Z"
   },
   {
    "duration": 8,
    "start_time": "2023-06-27T08:11:00.829Z"
   },
   {
    "duration": 64,
    "start_time": "2023-06-27T08:11:00.839Z"
   },
   {
    "duration": 52,
    "start_time": "2023-06-27T08:11:00.905Z"
   },
   {
    "duration": 70,
    "start_time": "2023-06-27T08:11:00.959Z"
   },
   {
    "duration": 16,
    "start_time": "2023-06-27T08:11:01.031Z"
   },
   {
    "duration": 89,
    "start_time": "2023-06-27T08:11:01.049Z"
   },
   {
    "duration": 51,
    "start_time": "2023-06-27T08:11:01.140Z"
   },
   {
    "duration": 32,
    "start_time": "2023-06-27T08:11:01.201Z"
   },
   {
    "duration": 87,
    "start_time": "2023-06-27T08:11:01.236Z"
   },
   {
    "duration": 5398,
    "start_time": "2023-06-27T08:11:01.325Z"
   },
   {
    "duration": 17,
    "start_time": "2023-06-27T08:11:06.725Z"
   },
   {
    "duration": 1058,
    "start_time": "2023-06-27T08:11:06.744Z"
   },
   {
    "duration": 19,
    "start_time": "2023-06-27T08:11:07.805Z"
   },
   {
    "duration": 28,
    "start_time": "2023-06-27T08:11:24.151Z"
   },
   {
    "duration": 30,
    "start_time": "2023-06-27T08:11:43.233Z"
   },
   {
    "duration": 54,
    "start_time": "2023-06-27T08:12:03.930Z"
   },
   {
    "duration": 52,
    "start_time": "2023-06-27T08:12:24.051Z"
   },
   {
    "duration": 111,
    "start_time": "2023-06-27T08:12:54.333Z"
   },
   {
    "duration": 15,
    "start_time": "2023-06-27T08:13:58.613Z"
   },
   {
    "duration": 14,
    "start_time": "2023-06-27T08:14:24.445Z"
   },
   {
    "duration": 5,
    "start_time": "2023-06-27T08:14:56.701Z"
   },
   {
    "duration": 7,
    "start_time": "2023-06-27T08:15:00.537Z"
   },
   {
    "duration": 621,
    "start_time": "2023-06-27T08:15:05.216Z"
   },
   {
    "duration": 59,
    "start_time": "2023-06-27T08:16:21.137Z"
   },
   {
    "duration": 59,
    "start_time": "2023-06-27T08:16:29.946Z"
   },
   {
    "duration": 100,
    "start_time": "2023-06-27T08:16:50.858Z"
   },
   {
    "duration": 42,
    "start_time": "2023-06-27T08:17:08.413Z"
   },
   {
    "duration": 6,
    "start_time": "2023-06-27T08:18:27.409Z"
   },
   {
    "duration": 15,
    "start_time": "2023-06-27T08:18:35.010Z"
   },
   {
    "duration": 9,
    "start_time": "2023-06-27T08:19:02.427Z"
   },
   {
    "duration": 16,
    "start_time": "2023-06-27T08:19:09.820Z"
   },
   {
    "duration": 640,
    "start_time": "2023-06-27T08:19:20.961Z"
   },
   {
    "duration": 593,
    "start_time": "2023-06-27T08:23:31.137Z"
   },
   {
    "duration": 518,
    "start_time": "2023-06-27T08:25:34.608Z"
   },
   {
    "duration": 8,
    "start_time": "2023-06-27T08:29:02.718Z"
   },
   {
    "duration": 15,
    "start_time": "2023-06-27T08:31:04.053Z"
   },
   {
    "duration": 6,
    "start_time": "2023-06-27T08:31:17.775Z"
   },
   {
    "duration": 18,
    "start_time": "2023-06-27T08:31:32.206Z"
   },
   {
    "duration": 9,
    "start_time": "2023-06-27T08:31:40.532Z"
   },
   {
    "duration": 7,
    "start_time": "2023-06-27T08:31:52.412Z"
   },
   {
    "duration": 6,
    "start_time": "2023-06-27T08:32:06.715Z"
   },
   {
    "duration": 19,
    "start_time": "2023-06-27T08:33:10.590Z"
   },
   {
    "duration": 6,
    "start_time": "2023-06-27T08:33:46.413Z"
   },
   {
    "duration": 6,
    "start_time": "2023-06-27T08:36:20.300Z"
   },
   {
    "duration": 402,
    "start_time": "2023-06-27T08:36:20.309Z"
   },
   {
    "duration": 4,
    "start_time": "2023-06-27T08:36:20.714Z"
   },
   {
    "duration": 52,
    "start_time": "2023-06-27T08:36:20.721Z"
   },
   {
    "duration": 99,
    "start_time": "2023-06-27T08:36:20.777Z"
   },
   {
    "duration": 23,
    "start_time": "2023-06-27T08:36:20.879Z"
   },
   {
    "duration": 11,
    "start_time": "2023-06-27T08:36:20.904Z"
   },
   {
    "duration": 14,
    "start_time": "2023-06-27T08:36:20.917Z"
   },
   {
    "duration": 167,
    "start_time": "2023-06-27T08:36:20.933Z"
   },
   {
    "duration": 22,
    "start_time": "2023-06-27T08:36:21.102Z"
   },
   {
    "duration": 6,
    "start_time": "2023-06-27T08:36:21.126Z"
   },
   {
    "duration": 99,
    "start_time": "2023-06-27T08:36:21.134Z"
   },
   {
    "duration": 11,
    "start_time": "2023-06-27T08:36:21.238Z"
   },
   {
    "duration": 19,
    "start_time": "2023-06-27T08:36:21.251Z"
   },
   {
    "duration": 20,
    "start_time": "2023-06-27T08:36:21.271Z"
   },
   {
    "duration": 32,
    "start_time": "2023-06-27T08:36:21.293Z"
   },
   {
    "duration": 9,
    "start_time": "2023-06-27T08:36:21.327Z"
   },
   {
    "duration": 78,
    "start_time": "2023-06-27T08:36:21.338Z"
   },
   {
    "duration": 31,
    "start_time": "2023-06-27T08:36:21.418Z"
   },
   {
    "duration": 12,
    "start_time": "2023-06-27T08:36:21.467Z"
   },
   {
    "duration": 78,
    "start_time": "2023-06-27T08:36:21.482Z"
   },
   {
    "duration": 4861,
    "start_time": "2023-06-27T08:36:21.563Z"
   },
   {
    "duration": 41,
    "start_time": "2023-06-27T08:36:26.426Z"
   },
   {
    "duration": 981,
    "start_time": "2023-06-27T08:36:26.470Z"
   },
   {
    "duration": 28,
    "start_time": "2023-06-27T08:36:27.453Z"
   },
   {
    "duration": 16,
    "start_time": "2023-06-27T08:36:35.408Z"
   },
   {
    "duration": 15,
    "start_time": "2023-06-27T08:36:39.375Z"
   },
   {
    "duration": 7,
    "start_time": "2023-06-27T08:36:51.043Z"
   },
   {
    "duration": 1960,
    "start_time": "2023-06-27T10:22:11.653Z"
   },
   {
    "duration": 526,
    "start_time": "2023-06-27T10:22:13.616Z"
   },
   {
    "duration": 6,
    "start_time": "2023-06-27T10:22:14.145Z"
   },
   {
    "duration": 58,
    "start_time": "2023-06-27T10:22:14.153Z"
   },
   {
    "duration": 90,
    "start_time": "2023-06-27T10:22:14.214Z"
   },
   {
    "duration": 33,
    "start_time": "2023-06-27T10:22:14.306Z"
   },
   {
    "duration": 7,
    "start_time": "2023-06-27T10:22:14.342Z"
   },
   {
    "duration": 30,
    "start_time": "2023-06-27T10:22:14.366Z"
   },
   {
    "duration": 54,
    "start_time": "2023-06-27T10:22:14.399Z"
   },
   {
    "duration": 37,
    "start_time": "2023-06-27T10:22:14.456Z"
   },
   {
    "duration": 16,
    "start_time": "2023-06-27T10:22:14.495Z"
   },
   {
    "duration": 121,
    "start_time": "2023-06-27T10:22:14.518Z"
   },
   {
    "duration": 9,
    "start_time": "2023-06-27T10:22:14.641Z"
   },
   {
    "duration": 15,
    "start_time": "2023-06-27T10:22:14.654Z"
   },
   {
    "duration": 28,
    "start_time": "2023-06-27T10:22:14.672Z"
   },
   {
    "duration": 34,
    "start_time": "2023-06-27T10:22:14.704Z"
   },
   {
    "duration": 10,
    "start_time": "2023-06-27T10:22:14.740Z"
   },
   {
    "duration": 61,
    "start_time": "2023-06-27T10:22:14.752Z"
   },
   {
    "duration": 22,
    "start_time": "2023-06-27T10:22:14.816Z"
   },
   {
    "duration": 11,
    "start_time": "2023-06-27T10:22:14.840Z"
   },
   {
    "duration": 51,
    "start_time": "2023-06-27T10:22:14.871Z"
   },
   {
    "duration": 5313,
    "start_time": "2023-06-27T10:22:14.924Z"
   },
   {
    "duration": 18,
    "start_time": "2023-06-27T10:22:20.239Z"
   },
   {
    "duration": 1027,
    "start_time": "2023-06-27T10:22:20.259Z"
   },
   {
    "duration": 29,
    "start_time": "2023-06-27T10:22:21.299Z"
   },
   {
    "duration": 2305,
    "start_time": "2023-06-27T10:25:43.504Z"
   },
   {
    "duration": 507,
    "start_time": "2023-06-27T10:25:45.816Z"
   },
   {
    "duration": 4,
    "start_time": "2023-06-27T10:25:46.326Z"
   },
   {
    "duration": 58,
    "start_time": "2023-06-27T10:25:46.333Z"
   },
   {
    "duration": 98,
    "start_time": "2023-06-27T10:25:46.393Z"
   },
   {
    "duration": 47,
    "start_time": "2023-06-27T10:25:46.493Z"
   },
   {
    "duration": 47,
    "start_time": "2023-06-27T10:25:46.543Z"
   },
   {
    "duration": 37,
    "start_time": "2023-06-27T10:25:46.594Z"
   },
   {
    "duration": 58,
    "start_time": "2023-06-27T10:25:46.633Z"
   },
   {
    "duration": 25,
    "start_time": "2023-06-27T10:25:46.694Z"
   },
   {
    "duration": 7,
    "start_time": "2023-06-27T10:25:46.722Z"
   },
   {
    "duration": 133,
    "start_time": "2023-06-27T10:25:46.731Z"
   },
   {
    "duration": 11,
    "start_time": "2023-06-27T10:25:46.866Z"
   },
   {
    "duration": 51,
    "start_time": "2023-06-27T10:25:46.880Z"
   },
   {
    "duration": 29,
    "start_time": "2023-06-27T10:25:46.934Z"
   },
   {
    "duration": 33,
    "start_time": "2023-06-27T10:25:46.966Z"
   },
   {
    "duration": 10,
    "start_time": "2023-06-27T10:25:47.002Z"
   },
   {
    "duration": 65,
    "start_time": "2023-06-27T10:25:47.014Z"
   },
   {
    "duration": 33,
    "start_time": "2023-06-27T10:25:47.086Z"
   },
   {
    "duration": 9,
    "start_time": "2023-06-27T10:25:47.121Z"
   },
   {
    "duration": 71,
    "start_time": "2023-06-27T10:25:47.132Z"
   },
   {
    "duration": 5611,
    "start_time": "2023-06-27T10:25:47.207Z"
   },
   {
    "duration": 22,
    "start_time": "2023-06-27T10:25:52.820Z"
   },
   {
    "duration": 1426,
    "start_time": "2023-06-27T10:25:52.845Z"
   },
   {
    "duration": 32,
    "start_time": "2023-06-27T10:25:54.280Z"
   },
   {
    "duration": 372,
    "start_time": "2023-06-27T10:25:54.317Z"
   },
   {
    "duration": 23,
    "start_time": "2023-06-27T10:25:54.692Z"
   },
   {
    "duration": 10,
    "start_time": "2023-06-27T10:25:54.720Z"
   },
   {
    "duration": 178,
    "start_time": "2023-06-27T10:26:54.906Z"
   },
   {
    "duration": 35,
    "start_time": "2023-06-27T10:27:24.613Z"
   },
   {
    "duration": 39,
    "start_time": "2023-06-27T10:28:20.219Z"
   },
   {
    "duration": 32,
    "start_time": "2023-06-27T10:28:39.142Z"
   },
   {
    "duration": 8,
    "start_time": "2023-06-27T10:29:14.760Z"
   },
   {
    "duration": 461,
    "start_time": "2023-06-27T10:29:14.771Z"
   },
   {
    "duration": 4,
    "start_time": "2023-06-27T10:29:15.234Z"
   },
   {
    "duration": 36,
    "start_time": "2023-06-27T10:29:15.241Z"
   },
   {
    "duration": 115,
    "start_time": "2023-06-27T10:29:15.280Z"
   },
   {
    "duration": 35,
    "start_time": "2023-06-27T10:29:15.398Z"
   },
   {
    "duration": 49,
    "start_time": "2023-06-27T10:29:15.435Z"
   },
   {
    "duration": 32,
    "start_time": "2023-06-27T10:29:15.486Z"
   },
   {
    "duration": 71,
    "start_time": "2023-06-27T10:29:15.523Z"
   },
   {
    "duration": 21,
    "start_time": "2023-06-27T10:29:15.596Z"
   },
   {
    "duration": 39,
    "start_time": "2023-06-27T10:29:15.619Z"
   },
   {
    "duration": 127,
    "start_time": "2023-06-27T10:29:15.660Z"
   },
   {
    "duration": 13,
    "start_time": "2023-06-27T10:29:15.790Z"
   },
   {
    "duration": 17,
    "start_time": "2023-06-27T10:29:15.807Z"
   },
   {
    "duration": 32,
    "start_time": "2023-06-27T10:29:15.827Z"
   },
   {
    "duration": 65,
    "start_time": "2023-06-27T10:29:15.861Z"
   },
   {
    "duration": 14,
    "start_time": "2023-06-27T10:29:15.929Z"
   },
   {
    "duration": 48,
    "start_time": "2023-06-27T10:29:15.945Z"
   },
   {
    "duration": 41,
    "start_time": "2023-06-27T10:29:15.995Z"
   },
   {
    "duration": 12,
    "start_time": "2023-06-27T10:29:16.038Z"
   },
   {
    "duration": 73,
    "start_time": "2023-06-27T10:29:16.052Z"
   },
   {
    "duration": 5679,
    "start_time": "2023-06-27T10:29:16.127Z"
   },
   {
    "duration": 26,
    "start_time": "2023-06-27T10:29:21.807Z"
   },
   {
    "duration": 1186,
    "start_time": "2023-06-27T10:29:21.836Z"
   },
   {
    "duration": 32,
    "start_time": "2023-06-27T10:29:23.025Z"
   },
   {
    "duration": 2388,
    "start_time": "2023-06-27T10:35:14.487Z"
   },
   {
    "duration": 397,
    "start_time": "2023-06-27T10:35:16.878Z"
   },
   {
    "duration": 13,
    "start_time": "2023-06-27T10:35:17.277Z"
   },
   {
    "duration": 37,
    "start_time": "2023-06-27T10:35:17.300Z"
   },
   {
    "duration": 93,
    "start_time": "2023-06-27T10:35:17.341Z"
   },
   {
    "duration": 50,
    "start_time": "2023-06-27T10:35:17.438Z"
   },
   {
    "duration": 7,
    "start_time": "2023-06-27T10:35:17.504Z"
   },
   {
    "duration": 22,
    "start_time": "2023-06-27T10:35:17.514Z"
   },
   {
    "duration": 78,
    "start_time": "2023-06-27T10:35:17.539Z"
   },
   {
    "duration": 21,
    "start_time": "2023-06-27T10:35:17.625Z"
   },
   {
    "duration": 10,
    "start_time": "2023-06-27T10:35:17.648Z"
   },
   {
    "duration": 103,
    "start_time": "2023-06-27T10:35:17.661Z"
   },
   {
    "duration": 15,
    "start_time": "2023-06-27T10:35:17.767Z"
   },
   {
    "duration": 18,
    "start_time": "2023-06-27T10:35:17.788Z"
   },
   {
    "duration": 23,
    "start_time": "2023-06-27T10:35:17.812Z"
   },
   {
    "duration": 41,
    "start_time": "2023-06-27T10:35:17.839Z"
   },
   {
    "duration": 11,
    "start_time": "2023-06-27T10:35:17.882Z"
   },
   {
    "duration": 54,
    "start_time": "2023-06-27T10:35:17.898Z"
   },
   {
    "duration": 34,
    "start_time": "2023-06-27T10:35:17.954Z"
   },
   {
    "duration": 9,
    "start_time": "2023-06-27T10:35:17.990Z"
   },
   {
    "duration": 46,
    "start_time": "2023-06-27T10:35:18.001Z"
   },
   {
    "duration": 6240,
    "start_time": "2023-06-27T10:35:18.049Z"
   },
   {
    "duration": 38,
    "start_time": "2023-06-27T10:35:24.292Z"
   },
   {
    "duration": 1642,
    "start_time": "2023-06-27T10:35:24.339Z"
   },
   {
    "duration": 40,
    "start_time": "2023-06-27T10:35:25.989Z"
   },
   {
    "duration": 2022,
    "start_time": "2023-06-27T10:37:15.527Z"
   },
   {
    "duration": 543,
    "start_time": "2023-06-27T10:37:17.553Z"
   },
   {
    "duration": 14,
    "start_time": "2023-06-27T10:37:18.098Z"
   },
   {
    "duration": 40,
    "start_time": "2023-06-27T10:37:18.115Z"
   },
   {
    "duration": 130,
    "start_time": "2023-06-27T10:37:18.159Z"
   },
   {
    "duration": 32,
    "start_time": "2023-06-27T10:37:18.292Z"
   },
   {
    "duration": 43,
    "start_time": "2023-06-27T10:37:18.328Z"
   },
   {
    "duration": 16,
    "start_time": "2023-06-27T10:37:18.377Z"
   },
   {
    "duration": 71,
    "start_time": "2023-06-27T10:37:18.396Z"
   },
   {
    "duration": 37,
    "start_time": "2023-06-27T10:37:18.470Z"
   },
   {
    "duration": 14,
    "start_time": "2023-06-27T10:37:18.509Z"
   },
   {
    "duration": 177,
    "start_time": "2023-06-27T10:37:18.526Z"
   },
   {
    "duration": 12,
    "start_time": "2023-06-27T10:37:18.706Z"
   },
   {
    "duration": 9,
    "start_time": "2023-06-27T10:37:18.722Z"
   },
   {
    "duration": 24,
    "start_time": "2023-06-27T10:37:18.734Z"
   },
   {
    "duration": 46,
    "start_time": "2023-06-27T10:37:18.760Z"
   },
   {
    "duration": 12,
    "start_time": "2023-06-27T10:37:18.812Z"
   },
   {
    "duration": 84,
    "start_time": "2023-06-27T10:37:18.826Z"
   },
   {
    "duration": 32,
    "start_time": "2023-06-27T10:37:18.912Z"
   },
   {
    "duration": 16,
    "start_time": "2023-06-27T10:37:18.947Z"
   },
   {
    "duration": 87,
    "start_time": "2023-06-27T10:37:18.965Z"
   },
   {
    "duration": 6229,
    "start_time": "2023-06-27T10:37:19.054Z"
   },
   {
    "duration": 28,
    "start_time": "2023-06-27T10:37:25.286Z"
   },
   {
    "duration": 1326,
    "start_time": "2023-06-27T10:37:25.316Z"
   },
   {
    "duration": 50,
    "start_time": "2023-06-27T10:37:26.645Z"
   },
   {
    "duration": 316,
    "start_time": "2023-06-27T10:37:26.697Z"
   },
   {
    "duration": 0,
    "start_time": "2023-06-27T10:37:27.016Z"
   },
   {
    "duration": 0,
    "start_time": "2023-06-27T10:37:27.018Z"
   },
   {
    "duration": 240,
    "start_time": "2023-06-27T10:38:03.809Z"
   },
   {
    "duration": 162,
    "start_time": "2023-06-27T10:38:31.919Z"
   },
   {
    "duration": 29,
    "start_time": "2023-06-27T10:42:37.316Z"
   },
   {
    "duration": 19,
    "start_time": "2023-06-27T10:43:15.641Z"
   },
   {
    "duration": 160,
    "start_time": "2023-06-27T10:43:32.110Z"
   },
   {
    "duration": 7,
    "start_time": "2023-06-27T10:48:16.536Z"
   },
   {
    "duration": 578,
    "start_time": "2023-06-27T10:48:16.545Z"
   },
   {
    "duration": 5,
    "start_time": "2023-06-27T10:48:17.134Z"
   },
   {
    "duration": 72,
    "start_time": "2023-06-27T10:48:17.142Z"
   },
   {
    "duration": 95,
    "start_time": "2023-06-27T10:48:17.216Z"
   },
   {
    "duration": 36,
    "start_time": "2023-06-27T10:48:17.316Z"
   },
   {
    "duration": 41,
    "start_time": "2023-06-27T10:48:17.354Z"
   },
   {
    "duration": 33,
    "start_time": "2023-06-27T10:48:17.408Z"
   },
   {
    "duration": 100,
    "start_time": "2023-06-27T10:48:17.443Z"
   },
   {
    "duration": 16,
    "start_time": "2023-06-27T10:48:17.546Z"
   },
   {
    "duration": 32,
    "start_time": "2023-06-27T10:48:17.563Z"
   },
   {
    "duration": 115,
    "start_time": "2023-06-27T10:48:17.599Z"
   },
   {
    "duration": 12,
    "start_time": "2023-06-27T10:48:17.716Z"
   },
   {
    "duration": 13,
    "start_time": "2023-06-27T10:48:17.734Z"
   },
   {
    "duration": 21,
    "start_time": "2023-06-27T10:48:17.749Z"
   },
   {
    "duration": 40,
    "start_time": "2023-06-27T10:48:17.775Z"
   },
   {
    "duration": 14,
    "start_time": "2023-06-27T10:48:17.817Z"
   },
   {
    "duration": 46,
    "start_time": "2023-06-27T10:48:17.836Z"
   },
   {
    "duration": 38,
    "start_time": "2023-06-27T10:48:17.885Z"
   },
   {
    "duration": 11,
    "start_time": "2023-06-27T10:48:17.925Z"
   },
   {
    "duration": 47,
    "start_time": "2023-06-27T10:48:17.939Z"
   },
   {
    "duration": 5655,
    "start_time": "2023-06-27T10:48:17.988Z"
   },
   {
    "duration": 25,
    "start_time": "2023-06-27T10:48:23.648Z"
   },
   {
    "duration": 1207,
    "start_time": "2023-06-27T10:48:23.675Z"
   },
   {
    "duration": 36,
    "start_time": "2023-06-27T10:48:38.850Z"
   },
   {
    "duration": 36,
    "start_time": "2023-06-27T10:50:02.855Z"
   },
   {
    "duration": 8,
    "start_time": "2023-06-27T10:56:04.461Z"
   },
   {
    "duration": 576,
    "start_time": "2023-06-27T10:56:04.503Z"
   },
   {
    "duration": 7,
    "start_time": "2023-06-27T10:56:05.081Z"
   },
   {
    "duration": 63,
    "start_time": "2023-06-27T10:56:05.090Z"
   },
   {
    "duration": 84,
    "start_time": "2023-06-27T10:56:05.155Z"
   },
   {
    "duration": 29,
    "start_time": "2023-06-27T10:56:05.242Z"
   },
   {
    "duration": 8,
    "start_time": "2023-06-27T10:56:05.275Z"
   },
   {
    "duration": 35,
    "start_time": "2023-06-27T10:56:05.285Z"
   },
   {
    "duration": 51,
    "start_time": "2023-06-27T10:56:05.322Z"
   },
   {
    "duration": 22,
    "start_time": "2023-06-27T10:56:05.375Z"
   },
   {
    "duration": 11,
    "start_time": "2023-06-27T10:56:05.399Z"
   },
   {
    "duration": 104,
    "start_time": "2023-06-27T10:56:05.413Z"
   },
   {
    "duration": 19,
    "start_time": "2023-06-27T10:56:05.520Z"
   },
   {
    "duration": 67,
    "start_time": "2023-06-27T10:56:05.542Z"
   },
   {
    "duration": 39,
    "start_time": "2023-06-27T10:56:05.613Z"
   },
   {
    "duration": 56,
    "start_time": "2023-06-27T10:56:05.654Z"
   },
   {
    "duration": 10,
    "start_time": "2023-06-27T10:56:05.714Z"
   },
   {
    "duration": 44,
    "start_time": "2023-06-27T10:56:05.726Z"
   },
   {
    "duration": 42,
    "start_time": "2023-06-27T10:56:05.776Z"
   },
   {
    "duration": 11,
    "start_time": "2023-06-27T10:56:05.821Z"
   },
   {
    "duration": 79,
    "start_time": "2023-06-27T10:56:05.834Z"
   },
   {
    "duration": 5219,
    "start_time": "2023-06-27T10:56:05.915Z"
   },
   {
    "duration": 76,
    "start_time": "2023-06-27T10:56:18.225Z"
   },
   {
    "duration": 1259,
    "start_time": "2023-06-27T10:56:26.821Z"
   },
   {
    "duration": 15,
    "start_time": "2023-06-27T10:56:31.834Z"
   },
   {
    "duration": 13,
    "start_time": "2023-06-27T10:56:50.925Z"
   },
   {
    "duration": 23,
    "start_time": "2023-06-27T11:01:59.156Z"
   },
   {
    "duration": 15,
    "start_time": "2023-06-27T11:02:14.635Z"
   },
   {
    "duration": 6,
    "start_time": "2023-06-27T11:02:34.027Z"
   },
   {
    "duration": 554,
    "start_time": "2023-06-27T11:02:34.037Z"
   },
   {
    "duration": 10,
    "start_time": "2023-06-27T11:02:34.593Z"
   },
   {
    "duration": 44,
    "start_time": "2023-06-27T11:02:34.609Z"
   },
   {
    "duration": 100,
    "start_time": "2023-06-27T11:02:34.656Z"
   },
   {
    "duration": 34,
    "start_time": "2023-06-27T11:02:34.759Z"
   },
   {
    "duration": 17,
    "start_time": "2023-06-27T11:02:34.797Z"
   },
   {
    "duration": 14,
    "start_time": "2023-06-27T11:02:34.816Z"
   },
   {
    "duration": 91,
    "start_time": "2023-06-27T11:02:34.832Z"
   },
   {
    "duration": 25,
    "start_time": "2023-06-27T11:02:34.931Z"
   },
   {
    "duration": 7,
    "start_time": "2023-06-27T11:02:34.960Z"
   },
   {
    "duration": 128,
    "start_time": "2023-06-27T11:02:34.969Z"
   },
   {
    "duration": 12,
    "start_time": "2023-06-27T11:02:35.107Z"
   },
   {
    "duration": 19,
    "start_time": "2023-06-27T11:02:35.122Z"
   },
   {
    "duration": 28,
    "start_time": "2023-06-27T11:02:35.143Z"
   },
   {
    "duration": 45,
    "start_time": "2023-06-27T11:02:35.173Z"
   },
   {
    "duration": 12,
    "start_time": "2023-06-27T11:02:35.221Z"
   },
   {
    "duration": 64,
    "start_time": "2023-06-27T11:02:35.236Z"
   },
   {
    "duration": 34,
    "start_time": "2023-06-27T11:02:35.309Z"
   },
   {
    "duration": 13,
    "start_time": "2023-06-27T11:02:35.346Z"
   },
   {
    "duration": 68,
    "start_time": "2023-06-27T11:02:35.361Z"
   },
   {
    "duration": 5657,
    "start_time": "2023-06-27T11:02:35.433Z"
   },
   {
    "duration": 58,
    "start_time": "2023-06-27T11:02:41.094Z"
   },
   {
    "duration": 1216,
    "start_time": "2023-06-27T11:02:41.167Z"
   },
   {
    "duration": 21,
    "start_time": "2023-06-27T11:02:42.386Z"
   },
   {
    "duration": 27,
    "start_time": "2023-06-27T11:02:42.420Z"
   },
   {
    "duration": 16,
    "start_time": "2023-06-27T11:02:59.518Z"
   },
   {
    "duration": 15,
    "start_time": "2023-06-27T11:03:59.797Z"
   },
   {
    "duration": 30,
    "start_time": "2023-06-27T11:04:43.415Z"
   },
   {
    "duration": 19,
    "start_time": "2023-06-27T11:06:01.210Z"
   },
   {
    "duration": 33,
    "start_time": "2023-06-27T11:06:49.555Z"
   },
   {
    "duration": 12,
    "start_time": "2023-06-27T11:06:55.863Z"
   },
   {
    "duration": 7,
    "start_time": "2023-06-27T11:08:07.701Z"
   },
   {
    "duration": 380,
    "start_time": "2023-06-27T11:08:07.711Z"
   },
   {
    "duration": 5,
    "start_time": "2023-06-27T11:08:08.094Z"
   },
   {
    "duration": 46,
    "start_time": "2023-06-27T11:08:08.102Z"
   },
   {
    "duration": 136,
    "start_time": "2023-06-27T11:08:08.151Z"
   },
   {
    "duration": 25,
    "start_time": "2023-06-27T11:08:08.290Z"
   },
   {
    "duration": 20,
    "start_time": "2023-06-27T11:08:08.318Z"
   },
   {
    "duration": 21,
    "start_time": "2023-06-27T11:08:08.341Z"
   },
   {
    "duration": 69,
    "start_time": "2023-06-27T11:08:08.365Z"
   },
   {
    "duration": 17,
    "start_time": "2023-06-27T11:08:08.437Z"
   },
   {
    "duration": 14,
    "start_time": "2023-06-27T11:08:08.457Z"
   },
   {
    "duration": 97,
    "start_time": "2023-06-27T11:08:08.473Z"
   },
   {
    "duration": 12,
    "start_time": "2023-06-27T11:08:08.574Z"
   },
   {
    "duration": 13,
    "start_time": "2023-06-27T11:08:08.588Z"
   },
   {
    "duration": 52,
    "start_time": "2023-06-27T11:08:08.603Z"
   },
   {
    "duration": 57,
    "start_time": "2023-06-27T11:08:08.658Z"
   },
   {
    "duration": 9,
    "start_time": "2023-06-27T11:08:08.718Z"
   },
   {
    "duration": 90,
    "start_time": "2023-06-27T11:08:08.729Z"
   },
   {
    "duration": 28,
    "start_time": "2023-06-27T11:08:08.821Z"
   },
   {
    "duration": 8,
    "start_time": "2023-06-27T11:08:08.851Z"
   },
   {
    "duration": 68,
    "start_time": "2023-06-27T11:08:08.870Z"
   },
   {
    "duration": 5479,
    "start_time": "2023-06-27T11:08:08.941Z"
   },
   {
    "duration": 86,
    "start_time": "2023-06-27T11:08:14.423Z"
   },
   {
    "duration": 919,
    "start_time": "2023-06-27T11:08:14.512Z"
   },
   {
    "duration": 22,
    "start_time": "2023-06-27T11:08:15.433Z"
   },
   {
    "duration": 51,
    "start_time": "2023-06-27T11:08:15.468Z"
   },
   {
    "duration": 23,
    "start_time": "2023-06-27T11:08:15.521Z"
   },
   {
    "duration": 38,
    "start_time": "2023-06-27T11:08:15.547Z"
   },
   {
    "duration": 6,
    "start_time": "2023-06-27T11:08:22.673Z"
   },
   {
    "duration": 23,
    "start_time": "2023-06-27T11:32:44.132Z"
   },
   {
    "duration": 6,
    "start_time": "2023-06-27T11:33:13.689Z"
   },
   {
    "duration": 660,
    "start_time": "2023-06-27T11:33:13.698Z"
   },
   {
    "duration": 13,
    "start_time": "2023-06-27T11:33:14.361Z"
   },
   {
    "duration": 48,
    "start_time": "2023-06-27T11:33:14.376Z"
   },
   {
    "duration": 74,
    "start_time": "2023-06-27T11:33:14.428Z"
   },
   {
    "duration": 21,
    "start_time": "2023-06-27T11:33:14.504Z"
   },
   {
    "duration": 8,
    "start_time": "2023-06-27T11:33:14.527Z"
   },
   {
    "duration": 45,
    "start_time": "2023-06-27T11:33:14.537Z"
   },
   {
    "duration": 63,
    "start_time": "2023-06-27T11:33:14.584Z"
   },
   {
    "duration": 14,
    "start_time": "2023-06-27T11:33:14.649Z"
   },
   {
    "duration": 11,
    "start_time": "2023-06-27T11:33:14.665Z"
   },
   {
    "duration": 78,
    "start_time": "2023-06-27T11:33:14.684Z"
   },
   {
    "duration": 146,
    "start_time": "2023-06-27T11:33:14.764Z"
   },
   {
    "duration": 14,
    "start_time": "2023-06-27T11:33:14.914Z"
   },
   {
    "duration": 24,
    "start_time": "2023-06-27T11:33:14.930Z"
   },
   {
    "duration": 27,
    "start_time": "2023-06-27T11:33:14.956Z"
   },
   {
    "duration": 12,
    "start_time": "2023-06-27T11:33:14.988Z"
   },
   {
    "duration": 102,
    "start_time": "2023-06-27T11:33:15.002Z"
   },
   {
    "duration": 24,
    "start_time": "2023-06-27T11:33:15.106Z"
   },
   {
    "duration": 20,
    "start_time": "2023-06-27T11:33:15.132Z"
   },
   {
    "duration": 56,
    "start_time": "2023-06-27T11:33:15.154Z"
   },
   {
    "duration": 4966,
    "start_time": "2023-06-27T11:33:15.212Z"
   },
   {
    "duration": 57,
    "start_time": "2023-06-27T11:33:20.180Z"
   },
   {
    "duration": 1004,
    "start_time": "2023-06-27T11:33:20.238Z"
   },
   {
    "duration": 13,
    "start_time": "2023-06-27T11:33:21.244Z"
   },
   {
    "duration": 52,
    "start_time": "2023-06-27T11:33:21.258Z"
   },
   {
    "duration": 20,
    "start_time": "2023-06-27T11:33:21.312Z"
   },
   {
    "duration": 15,
    "start_time": "2023-06-27T11:33:21.333Z"
   },
   {
    "duration": 30,
    "start_time": "2023-06-27T11:33:21.351Z"
   },
   {
    "duration": 28,
    "start_time": "2023-06-27T11:33:21.390Z"
   },
   {
    "duration": 14,
    "start_time": "2023-06-27T11:36:02.109Z"
   },
   {
    "duration": 23,
    "start_time": "2023-06-27T11:36:14.415Z"
   },
   {
    "duration": 26,
    "start_time": "2023-06-27T11:39:20.112Z"
   },
   {
    "duration": 7,
    "start_time": "2023-06-27T11:40:36.424Z"
   },
   {
    "duration": 512,
    "start_time": "2023-06-27T11:40:36.433Z"
   },
   {
    "duration": 4,
    "start_time": "2023-06-27T11:40:36.947Z"
   },
   {
    "duration": 64,
    "start_time": "2023-06-27T11:40:36.952Z"
   },
   {
    "duration": 88,
    "start_time": "2023-06-27T11:40:37.020Z"
   },
   {
    "duration": 29,
    "start_time": "2023-06-27T11:40:37.109Z"
   },
   {
    "duration": 8,
    "start_time": "2023-06-27T11:40:37.140Z"
   },
   {
    "duration": 31,
    "start_time": "2023-06-27T11:40:37.150Z"
   },
   {
    "duration": 61,
    "start_time": "2023-06-27T11:40:37.183Z"
   },
   {
    "duration": 14,
    "start_time": "2023-06-27T11:40:37.246Z"
   },
   {
    "duration": 28,
    "start_time": "2023-06-27T11:40:37.262Z"
   },
   {
    "duration": 106,
    "start_time": "2023-06-27T11:40:37.296Z"
   },
   {
    "duration": 26,
    "start_time": "2023-06-27T11:40:37.413Z"
   },
   {
    "duration": 13,
    "start_time": "2023-06-27T11:40:37.445Z"
   },
   {
    "duration": 46,
    "start_time": "2023-06-27T11:40:37.461Z"
   },
   {
    "duration": 38,
    "start_time": "2023-06-27T11:40:37.520Z"
   },
   {
    "duration": 11,
    "start_time": "2023-06-27T11:40:37.560Z"
   },
   {
    "duration": 59,
    "start_time": "2023-06-27T11:40:37.580Z"
   },
   {
    "duration": 27,
    "start_time": "2023-06-27T11:40:37.641Z"
   },
   {
    "duration": 19,
    "start_time": "2023-06-27T11:40:37.671Z"
   },
   {
    "duration": 57,
    "start_time": "2023-06-27T11:40:37.692Z"
   },
   {
    "duration": 5603,
    "start_time": "2023-06-27T11:40:37.752Z"
   },
   {
    "duration": 89,
    "start_time": "2023-06-27T11:40:43.358Z"
   },
   {
    "duration": 1182,
    "start_time": "2023-06-27T11:40:43.450Z"
   },
   {
    "duration": 19,
    "start_time": "2023-06-27T11:40:44.634Z"
   },
   {
    "duration": 38,
    "start_time": "2023-06-27T11:40:44.655Z"
   },
   {
    "duration": 23,
    "start_time": "2023-06-27T11:40:44.695Z"
   },
   {
    "duration": 24,
    "start_time": "2023-06-27T11:40:44.722Z"
   },
   {
    "duration": 5,
    "start_time": "2023-06-27T11:40:44.753Z"
   },
   {
    "duration": 45,
    "start_time": "2023-06-27T11:40:49.740Z"
   },
   {
    "duration": 17,
    "start_time": "2023-06-27T11:42:42.327Z"
   },
   {
    "duration": 17,
    "start_time": "2023-06-27T11:43:54.515Z"
   },
   {
    "duration": 27,
    "start_time": "2023-06-27T11:44:05.182Z"
   },
   {
    "duration": 13,
    "start_time": "2023-06-27T11:44:18.932Z"
   },
   {
    "duration": 18,
    "start_time": "2023-06-27T11:44:22.342Z"
   },
   {
    "duration": 17,
    "start_time": "2023-06-27T11:44:28.412Z"
   },
   {
    "duration": 10,
    "start_time": "2023-06-27T11:46:20.806Z"
   },
   {
    "duration": 12,
    "start_time": "2023-06-27T11:47:03.240Z"
   },
   {
    "duration": 43,
    "start_time": "2023-06-27T11:47:09.660Z"
   },
   {
    "duration": 6,
    "start_time": "2023-06-27T11:47:26.036Z"
   },
   {
    "duration": 392,
    "start_time": "2023-06-27T11:47:26.045Z"
   },
   {
    "duration": 4,
    "start_time": "2023-06-27T11:47:26.439Z"
   },
   {
    "duration": 35,
    "start_time": "2023-06-27T11:47:26.444Z"
   },
   {
    "duration": 96,
    "start_time": "2023-06-27T11:47:26.482Z"
   },
   {
    "duration": 31,
    "start_time": "2023-06-27T11:47:26.588Z"
   },
   {
    "duration": 8,
    "start_time": "2023-06-27T11:47:26.621Z"
   },
   {
    "duration": 12,
    "start_time": "2023-06-27T11:47:26.631Z"
   },
   {
    "duration": 76,
    "start_time": "2023-06-27T11:47:26.645Z"
   },
   {
    "duration": 16,
    "start_time": "2023-06-27T11:47:26.723Z"
   },
   {
    "duration": 6,
    "start_time": "2023-06-27T11:47:26.741Z"
   },
   {
    "duration": 129,
    "start_time": "2023-06-27T11:47:26.749Z"
   },
   {
    "duration": 14,
    "start_time": "2023-06-27T11:47:26.880Z"
   },
   {
    "duration": 15,
    "start_time": "2023-06-27T11:47:26.904Z"
   },
   {
    "duration": 15,
    "start_time": "2023-06-27T11:47:26.924Z"
   },
   {
    "duration": 30,
    "start_time": "2023-06-27T11:47:26.942Z"
   },
   {
    "duration": 15,
    "start_time": "2023-06-27T11:47:26.979Z"
   },
   {
    "duration": 41,
    "start_time": "2023-06-27T11:47:26.996Z"
   },
   {
    "duration": 29,
    "start_time": "2023-06-27T11:47:27.039Z"
   },
   {
    "duration": 17,
    "start_time": "2023-06-27T11:47:27.077Z"
   },
   {
    "duration": 40,
    "start_time": "2023-06-27T11:47:27.096Z"
   },
   {
    "duration": 5426,
    "start_time": "2023-06-27T11:47:27.138Z"
   },
   {
    "duration": 94,
    "start_time": "2023-06-27T11:47:32.567Z"
   },
   {
    "duration": 1131,
    "start_time": "2023-06-27T11:47:32.674Z"
   },
   {
    "duration": 13,
    "start_time": "2023-06-27T11:47:33.807Z"
   },
   {
    "duration": 25,
    "start_time": "2023-06-27T11:47:33.822Z"
   },
   {
    "duration": 30,
    "start_time": "2023-06-27T11:47:33.868Z"
   },
   {
    "duration": 31,
    "start_time": "2023-06-27T11:47:33.900Z"
   },
   {
    "duration": 6,
    "start_time": "2023-06-27T11:47:33.940Z"
   },
   {
    "duration": 90,
    "start_time": "2023-06-27T11:47:33.948Z"
   },
   {
    "duration": 20,
    "start_time": "2023-06-27T11:47:50.206Z"
   },
   {
    "duration": 15,
    "start_time": "2023-06-27T11:47:57.722Z"
   },
   {
    "duration": 15,
    "start_time": "2023-06-27T11:49:23.009Z"
   },
   {
    "duration": 20,
    "start_time": "2023-06-27T11:49:45.775Z"
   },
   {
    "duration": 18,
    "start_time": "2023-06-27T11:50:03.174Z"
   },
   {
    "duration": 7,
    "start_time": "2023-06-27T11:50:40.531Z"
   },
   {
    "duration": 11,
    "start_time": "2023-06-27T11:56:48.908Z"
   },
   {
    "duration": 42,
    "start_time": "2023-06-27T11:57:24.052Z"
   },
   {
    "duration": 18,
    "start_time": "2023-06-27T11:58:09.027Z"
   },
   {
    "duration": 27,
    "start_time": "2023-06-27T11:58:23.352Z"
   },
   {
    "duration": 100,
    "start_time": "2023-06-27T11:58:34.136Z"
   },
   {
    "duration": 28,
    "start_time": "2023-06-27T11:58:42.852Z"
   },
   {
    "duration": 8,
    "start_time": "2023-06-27T11:59:20.853Z"
   },
   {
    "duration": 31,
    "start_time": "2023-06-27T11:59:25.034Z"
   },
   {
    "duration": 24,
    "start_time": "2023-06-27T12:00:02.917Z"
   },
   {
    "duration": 11,
    "start_time": "2023-06-27T12:00:16.123Z"
   },
   {
    "duration": 10,
    "start_time": "2023-06-27T12:01:18.952Z"
   },
   {
    "duration": 9,
    "start_time": "2023-06-27T12:01:37.252Z"
   },
   {
    "duration": 9,
    "start_time": "2023-06-27T12:01:48.552Z"
   },
   {
    "duration": 11,
    "start_time": "2023-06-27T12:01:53.621Z"
   },
   {
    "duration": 10,
    "start_time": "2023-06-27T12:02:49.820Z"
   },
   {
    "duration": 11,
    "start_time": "2023-06-27T12:03:17.534Z"
   },
   {
    "duration": 13,
    "start_time": "2023-06-27T12:03:42.623Z"
   },
   {
    "duration": 9,
    "start_time": "2023-06-27T12:11:25.153Z"
   },
   {
    "duration": 7,
    "start_time": "2023-06-27T12:11:42.017Z"
   },
   {
    "duration": 82,
    "start_time": "2023-06-27T12:15:12.029Z"
   },
   {
    "duration": 23,
    "start_time": "2023-06-27T12:17:24.256Z"
   },
   {
    "duration": 39,
    "start_time": "2023-06-27T12:17:34.836Z"
   },
   {
    "duration": 11,
    "start_time": "2023-06-27T12:17:39.750Z"
   },
   {
    "duration": 30,
    "start_time": "2023-06-27T12:17:48.828Z"
   },
   {
    "duration": 7,
    "start_time": "2023-06-27T12:31:07.325Z"
   },
   {
    "duration": 541,
    "start_time": "2023-06-27T12:31:07.335Z"
   },
   {
    "duration": 11,
    "start_time": "2023-06-27T12:31:07.884Z"
   },
   {
    "duration": 35,
    "start_time": "2023-06-27T12:31:07.898Z"
   },
   {
    "duration": 84,
    "start_time": "2023-06-27T12:31:07.935Z"
   },
   {
    "duration": 26,
    "start_time": "2023-06-27T12:31:08.021Z"
   },
   {
    "duration": 32,
    "start_time": "2023-06-27T12:31:08.049Z"
   },
   {
    "duration": 20,
    "start_time": "2023-06-27T12:31:08.084Z"
   },
   {
    "duration": 49,
    "start_time": "2023-06-27T12:31:08.107Z"
   },
   {
    "duration": 20,
    "start_time": "2023-06-27T12:31:08.159Z"
   },
   {
    "duration": 7,
    "start_time": "2023-06-27T12:31:08.181Z"
   },
   {
    "duration": 94,
    "start_time": "2023-06-27T12:31:08.192Z"
   },
   {
    "duration": 13,
    "start_time": "2023-06-27T12:31:08.289Z"
   },
   {
    "duration": 26,
    "start_time": "2023-06-27T12:31:08.305Z"
   },
   {
    "duration": 17,
    "start_time": "2023-06-27T12:31:08.336Z"
   },
   {
    "duration": 32,
    "start_time": "2023-06-27T12:31:08.355Z"
   },
   {
    "duration": 11,
    "start_time": "2023-06-27T12:31:08.390Z"
   },
   {
    "duration": 45,
    "start_time": "2023-06-27T12:31:08.410Z"
   },
   {
    "duration": 43,
    "start_time": "2023-06-27T12:31:08.458Z"
   },
   {
    "duration": 18,
    "start_time": "2023-06-27T12:31:08.504Z"
   },
   {
    "duration": 51,
    "start_time": "2023-06-27T12:31:08.524Z"
   },
   {
    "duration": 5445,
    "start_time": "2023-06-27T12:31:08.583Z"
   },
   {
    "duration": 81,
    "start_time": "2023-06-27T12:31:14.031Z"
   },
   {
    "duration": 1124,
    "start_time": "2023-06-27T12:31:14.121Z"
   },
   {
    "duration": 25,
    "start_time": "2023-06-27T12:31:15.246Z"
   },
   {
    "duration": 54,
    "start_time": "2023-06-27T12:31:15.276Z"
   },
   {
    "duration": 27,
    "start_time": "2023-06-27T12:31:15.334Z"
   },
   {
    "duration": 29,
    "start_time": "2023-06-27T12:31:15.365Z"
   },
   {
    "duration": 20,
    "start_time": "2023-06-27T12:31:15.396Z"
   },
   {
    "duration": 47,
    "start_time": "2023-06-27T12:31:15.418Z"
   },
   {
    "duration": 29,
    "start_time": "2023-06-27T12:31:15.481Z"
   },
   {
    "duration": 18,
    "start_time": "2023-06-27T12:31:15.512Z"
   },
   {
    "duration": 10,
    "start_time": "2023-06-27T12:31:15.533Z"
   },
   {
    "duration": 10,
    "start_time": "2023-06-27T12:34:56.965Z"
   },
   {
    "duration": 4,
    "start_time": "2023-06-27T13:00:49.028Z"
   },
   {
    "duration": 21,
    "start_time": "2023-06-27T13:00:57.018Z"
   },
   {
    "duration": 5,
    "start_time": "2023-06-27T13:01:06.646Z"
   },
   {
    "duration": 507,
    "start_time": "2023-06-27T13:01:06.655Z"
   },
   {
    "duration": 13,
    "start_time": "2023-06-27T13:01:07.164Z"
   },
   {
    "duration": 26,
    "start_time": "2023-06-27T13:01:07.185Z"
   },
   {
    "duration": 99,
    "start_time": "2023-06-27T13:01:07.227Z"
   },
   {
    "duration": 32,
    "start_time": "2023-06-27T13:01:07.328Z"
   },
   {
    "duration": 30,
    "start_time": "2023-06-27T13:01:07.362Z"
   },
   {
    "duration": 26,
    "start_time": "2023-06-27T13:01:07.398Z"
   },
   {
    "duration": 57,
    "start_time": "2023-06-27T13:01:07.434Z"
   },
   {
    "duration": 31,
    "start_time": "2023-06-27T13:01:07.499Z"
   },
   {
    "duration": 9,
    "start_time": "2023-06-27T13:01:07.537Z"
   },
   {
    "duration": 130,
    "start_time": "2023-06-27T13:01:07.547Z"
   },
   {
    "duration": 13,
    "start_time": "2023-06-27T13:01:07.682Z"
   },
   {
    "duration": 18,
    "start_time": "2023-06-27T13:01:07.697Z"
   },
   {
    "duration": 158,
    "start_time": "2023-06-27T13:01:07.717Z"
   },
   {
    "duration": 54,
    "start_time": "2023-06-27T13:01:07.884Z"
   },
   {
    "duration": 12,
    "start_time": "2023-06-27T13:01:07.949Z"
   },
   {
    "duration": 65,
    "start_time": "2023-06-27T13:01:07.964Z"
   },
   {
    "duration": 33,
    "start_time": "2023-06-27T13:01:08.040Z"
   },
   {
    "duration": 11,
    "start_time": "2023-06-27T13:01:08.075Z"
   },
   {
    "duration": 88,
    "start_time": "2023-06-27T13:01:08.088Z"
   },
   {
    "duration": 5909,
    "start_time": "2023-06-27T13:01:08.180Z"
   },
   {
    "duration": 8,
    "start_time": "2023-06-27T13:01:14.091Z"
   },
   {
    "duration": 8,
    "start_time": "2023-06-27T13:01:21.320Z"
   },
   {
    "duration": 15,
    "start_time": "2023-06-27T13:01:26.276Z"
   },
   {
    "duration": 21,
    "start_time": "2023-06-27T13:01:51.232Z"
   },
   {
    "duration": 8,
    "start_time": "2023-06-27T13:02:11.227Z"
   },
   {
    "duration": 43,
    "start_time": "2023-06-27T13:02:15.388Z"
   },
   {
    "duration": 5,
    "start_time": "2023-06-27T13:04:08.746Z"
   },
   {
    "duration": 529,
    "start_time": "2023-06-27T13:04:08.754Z"
   },
   {
    "duration": 9,
    "start_time": "2023-06-27T13:04:09.292Z"
   },
   {
    "duration": 43,
    "start_time": "2023-06-27T13:04:09.303Z"
   },
   {
    "duration": 85,
    "start_time": "2023-06-27T13:04:09.351Z"
   },
   {
    "duration": 30,
    "start_time": "2023-06-27T13:04:09.438Z"
   },
   {
    "duration": 41,
    "start_time": "2023-06-27T13:04:09.470Z"
   },
   {
    "duration": 41,
    "start_time": "2023-06-27T13:04:09.514Z"
   },
   {
    "duration": 113,
    "start_time": "2023-06-27T13:04:09.557Z"
   },
   {
    "duration": 24,
    "start_time": "2023-06-27T13:04:09.671Z"
   },
   {
    "duration": 46,
    "start_time": "2023-06-27T13:04:09.697Z"
   },
   {
    "duration": 145,
    "start_time": "2023-06-27T13:04:09.746Z"
   },
   {
    "duration": 27,
    "start_time": "2023-06-27T13:04:09.896Z"
   },
   {
    "duration": 16,
    "start_time": "2023-06-27T13:04:09.927Z"
   },
   {
    "duration": 29,
    "start_time": "2023-06-27T13:04:09.948Z"
   },
   {
    "duration": 57,
    "start_time": "2023-06-27T13:04:09.985Z"
   },
   {
    "duration": 30,
    "start_time": "2023-06-27T13:04:10.045Z"
   },
   {
    "duration": 75,
    "start_time": "2023-06-27T13:04:10.084Z"
   },
   {
    "duration": 58,
    "start_time": "2023-06-27T13:04:10.162Z"
   },
   {
    "duration": 16,
    "start_time": "2023-06-27T13:04:10.229Z"
   },
   {
    "duration": 58,
    "start_time": "2023-06-27T13:04:10.247Z"
   },
   {
    "duration": 6219,
    "start_time": "2023-06-27T13:04:10.307Z"
   },
   {
    "duration": 21,
    "start_time": "2023-06-27T13:04:16.533Z"
   },
   {
    "duration": 5,
    "start_time": "2023-06-27T13:04:16.558Z"
   },
   {
    "duration": 127,
    "start_time": "2023-06-27T13:04:24.335Z"
   },
   {
    "duration": 162,
    "start_time": "2023-06-27T13:05:52.568Z"
   },
   {
    "duration": 2526,
    "start_time": "2023-06-27T13:05:58.145Z"
   },
   {
    "duration": 2131,
    "start_time": "2023-06-27T13:06:40.742Z"
   },
   {
    "duration": 90,
    "start_time": "2023-06-27T13:08:06.726Z"
   },
   {
    "duration": 872,
    "start_time": "2023-06-27T13:08:11.119Z"
   },
   {
    "duration": 4,
    "start_time": "2023-06-27T13:08:31.034Z"
   },
   {
    "duration": 104,
    "start_time": "2023-06-27T13:08:33.111Z"
   },
   {
    "duration": 133,
    "start_time": "2023-06-27T13:08:39.127Z"
   },
   {
    "duration": 109,
    "start_time": "2023-06-27T13:08:49.022Z"
   },
   {
    "duration": 1928,
    "start_time": "2023-06-27T13:09:12.016Z"
   },
   {
    "duration": 94,
    "start_time": "2023-06-27T13:10:36.646Z"
   },
   {
    "duration": 114,
    "start_time": "2023-06-27T13:14:32.918Z"
   },
   {
    "duration": 61,
    "start_time": "2023-06-27T13:34:00.158Z"
   },
   {
    "duration": 14,
    "start_time": "2023-06-27T13:36:27.324Z"
   },
   {
    "duration": 552,
    "start_time": "2023-06-27T13:36:27.341Z"
   },
   {
    "duration": 5,
    "start_time": "2023-06-27T13:36:27.896Z"
   },
   {
    "duration": 56,
    "start_time": "2023-06-27T13:36:27.905Z"
   },
   {
    "duration": 101,
    "start_time": "2023-06-27T13:36:27.963Z"
   },
   {
    "duration": 50,
    "start_time": "2023-06-27T13:36:28.066Z"
   },
   {
    "duration": 10,
    "start_time": "2023-06-27T13:36:28.118Z"
   },
   {
    "duration": 24,
    "start_time": "2023-06-27T13:36:28.130Z"
   },
   {
    "duration": 82,
    "start_time": "2023-06-27T13:36:28.157Z"
   },
   {
    "duration": 24,
    "start_time": "2023-06-27T13:36:28.252Z"
   },
   {
    "duration": 27,
    "start_time": "2023-06-27T13:36:28.278Z"
   },
   {
    "duration": 140,
    "start_time": "2023-06-27T13:36:28.308Z"
   },
   {
    "duration": 9,
    "start_time": "2023-06-27T13:36:28.451Z"
   },
   {
    "duration": 12,
    "start_time": "2023-06-27T13:36:28.462Z"
   },
   {
    "duration": 158,
    "start_time": "2023-06-27T13:36:28.489Z"
   },
   {
    "duration": 1982,
    "start_time": "2023-06-27T13:36:28.649Z"
   },
   {
    "duration": 68,
    "start_time": "2023-06-27T13:36:30.635Z"
   },
   {
    "duration": 1260,
    "start_time": "2023-06-27T13:36:30.705Z"
   },
   {
    "duration": 19,
    "start_time": "2023-06-27T13:36:31.975Z"
   },
   {
    "duration": 43,
    "start_time": "2023-06-27T13:36:31.996Z"
   },
   {
    "duration": 23,
    "start_time": "2023-06-27T13:36:32.041Z"
   },
   {
    "duration": 27,
    "start_time": "2023-06-27T13:36:32.066Z"
   },
   {
    "duration": 33,
    "start_time": "2023-06-27T13:36:32.095Z"
   },
   {
    "duration": 73,
    "start_time": "2023-06-27T13:36:32.131Z"
   },
   {
    "duration": 36,
    "start_time": "2023-06-27T13:36:32.217Z"
   },
   {
    "duration": 8,
    "start_time": "2023-06-27T13:36:32.256Z"
   },
   {
    "duration": 13,
    "start_time": "2023-06-27T13:36:32.275Z"
   },
   {
    "duration": 47,
    "start_time": "2023-06-27T13:36:32.292Z"
   },
   {
    "duration": 28,
    "start_time": "2023-06-27T13:36:48.549Z"
   },
   {
    "duration": 66,
    "start_time": "2023-06-27T13:37:14.986Z"
   },
   {
    "duration": 12,
    "start_time": "2023-06-27T13:37:20.132Z"
   },
   {
    "duration": 86,
    "start_time": "2023-06-27T13:37:23.432Z"
   },
   {
    "duration": 73,
    "start_time": "2023-06-27T13:38:05.645Z"
   },
   {
    "duration": 11,
    "start_time": "2023-06-27T13:38:28.041Z"
   },
   {
    "duration": 90,
    "start_time": "2023-06-27T13:38:39.053Z"
   },
   {
    "duration": 82,
    "start_time": "2023-06-27T13:39:49.713Z"
   },
   {
    "duration": 40,
    "start_time": "2023-06-27T13:42:12.954Z"
   },
   {
    "duration": 15,
    "start_time": "2023-06-27T13:42:14.823Z"
   },
   {
    "duration": 62,
    "start_time": "2023-06-27T13:42:16.509Z"
   },
   {
    "duration": 13,
    "start_time": "2023-06-27T13:43:02.210Z"
   },
   {
    "duration": 182,
    "start_time": "2023-06-27T13:43:02.234Z"
   },
   {
    "duration": 21,
    "start_time": "2023-06-27T13:44:52.542Z"
   },
   {
    "duration": 121,
    "start_time": "2023-06-27T13:45:53.337Z"
   },
   {
    "duration": 857,
    "start_time": "2023-06-27T13:45:55.762Z"
   },
   {
    "duration": 89,
    "start_time": "2023-06-27T13:46:34.026Z"
   },
   {
    "duration": 758,
    "start_time": "2023-06-27T13:46:36.327Z"
   },
   {
    "duration": 66,
    "start_time": "2023-06-27T13:47:04.343Z"
   },
   {
    "duration": 863,
    "start_time": "2023-06-27T13:47:06.524Z"
   },
   {
    "duration": 19,
    "start_time": "2023-06-27T13:49:01.029Z"
   },
   {
    "duration": 18,
    "start_time": "2023-06-27T13:53:49.326Z"
   },
   {
    "duration": 18,
    "start_time": "2023-06-27T13:54:03.945Z"
   },
   {
    "duration": 38,
    "start_time": "2023-06-27T13:54:14.562Z"
   },
   {
    "duration": 14,
    "start_time": "2023-06-27T13:54:30.929Z"
   },
   {
    "duration": 13,
    "start_time": "2023-06-27T13:54:44.244Z"
   },
   {
    "duration": 11,
    "start_time": "2023-06-27T13:55:01.239Z"
   },
   {
    "duration": 17,
    "start_time": "2023-06-27T13:55:07.737Z"
   },
   {
    "duration": 14,
    "start_time": "2023-06-27T13:55:29.614Z"
   },
   {
    "duration": 31,
    "start_time": "2023-06-27T13:55:34.352Z"
   },
   {
    "duration": 16,
    "start_time": "2023-06-27T13:57:17.515Z"
   },
   {
    "duration": 27,
    "start_time": "2023-06-27T13:57:19.316Z"
   },
   {
    "duration": 91,
    "start_time": "2023-06-28T07:30:11.547Z"
   },
   {
    "duration": 1833,
    "start_time": "2023-06-28T07:38:41.370Z"
   },
   {
    "duration": 325,
    "start_time": "2023-06-28T07:38:43.206Z"
   },
   {
    "duration": 3,
    "start_time": "2023-06-28T07:38:43.533Z"
   },
   {
    "duration": 39,
    "start_time": "2023-06-28T07:38:43.540Z"
   },
   {
    "duration": 83,
    "start_time": "2023-06-28T07:38:43.581Z"
   },
   {
    "duration": 22,
    "start_time": "2023-06-28T07:38:43.666Z"
   },
   {
    "duration": 5,
    "start_time": "2023-06-28T07:38:43.690Z"
   },
   {
    "duration": 33,
    "start_time": "2023-06-28T07:38:43.697Z"
   },
   {
    "duration": 83,
    "start_time": "2023-06-28T07:38:43.732Z"
   },
   {
    "duration": 16,
    "start_time": "2023-06-28T07:38:43.817Z"
   },
   {
    "duration": 5,
    "start_time": "2023-06-28T07:38:43.836Z"
   },
   {
    "duration": 102,
    "start_time": "2023-06-28T07:38:43.844Z"
   },
   {
    "duration": 8,
    "start_time": "2023-06-28T07:38:43.948Z"
   },
   {
    "duration": 28,
    "start_time": "2023-06-28T07:38:43.960Z"
   },
   {
    "duration": 116,
    "start_time": "2023-06-28T07:38:43.990Z"
   },
   {
    "duration": 1695,
    "start_time": "2023-06-28T07:38:44.108Z"
   },
   {
    "duration": 61,
    "start_time": "2023-06-28T07:38:45.806Z"
   },
   {
    "duration": 849,
    "start_time": "2023-06-28T07:38:45.869Z"
   },
   {
    "duration": 13,
    "start_time": "2023-06-28T07:38:46.720Z"
   },
   {
    "duration": 33,
    "start_time": "2023-06-28T07:38:46.735Z"
   },
   {
    "duration": 23,
    "start_time": "2023-06-28T07:38:46.772Z"
   },
   {
    "duration": 18,
    "start_time": "2023-06-28T07:38:46.814Z"
   },
   {
    "duration": 5,
    "start_time": "2023-06-28T07:38:46.835Z"
   },
   {
    "duration": 36,
    "start_time": "2023-06-28T07:38:46.842Z"
   },
   {
    "duration": 53,
    "start_time": "2023-06-28T07:38:46.880Z"
   },
   {
    "duration": 8,
    "start_time": "2023-06-28T07:38:46.935Z"
   },
   {
    "duration": 33,
    "start_time": "2023-06-28T07:38:46.945Z"
   },
   {
    "duration": 14,
    "start_time": "2023-06-28T07:38:57.404Z"
   },
   {
    "duration": 140,
    "start_time": "2023-06-28T07:40:31.946Z"
   },
   {
    "duration": 17,
    "start_time": "2023-06-28T07:40:57.502Z"
   },
   {
    "duration": 16,
    "start_time": "2023-06-28T07:41:08.671Z"
   },
   {
    "duration": 16,
    "start_time": "2023-06-28T07:41:23.809Z"
   },
   {
    "duration": 19,
    "start_time": "2023-06-28T07:41:56.792Z"
   },
   {
    "duration": 25,
    "start_time": "2023-06-28T07:42:08.741Z"
   },
   {
    "duration": 24,
    "start_time": "2023-06-28T07:42:22.607Z"
   },
   {
    "duration": 15,
    "start_time": "2023-06-28T07:42:51.134Z"
   },
   {
    "duration": 22,
    "start_time": "2023-06-28T07:43:11.003Z"
   },
   {
    "duration": 9,
    "start_time": "2023-06-28T07:43:31.865Z"
   },
   {
    "duration": 29,
    "start_time": "2023-06-28T07:44:37.805Z"
   },
   {
    "duration": 24,
    "start_time": "2023-06-28T07:45:01.313Z"
   },
   {
    "duration": 15,
    "start_time": "2023-06-28T07:45:09.748Z"
   },
   {
    "duration": 22,
    "start_time": "2023-06-28T07:46:39.761Z"
   },
   {
    "duration": 12,
    "start_time": "2023-06-28T07:46:47.353Z"
   },
   {
    "duration": 4,
    "start_time": "2023-06-28T07:48:27.568Z"
   },
   {
    "duration": 586,
    "start_time": "2023-06-28T07:48:27.577Z"
   },
   {
    "duration": 5,
    "start_time": "2023-06-28T07:48:28.169Z"
   },
   {
    "duration": 31,
    "start_time": "2023-06-28T07:48:28.178Z"
   },
   {
    "duration": 76,
    "start_time": "2023-06-28T07:48:28.215Z"
   },
   {
    "duration": 44,
    "start_time": "2023-06-28T07:48:28.294Z"
   },
   {
    "duration": 7,
    "start_time": "2023-06-28T07:48:28.341Z"
   },
   {
    "duration": 19,
    "start_time": "2023-06-28T07:48:28.350Z"
   },
   {
    "duration": 81,
    "start_time": "2023-06-28T07:48:28.371Z"
   },
   {
    "duration": 20,
    "start_time": "2023-06-28T07:48:28.454Z"
   },
   {
    "duration": 6,
    "start_time": "2023-06-28T07:48:28.476Z"
   },
   {
    "duration": 114,
    "start_time": "2023-06-28T07:48:28.484Z"
   },
   {
    "duration": 14,
    "start_time": "2023-06-28T07:48:28.601Z"
   },
   {
    "duration": 19,
    "start_time": "2023-06-28T07:48:28.622Z"
   },
   {
    "duration": 113,
    "start_time": "2023-06-28T07:48:28.644Z"
   },
   {
    "duration": 1957,
    "start_time": "2023-06-28T07:48:28.760Z"
   },
   {
    "duration": 52,
    "start_time": "2023-06-28T07:48:30.719Z"
   },
   {
    "duration": 852,
    "start_time": "2023-06-28T07:48:30.773Z"
   },
   {
    "duration": 18,
    "start_time": "2023-06-28T07:48:31.626Z"
   },
   {
    "duration": 22,
    "start_time": "2023-06-28T07:48:31.646Z"
   },
   {
    "duration": 33,
    "start_time": "2023-06-28T07:48:31.670Z"
   },
   {
    "duration": 25,
    "start_time": "2023-06-28T07:48:31.705Z"
   },
   {
    "duration": 16,
    "start_time": "2023-06-28T07:48:31.732Z"
   },
   {
    "duration": 47,
    "start_time": "2023-06-28T07:48:31.750Z"
   },
   {
    "duration": 30,
    "start_time": "2023-06-28T07:48:31.800Z"
   },
   {
    "duration": 8,
    "start_time": "2023-06-28T07:48:31.834Z"
   },
   {
    "duration": 27,
    "start_time": "2023-06-28T07:48:31.844Z"
   },
   {
    "duration": 39,
    "start_time": "2023-06-28T07:48:31.873Z"
   },
   {
    "duration": 28,
    "start_time": "2023-06-28T07:48:31.918Z"
   },
   {
    "duration": 11,
    "start_time": "2023-06-28T07:51:49.104Z"
   },
   {
    "duration": 15,
    "start_time": "2023-06-28T07:53:39.577Z"
   },
   {
    "duration": 14,
    "start_time": "2023-06-28T07:55:50.095Z"
   },
   {
    "duration": 17,
    "start_time": "2023-06-28T07:55:56.647Z"
   },
   {
    "duration": 327,
    "start_time": "2023-06-28T07:57:29.340Z"
   },
   {
    "duration": 32,
    "start_time": "2023-06-28T08:04:42.743Z"
   },
   {
    "duration": 74,
    "start_time": "2023-06-28T08:04:49.476Z"
   },
   {
    "duration": 58,
    "start_time": "2023-06-28T08:05:07.146Z"
   },
   {
    "duration": 58,
    "start_time": "2023-06-28T08:05:38.266Z"
   },
   {
    "duration": 70,
    "start_time": "2023-06-28T08:05:44.578Z"
   },
   {
    "duration": 73,
    "start_time": "2023-06-28T08:06:15.078Z"
   },
   {
    "duration": 65,
    "start_time": "2023-06-28T08:06:22.697Z"
   },
   {
    "duration": 73,
    "start_time": "2023-06-28T08:06:28.767Z"
   },
   {
    "duration": 53,
    "start_time": "2023-06-28T08:06:32.060Z"
   },
   {
    "duration": 63,
    "start_time": "2023-06-28T08:06:55.747Z"
   },
   {
    "duration": 67,
    "start_time": "2023-06-28T08:07:00.764Z"
   },
   {
    "duration": 58,
    "start_time": "2023-06-28T08:07:23.412Z"
   },
   {
    "duration": 65,
    "start_time": "2023-06-28T08:07:32.636Z"
   },
   {
    "duration": 66,
    "start_time": "2023-06-28T08:07:37.843Z"
   },
   {
    "duration": 58,
    "start_time": "2023-06-28T08:07:42.740Z"
   },
   {
    "duration": 57,
    "start_time": "2023-06-28T08:07:50.409Z"
   },
   {
    "duration": 827,
    "start_time": "2023-06-28T08:07:55.869Z"
   },
   {
    "duration": 14,
    "start_time": "2023-06-28T08:08:04.557Z"
   },
   {
    "duration": 67,
    "start_time": "2023-06-28T08:08:07.240Z"
   },
   {
    "duration": 640,
    "start_time": "2023-06-28T08:08:22.335Z"
   },
   {
    "duration": 8,
    "start_time": "2023-06-28T08:08:39.080Z"
   },
   {
    "duration": 41,
    "start_time": "2023-06-28T08:08:41.347Z"
   },
   {
    "duration": 875,
    "start_time": "2023-06-28T08:11:53.981Z"
   },
   {
    "duration": 911,
    "start_time": "2023-06-28T08:12:09.769Z"
   },
   {
    "duration": 733,
    "start_time": "2023-06-28T08:12:34.861Z"
   },
   {
    "duration": 752,
    "start_time": "2023-06-28T08:13:09.105Z"
   },
   {
    "duration": 50,
    "start_time": "2023-06-28T08:13:34.273Z"
   },
   {
    "duration": 2540,
    "start_time": "2023-06-28T08:14:51.842Z"
   },
   {
    "duration": 2299,
    "start_time": "2023-06-28T08:15:21.479Z"
   },
   {
    "duration": 1747,
    "start_time": "2023-06-28T08:19:54.442Z"
   },
   {
    "duration": 12,
    "start_time": "2023-06-28T08:20:04.052Z"
   },
   {
    "duration": 20,
    "start_time": "2023-06-28T08:21:01.044Z"
   },
   {
    "duration": 15,
    "start_time": "2023-06-28T08:21:13.778Z"
   },
   {
    "duration": 10,
    "start_time": "2023-06-28T08:21:58.076Z"
   },
   {
    "duration": 28,
    "start_time": "2023-06-28T08:22:07.356Z"
   },
   {
    "duration": 26,
    "start_time": "2023-06-28T08:22:16.507Z"
   },
   {
    "duration": 21,
    "start_time": "2023-06-28T08:22:50.747Z"
   },
   {
    "duration": 12,
    "start_time": "2023-06-28T08:22:53.467Z"
   },
   {
    "duration": 7,
    "start_time": "2023-06-28T08:51:32.239Z"
   },
   {
    "duration": 1341,
    "start_time": "2023-06-28T08:51:32.249Z"
   },
   {
    "duration": 5,
    "start_time": "2023-06-28T08:51:33.593Z"
   },
   {
    "duration": 72,
    "start_time": "2023-06-28T08:51:33.600Z"
   },
   {
    "duration": 95,
    "start_time": "2023-06-28T08:51:33.680Z"
   },
   {
    "duration": 43,
    "start_time": "2023-06-28T08:51:33.777Z"
   },
   {
    "duration": 11,
    "start_time": "2023-06-28T08:51:33.822Z"
   },
   {
    "duration": 27,
    "start_time": "2023-06-28T08:51:33.835Z"
   },
   {
    "duration": 86,
    "start_time": "2023-06-28T08:51:33.865Z"
   },
   {
    "duration": 23,
    "start_time": "2023-06-28T08:51:33.956Z"
   },
   {
    "duration": 7,
    "start_time": "2023-06-28T08:51:33.981Z"
   },
   {
    "duration": 118,
    "start_time": "2023-06-28T08:51:33.990Z"
   },
   {
    "duration": 12,
    "start_time": "2023-06-28T08:51:34.117Z"
   },
   {
    "duration": 30,
    "start_time": "2023-06-28T08:51:34.132Z"
   },
   {
    "duration": 169,
    "start_time": "2023-06-28T08:51:34.169Z"
   },
   {
    "duration": 2072,
    "start_time": "2023-06-28T08:51:34.349Z"
   },
   {
    "duration": 72,
    "start_time": "2023-06-28T08:51:36.424Z"
   },
   {
    "duration": 1246,
    "start_time": "2023-06-28T08:51:36.499Z"
   },
   {
    "duration": 19,
    "start_time": "2023-06-28T08:51:37.747Z"
   },
   {
    "duration": 29,
    "start_time": "2023-06-28T08:51:37.769Z"
   },
   {
    "duration": 21,
    "start_time": "2023-06-28T08:51:37.800Z"
   },
   {
    "duration": 29,
    "start_time": "2023-06-28T08:51:37.823Z"
   },
   {
    "duration": 11,
    "start_time": "2023-06-28T08:51:37.859Z"
   },
   {
    "duration": 32,
    "start_time": "2023-06-28T08:51:37.872Z"
   },
   {
    "duration": 34,
    "start_time": "2023-06-28T08:51:37.906Z"
   },
   {
    "duration": 24,
    "start_time": "2023-06-28T08:51:37.945Z"
   },
   {
    "duration": 11,
    "start_time": "2023-06-28T08:51:37.973Z"
   },
   {
    "duration": 46,
    "start_time": "2023-06-28T08:51:37.986Z"
   },
   {
    "duration": 19,
    "start_time": "2023-06-28T08:51:38.036Z"
   },
   {
    "duration": 11,
    "start_time": "2023-06-28T08:51:38.060Z"
   },
   {
    "duration": 20,
    "start_time": "2023-06-28T08:51:38.074Z"
   },
   {
    "duration": 56,
    "start_time": "2023-06-28T08:51:38.095Z"
   },
   {
    "duration": 712,
    "start_time": "2023-06-28T08:51:38.156Z"
   },
   {
    "duration": 8,
    "start_time": "2023-06-28T08:51:38.871Z"
   },
   {
    "duration": 62,
    "start_time": "2023-06-28T08:51:38.881Z"
   },
   {
    "duration": 736,
    "start_time": "2023-06-28T08:51:38.949Z"
   },
   {
    "duration": 10,
    "start_time": "2023-06-28T08:51:39.699Z"
   },
   {
    "duration": 78,
    "start_time": "2023-06-28T08:51:39.715Z"
   },
   {
    "duration": 725,
    "start_time": "2023-06-28T08:51:39.799Z"
   },
   {
    "duration": 32,
    "start_time": "2023-06-28T08:51:40.539Z"
   },
   {
    "duration": 13,
    "start_time": "2023-06-28T08:51:40.578Z"
   },
   {
    "duration": 16,
    "start_time": "2023-06-28T08:51:40.598Z"
   },
   {
    "duration": 6,
    "start_time": "2023-06-28T09:08:55.817Z"
   },
   {
    "duration": 423,
    "start_time": "2023-06-28T09:08:55.826Z"
   },
   {
    "duration": 5,
    "start_time": "2023-06-28T09:08:56.251Z"
   },
   {
    "duration": 32,
    "start_time": "2023-06-28T09:08:56.259Z"
   },
   {
    "duration": 92,
    "start_time": "2023-06-28T09:08:56.294Z"
   },
   {
    "duration": 42,
    "start_time": "2023-06-28T09:08:56.388Z"
   },
   {
    "duration": 17,
    "start_time": "2023-06-28T09:08:56.432Z"
   },
   {
    "duration": 15,
    "start_time": "2023-06-28T09:08:56.451Z"
   },
   {
    "duration": 56,
    "start_time": "2023-06-28T09:08:56.469Z"
   },
   {
    "duration": 116,
    "start_time": "2023-06-28T09:08:56.527Z"
   },
   {
    "duration": 7,
    "start_time": "2023-06-28T09:08:56.645Z"
   },
   {
    "duration": 98,
    "start_time": "2023-06-28T09:08:56.654Z"
   },
   {
    "duration": 9,
    "start_time": "2023-06-28T09:08:56.754Z"
   },
   {
    "duration": 12,
    "start_time": "2023-06-28T09:08:56.767Z"
   },
   {
    "duration": 115,
    "start_time": "2023-06-28T09:08:56.781Z"
   },
   {
    "duration": 1900,
    "start_time": "2023-06-28T09:08:56.899Z"
   },
   {
    "duration": 54,
    "start_time": "2023-06-28T09:08:58.801Z"
   },
   {
    "duration": 1334,
    "start_time": "2023-06-28T09:08:58.857Z"
   },
   {
    "duration": 22,
    "start_time": "2023-06-28T09:09:00.193Z"
   },
   {
    "duration": 36,
    "start_time": "2023-06-28T09:09:00.218Z"
   },
   {
    "duration": 22,
    "start_time": "2023-06-28T09:09:00.256Z"
   },
   {
    "duration": 37,
    "start_time": "2023-06-28T09:09:00.281Z"
   },
   {
    "duration": 11,
    "start_time": "2023-06-28T09:09:00.320Z"
   },
   {
    "duration": 36,
    "start_time": "2023-06-28T09:09:00.333Z"
   },
   {
    "duration": 26,
    "start_time": "2023-06-28T09:09:00.371Z"
   },
   {
    "duration": 20,
    "start_time": "2023-06-28T09:09:00.399Z"
   },
   {
    "duration": 46,
    "start_time": "2023-06-28T09:09:00.421Z"
   },
   {
    "duration": 43,
    "start_time": "2023-06-28T09:09:00.470Z"
   },
   {
    "duration": 16,
    "start_time": "2023-06-28T09:09:00.516Z"
   },
   {
    "duration": 36,
    "start_time": "2023-06-28T09:09:00.534Z"
   },
   {
    "duration": 101,
    "start_time": "2023-06-28T09:09:00.573Z"
   },
   {
    "duration": 131,
    "start_time": "2023-06-28T09:09:00.676Z"
   },
   {
    "duration": 797,
    "start_time": "2023-06-28T09:09:00.809Z"
   },
   {
    "duration": 11,
    "start_time": "2023-06-28T09:09:01.616Z"
   },
   {
    "duration": 64,
    "start_time": "2023-06-28T09:09:01.632Z"
   },
   {
    "duration": 1245,
    "start_time": "2023-06-28T09:09:01.699Z"
   },
   {
    "duration": 8,
    "start_time": "2023-06-28T09:09:02.946Z"
   },
   {
    "duration": 66,
    "start_time": "2023-06-28T09:09:02.955Z"
   },
   {
    "duration": 777,
    "start_time": "2023-06-28T09:09:03.024Z"
   },
   {
    "duration": 21,
    "start_time": "2023-06-28T09:09:03.803Z"
   },
   {
    "duration": 14,
    "start_time": "2023-06-28T09:09:03.832Z"
   },
   {
    "duration": 22,
    "start_time": "2023-06-28T09:09:03.852Z"
   },
   {
    "duration": 26,
    "start_time": "2023-06-28T09:09:03.876Z"
   },
   {
    "duration": 10,
    "start_time": "2023-06-28T09:09:35.218Z"
   },
   {
    "duration": 12,
    "start_time": "2023-06-28T09:17:08.622Z"
   },
   {
    "duration": 5,
    "start_time": "2023-06-28T09:57:33.784Z"
   },
   {
    "duration": 656,
    "start_time": "2023-06-28T09:57:33.795Z"
   },
   {
    "duration": 5,
    "start_time": "2023-06-28T09:57:34.454Z"
   },
   {
    "duration": 36,
    "start_time": "2023-06-28T09:57:34.462Z"
   },
   {
    "duration": 104,
    "start_time": "2023-06-28T09:57:34.500Z"
   },
   {
    "duration": 36,
    "start_time": "2023-06-28T09:57:34.616Z"
   },
   {
    "duration": 8,
    "start_time": "2023-06-28T09:57:34.655Z"
   },
   {
    "duration": 27,
    "start_time": "2023-06-28T09:57:34.666Z"
   },
   {
    "duration": 84,
    "start_time": "2023-06-28T09:57:34.696Z"
   },
   {
    "duration": 19,
    "start_time": "2023-06-28T09:57:34.786Z"
   },
   {
    "duration": 5,
    "start_time": "2023-06-28T09:57:34.808Z"
   },
   {
    "duration": 86,
    "start_time": "2023-06-28T09:57:34.814Z"
   },
   {
    "duration": 18,
    "start_time": "2023-06-28T09:57:34.902Z"
   },
   {
    "duration": 29,
    "start_time": "2023-06-28T09:57:34.922Z"
   },
   {
    "duration": 112,
    "start_time": "2023-06-28T09:57:34.956Z"
   },
   {
    "duration": 1880,
    "start_time": "2023-06-28T09:57:35.070Z"
   },
   {
    "duration": 88,
    "start_time": "2023-06-28T09:57:36.953Z"
   },
   {
    "duration": 960,
    "start_time": "2023-06-28T09:57:37.044Z"
   },
   {
    "duration": 17,
    "start_time": "2023-06-28T09:57:38.006Z"
   },
   {
    "duration": 38,
    "start_time": "2023-06-28T09:57:38.025Z"
   },
   {
    "duration": 20,
    "start_time": "2023-06-28T09:57:38.064Z"
   },
   {
    "duration": 40,
    "start_time": "2023-06-28T09:57:38.087Z"
   },
   {
    "duration": 18,
    "start_time": "2023-06-28T09:57:38.129Z"
   },
   {
    "duration": 50,
    "start_time": "2023-06-28T09:57:38.150Z"
   },
   {
    "duration": 44,
    "start_time": "2023-06-28T09:57:38.205Z"
   },
   {
    "duration": 8,
    "start_time": "2023-06-28T09:57:38.252Z"
   },
   {
    "duration": 11,
    "start_time": "2023-06-28T09:57:38.265Z"
   },
   {
    "duration": 38,
    "start_time": "2023-06-28T09:57:38.279Z"
   },
   {
    "duration": 16,
    "start_time": "2023-06-28T09:57:38.319Z"
   },
   {
    "duration": 14,
    "start_time": "2023-06-28T09:57:38.337Z"
   },
   {
    "duration": 70,
    "start_time": "2023-06-28T09:57:38.353Z"
   },
   {
    "duration": 69,
    "start_time": "2023-06-28T09:57:38.425Z"
   },
   {
    "duration": 722,
    "start_time": "2023-06-28T09:57:38.496Z"
   },
   {
    "duration": 8,
    "start_time": "2023-06-28T09:57:39.221Z"
   },
   {
    "duration": 57,
    "start_time": "2023-06-28T09:57:39.231Z"
   },
   {
    "duration": 727,
    "start_time": "2023-06-28T09:57:39.291Z"
   },
   {
    "duration": 11,
    "start_time": "2023-06-28T09:57:40.022Z"
   },
   {
    "duration": 59,
    "start_time": "2023-06-28T09:57:40.038Z"
   },
   {
    "duration": 649,
    "start_time": "2023-06-28T09:57:40.100Z"
   },
   {
    "duration": 14,
    "start_time": "2023-06-28T09:57:40.752Z"
   },
   {
    "duration": 9,
    "start_time": "2023-06-28T09:57:40.768Z"
   },
   {
    "duration": 42,
    "start_time": "2023-06-28T09:57:40.782Z"
   },
   {
    "duration": 36,
    "start_time": "2023-06-28T09:57:46.412Z"
   },
   {
    "duration": 17,
    "start_time": "2023-06-28T09:58:12.391Z"
   },
   {
    "duration": 6,
    "start_time": "2023-06-28T09:59:27.336Z"
   },
   {
    "duration": 496,
    "start_time": "2023-06-28T09:59:27.345Z"
   },
   {
    "duration": 7,
    "start_time": "2023-06-28T09:59:27.847Z"
   },
   {
    "duration": 32,
    "start_time": "2023-06-28T09:59:27.859Z"
   },
   {
    "duration": 107,
    "start_time": "2023-06-28T09:59:27.894Z"
   },
   {
    "duration": 32,
    "start_time": "2023-06-28T09:59:28.003Z"
   },
   {
    "duration": 22,
    "start_time": "2023-06-28T09:59:28.037Z"
   },
   {
    "duration": 12,
    "start_time": "2023-06-28T09:59:28.064Z"
   },
   {
    "duration": 185,
    "start_time": "2023-06-28T09:59:28.078Z"
   },
   {
    "duration": 24,
    "start_time": "2023-06-28T09:59:28.266Z"
   },
   {
    "duration": 23,
    "start_time": "2023-06-28T09:59:28.292Z"
   },
   {
    "duration": 129,
    "start_time": "2023-06-28T09:59:28.317Z"
   },
   {
    "duration": 15,
    "start_time": "2023-06-28T09:59:28.448Z"
   },
   {
    "duration": 161,
    "start_time": "2023-06-28T09:59:28.467Z"
   },
   {
    "duration": 303,
    "start_time": "2023-06-28T09:59:28.631Z"
   },
   {
    "duration": 2070,
    "start_time": "2023-06-28T09:59:28.937Z"
   },
   {
    "duration": 53,
    "start_time": "2023-06-28T09:59:31.025Z"
   },
   {
    "duration": 1266,
    "start_time": "2023-06-28T09:59:31.080Z"
   },
   {
    "duration": 21,
    "start_time": "2023-06-28T09:59:32.348Z"
   },
   {
    "duration": 46,
    "start_time": "2023-06-28T09:59:32.372Z"
   },
   {
    "duration": 34,
    "start_time": "2023-06-28T09:59:32.420Z"
   },
   {
    "duration": 25,
    "start_time": "2023-06-28T09:59:32.460Z"
   },
   {
    "duration": 46,
    "start_time": "2023-06-28T09:59:32.490Z"
   },
   {
    "duration": 46,
    "start_time": "2023-06-28T09:59:32.550Z"
   },
   {
    "duration": 49,
    "start_time": "2023-06-28T09:59:32.600Z"
   },
   {
    "duration": 17,
    "start_time": "2023-06-28T09:59:32.666Z"
   },
   {
    "duration": 43,
    "start_time": "2023-06-28T09:59:32.690Z"
   },
   {
    "duration": 113,
    "start_time": "2023-06-28T09:59:32.735Z"
   },
   {
    "duration": 35,
    "start_time": "2023-06-28T09:59:32.855Z"
   },
   {
    "duration": 31,
    "start_time": "2023-06-28T09:59:32.892Z"
   },
   {
    "duration": 64,
    "start_time": "2023-06-28T09:59:32.927Z"
   },
   {
    "duration": 109,
    "start_time": "2023-06-28T09:59:32.996Z"
   },
   {
    "duration": 676,
    "start_time": "2023-06-28T09:59:33.107Z"
   },
   {
    "duration": 10,
    "start_time": "2023-06-28T09:59:33.785Z"
   },
   {
    "duration": 81,
    "start_time": "2023-06-28T09:59:33.797Z"
   },
   {
    "duration": 680,
    "start_time": "2023-06-28T09:59:33.881Z"
   },
   {
    "duration": 26,
    "start_time": "2023-06-28T09:59:34.567Z"
   },
   {
    "duration": 54,
    "start_time": "2023-06-28T09:59:34.596Z"
   },
   {
    "duration": 717,
    "start_time": "2023-06-28T09:59:34.654Z"
   },
   {
    "duration": 11,
    "start_time": "2023-06-28T09:59:35.376Z"
   },
   {
    "duration": 28,
    "start_time": "2023-06-28T09:59:35.391Z"
   },
   {
    "duration": 42,
    "start_time": "2023-06-28T09:59:35.422Z"
   },
   {
    "duration": 16,
    "start_time": "2023-06-28T09:59:39.907Z"
   },
   {
    "duration": 18,
    "start_time": "2023-06-28T09:59:42.840Z"
   },
   {
    "duration": 2201,
    "start_time": "2023-06-29T08:55:59.055Z"
   },
   {
    "duration": 303,
    "start_time": "2023-06-29T08:56:01.259Z"
   },
   {
    "duration": 4,
    "start_time": "2023-06-29T08:56:01.563Z"
   },
   {
    "duration": 193,
    "start_time": "2023-06-29T08:56:01.569Z"
   },
   {
    "duration": 138,
    "start_time": "2023-06-29T08:56:01.764Z"
   },
   {
    "duration": 28,
    "start_time": "2023-06-29T08:56:01.903Z"
   },
   {
    "duration": 107,
    "start_time": "2023-06-29T08:56:01.932Z"
   },
   {
    "duration": 89,
    "start_time": "2023-06-29T08:56:02.041Z"
   },
   {
    "duration": 115,
    "start_time": "2023-06-29T08:56:02.132Z"
   },
   {
    "duration": 107,
    "start_time": "2023-06-29T08:56:02.249Z"
   },
   {
    "duration": 40,
    "start_time": "2023-06-29T08:56:02.358Z"
   },
   {
    "duration": 105,
    "start_time": "2023-06-29T08:56:02.400Z"
   },
   {
    "duration": 6,
    "start_time": "2023-06-29T08:56:02.507Z"
   },
   {
    "duration": 22,
    "start_time": "2023-06-29T08:56:02.518Z"
   },
   {
    "duration": 117,
    "start_time": "2023-06-29T08:56:02.542Z"
   },
   {
    "duration": 1730,
    "start_time": "2023-06-29T08:56:02.661Z"
   },
   {
    "duration": 49,
    "start_time": "2023-06-29T08:56:04.393Z"
   },
   {
    "duration": 824,
    "start_time": "2023-06-29T08:56:04.444Z"
   },
   {
    "duration": 13,
    "start_time": "2023-06-29T08:56:05.269Z"
   },
   {
    "duration": 62,
    "start_time": "2023-06-29T08:56:05.284Z"
   },
   {
    "duration": 35,
    "start_time": "2023-06-29T08:56:05.348Z"
   },
   {
    "duration": 24,
    "start_time": "2023-06-29T08:56:05.385Z"
   },
   {
    "duration": 68,
    "start_time": "2023-06-29T08:56:05.411Z"
   },
   {
    "duration": 76,
    "start_time": "2023-06-29T08:56:05.480Z"
   },
   {
    "duration": 44,
    "start_time": "2023-06-29T08:56:05.558Z"
   },
   {
    "duration": 26,
    "start_time": "2023-06-29T08:56:05.604Z"
   },
   {
    "duration": 44,
    "start_time": "2023-06-29T08:56:05.632Z"
   },
   {
    "duration": 44,
    "start_time": "2023-06-29T08:56:05.678Z"
   },
   {
    "duration": 22,
    "start_time": "2023-06-29T08:56:05.724Z"
   },
   {
    "duration": 146,
    "start_time": "2023-06-29T08:56:05.748Z"
   },
   {
    "duration": 19,
    "start_time": "2023-06-29T08:56:05.896Z"
   },
   {
    "duration": 124,
    "start_time": "2023-06-29T08:56:05.917Z"
   },
   {
    "duration": 737,
    "start_time": "2023-06-29T08:56:06.044Z"
   },
   {
    "duration": 18,
    "start_time": "2023-06-29T08:56:06.784Z"
   },
   {
    "duration": 46,
    "start_time": "2023-06-29T08:56:06.805Z"
   },
   {
    "duration": 630,
    "start_time": "2023-06-29T08:56:06.853Z"
   },
   {
    "duration": 16,
    "start_time": "2023-06-29T08:56:07.486Z"
   },
   {
    "duration": 76,
    "start_time": "2023-06-29T08:56:07.504Z"
   },
   {
    "duration": 587,
    "start_time": "2023-06-29T08:56:07.582Z"
   },
   {
    "duration": 10,
    "start_time": "2023-06-29T08:56:08.171Z"
   },
   {
    "duration": 26,
    "start_time": "2023-06-29T08:56:08.185Z"
   },
   {
    "duration": 120,
    "start_time": "2023-06-29T08:56:08.212Z"
   },
   {
    "duration": 17,
    "start_time": "2023-06-29T08:56:08.334Z"
   },
   {
    "duration": 46,
    "start_time": "2023-06-29T08:56:08.353Z"
   },
   {
    "duration": 33,
    "start_time": "2023-06-29T08:56:19.046Z"
   },
   {
    "duration": 15,
    "start_time": "2023-06-29T08:59:02.560Z"
   },
   {
    "duration": 7,
    "start_time": "2023-06-29T09:06:28.723Z"
   },
   {
    "duration": 315,
    "start_time": "2023-06-29T09:06:28.733Z"
   },
   {
    "duration": 6,
    "start_time": "2023-06-29T09:06:29.051Z"
   },
   {
    "duration": 64,
    "start_time": "2023-06-29T09:06:29.059Z"
   },
   {
    "duration": 76,
    "start_time": "2023-06-29T09:06:29.125Z"
   },
   {
    "duration": 23,
    "start_time": "2023-06-29T09:06:29.203Z"
   },
   {
    "duration": 16,
    "start_time": "2023-06-29T09:06:29.228Z"
   },
   {
    "duration": 21,
    "start_time": "2023-06-29T09:06:29.246Z"
   },
   {
    "duration": 56,
    "start_time": "2023-06-29T09:06:29.269Z"
   },
   {
    "duration": 20,
    "start_time": "2023-06-29T09:06:29.327Z"
   },
   {
    "duration": 7,
    "start_time": "2023-06-29T09:06:29.348Z"
   },
   {
    "duration": 86,
    "start_time": "2023-06-29T09:06:29.357Z"
   },
   {
    "duration": 6,
    "start_time": "2023-06-29T09:06:29.448Z"
   },
   {
    "duration": 26,
    "start_time": "2023-06-29T09:06:29.456Z"
   },
   {
    "duration": 110,
    "start_time": "2023-06-29T09:06:29.484Z"
   },
   {
    "duration": 1638,
    "start_time": "2023-06-29T09:06:29.596Z"
   },
   {
    "duration": 46,
    "start_time": "2023-06-29T09:06:31.236Z"
   },
   {
    "duration": 863,
    "start_time": "2023-06-29T09:06:31.284Z"
   },
   {
    "duration": 12,
    "start_time": "2023-06-29T09:06:32.148Z"
   },
   {
    "duration": 42,
    "start_time": "2023-06-29T09:06:32.162Z"
   },
   {
    "duration": 16,
    "start_time": "2023-06-29T09:06:32.206Z"
   },
   {
    "duration": 19,
    "start_time": "2023-06-29T09:06:32.224Z"
   },
   {
    "duration": 17,
    "start_time": "2023-06-29T09:06:32.245Z"
   },
   {
    "duration": 39,
    "start_time": "2023-06-29T09:06:32.264Z"
   },
   {
    "duration": 16,
    "start_time": "2023-06-29T09:06:32.304Z"
   },
   {
    "duration": 6,
    "start_time": "2023-06-29T09:06:32.321Z"
   },
   {
    "duration": 39,
    "start_time": "2023-06-29T09:06:32.329Z"
   },
   {
    "duration": 30,
    "start_time": "2023-06-29T09:06:32.370Z"
   },
   {
    "duration": 12,
    "start_time": "2023-06-29T09:06:32.402Z"
   },
   {
    "duration": 17,
    "start_time": "2023-06-29T09:06:32.416Z"
   },
   {
    "duration": 26,
    "start_time": "2023-06-29T09:06:32.436Z"
   },
   {
    "duration": 67,
    "start_time": "2023-06-29T09:06:32.465Z"
   },
   {
    "duration": 553,
    "start_time": "2023-06-29T09:06:32.534Z"
   },
   {
    "duration": 18,
    "start_time": "2023-06-29T09:06:33.089Z"
   },
   {
    "duration": 44,
    "start_time": "2023-06-29T09:06:33.109Z"
   },
   {
    "duration": 603,
    "start_time": "2023-06-29T09:06:33.155Z"
   },
   {
    "duration": 7,
    "start_time": "2023-06-29T09:06:33.762Z"
   },
   {
    "duration": 55,
    "start_time": "2023-06-29T09:06:33.771Z"
   },
   {
    "duration": 546,
    "start_time": "2023-06-29T09:06:33.828Z"
   },
   {
    "duration": 9,
    "start_time": "2023-06-29T09:06:34.375Z"
   },
   {
    "duration": 27,
    "start_time": "2023-06-29T09:06:34.386Z"
   },
   {
    "duration": 8,
    "start_time": "2023-06-29T09:06:34.415Z"
   },
   {
    "duration": 8,
    "start_time": "2023-06-29T09:06:34.424Z"
   },
   {
    "duration": 11,
    "start_time": "2023-06-29T09:06:47.541Z"
   },
   {
    "duration": 33,
    "start_time": "2023-06-29T09:08:03.352Z"
   },
   {
    "duration": 29,
    "start_time": "2023-06-29T09:08:12.299Z"
   },
   {
    "duration": 12,
    "start_time": "2023-06-29T09:08:24.262Z"
   },
   {
    "duration": 9,
    "start_time": "2023-06-29T09:10:05.149Z"
   },
   {
    "duration": 11,
    "start_time": "2023-06-29T09:10:13.191Z"
   },
   {
    "duration": 92,
    "start_time": "2023-06-29T09:10:20.942Z"
   },
   {
    "duration": 67,
    "start_time": "2023-06-29T09:22:55.131Z"
   },
   {
    "duration": 121,
    "start_time": "2023-06-29T09:24:29.576Z"
   },
   {
    "duration": 4,
    "start_time": "2023-06-29T09:24:42.607Z"
   },
   {
    "duration": 16,
    "start_time": "2023-06-29T09:24:48.833Z"
   },
   {
    "duration": 18,
    "start_time": "2023-06-29T09:28:05.753Z"
   },
   {
    "duration": 18,
    "start_time": "2023-06-29T09:28:29.154Z"
   },
   {
    "duration": 18,
    "start_time": "2023-06-29T09:29:02.473Z"
   },
   {
    "duration": 15,
    "start_time": "2023-06-29T09:32:00.221Z"
   },
   {
    "duration": 14,
    "start_time": "2023-06-29T09:32:11.475Z"
   },
   {
    "duration": 28,
    "start_time": "2023-06-29T09:34:13.234Z"
   },
   {
    "duration": 29,
    "start_time": "2023-06-29T09:38:56.234Z"
   },
   {
    "duration": 31,
    "start_time": "2023-06-29T09:39:47.022Z"
   },
   {
    "duration": 28,
    "start_time": "2023-06-29T09:40:15.001Z"
   },
   {
    "duration": 24,
    "start_time": "2023-06-29T09:40:27.385Z"
   },
   {
    "duration": 24,
    "start_time": "2023-06-29T09:41:04.606Z"
   },
   {
    "duration": 14,
    "start_time": "2023-06-29T09:41:25.926Z"
   },
   {
    "duration": 31,
    "start_time": "2023-06-29T09:41:47.074Z"
   },
   {
    "duration": 11,
    "start_time": "2023-06-29T09:42:04.883Z"
   },
   {
    "duration": 343,
    "start_time": "2023-06-29T09:45:58.246Z"
   },
   {
    "duration": 7,
    "start_time": "2023-06-29T09:49:09.794Z"
   },
   {
    "duration": 7,
    "start_time": "2023-06-29T09:50:11.275Z"
   },
   {
    "duration": 6,
    "start_time": "2023-06-29T09:50:55.754Z"
   },
   {
    "duration": 6,
    "start_time": "2023-06-29T09:51:21.046Z"
   },
   {
    "duration": 36,
    "start_time": "2023-06-29T10:03:22.714Z"
   },
   {
    "duration": 28,
    "start_time": "2023-06-29T10:04:17.001Z"
   },
   {
    "duration": 32,
    "start_time": "2023-06-29T10:04:29.541Z"
   },
   {
    "duration": 27,
    "start_time": "2023-06-29T10:05:06.241Z"
   },
   {
    "duration": 31,
    "start_time": "2023-06-29T10:05:23.953Z"
   },
   {
    "duration": 28,
    "start_time": "2023-06-29T10:06:14.693Z"
   },
   {
    "duration": 5,
    "start_time": "2023-06-29T10:07:51.212Z"
   },
   {
    "duration": 311,
    "start_time": "2023-06-29T10:07:51.219Z"
   },
   {
    "duration": 3,
    "start_time": "2023-06-29T10:07:51.532Z"
   },
   {
    "duration": 29,
    "start_time": "2023-06-29T10:07:51.537Z"
   },
   {
    "duration": 87,
    "start_time": "2023-06-29T10:07:51.569Z"
   },
   {
    "duration": 20,
    "start_time": "2023-06-29T10:07:51.658Z"
   },
   {
    "duration": 6,
    "start_time": "2023-06-29T10:07:51.701Z"
   },
   {
    "duration": 20,
    "start_time": "2023-06-29T10:07:51.710Z"
   },
   {
    "duration": 76,
    "start_time": "2023-06-29T10:07:51.732Z"
   },
   {
    "duration": 13,
    "start_time": "2023-06-29T10:07:51.810Z"
   },
   {
    "duration": 18,
    "start_time": "2023-06-29T10:07:51.825Z"
   },
   {
    "duration": 86,
    "start_time": "2023-06-29T10:07:51.845Z"
   },
   {
    "duration": 6,
    "start_time": "2023-06-29T10:07:51.935Z"
   },
   {
    "duration": 17,
    "start_time": "2023-06-29T10:07:51.943Z"
   },
   {
    "duration": 90,
    "start_time": "2023-06-29T10:07:51.962Z"
   },
   {
    "duration": 1541,
    "start_time": "2023-06-29T10:07:52.054Z"
   },
   {
    "duration": 50,
    "start_time": "2023-06-29T10:07:53.596Z"
   },
   {
    "duration": 894,
    "start_time": "2023-06-29T10:07:53.648Z"
   },
   {
    "duration": 12,
    "start_time": "2023-06-29T10:07:54.543Z"
   },
   {
    "duration": 21,
    "start_time": "2023-06-29T10:07:54.557Z"
   },
   {
    "duration": 18,
    "start_time": "2023-06-29T10:07:54.602Z"
   },
   {
    "duration": 12,
    "start_time": "2023-06-29T10:07:54.622Z"
   },
   {
    "duration": 11,
    "start_time": "2023-06-29T10:07:54.636Z"
   },
   {
    "duration": 31,
    "start_time": "2023-06-29T10:07:54.649Z"
   },
   {
    "duration": 37,
    "start_time": "2023-06-29T10:07:54.681Z"
   },
   {
    "duration": 6,
    "start_time": "2023-06-29T10:07:54.720Z"
   },
   {
    "duration": 9,
    "start_time": "2023-06-29T10:07:54.728Z"
   },
   {
    "duration": 26,
    "start_time": "2023-06-29T10:07:54.738Z"
   },
   {
    "duration": 46,
    "start_time": "2023-06-29T10:07:54.766Z"
   },
   {
    "duration": 10,
    "start_time": "2023-06-29T10:07:54.814Z"
   },
   {
    "duration": 18,
    "start_time": "2023-06-29T10:07:54.826Z"
   },
   {
    "duration": 65,
    "start_time": "2023-06-29T10:07:54.847Z"
   },
   {
    "duration": 556,
    "start_time": "2023-06-29T10:07:54.915Z"
   },
   {
    "duration": 7,
    "start_time": "2023-06-29T10:07:55.473Z"
   },
   {
    "duration": 51,
    "start_time": "2023-06-29T10:07:55.481Z"
   },
   {
    "duration": 547,
    "start_time": "2023-06-29T10:07:55.534Z"
   },
   {
    "duration": 6,
    "start_time": "2023-06-29T10:07:56.085Z"
   },
   {
    "duration": 53,
    "start_time": "2023-06-29T10:07:56.102Z"
   },
   {
    "duration": 569,
    "start_time": "2023-06-29T10:07:56.156Z"
   },
   {
    "duration": 10,
    "start_time": "2023-06-29T10:07:56.728Z"
   },
   {
    "duration": 12,
    "start_time": "2023-06-29T10:07:56.740Z"
   },
   {
    "duration": 8,
    "start_time": "2023-06-29T10:07:56.754Z"
   },
   {
    "duration": 61,
    "start_time": "2023-06-29T10:07:56.764Z"
   },
   {
    "duration": 15,
    "start_time": "2023-06-29T10:07:56.827Z"
   },
   {
    "duration": 8,
    "start_time": "2023-06-29T10:07:56.843Z"
   },
   {
    "duration": 8,
    "start_time": "2023-06-29T10:07:56.853Z"
   },
   {
    "duration": 11,
    "start_time": "2023-06-29T10:07:56.862Z"
   },
   {
    "duration": 41,
    "start_time": "2023-06-29T10:07:56.875Z"
   },
   {
    "duration": 17,
    "start_time": "2023-06-29T10:07:56.917Z"
   },
   {
    "duration": 18,
    "start_time": "2023-06-29T10:07:56.935Z"
   },
   {
    "duration": 43,
    "start_time": "2023-06-29T10:08:05.119Z"
   },
   {
    "duration": 30,
    "start_time": "2023-06-29T10:08:25.550Z"
   },
   {
    "duration": 14,
    "start_time": "2023-06-29T10:08:36.652Z"
   },
   {
    "duration": 29,
    "start_time": "2023-06-29T10:10:56.440Z"
   },
   {
    "duration": 18,
    "start_time": "2023-06-29T10:12:41.430Z"
   },
   {
    "duration": 17,
    "start_time": "2023-06-29T10:13:11.666Z"
   },
   {
    "duration": 14,
    "start_time": "2023-06-29T10:13:45.488Z"
   },
   {
    "duration": 273,
    "start_time": "2023-06-29T10:14:56.791Z"
   },
   {
    "duration": 5,
    "start_time": "2023-06-29T10:15:05.437Z"
   },
   {
    "duration": 221,
    "start_time": "2023-06-29T10:15:05.445Z"
   },
   {
    "duration": 4,
    "start_time": "2023-06-29T10:15:05.668Z"
   },
   {
    "duration": 39,
    "start_time": "2023-06-29T10:15:05.673Z"
   },
   {
    "duration": 75,
    "start_time": "2023-06-29T10:15:05.714Z"
   },
   {
    "duration": 19,
    "start_time": "2023-06-29T10:15:05.791Z"
   },
   {
    "duration": 6,
    "start_time": "2023-06-29T10:15:05.812Z"
   },
   {
    "duration": 15,
    "start_time": "2023-06-29T10:15:05.820Z"
   },
   {
    "duration": 38,
    "start_time": "2023-06-29T10:15:05.837Z"
   },
   {
    "duration": 26,
    "start_time": "2023-06-29T10:15:05.878Z"
   },
   {
    "duration": 30,
    "start_time": "2023-06-29T10:15:05.906Z"
   },
   {
    "duration": 89,
    "start_time": "2023-06-29T10:15:05.938Z"
   },
   {
    "duration": 7,
    "start_time": "2023-06-29T10:15:06.029Z"
   },
   {
    "duration": 38,
    "start_time": "2023-06-29T10:15:06.040Z"
   },
   {
    "duration": 91,
    "start_time": "2023-06-29T10:15:06.080Z"
   },
   {
    "duration": 1520,
    "start_time": "2023-06-29T10:15:06.172Z"
   },
   {
    "duration": 43,
    "start_time": "2023-06-29T10:15:07.702Z"
   },
   {
    "duration": 873,
    "start_time": "2023-06-29T10:15:07.747Z"
   },
   {
    "duration": 13,
    "start_time": "2023-06-29T10:15:08.622Z"
   },
   {
    "duration": 29,
    "start_time": "2023-06-29T10:15:08.637Z"
   },
   {
    "duration": 35,
    "start_time": "2023-06-29T10:15:08.668Z"
   },
   {
    "duration": 14,
    "start_time": "2023-06-29T10:15:08.705Z"
   },
   {
    "duration": 8,
    "start_time": "2023-06-29T10:15:08.721Z"
   },
   {
    "duration": 26,
    "start_time": "2023-06-29T10:15:08.730Z"
   },
   {
    "duration": 45,
    "start_time": "2023-06-29T10:15:08.758Z"
   },
   {
    "duration": 6,
    "start_time": "2023-06-29T10:15:08.805Z"
   },
   {
    "duration": 10,
    "start_time": "2023-06-29T10:15:08.812Z"
   },
   {
    "duration": 21,
    "start_time": "2023-06-29T10:15:08.823Z"
   },
   {
    "duration": 10,
    "start_time": "2023-06-29T10:15:08.846Z"
   },
   {
    "duration": 8,
    "start_time": "2023-06-29T10:15:08.858Z"
   },
   {
    "duration": 50,
    "start_time": "2023-06-29T10:15:08.868Z"
   },
   {
    "duration": 37,
    "start_time": "2023-06-29T10:15:08.920Z"
   },
   {
    "duration": 626,
    "start_time": "2023-06-29T10:15:08.959Z"
   },
   {
    "duration": 7,
    "start_time": "2023-06-29T10:15:09.587Z"
   },
   {
    "duration": 57,
    "start_time": "2023-06-29T10:15:09.596Z"
   },
   {
    "duration": 581,
    "start_time": "2023-06-29T10:15:09.654Z"
   },
   {
    "duration": 6,
    "start_time": "2023-06-29T10:15:10.236Z"
   },
   {
    "duration": 56,
    "start_time": "2023-06-29T10:15:10.243Z"
   },
   {
    "duration": 617,
    "start_time": "2023-06-29T10:15:10.301Z"
   },
   {
    "duration": 9,
    "start_time": "2023-06-29T10:15:10.920Z"
   },
   {
    "duration": 11,
    "start_time": "2023-06-29T10:15:10.933Z"
   },
   {
    "duration": 20,
    "start_time": "2023-06-29T10:15:10.946Z"
   },
   {
    "duration": 76,
    "start_time": "2023-06-29T10:15:10.968Z"
   },
   {
    "duration": 13,
    "start_time": "2023-06-29T10:15:11.045Z"
   },
   {
    "duration": 45,
    "start_time": "2023-06-29T10:15:11.059Z"
   },
   {
    "duration": 98,
    "start_time": "2023-06-29T10:15:11.105Z"
   },
   {
    "duration": 16,
    "start_time": "2023-06-29T10:15:11.205Z"
   },
   {
    "duration": 18,
    "start_time": "2023-06-29T10:15:11.223Z"
   },
   {
    "duration": 17,
    "start_time": "2023-06-29T10:15:11.242Z"
   },
   {
    "duration": 16,
    "start_time": "2023-06-29T10:15:11.261Z"
   },
   {
    "duration": 29,
    "start_time": "2023-06-29T10:15:11.279Z"
   },
   {
    "duration": 13,
    "start_time": "2023-06-29T10:15:11.310Z"
   },
   {
    "duration": 18,
    "start_time": "2023-06-29T10:15:11.324Z"
   },
   {
    "duration": 14,
    "start_time": "2023-06-29T10:15:11.344Z"
   },
   {
    "duration": 413,
    "start_time": "2023-06-29T10:15:11.360Z"
   },
   {
    "duration": 277,
    "start_time": "2023-06-29T10:16:15.390Z"
   },
   {
    "duration": 13,
    "start_time": "2023-06-29T10:18:42.598Z"
   },
   {
    "duration": 22,
    "start_time": "2023-06-29T10:19:14.890Z"
   },
   {
    "duration": 13,
    "start_time": "2023-06-29T10:19:20.449Z"
   },
   {
    "duration": 4,
    "start_time": "2023-06-29T10:19:38.469Z"
   },
   {
    "duration": 11,
    "start_time": "2023-06-29T10:19:44.307Z"
   },
   {
    "duration": 11,
    "start_time": "2023-06-29T10:19:53.509Z"
   },
   {
    "duration": 13,
    "start_time": "2023-06-29T10:20:12.108Z"
   },
   {
    "duration": 11,
    "start_time": "2023-06-29T10:20:21.510Z"
   },
   {
    "duration": 5,
    "start_time": "2023-06-29T10:21:04.751Z"
   },
   {
    "duration": 11,
    "start_time": "2023-06-29T10:21:13.656Z"
   },
   {
    "duration": 19,
    "start_time": "2023-06-29T10:21:22.105Z"
   },
   {
    "duration": 5,
    "start_time": "2023-06-29T10:21:36.809Z"
   },
   {
    "duration": 14,
    "start_time": "2023-06-29T10:23:05.569Z"
   },
   {
    "duration": 5,
    "start_time": "2023-06-29T10:23:12.712Z"
   },
   {
    "duration": 222,
    "start_time": "2023-06-29T10:23:12.719Z"
   },
   {
    "duration": 3,
    "start_time": "2023-06-29T10:23:12.943Z"
   },
   {
    "duration": 22,
    "start_time": "2023-06-29T10:23:12.949Z"
   },
   {
    "duration": 81,
    "start_time": "2023-06-29T10:23:12.972Z"
   },
   {
    "duration": 21,
    "start_time": "2023-06-29T10:23:13.055Z"
   },
   {
    "duration": 27,
    "start_time": "2023-06-29T10:23:13.078Z"
   },
   {
    "duration": 10,
    "start_time": "2023-06-29T10:23:13.107Z"
   },
   {
    "duration": 34,
    "start_time": "2023-06-29T10:23:13.121Z"
   },
   {
    "duration": 13,
    "start_time": "2023-06-29T10:23:13.157Z"
   },
   {
    "duration": 35,
    "start_time": "2023-06-29T10:23:13.171Z"
   },
   {
    "duration": 96,
    "start_time": "2023-06-29T10:23:13.207Z"
   },
   {
    "duration": 6,
    "start_time": "2023-06-29T10:23:13.304Z"
   },
   {
    "duration": 7,
    "start_time": "2023-06-29T10:23:13.312Z"
   },
   {
    "duration": 98,
    "start_time": "2023-06-29T10:23:13.320Z"
   },
   {
    "duration": 1521,
    "start_time": "2023-06-29T10:23:13.419Z"
   },
   {
    "duration": 43,
    "start_time": "2023-06-29T10:23:14.941Z"
   },
   {
    "duration": 873,
    "start_time": "2023-06-29T10:23:14.985Z"
   },
   {
    "duration": 11,
    "start_time": "2023-06-29T10:23:15.859Z"
   },
   {
    "duration": 36,
    "start_time": "2023-06-29T10:23:15.872Z"
   },
   {
    "duration": 16,
    "start_time": "2023-06-29T10:23:15.910Z"
   },
   {
    "duration": 12,
    "start_time": "2023-06-29T10:23:15.927Z"
   },
   {
    "duration": 6,
    "start_time": "2023-06-29T10:23:15.940Z"
   },
   {
    "duration": 22,
    "start_time": "2023-06-29T10:23:15.950Z"
   },
   {
    "duration": 43,
    "start_time": "2023-06-29T10:23:15.974Z"
   },
   {
    "duration": 5,
    "start_time": "2023-06-29T10:23:16.019Z"
   },
   {
    "duration": 9,
    "start_time": "2023-06-29T10:23:16.025Z"
   },
   {
    "duration": 24,
    "start_time": "2023-06-29T10:23:16.036Z"
   },
   {
    "duration": 41,
    "start_time": "2023-06-29T10:23:16.062Z"
   },
   {
    "duration": 10,
    "start_time": "2023-06-29T10:23:16.104Z"
   },
   {
    "duration": 22,
    "start_time": "2023-06-29T10:23:16.116Z"
   },
   {
    "duration": 37,
    "start_time": "2023-06-29T10:23:16.140Z"
   },
   {
    "duration": 582,
    "start_time": "2023-06-29T10:23:16.178Z"
   },
   {
    "duration": 7,
    "start_time": "2023-06-29T10:23:16.761Z"
   },
   {
    "duration": 51,
    "start_time": "2023-06-29T10:23:16.770Z"
   },
   {
    "duration": 541,
    "start_time": "2023-06-29T10:23:16.823Z"
   },
   {
    "duration": 7,
    "start_time": "2023-06-29T10:23:17.366Z"
   },
   {
    "duration": 46,
    "start_time": "2023-06-29T10:23:17.374Z"
   },
   {
    "duration": 537,
    "start_time": "2023-06-29T10:23:17.421Z"
   },
   {
    "duration": 9,
    "start_time": "2023-06-29T10:23:17.960Z"
   },
   {
    "duration": 35,
    "start_time": "2023-06-29T10:23:17.971Z"
   },
   {
    "duration": 9,
    "start_time": "2023-06-29T10:23:18.008Z"
   },
   {
    "duration": 36,
    "start_time": "2023-06-29T10:23:18.019Z"
   },
   {
    "duration": 14,
    "start_time": "2023-06-29T10:23:18.057Z"
   },
   {
    "duration": 39,
    "start_time": "2023-06-29T10:23:18.073Z"
   },
   {
    "duration": 8,
    "start_time": "2023-06-29T10:23:18.114Z"
   },
   {
    "duration": 8,
    "start_time": "2023-06-29T10:23:18.124Z"
   },
   {
    "duration": 8,
    "start_time": "2023-06-29T10:23:18.134Z"
   },
   {
    "duration": 8,
    "start_time": "2023-06-29T10:23:18.144Z"
   },
   {
    "duration": 52,
    "start_time": "2023-06-29T10:23:18.154Z"
   },
   {
    "duration": 5,
    "start_time": "2023-06-29T10:23:18.207Z"
   },
   {
    "duration": 19,
    "start_time": "2023-06-29T10:23:18.214Z"
   },
   {
    "duration": 10,
    "start_time": "2023-06-29T10:23:18.235Z"
   },
   {
    "duration": 30,
    "start_time": "2023-06-29T10:23:18.246Z"
   },
   {
    "duration": 13,
    "start_time": "2023-06-29T10:23:18.301Z"
   },
   {
    "duration": 15,
    "start_time": "2023-06-29T10:23:18.316Z"
   },
   {
    "duration": 13,
    "start_time": "2023-06-29T10:23:18.333Z"
   },
   {
    "duration": 8,
    "start_time": "2023-06-29T10:23:20.198Z"
   },
   {
    "duration": 6,
    "start_time": "2023-06-29T10:26:40.160Z"
   },
   {
    "duration": 315,
    "start_time": "2023-06-29T10:26:40.168Z"
   },
   {
    "duration": 5,
    "start_time": "2023-06-29T10:26:40.486Z"
   },
   {
    "duration": 43,
    "start_time": "2023-06-29T10:26:40.493Z"
   },
   {
    "duration": 86,
    "start_time": "2023-06-29T10:26:40.538Z"
   },
   {
    "duration": 25,
    "start_time": "2023-06-29T10:26:40.626Z"
   },
   {
    "duration": 34,
    "start_time": "2023-06-29T10:26:40.653Z"
   },
   {
    "duration": 37,
    "start_time": "2023-06-29T10:26:40.689Z"
   },
   {
    "duration": 38,
    "start_time": "2023-06-29T10:26:40.728Z"
   },
   {
    "duration": 35,
    "start_time": "2023-06-29T10:26:40.768Z"
   },
   {
    "duration": 22,
    "start_time": "2023-06-29T10:26:40.806Z"
   },
   {
    "duration": 102,
    "start_time": "2023-06-29T10:26:40.830Z"
   },
   {
    "duration": 5,
    "start_time": "2023-06-29T10:26:40.934Z"
   },
   {
    "duration": 16,
    "start_time": "2023-06-29T10:26:40.941Z"
   },
   {
    "duration": 87,
    "start_time": "2023-06-29T10:26:40.958Z"
   },
   {
    "duration": 1479,
    "start_time": "2023-06-29T10:26:41.047Z"
   },
   {
    "duration": 43,
    "start_time": "2023-06-29T10:26:42.528Z"
   },
   {
    "duration": 805,
    "start_time": "2023-06-29T10:26:42.573Z"
   },
   {
    "duration": 11,
    "start_time": "2023-06-29T10:26:43.380Z"
   },
   {
    "duration": 26,
    "start_time": "2023-06-29T10:26:43.402Z"
   },
   {
    "duration": 24,
    "start_time": "2023-06-29T10:26:43.430Z"
   },
   {
    "duration": 11,
    "start_time": "2023-06-29T10:26:43.456Z"
   },
   {
    "duration": 23,
    "start_time": "2023-06-29T10:26:43.468Z"
   },
   {
    "duration": 29,
    "start_time": "2023-06-29T10:26:43.493Z"
   },
   {
    "duration": 23,
    "start_time": "2023-06-29T10:26:43.524Z"
   },
   {
    "duration": 7,
    "start_time": "2023-06-29T10:26:43.549Z"
   },
   {
    "duration": 15,
    "start_time": "2023-06-29T10:26:43.558Z"
   },
   {
    "duration": 30,
    "start_time": "2023-06-29T10:26:43.575Z"
   },
   {
    "duration": 15,
    "start_time": "2023-06-29T10:26:43.609Z"
   },
   {
    "duration": 18,
    "start_time": "2023-06-29T10:26:43.626Z"
   },
   {
    "duration": 41,
    "start_time": "2023-06-29T10:26:43.646Z"
   },
   {
    "duration": 50,
    "start_time": "2023-06-29T10:26:43.689Z"
   },
   {
    "duration": 570,
    "start_time": "2023-06-29T10:26:43.741Z"
   },
   {
    "duration": 8,
    "start_time": "2023-06-29T10:26:44.313Z"
   },
   {
    "duration": 44,
    "start_time": "2023-06-29T10:26:44.323Z"
   },
   {
    "duration": 595,
    "start_time": "2023-06-29T10:26:44.369Z"
   },
   {
    "duration": 14,
    "start_time": "2023-06-29T10:26:44.968Z"
   },
   {
    "duration": 75,
    "start_time": "2023-06-29T10:26:44.984Z"
   },
   {
    "duration": 572,
    "start_time": "2023-06-29T10:26:45.061Z"
   },
   {
    "duration": 10,
    "start_time": "2023-06-29T10:26:45.635Z"
   },
   {
    "duration": 38,
    "start_time": "2023-06-29T10:26:45.647Z"
   },
   {
    "duration": 13,
    "start_time": "2023-06-29T10:26:45.687Z"
   },
   {
    "duration": 50,
    "start_time": "2023-06-29T10:26:45.702Z"
   },
   {
    "duration": 112,
    "start_time": "2023-06-29T10:26:45.754Z"
   },
   {
    "duration": 23,
    "start_time": "2023-06-29T10:26:45.868Z"
   },
   {
    "duration": 22,
    "start_time": "2023-06-29T10:26:45.892Z"
   },
   {
    "duration": 40,
    "start_time": "2023-06-29T10:26:45.917Z"
   },
   {
    "duration": 31,
    "start_time": "2023-06-29T10:26:45.959Z"
   },
   {
    "duration": 26,
    "start_time": "2023-06-29T10:26:45.992Z"
   },
   {
    "duration": 45,
    "start_time": "2023-06-29T10:26:46.020Z"
   },
   {
    "duration": 12,
    "start_time": "2023-06-29T10:26:46.067Z"
   },
   {
    "duration": 34,
    "start_time": "2023-06-29T10:26:46.081Z"
   },
   {
    "duration": 20,
    "start_time": "2023-06-29T10:26:46.117Z"
   },
   {
    "duration": 44,
    "start_time": "2023-06-29T10:26:46.139Z"
   },
   {
    "duration": 11,
    "start_time": "2023-06-29T10:26:46.185Z"
   },
   {
    "duration": 32,
    "start_time": "2023-06-29T10:26:46.198Z"
   },
   {
    "duration": 12,
    "start_time": "2023-06-29T10:26:46.232Z"
   },
   {
    "duration": 20,
    "start_time": "2023-06-29T10:26:46.245Z"
   },
   {
    "duration": 1628,
    "start_time": "2023-06-29T17:19:48.347Z"
   },
   {
    "duration": 220,
    "start_time": "2023-06-29T17:19:49.977Z"
   },
   {
    "duration": 3,
    "start_time": "2023-06-29T17:19:50.199Z"
   },
   {
    "duration": 40,
    "start_time": "2023-06-29T17:19:50.204Z"
   },
   {
    "duration": 58,
    "start_time": "2023-06-29T17:19:50.246Z"
   },
   {
    "duration": 44,
    "start_time": "2023-06-29T17:19:50.306Z"
   },
   {
    "duration": 18,
    "start_time": "2023-06-29T17:19:50.352Z"
   },
   {
    "duration": 20,
    "start_time": "2023-06-29T17:19:50.371Z"
   },
   {
    "duration": 42,
    "start_time": "2023-06-29T17:19:50.392Z"
   },
   {
    "duration": 15,
    "start_time": "2023-06-29T17:19:50.435Z"
   },
   {
    "duration": 5,
    "start_time": "2023-06-29T17:19:50.452Z"
   },
   {
    "duration": 91,
    "start_time": "2023-06-29T17:19:50.459Z"
   },
   {
    "duration": 8,
    "start_time": "2023-06-29T17:19:50.552Z"
   },
   {
    "duration": 16,
    "start_time": "2023-06-29T17:19:50.563Z"
   },
   {
    "duration": 108,
    "start_time": "2023-06-29T17:19:50.581Z"
   },
   {
    "duration": 1466,
    "start_time": "2023-06-29T17:19:50.691Z"
   },
   {
    "duration": 54,
    "start_time": "2023-06-29T17:19:52.159Z"
   },
   {
    "duration": 835,
    "start_time": "2023-06-29T17:19:52.215Z"
   },
   {
    "duration": 10,
    "start_time": "2023-06-29T17:19:53.052Z"
   },
   {
    "duration": 38,
    "start_time": "2023-06-29T17:19:53.064Z"
   },
   {
    "duration": 26,
    "start_time": "2023-06-29T17:19:53.103Z"
   },
   {
    "duration": 20,
    "start_time": "2023-06-29T17:19:53.131Z"
   },
   {
    "duration": 17,
    "start_time": "2023-06-29T17:19:53.153Z"
   },
   {
    "duration": 24,
    "start_time": "2023-06-29T17:19:53.172Z"
   },
   {
    "duration": 15,
    "start_time": "2023-06-29T17:19:53.198Z"
   },
   {
    "duration": 25,
    "start_time": "2023-06-29T17:19:53.215Z"
   },
   {
    "duration": 16,
    "start_time": "2023-06-29T17:19:53.241Z"
   },
   {
    "duration": 24,
    "start_time": "2023-06-29T17:19:53.258Z"
   },
   {
    "duration": 10,
    "start_time": "2023-06-29T17:19:53.284Z"
   },
   {
    "duration": 823,
    "start_time": "2023-06-29T17:19:53.295Z"
   },
   {
    "duration": 26,
    "start_time": "2023-06-29T17:19:54.119Z"
   },
   {
    "duration": 108,
    "start_time": "2023-06-29T17:19:54.146Z"
   },
   {
    "duration": 747,
    "start_time": "2023-06-29T17:19:54.255Z"
   },
   {
    "duration": 6,
    "start_time": "2023-06-29T17:19:55.004Z"
   },
   {
    "duration": 50,
    "start_time": "2023-06-29T17:19:55.012Z"
   },
   {
    "duration": 526,
    "start_time": "2023-06-29T17:19:55.064Z"
   },
   {
    "duration": 7,
    "start_time": "2023-06-29T17:19:55.592Z"
   },
   {
    "duration": 52,
    "start_time": "2023-06-29T17:19:55.601Z"
   },
   {
    "duration": 549,
    "start_time": "2023-06-29T17:19:55.655Z"
   },
   {
    "duration": 9,
    "start_time": "2023-06-29T17:19:56.206Z"
   },
   {
    "duration": 10,
    "start_time": "2023-06-29T17:19:56.231Z"
   },
   {
    "duration": 12,
    "start_time": "2023-06-29T17:19:56.243Z"
   },
   {
    "duration": 40,
    "start_time": "2023-06-29T17:19:56.257Z"
   },
   {
    "duration": 35,
    "start_time": "2023-06-29T17:19:56.299Z"
   },
   {
    "duration": 10,
    "start_time": "2023-06-29T17:19:56.336Z"
   },
   {
    "duration": 18,
    "start_time": "2023-06-29T17:19:56.348Z"
   },
   {
    "duration": 9,
    "start_time": "2023-06-29T17:19:56.368Z"
   },
   {
    "duration": 10,
    "start_time": "2023-06-29T17:19:56.380Z"
   },
   {
    "duration": 8,
    "start_time": "2023-06-29T17:19:56.393Z"
   },
   {
    "duration": 38,
    "start_time": "2023-06-29T17:19:56.403Z"
   },
   {
    "duration": 5,
    "start_time": "2023-06-29T17:19:56.442Z"
   },
   {
    "duration": 97,
    "start_time": "2023-06-29T17:19:56.449Z"
   },
   {
    "duration": 158,
    "start_time": "2023-06-29T17:19:56.548Z"
   },
   {
    "duration": 35,
    "start_time": "2023-06-29T17:19:56.707Z"
   },
   {
    "duration": 12,
    "start_time": "2023-06-29T17:19:56.744Z"
   },
   {
    "duration": 23,
    "start_time": "2023-06-29T17:19:56.758Z"
   },
   {
    "duration": 13,
    "start_time": "2023-06-29T17:19:56.782Z"
   },
   {
    "duration": 6,
    "start_time": "2023-06-29T17:19:56.797Z"
   },
   {
    "duration": 1506,
    "start_time": "2023-06-29T17:24:54.670Z"
   },
   {
    "duration": 2769,
    "start_time": "2023-06-29T17:25:04.158Z"
   },
   {
    "duration": 11,
    "start_time": "2023-06-29T17:25:18.483Z"
   },
   {
    "duration": 8,
    "start_time": "2023-06-29T17:27:45.766Z"
   },
   {
    "duration": 99,
    "start_time": "2023-06-30T08:07:46.325Z"
   },
   {
    "duration": 2155,
    "start_time": "2023-06-30T08:35:55.084Z"
   },
   {
    "duration": 348,
    "start_time": "2023-06-30T08:35:57.242Z"
   },
   {
    "duration": 4,
    "start_time": "2023-06-30T08:35:57.592Z"
   },
   {
    "duration": 48,
    "start_time": "2023-06-30T08:35:57.597Z"
   },
   {
    "duration": 81,
    "start_time": "2023-06-30T08:35:57.648Z"
   },
   {
    "duration": 31,
    "start_time": "2023-06-30T08:35:57.731Z"
   },
   {
    "duration": 6,
    "start_time": "2023-06-30T08:35:57.764Z"
   },
   {
    "duration": 31,
    "start_time": "2023-06-30T08:35:57.773Z"
   },
   {
    "duration": 57,
    "start_time": "2023-06-30T08:35:57.807Z"
   },
   {
    "duration": 38,
    "start_time": "2023-06-30T08:35:57.866Z"
   },
   {
    "duration": 9,
    "start_time": "2023-06-30T08:35:57.907Z"
   },
   {
    "duration": 92,
    "start_time": "2023-06-30T08:35:57.919Z"
   },
   {
    "duration": 11,
    "start_time": "2023-06-30T08:35:58.013Z"
   },
   {
    "duration": 9,
    "start_time": "2023-06-30T08:35:58.028Z"
   },
   {
    "duration": 142,
    "start_time": "2023-06-30T08:35:58.040Z"
   },
   {
    "duration": 1716,
    "start_time": "2023-06-30T08:35:58.183Z"
   },
   {
    "duration": 51,
    "start_time": "2023-06-30T08:35:59.901Z"
   },
   {
    "duration": 11,
    "start_time": "2023-06-30T08:36:11.582Z"
   },
   {
    "duration": 26,
    "start_time": "2023-06-30T08:36:20.682Z"
   },
   {
    "duration": 5,
    "start_time": "2023-06-30T08:44:35.428Z"
   },
   {
    "duration": 288,
    "start_time": "2023-06-30T08:44:35.435Z"
   },
   {
    "duration": 5,
    "start_time": "2023-06-30T08:44:35.727Z"
   },
   {
    "duration": 48,
    "start_time": "2023-06-30T08:44:35.734Z"
   },
   {
    "duration": 102,
    "start_time": "2023-06-30T08:44:35.785Z"
   },
   {
    "duration": 25,
    "start_time": "2023-06-30T08:44:35.889Z"
   },
   {
    "duration": 19,
    "start_time": "2023-06-30T08:44:35.918Z"
   },
   {
    "duration": 15,
    "start_time": "2023-06-30T08:44:35.940Z"
   },
   {
    "duration": 63,
    "start_time": "2023-06-30T08:44:35.957Z"
   },
   {
    "duration": 23,
    "start_time": "2023-06-30T08:44:36.024Z"
   },
   {
    "duration": 38,
    "start_time": "2023-06-30T08:44:36.049Z"
   },
   {
    "duration": 95,
    "start_time": "2023-06-30T08:44:36.089Z"
   },
   {
    "duration": 7,
    "start_time": "2023-06-30T08:44:36.187Z"
   },
   {
    "duration": 29,
    "start_time": "2023-06-30T08:44:36.197Z"
   },
   {
    "duration": 130,
    "start_time": "2023-06-30T08:44:36.229Z"
   },
   {
    "duration": 1776,
    "start_time": "2023-06-30T08:44:36.360Z"
   },
   {
    "duration": 44,
    "start_time": "2023-06-30T08:44:38.139Z"
   },
   {
    "duration": 1031,
    "start_time": "2023-06-30T08:44:42.866Z"
   },
   {
    "duration": 16,
    "start_time": "2023-06-30T08:44:48.261Z"
   },
   {
    "duration": 23,
    "start_time": "2023-06-30T08:44:55.120Z"
   },
   {
    "duration": 23,
    "start_time": "2023-06-30T08:45:02.601Z"
   },
   {
    "duration": 28,
    "start_time": "2023-06-30T08:45:09.603Z"
   },
   {
    "duration": 5,
    "start_time": "2023-06-30T08:45:17.523Z"
   },
   {
    "duration": 9,
    "start_time": "2023-06-30T08:51:03.042Z"
   },
   {
    "duration": 246,
    "start_time": "2023-06-30T08:51:03.054Z"
   },
   {
    "duration": 4,
    "start_time": "2023-06-30T08:51:03.313Z"
   },
   {
    "duration": 46,
    "start_time": "2023-06-30T08:51:03.322Z"
   },
   {
    "duration": 68,
    "start_time": "2023-06-30T08:51:03.371Z"
   },
   {
    "duration": 21,
    "start_time": "2023-06-30T08:51:03.442Z"
   },
   {
    "duration": 15,
    "start_time": "2023-06-30T08:51:03.464Z"
   },
   {
    "duration": 39,
    "start_time": "2023-06-30T08:51:03.480Z"
   },
   {
    "duration": 61,
    "start_time": "2023-06-30T08:51:03.522Z"
   },
   {
    "duration": 12,
    "start_time": "2023-06-30T08:51:03.585Z"
   },
   {
    "duration": 132,
    "start_time": "2023-06-30T08:51:03.599Z"
   },
   {
    "duration": 87,
    "start_time": "2023-06-30T08:51:03.734Z"
   },
   {
    "duration": 6,
    "start_time": "2023-06-30T08:51:03.824Z"
   },
   {
    "duration": 24,
    "start_time": "2023-06-30T08:51:03.832Z"
   },
   {
    "duration": 142,
    "start_time": "2023-06-30T08:51:03.858Z"
   },
   {
    "duration": 1639,
    "start_time": "2023-06-30T08:51:04.001Z"
   },
   {
    "duration": 14,
    "start_time": "2023-06-30T08:51:16.861Z"
   },
   {
    "duration": 1092,
    "start_time": "2023-06-30T08:52:15.060Z"
   },
   {
    "duration": 18,
    "start_time": "2023-06-30T08:52:23.520Z"
   },
   {
    "duration": 820,
    "start_time": "2023-06-30T08:52:34.042Z"
   },
   {
    "duration": 14,
    "start_time": "2023-06-30T08:52:38.923Z"
   },
   {
    "duration": 34,
    "start_time": "2023-06-30T08:53:03.821Z"
   },
   {
    "duration": 29,
    "start_time": "2023-06-30T08:53:14.621Z"
   },
   {
    "duration": 14,
    "start_time": "2023-06-30T08:53:19.341Z"
   },
   {
    "duration": 6,
    "start_time": "2023-06-30T08:53:25.140Z"
   },
   {
    "duration": 879,
    "start_time": "2023-06-30T08:54:27.100Z"
   },
   {
    "duration": 5,
    "start_time": "2023-06-30T08:54:34.028Z"
   },
   {
    "duration": 324,
    "start_time": "2023-06-30T08:54:34.036Z"
   },
   {
    "duration": 8,
    "start_time": "2023-06-30T08:54:34.362Z"
   },
   {
    "duration": 32,
    "start_time": "2023-06-30T08:54:34.372Z"
   },
   {
    "duration": 115,
    "start_time": "2023-06-30T08:54:34.412Z"
   },
   {
    "duration": 33,
    "start_time": "2023-06-30T08:54:34.530Z"
   },
   {
    "duration": 10,
    "start_time": "2023-06-30T08:54:34.565Z"
   },
   {
    "duration": 10,
    "start_time": "2023-06-30T08:54:34.577Z"
   },
   {
    "duration": 45,
    "start_time": "2023-06-30T08:54:34.605Z"
   },
   {
    "duration": 18,
    "start_time": "2023-06-30T08:54:34.653Z"
   },
   {
    "duration": 6,
    "start_time": "2023-06-30T08:54:34.673Z"
   },
   {
    "duration": 92,
    "start_time": "2023-06-30T08:54:34.706Z"
   },
   {
    "duration": 19,
    "start_time": "2023-06-30T08:54:34.800Z"
   },
   {
    "duration": 10,
    "start_time": "2023-06-30T08:54:34.824Z"
   },
   {
    "duration": 87,
    "start_time": "2023-06-30T08:54:34.836Z"
   },
   {
    "duration": 1708,
    "start_time": "2023-06-30T08:54:34.924Z"
   },
   {
    "duration": 15,
    "start_time": "2023-06-30T08:54:36.635Z"
   },
   {
    "duration": 927,
    "start_time": "2023-06-30T08:54:43.017Z"
   },
   {
    "duration": 5,
    "start_time": "2023-06-30T08:58:52.120Z"
   },
   {
    "duration": 225,
    "start_time": "2023-06-30T08:58:52.126Z"
   },
   {
    "duration": 4,
    "start_time": "2023-06-30T08:58:52.353Z"
   },
   {
    "duration": 29,
    "start_time": "2023-06-30T08:58:52.359Z"
   },
   {
    "duration": 81,
    "start_time": "2023-06-30T08:58:52.391Z"
   },
   {
    "duration": 38,
    "start_time": "2023-06-30T08:58:52.474Z"
   },
   {
    "duration": 54,
    "start_time": "2023-06-30T08:58:52.518Z"
   },
   {
    "duration": 34,
    "start_time": "2023-06-30T08:58:52.574Z"
   },
   {
    "duration": 82,
    "start_time": "2023-06-30T08:58:52.614Z"
   },
   {
    "duration": 25,
    "start_time": "2023-06-30T08:58:52.698Z"
   },
   {
    "duration": 40,
    "start_time": "2023-06-30T08:58:52.724Z"
   },
   {
    "duration": 97,
    "start_time": "2023-06-30T08:58:52.766Z"
   },
   {
    "duration": 6,
    "start_time": "2023-06-30T08:58:52.865Z"
   },
   {
    "duration": 19,
    "start_time": "2023-06-30T08:58:52.874Z"
   },
   {
    "duration": 121,
    "start_time": "2023-06-30T08:58:52.896Z"
   },
   {
    "duration": 1659,
    "start_time": "2023-06-30T08:58:53.019Z"
   },
   {
    "duration": 31,
    "start_time": "2023-06-30T08:58:54.679Z"
   },
   {
    "duration": 928,
    "start_time": "2023-06-30T08:58:54.720Z"
   },
   {
    "duration": 101,
    "start_time": "2023-06-30T08:58:55.650Z"
   },
   {
    "duration": 0,
    "start_time": "2023-06-30T08:58:55.753Z"
   },
   {
    "duration": 0,
    "start_time": "2023-06-30T08:58:55.755Z"
   },
   {
    "duration": 0,
    "start_time": "2023-06-30T08:58:55.757Z"
   },
   {
    "duration": 0,
    "start_time": "2023-06-30T08:58:55.758Z"
   },
   {
    "duration": 24,
    "start_time": "2023-06-30T08:59:29.928Z"
   },
   {
    "duration": 20,
    "start_time": "2023-06-30T08:59:34.760Z"
   },
   {
    "duration": 15,
    "start_time": "2023-06-30T08:59:39.267Z"
   },
   {
    "duration": 24,
    "start_time": "2023-06-30T08:59:42.687Z"
   },
   {
    "duration": 17,
    "start_time": "2023-06-30T09:01:50.915Z"
   },
   {
    "duration": 13,
    "start_time": "2023-06-30T09:02:04.175Z"
   },
   {
    "duration": 21,
    "start_time": "2023-06-30T09:02:07.494Z"
   },
   {
    "duration": 17,
    "start_time": "2023-06-30T09:02:13.889Z"
   },
   {
    "duration": 4,
    "start_time": "2023-06-30T09:02:18.557Z"
   },
   {
    "duration": 355,
    "start_time": "2023-06-30T09:04:59.376Z"
   },
   {
    "duration": 8,
    "start_time": "2023-06-30T09:05:10.077Z"
   },
   {
    "duration": 342,
    "start_time": "2023-06-30T09:05:10.093Z"
   },
   {
    "duration": 4,
    "start_time": "2023-06-30T09:05:10.439Z"
   },
   {
    "duration": 70,
    "start_time": "2023-06-30T09:05:10.444Z"
   },
   {
    "duration": 130,
    "start_time": "2023-06-30T09:05:10.516Z"
   },
   {
    "duration": 27,
    "start_time": "2023-06-30T09:05:10.648Z"
   },
   {
    "duration": 20,
    "start_time": "2023-06-30T09:05:10.678Z"
   },
   {
    "duration": 59,
    "start_time": "2023-06-30T09:05:10.700Z"
   },
   {
    "duration": 92,
    "start_time": "2023-06-30T09:05:10.761Z"
   },
   {
    "duration": 27,
    "start_time": "2023-06-30T09:05:10.858Z"
   },
   {
    "duration": 48,
    "start_time": "2023-06-30T09:05:10.888Z"
   },
   {
    "duration": 82,
    "start_time": "2023-06-30T09:05:10.939Z"
   },
   {
    "duration": 8,
    "start_time": "2023-06-30T09:05:11.023Z"
   },
   {
    "duration": 14,
    "start_time": "2023-06-30T09:05:11.033Z"
   },
   {
    "duration": 93,
    "start_time": "2023-06-30T09:05:11.050Z"
   },
   {
    "duration": 1705,
    "start_time": "2023-06-30T09:05:11.145Z"
   },
   {
    "duration": 17,
    "start_time": "2023-06-30T09:05:12.852Z"
   },
   {
    "duration": 885,
    "start_time": "2023-06-30T09:05:12.871Z"
   },
   {
    "duration": 13,
    "start_time": "2023-06-30T09:05:13.758Z"
   },
   {
    "duration": 43,
    "start_time": "2023-06-30T09:05:13.774Z"
   },
   {
    "duration": 21,
    "start_time": "2023-06-30T09:05:13.822Z"
   },
   {
    "duration": 14,
    "start_time": "2023-06-30T09:05:13.845Z"
   },
   {
    "duration": 325,
    "start_time": "2023-06-30T09:05:25.497Z"
   },
   {
    "duration": 5,
    "start_time": "2023-06-30T09:06:37.179Z"
   },
   {
    "duration": 450,
    "start_time": "2023-06-30T09:06:37.187Z"
   },
   {
    "duration": 4,
    "start_time": "2023-06-30T09:06:37.639Z"
   },
   {
    "duration": 32,
    "start_time": "2023-06-30T09:06:37.645Z"
   },
   {
    "duration": 87,
    "start_time": "2023-06-30T09:06:37.679Z"
   },
   {
    "duration": 21,
    "start_time": "2023-06-30T09:06:37.767Z"
   },
   {
    "duration": 23,
    "start_time": "2023-06-30T09:06:37.790Z"
   },
   {
    "duration": 18,
    "start_time": "2023-06-30T09:06:37.816Z"
   },
   {
    "duration": 36,
    "start_time": "2023-06-30T09:06:37.837Z"
   },
   {
    "duration": 38,
    "start_time": "2023-06-30T09:06:37.876Z"
   },
   {
    "duration": 7,
    "start_time": "2023-06-30T09:06:37.916Z"
   },
   {
    "duration": 75,
    "start_time": "2023-06-30T09:06:37.925Z"
   },
   {
    "duration": 12,
    "start_time": "2023-06-30T09:06:38.006Z"
   },
   {
    "duration": 9,
    "start_time": "2023-06-30T09:06:38.024Z"
   },
   {
    "duration": 88,
    "start_time": "2023-06-30T09:06:38.035Z"
   },
   {
    "duration": 1653,
    "start_time": "2023-06-30T09:06:38.125Z"
   },
   {
    "duration": 44,
    "start_time": "2023-06-30T09:06:39.780Z"
   },
   {
    "duration": 1063,
    "start_time": "2023-06-30T09:06:39.826Z"
   },
   {
    "duration": 21,
    "start_time": "2023-06-30T09:06:40.891Z"
   },
   {
    "duration": 32,
    "start_time": "2023-06-30T09:06:40.914Z"
   },
   {
    "duration": 17,
    "start_time": "2023-06-30T09:06:40.949Z"
   },
   {
    "duration": 43,
    "start_time": "2023-06-30T09:06:40.968Z"
   },
   {
    "duration": 12,
    "start_time": "2023-06-30T09:06:54.742Z"
   },
   {
    "duration": 6,
    "start_time": "2023-06-30T09:07:17.179Z"
   },
   {
    "duration": 240,
    "start_time": "2023-06-30T09:07:17.187Z"
   },
   {
    "duration": 4,
    "start_time": "2023-06-30T09:07:17.429Z"
   },
   {
    "duration": 45,
    "start_time": "2023-06-30T09:07:17.435Z"
   },
   {
    "duration": 100,
    "start_time": "2023-06-30T09:07:17.482Z"
   },
   {
    "duration": 39,
    "start_time": "2023-06-30T09:07:17.584Z"
   },
   {
    "duration": 40,
    "start_time": "2023-06-30T09:07:17.626Z"
   },
   {
    "duration": 44,
    "start_time": "2023-06-30T09:07:17.669Z"
   },
   {
    "duration": 75,
    "start_time": "2023-06-30T09:07:17.715Z"
   },
   {
    "duration": 30,
    "start_time": "2023-06-30T09:07:17.792Z"
   },
   {
    "duration": 22,
    "start_time": "2023-06-30T09:07:17.824Z"
   },
   {
    "duration": 88,
    "start_time": "2023-06-30T09:07:17.848Z"
   },
   {
    "duration": 6,
    "start_time": "2023-06-30T09:07:17.939Z"
   },
   {
    "duration": 40,
    "start_time": "2023-06-30T09:07:17.949Z"
   },
   {
    "duration": 118,
    "start_time": "2023-06-30T09:07:17.991Z"
   },
   {
    "duration": 1601,
    "start_time": "2023-06-30T09:07:18.121Z"
   },
   {
    "duration": 15,
    "start_time": "2023-06-30T09:07:19.724Z"
   },
   {
    "duration": 1044,
    "start_time": "2023-06-30T09:07:19.741Z"
   },
   {
    "duration": 25,
    "start_time": "2023-06-30T09:07:20.788Z"
   },
   {
    "duration": 53,
    "start_time": "2023-06-30T09:07:20.815Z"
   },
   {
    "duration": 26,
    "start_time": "2023-06-30T09:07:20.870Z"
   },
   {
    "duration": 14,
    "start_time": "2023-06-30T09:07:33.520Z"
   },
   {
    "duration": 13,
    "start_time": "2023-06-30T09:08:48.717Z"
   },
   {
    "duration": 20,
    "start_time": "2023-06-30T09:09:13.722Z"
   },
   {
    "duration": 7,
    "start_time": "2023-06-30T09:11:00.550Z"
   },
   {
    "duration": 329,
    "start_time": "2023-06-30T09:11:00.559Z"
   },
   {
    "duration": 4,
    "start_time": "2023-06-30T09:11:00.890Z"
   },
   {
    "duration": 56,
    "start_time": "2023-06-30T09:11:00.896Z"
   },
   {
    "duration": 116,
    "start_time": "2023-06-30T09:11:00.954Z"
   },
   {
    "duration": 79,
    "start_time": "2023-06-30T09:11:01.072Z"
   },
   {
    "duration": 44,
    "start_time": "2023-06-30T09:11:01.153Z"
   },
   {
    "duration": 46,
    "start_time": "2023-06-30T09:11:01.200Z"
   },
   {
    "duration": 90,
    "start_time": "2023-06-30T09:11:01.248Z"
   },
   {
    "duration": 54,
    "start_time": "2023-06-30T09:11:01.341Z"
   },
   {
    "duration": 76,
    "start_time": "2023-06-30T09:11:01.398Z"
   },
   {
    "duration": 160,
    "start_time": "2023-06-30T09:11:01.476Z"
   },
   {
    "duration": 10,
    "start_time": "2023-06-30T09:11:01.638Z"
   },
   {
    "duration": 65,
    "start_time": "2023-06-30T09:11:01.653Z"
   },
   {
    "duration": 121,
    "start_time": "2023-06-30T09:11:01.720Z"
   },
   {
    "duration": 1656,
    "start_time": "2023-06-30T09:11:01.842Z"
   },
   {
    "duration": 22,
    "start_time": "2023-06-30T09:11:03.502Z"
   },
   {
    "duration": 913,
    "start_time": "2023-06-30T09:11:03.527Z"
   },
   {
    "duration": 12,
    "start_time": "2023-06-30T09:11:04.442Z"
   },
   {
    "duration": 83,
    "start_time": "2023-06-30T09:11:04.456Z"
   },
   {
    "duration": 28,
    "start_time": "2023-06-30T09:11:04.541Z"
   },
   {
    "duration": 26,
    "start_time": "2023-06-30T09:11:04.571Z"
   },
   {
    "duration": 41,
    "start_time": "2023-06-30T09:11:04.599Z"
   },
   {
    "duration": 29,
    "start_time": "2023-06-30T09:11:24.087Z"
   },
   {
    "duration": 175,
    "start_time": "2023-06-30T09:11:50.722Z"
   },
   {
    "duration": 24,
    "start_time": "2023-06-30T09:12:02.547Z"
   },
   {
    "duration": 19,
    "start_time": "2023-06-30T09:12:37.646Z"
   },
   {
    "duration": 12,
    "start_time": "2023-06-30T09:13:21.178Z"
   },
   {
    "duration": 8,
    "start_time": "2023-06-30T09:13:27.965Z"
   },
   {
    "duration": 12,
    "start_time": "2023-06-30T09:14:05.801Z"
   },
   {
    "duration": 96,
    "start_time": "2023-06-30T09:18:52.352Z"
   },
   {
    "duration": 10,
    "start_time": "2023-06-30T09:23:08.043Z"
   },
   {
    "duration": 4,
    "start_time": "2023-06-30T09:23:15.517Z"
   },
   {
    "duration": 331,
    "start_time": "2023-06-30T09:23:15.523Z"
   },
   {
    "duration": 4,
    "start_time": "2023-06-30T09:23:15.856Z"
   },
   {
    "duration": 77,
    "start_time": "2023-06-30T09:23:15.862Z"
   },
   {
    "duration": 88,
    "start_time": "2023-06-30T09:23:15.941Z"
   },
   {
    "duration": 30,
    "start_time": "2023-06-30T09:23:16.031Z"
   },
   {
    "duration": 62,
    "start_time": "2023-06-30T09:23:16.062Z"
   },
   {
    "duration": 27,
    "start_time": "2023-06-30T09:23:16.126Z"
   },
   {
    "duration": 41,
    "start_time": "2023-06-30T09:23:16.155Z"
   },
   {
    "duration": 22,
    "start_time": "2023-06-30T09:23:16.198Z"
   },
   {
    "duration": 5,
    "start_time": "2023-06-30T09:23:16.223Z"
   },
   {
    "duration": 107,
    "start_time": "2023-06-30T09:23:16.230Z"
   },
   {
    "duration": 6,
    "start_time": "2023-06-30T09:23:16.339Z"
   },
   {
    "duration": 29,
    "start_time": "2023-06-30T09:23:16.346Z"
   },
   {
    "duration": 109,
    "start_time": "2023-06-30T09:23:16.378Z"
   },
   {
    "duration": 1521,
    "start_time": "2023-06-30T09:23:16.488Z"
   },
   {
    "duration": 15,
    "start_time": "2023-06-30T09:23:18.015Z"
   },
   {
    "duration": 812,
    "start_time": "2023-06-30T09:23:18.031Z"
   },
   {
    "duration": 12,
    "start_time": "2023-06-30T09:23:18.845Z"
   },
   {
    "duration": 30,
    "start_time": "2023-06-30T09:23:18.859Z"
   },
   {
    "duration": 28,
    "start_time": "2023-06-30T09:23:18.891Z"
   },
   {
    "duration": 18,
    "start_time": "2023-06-30T09:23:18.921Z"
   },
   {
    "duration": 19,
    "start_time": "2023-06-30T09:23:18.941Z"
   },
   {
    "duration": 25,
    "start_time": "2023-06-30T09:23:18.962Z"
   },
   {
    "duration": 12,
    "start_time": "2023-06-30T09:23:19.009Z"
   },
   {
    "duration": 37,
    "start_time": "2023-06-30T09:23:19.022Z"
   },
   {
    "duration": 24,
    "start_time": "2023-06-30T09:23:19.060Z"
   },
   {
    "duration": 4,
    "start_time": "2023-06-30T09:23:19.086Z"
   },
   {
    "duration": 48,
    "start_time": "2023-06-30T09:23:19.093Z"
   },
   {
    "duration": 16,
    "start_time": "2023-06-30T09:23:19.143Z"
   },
   {
    "duration": 6,
    "start_time": "2023-06-30T09:23:19.161Z"
   },
   {
    "duration": 21,
    "start_time": "2023-06-30T09:23:19.169Z"
   },
   {
    "duration": 34,
    "start_time": "2023-06-30T09:23:26.692Z"
   },
   {
    "duration": 16,
    "start_time": "2023-06-30T09:24:38.174Z"
   },
   {
    "duration": 19,
    "start_time": "2023-06-30T09:24:55.164Z"
   },
   {
    "duration": 5,
    "start_time": "2023-06-30T09:25:05.215Z"
   },
   {
    "duration": 284,
    "start_time": "2023-06-30T09:25:05.222Z"
   },
   {
    "duration": 6,
    "start_time": "2023-06-30T09:25:05.507Z"
   },
   {
    "duration": 32,
    "start_time": "2023-06-30T09:25:05.515Z"
   },
   {
    "duration": 73,
    "start_time": "2023-06-30T09:25:05.550Z"
   },
   {
    "duration": 19,
    "start_time": "2023-06-30T09:25:05.624Z"
   },
   {
    "duration": 8,
    "start_time": "2023-06-30T09:25:05.645Z"
   },
   {
    "duration": 14,
    "start_time": "2023-06-30T09:25:05.654Z"
   },
   {
    "duration": 64,
    "start_time": "2023-06-30T09:25:05.670Z"
   },
   {
    "duration": 21,
    "start_time": "2023-06-30T09:25:05.736Z"
   },
   {
    "duration": 11,
    "start_time": "2023-06-30T09:25:05.758Z"
   },
   {
    "duration": 90,
    "start_time": "2023-06-30T09:25:05.771Z"
   },
   {
    "duration": 6,
    "start_time": "2023-06-30T09:25:05.864Z"
   },
   {
    "duration": 44,
    "start_time": "2023-06-30T09:25:05.871Z"
   },
   {
    "duration": 125,
    "start_time": "2023-06-30T09:25:05.918Z"
   },
   {
    "duration": 1609,
    "start_time": "2023-06-30T09:25:06.046Z"
   },
   {
    "duration": 17,
    "start_time": "2023-06-30T09:25:07.657Z"
   },
   {
    "duration": 842,
    "start_time": "2023-06-30T09:25:07.676Z"
   },
   {
    "duration": 12,
    "start_time": "2023-06-30T09:25:08.520Z"
   },
   {
    "duration": 26,
    "start_time": "2023-06-30T09:25:08.534Z"
   },
   {
    "duration": 17,
    "start_time": "2023-06-30T09:25:08.562Z"
   },
   {
    "duration": 21,
    "start_time": "2023-06-30T09:25:08.603Z"
   },
   {
    "duration": 17,
    "start_time": "2023-06-30T09:25:08.626Z"
   },
   {
    "duration": 21,
    "start_time": "2023-06-30T09:25:08.645Z"
   },
   {
    "duration": 8,
    "start_time": "2023-06-30T09:25:08.668Z"
   },
   {
    "duration": 38,
    "start_time": "2023-06-30T09:25:08.677Z"
   },
   {
    "duration": 16,
    "start_time": "2023-06-30T09:25:08.718Z"
   },
   {
    "duration": 5,
    "start_time": "2023-06-30T09:25:08.735Z"
   },
   {
    "duration": 26,
    "start_time": "2023-06-30T09:25:08.742Z"
   },
   {
    "duration": 48,
    "start_time": "2023-06-30T09:25:08.770Z"
   },
   {
    "duration": 7,
    "start_time": "2023-06-30T09:25:08.820Z"
   },
   {
    "duration": 18,
    "start_time": "2023-06-30T09:25:08.829Z"
   },
   {
    "duration": 17,
    "start_time": "2023-06-30T09:26:06.561Z"
   },
   {
    "duration": 17,
    "start_time": "2023-06-30T09:26:19.466Z"
   },
   {
    "duration": 8,
    "start_time": "2023-06-30T09:27:55.236Z"
   },
   {
    "duration": 10,
    "start_time": "2023-06-30T09:28:11.572Z"
   },
   {
    "duration": 15,
    "start_time": "2023-06-30T09:28:21.464Z"
   },
   {
    "duration": 12,
    "start_time": "2023-06-30T09:29:14.118Z"
   },
   {
    "duration": 6,
    "start_time": "2023-06-30T09:35:50.832Z"
   },
   {
    "duration": 11,
    "start_time": "2023-06-30T09:35:55.414Z"
   },
   {
    "duration": 18,
    "start_time": "2023-06-30T09:36:06.324Z"
   },
   {
    "duration": 296,
    "start_time": "2023-06-30T09:36:37.465Z"
   },
   {
    "duration": 503,
    "start_time": "2023-06-30T09:37:51.164Z"
   },
   {
    "duration": 377,
    "start_time": "2023-06-30T09:57:25.249Z"
   },
   {
    "duration": 5,
    "start_time": "2023-06-30T10:00:39.515Z"
   },
   {
    "duration": 252,
    "start_time": "2023-06-30T10:00:39.522Z"
   },
   {
    "duration": 4,
    "start_time": "2023-06-30T10:00:39.776Z"
   },
   {
    "duration": 48,
    "start_time": "2023-06-30T10:00:39.783Z"
   },
   {
    "duration": 69,
    "start_time": "2023-06-30T10:00:39.834Z"
   },
   {
    "duration": 20,
    "start_time": "2023-06-30T10:00:39.904Z"
   },
   {
    "duration": 30,
    "start_time": "2023-06-30T10:00:39.926Z"
   },
   {
    "duration": 28,
    "start_time": "2023-06-30T10:00:39.959Z"
   },
   {
    "duration": 55,
    "start_time": "2023-06-30T10:00:39.989Z"
   },
   {
    "duration": 50,
    "start_time": "2023-06-30T10:00:40.046Z"
   },
   {
    "duration": 16,
    "start_time": "2023-06-30T10:00:40.098Z"
   },
   {
    "duration": 138,
    "start_time": "2023-06-30T10:00:40.116Z"
   },
   {
    "duration": 6,
    "start_time": "2023-06-30T10:00:40.258Z"
   },
   {
    "duration": 128,
    "start_time": "2023-06-30T10:00:40.266Z"
   },
   {
    "duration": 162,
    "start_time": "2023-06-30T10:00:40.397Z"
   },
   {
    "duration": 1553,
    "start_time": "2023-06-30T10:00:40.562Z"
   },
   {
    "duration": 17,
    "start_time": "2023-06-30T10:00:42.118Z"
   },
   {
    "duration": 890,
    "start_time": "2023-06-30T10:00:42.137Z"
   },
   {
    "duration": 12,
    "start_time": "2023-06-30T10:00:43.029Z"
   },
   {
    "duration": 32,
    "start_time": "2023-06-30T10:00:43.043Z"
   },
   {
    "duration": 35,
    "start_time": "2023-06-30T10:00:43.077Z"
   },
   {
    "duration": 16,
    "start_time": "2023-06-30T10:00:43.114Z"
   },
   {
    "duration": 21,
    "start_time": "2023-06-30T10:00:43.133Z"
   },
   {
    "duration": 48,
    "start_time": "2023-06-30T10:00:43.156Z"
   },
   {
    "duration": 11,
    "start_time": "2023-06-30T10:00:43.206Z"
   },
   {
    "duration": 14,
    "start_time": "2023-06-30T10:00:43.219Z"
   },
   {
    "duration": 16,
    "start_time": "2023-06-30T10:00:43.235Z"
   },
   {
    "duration": 5,
    "start_time": "2023-06-30T10:00:43.253Z"
   },
   {
    "duration": 71,
    "start_time": "2023-06-30T10:00:43.259Z"
   },
   {
    "duration": 17,
    "start_time": "2023-06-30T10:00:43.333Z"
   },
   {
    "duration": 7,
    "start_time": "2023-06-30T10:00:43.352Z"
   },
   {
    "duration": 10,
    "start_time": "2023-06-30T10:00:43.361Z"
   },
   {
    "duration": 41,
    "start_time": "2023-06-30T10:00:43.373Z"
   },
   {
    "duration": 10,
    "start_time": "2023-06-30T10:00:43.416Z"
   },
   {
    "duration": 447,
    "start_time": "2023-06-30T10:00:43.427Z"
   },
   {
    "duration": 43,
    "start_time": "2023-06-30T10:00:43.876Z"
   },
   {
    "duration": 16,
    "start_time": "2023-06-30T10:00:43.921Z"
   },
   {
    "duration": 12,
    "start_time": "2023-06-30T10:00:48.825Z"
   },
   {
    "duration": 436,
    "start_time": "2023-06-30T10:01:00.205Z"
   },
   {
    "duration": 23,
    "start_time": "2023-06-30T10:02:15.214Z"
   },
   {
    "duration": 40,
    "start_time": "2023-06-30T10:02:19.332Z"
   },
   {
    "duration": 549,
    "start_time": "2023-06-30T10:02:24.134Z"
   },
   {
    "duration": 7,
    "start_time": "2023-06-30T10:02:30.165Z"
   },
   {
    "duration": 40,
    "start_time": "2023-06-30T10:02:32.435Z"
   },
   {
    "duration": 752,
    "start_time": "2023-06-30T10:07:52.059Z"
   },
   {
    "duration": 6,
    "start_time": "2023-06-30T10:08:01.394Z"
   },
   {
    "duration": 55,
    "start_time": "2023-06-30T10:08:03.238Z"
   },
   {
    "duration": 10,
    "start_time": "2023-06-30T10:08:22.914Z"
   },
   {
    "duration": 11,
    "start_time": "2023-06-30T10:08:25.827Z"
   },
   {
    "duration": 9,
    "start_time": "2023-06-30T10:08:28.295Z"
   },
   {
    "duration": 129,
    "start_time": "2023-06-30T10:12:34.315Z"
   },
   {
    "duration": 40,
    "start_time": "2023-06-30T10:13:29.626Z"
   },
   {
    "duration": 19,
    "start_time": "2023-06-30T10:13:35.726Z"
   },
   {
    "duration": 12,
    "start_time": "2023-06-30T10:13:42.122Z"
   },
   {
    "duration": 10,
    "start_time": "2023-06-30T10:13:44.719Z"
   },
   {
    "duration": 11,
    "start_time": "2023-06-30T10:13:47.305Z"
   },
   {
    "duration": 22,
    "start_time": "2023-06-30T10:17:18.315Z"
   },
   {
    "duration": 8,
    "start_time": "2023-06-30T10:17:42.227Z"
   },
   {
    "duration": 132,
    "start_time": "2023-06-30T10:18:57.512Z"
   },
   {
    "duration": 5,
    "start_time": "2023-06-30T10:20:06.646Z"
   },
   {
    "duration": 18,
    "start_time": "2023-06-30T10:20:08.915Z"
   },
   {
    "duration": 7,
    "start_time": "2023-06-30T10:20:13.011Z"
   },
   {
    "duration": 16,
    "start_time": "2023-06-30T10:20:17.030Z"
   },
   {
    "duration": 5,
    "start_time": "2023-06-30T10:20:21.226Z"
   },
   {
    "duration": 28,
    "start_time": "2023-06-30T10:20:25.219Z"
   },
   {
    "duration": 14,
    "start_time": "2023-06-30T10:20:29.357Z"
   },
   {
    "duration": 16,
    "start_time": "2023-06-30T10:20:33.038Z"
   },
   {
    "duration": 14,
    "start_time": "2023-06-30T10:20:34.823Z"
   },
   {
    "duration": 10,
    "start_time": "2023-06-30T10:20:37.550Z"
   },
   {
    "duration": 61,
    "start_time": "2023-06-30T13:09:12.229Z"
   },
   {
    "duration": 9,
    "start_time": "2023-06-30T13:10:09.378Z"
   },
   {
    "duration": 2480,
    "start_time": "2023-06-30T13:11:30.948Z"
   },
   {
    "duration": 544,
    "start_time": "2023-06-30T13:11:33.435Z"
   },
   {
    "duration": 15,
    "start_time": "2023-06-30T13:11:33.986Z"
   },
   {
    "duration": 52,
    "start_time": "2023-06-30T13:11:34.014Z"
   },
   {
    "duration": 129,
    "start_time": "2023-06-30T13:11:34.068Z"
   },
   {
    "duration": 36,
    "start_time": "2023-06-30T13:11:34.199Z"
   },
   {
    "duration": 12,
    "start_time": "2023-06-30T13:11:34.237Z"
   },
   {
    "duration": 62,
    "start_time": "2023-06-30T13:11:34.253Z"
   },
   {
    "duration": 41,
    "start_time": "2023-06-30T13:11:34.317Z"
   },
   {
    "duration": 21,
    "start_time": "2023-06-30T13:11:34.362Z"
   },
   {
    "duration": 38,
    "start_time": "2023-06-30T13:11:34.384Z"
   },
   {
    "duration": 126,
    "start_time": "2023-06-30T13:11:34.425Z"
   },
   {
    "duration": 8,
    "start_time": "2023-06-30T13:11:34.568Z"
   },
   {
    "duration": 42,
    "start_time": "2023-06-30T13:11:34.590Z"
   },
   {
    "duration": 165,
    "start_time": "2023-06-30T13:11:34.635Z"
   },
   {
    "duration": 1913,
    "start_time": "2023-06-30T13:11:34.802Z"
   },
   {
    "duration": 17,
    "start_time": "2023-06-30T13:11:36.717Z"
   },
   {
    "duration": 983,
    "start_time": "2023-06-30T13:11:36.736Z"
   },
   {
    "duration": 14,
    "start_time": "2023-06-30T13:11:37.721Z"
   },
   {
    "duration": 60,
    "start_time": "2023-06-30T13:11:37.738Z"
   },
   {
    "duration": 20,
    "start_time": "2023-06-30T13:11:37.800Z"
   },
   {
    "duration": 17,
    "start_time": "2023-06-30T13:11:37.822Z"
   },
   {
    "duration": 44,
    "start_time": "2023-06-30T13:11:37.841Z"
   },
   {
    "duration": 39,
    "start_time": "2023-06-30T13:11:37.887Z"
   },
   {
    "duration": 10,
    "start_time": "2023-06-30T13:11:37.928Z"
   },
   {
    "duration": 25,
    "start_time": "2023-06-30T13:11:37.940Z"
   },
   {
    "duration": 51,
    "start_time": "2023-06-30T13:11:37.967Z"
   },
   {
    "duration": 5,
    "start_time": "2023-06-30T13:11:38.021Z"
   },
   {
    "duration": 6,
    "start_time": "2023-06-30T13:16:38.619Z"
   },
   {
    "duration": 454,
    "start_time": "2023-06-30T13:16:38.628Z"
   },
   {
    "duration": 6,
    "start_time": "2023-06-30T13:16:39.085Z"
   },
   {
    "duration": 40,
    "start_time": "2023-06-30T13:16:39.093Z"
   },
   {
    "duration": 95,
    "start_time": "2023-06-30T13:16:39.137Z"
   },
   {
    "duration": 44,
    "start_time": "2023-06-30T13:16:39.234Z"
   },
   {
    "duration": 10,
    "start_time": "2023-06-30T13:16:39.280Z"
   },
   {
    "duration": 16,
    "start_time": "2023-06-30T13:16:39.292Z"
   },
   {
    "duration": 96,
    "start_time": "2023-06-30T13:16:39.311Z"
   },
   {
    "duration": 30,
    "start_time": "2023-06-30T13:16:39.410Z"
   },
   {
    "duration": 9,
    "start_time": "2023-06-30T13:16:39.443Z"
   },
   {
    "duration": 125,
    "start_time": "2023-06-30T13:16:39.454Z"
   },
   {
    "duration": 7,
    "start_time": "2023-06-30T13:16:39.582Z"
   },
   {
    "duration": 11,
    "start_time": "2023-06-30T13:16:39.591Z"
   },
   {
    "duration": 139,
    "start_time": "2023-06-30T13:16:39.605Z"
   },
   {
    "duration": 1925,
    "start_time": "2023-06-30T13:16:39.757Z"
   },
   {
    "duration": 57,
    "start_time": "2023-06-30T13:16:48.660Z"
   },
   {
    "duration": 1153,
    "start_time": "2023-06-30T13:17:33.489Z"
   },
   {
    "duration": 1039,
    "start_time": "2023-06-30T13:18:05.194Z"
   },
   {
    "duration": 16,
    "start_time": "2023-06-30T13:18:12.677Z"
   },
   {
    "duration": 4,
    "start_time": "2023-06-30T13:18:40.278Z"
   },
   {
    "duration": 6,
    "start_time": "2023-06-30T13:19:15.773Z"
   },
   {
    "duration": 359,
    "start_time": "2023-06-30T13:19:15.781Z"
   },
   {
    "duration": 4,
    "start_time": "2023-06-30T13:19:16.142Z"
   },
   {
    "duration": 64,
    "start_time": "2023-06-30T13:19:16.151Z"
   },
   {
    "duration": 89,
    "start_time": "2023-06-30T13:19:16.218Z"
   },
   {
    "duration": 23,
    "start_time": "2023-06-30T13:19:16.309Z"
   },
   {
    "duration": 56,
    "start_time": "2023-06-30T13:19:16.334Z"
   },
   {
    "duration": 50,
    "start_time": "2023-06-30T13:19:16.392Z"
   },
   {
    "duration": 92,
    "start_time": "2023-06-30T13:19:16.443Z"
   },
   {
    "duration": 32,
    "start_time": "2023-06-30T13:19:16.538Z"
   },
   {
    "duration": 19,
    "start_time": "2023-06-30T13:19:16.572Z"
   },
   {
    "duration": 133,
    "start_time": "2023-06-30T13:19:16.593Z"
   },
   {
    "duration": 10,
    "start_time": "2023-06-30T13:19:16.728Z"
   },
   {
    "duration": 39,
    "start_time": "2023-06-30T13:19:16.752Z"
   },
   {
    "duration": 132,
    "start_time": "2023-06-30T13:19:16.794Z"
   },
   {
    "duration": 1982,
    "start_time": "2023-06-30T13:19:16.928Z"
   },
   {
    "duration": 75,
    "start_time": "2023-06-30T13:19:18.912Z"
   },
   {
    "duration": 959,
    "start_time": "2023-06-30T13:19:18.990Z"
   },
   {
    "duration": 18,
    "start_time": "2023-06-30T13:19:22.188Z"
   },
   {
    "duration": 28,
    "start_time": "2023-06-30T13:19:28.188Z"
   },
   {
    "duration": 25,
    "start_time": "2023-06-30T13:19:35.783Z"
   },
   {
    "duration": 16,
    "start_time": "2023-06-30T13:19:46.635Z"
   },
   {
    "duration": 17,
    "start_time": "2023-06-30T13:19:52.374Z"
   },
   {
    "duration": 22,
    "start_time": "2023-06-30T13:19:56.587Z"
   },
   {
    "duration": 12,
    "start_time": "2023-06-30T13:20:00.488Z"
   },
   {
    "duration": 22,
    "start_time": "2023-06-30T13:23:08.246Z"
   },
   {
    "duration": 31,
    "start_time": "2023-06-30T13:23:12.948Z"
   },
   {
    "duration": 8,
    "start_time": "2023-06-30T13:23:17.208Z"
   },
   {
    "duration": 33,
    "start_time": "2023-06-30T13:25:12.429Z"
   },
   {
    "duration": 29,
    "start_time": "2023-06-30T13:25:17.888Z"
   },
   {
    "duration": 8,
    "start_time": "2023-06-30T13:25:22.308Z"
   },
   {
    "duration": 13,
    "start_time": "2023-06-30T13:25:29.330Z"
   },
   {
    "duration": 34,
    "start_time": "2023-06-30T13:25:45.440Z"
   },
   {
    "duration": 145,
    "start_time": "2023-06-30T13:25:50.832Z"
   },
   {
    "duration": 24,
    "start_time": "2023-06-30T13:26:08.739Z"
   },
   {
    "duration": 780,
    "start_time": "2023-06-30T13:26:11.828Z"
   },
   {
    "duration": 16,
    "start_time": "2023-06-30T13:30:01.167Z"
   },
   {
    "duration": 369,
    "start_time": "2023-06-30T13:30:01.189Z"
   },
   {
    "duration": 7,
    "start_time": "2023-06-30T13:30:01.560Z"
   },
   {
    "duration": 175,
    "start_time": "2023-06-30T13:30:01.573Z"
   },
   {
    "duration": 149,
    "start_time": "2023-06-30T13:30:01.750Z"
   },
   {
    "duration": 35,
    "start_time": "2023-06-30T13:30:01.901Z"
   },
   {
    "duration": 49,
    "start_time": "2023-06-30T13:30:01.940Z"
   },
   {
    "duration": 66,
    "start_time": "2023-06-30T13:30:01.992Z"
   },
   {
    "duration": 150,
    "start_time": "2023-06-30T13:30:02.063Z"
   },
   {
    "duration": 101,
    "start_time": "2023-06-30T13:30:02.218Z"
   },
   {
    "duration": 65,
    "start_time": "2023-06-30T13:30:02.322Z"
   },
   {
    "duration": 225,
    "start_time": "2023-06-30T13:30:02.393Z"
   },
   {
    "duration": 10,
    "start_time": "2023-06-30T13:30:02.621Z"
   },
   {
    "duration": 176,
    "start_time": "2023-06-30T13:30:02.634Z"
   },
   {
    "duration": 199,
    "start_time": "2023-06-30T13:30:02.813Z"
   },
   {
    "duration": 2205,
    "start_time": "2023-06-30T13:30:03.015Z"
   },
   {
    "duration": 78,
    "start_time": "2023-06-30T13:30:05.223Z"
   },
   {
    "duration": 1508,
    "start_time": "2023-06-30T13:30:05.303Z"
   },
   {
    "duration": 19,
    "start_time": "2023-06-30T13:30:06.814Z"
   },
   {
    "duration": 60,
    "start_time": "2023-06-30T13:30:06.835Z"
   },
   {
    "duration": 25,
    "start_time": "2023-06-30T13:30:06.899Z"
   },
   {
    "duration": 43,
    "start_time": "2023-06-30T13:30:06.929Z"
   },
   {
    "duration": 31,
    "start_time": "2023-06-30T13:30:06.974Z"
   },
   {
    "duration": 49,
    "start_time": "2023-06-30T13:30:07.012Z"
   },
   {
    "duration": 45,
    "start_time": "2023-06-30T13:30:07.064Z"
   },
   {
    "duration": 28,
    "start_time": "2023-06-30T13:30:07.112Z"
   },
   {
    "duration": 34,
    "start_time": "2023-06-30T13:30:07.142Z"
   },
   {
    "duration": 10,
    "start_time": "2023-06-30T13:30:07.189Z"
   },
   {
    "duration": 41,
    "start_time": "2023-06-30T13:30:07.202Z"
   },
   {
    "duration": 30,
    "start_time": "2023-06-30T13:30:07.245Z"
   },
   {
    "duration": 25,
    "start_time": "2023-06-30T13:30:07.277Z"
   },
   {
    "duration": 19,
    "start_time": "2023-06-30T13:30:07.305Z"
   },
   {
    "duration": 50,
    "start_time": "2023-06-30T13:30:07.326Z"
   },
   {
    "duration": 29,
    "start_time": "2023-06-30T13:30:07.383Z"
   },
   {
    "duration": 711,
    "start_time": "2023-06-30T13:30:07.414Z"
   },
   {
    "duration": 55,
    "start_time": "2023-06-30T13:30:08.127Z"
   },
   {
    "duration": 19,
    "start_time": "2023-06-30T13:30:08.184Z"
   },
   {
    "duration": 282,
    "start_time": "2023-06-30T13:30:08.206Z"
   },
   {
    "duration": 40,
    "start_time": "2023-06-30T13:30:08.491Z"
   },
   {
    "duration": 165,
    "start_time": "2023-06-30T13:30:08.560Z"
   },
   {
    "duration": 802,
    "start_time": "2023-06-30T13:30:08.728Z"
   },
   {
    "duration": 8,
    "start_time": "2023-06-30T13:30:09.533Z"
   },
   {
    "duration": 104,
    "start_time": "2023-06-30T13:30:09.543Z"
   },
   {
    "duration": 770,
    "start_time": "2023-06-30T13:30:09.649Z"
   },
   {
    "duration": 9,
    "start_time": "2023-06-30T13:30:10.421Z"
   },
   {
    "duration": 95,
    "start_time": "2023-06-30T13:30:10.432Z"
   },
   {
    "duration": 703,
    "start_time": "2023-06-30T13:30:10.529Z"
   },
   {
    "duration": 11,
    "start_time": "2023-06-30T13:30:11.234Z"
   },
   {
    "duration": 40,
    "start_time": "2023-06-30T13:30:11.252Z"
   },
   {
    "duration": 14,
    "start_time": "2023-06-30T13:30:11.295Z"
   },
   {
    "duration": 225,
    "start_time": "2023-06-30T13:30:11.311Z"
   },
   {
    "duration": 39,
    "start_time": "2023-06-30T13:30:11.538Z"
   },
   {
    "duration": 23,
    "start_time": "2023-06-30T13:30:11.581Z"
   },
   {
    "duration": 19,
    "start_time": "2023-06-30T13:30:11.606Z"
   },
   {
    "duration": 19,
    "start_time": "2023-06-30T13:30:11.628Z"
   },
   {
    "duration": 46,
    "start_time": "2023-06-30T13:30:11.653Z"
   },
   {
    "duration": 21,
    "start_time": "2023-06-30T13:30:11.701Z"
   },
   {
    "duration": 31,
    "start_time": "2023-06-30T13:30:11.724Z"
   },
   {
    "duration": 36,
    "start_time": "2023-06-30T13:30:11.758Z"
   },
   {
    "duration": 27,
    "start_time": "2023-06-30T13:30:11.797Z"
   },
   {
    "duration": 8,
    "start_time": "2023-06-30T13:30:11.826Z"
   },
   {
    "duration": 53,
    "start_time": "2023-06-30T13:30:11.836Z"
   },
   {
    "duration": 19,
    "start_time": "2023-06-30T13:30:11.891Z"
   },
   {
    "duration": 42,
    "start_time": "2023-06-30T13:30:11.912Z"
   },
   {
    "duration": 23,
    "start_time": "2023-06-30T13:30:11.956Z"
   },
   {
    "duration": 15,
    "start_time": "2023-06-30T13:30:11.983Z"
   },
   {
    "duration": 7,
    "start_time": "2023-06-30T13:55:58.171Z"
   },
   {
    "duration": 373,
    "start_time": "2023-06-30T13:55:58.182Z"
   },
   {
    "duration": 7,
    "start_time": "2023-06-30T13:55:58.557Z"
   },
   {
    "duration": 89,
    "start_time": "2023-06-30T13:55:58.566Z"
   },
   {
    "duration": 127,
    "start_time": "2023-06-30T13:55:58.658Z"
   },
   {
    "duration": 28,
    "start_time": "2023-06-30T13:55:58.787Z"
   },
   {
    "duration": 16,
    "start_time": "2023-06-30T13:55:58.817Z"
   },
   {
    "duration": 17,
    "start_time": "2023-06-30T13:55:58.835Z"
   },
   {
    "duration": 60,
    "start_time": "2023-06-30T13:55:58.854Z"
   },
   {
    "duration": 14,
    "start_time": "2023-06-30T13:55:58.916Z"
   },
   {
    "duration": 8,
    "start_time": "2023-06-30T13:55:58.932Z"
   },
   {
    "duration": 94,
    "start_time": "2023-06-30T13:55:58.942Z"
   },
   {
    "duration": 6,
    "start_time": "2023-06-30T13:55:59.038Z"
   },
   {
    "duration": 26,
    "start_time": "2023-06-30T13:55:59.051Z"
   },
   {
    "duration": 127,
    "start_time": "2023-06-30T13:55:59.080Z"
   },
   {
    "duration": 1726,
    "start_time": "2023-06-30T13:55:59.210Z"
   },
   {
    "duration": 77,
    "start_time": "2023-06-30T13:56:00.938Z"
   },
   {
    "duration": 1056,
    "start_time": "2023-06-30T13:56:01.018Z"
   },
   {
    "duration": 15,
    "start_time": "2023-06-30T13:56:02.081Z"
   },
   {
    "duration": 63,
    "start_time": "2023-06-30T13:56:02.099Z"
   },
   {
    "duration": 42,
    "start_time": "2023-06-30T13:56:02.165Z"
   },
   {
    "duration": 37,
    "start_time": "2023-06-30T13:56:02.209Z"
   },
   {
    "duration": 71,
    "start_time": "2023-06-30T13:56:02.249Z"
   },
   {
    "duration": 38,
    "start_time": "2023-06-30T13:56:02.322Z"
   },
   {
    "duration": 31,
    "start_time": "2023-06-30T13:56:02.363Z"
   },
   {
    "duration": 37,
    "start_time": "2023-06-30T13:56:02.396Z"
   },
   {
    "duration": 30,
    "start_time": "2023-06-30T13:56:02.435Z"
   },
   {
    "duration": 11,
    "start_time": "2023-06-30T13:56:02.470Z"
   },
   {
    "duration": 38,
    "start_time": "2023-06-30T13:56:02.483Z"
   },
   {
    "duration": 23,
    "start_time": "2023-06-30T13:56:02.524Z"
   },
   {
    "duration": 14,
    "start_time": "2023-06-30T13:56:02.549Z"
   },
   {
    "duration": 47,
    "start_time": "2023-06-30T13:56:02.570Z"
   },
   {
    "duration": 28,
    "start_time": "2023-06-30T13:56:02.619Z"
   },
   {
    "duration": 44,
    "start_time": "2023-06-30T13:56:02.649Z"
   },
   {
    "duration": 549,
    "start_time": "2023-06-30T13:56:02.695Z"
   },
   {
    "duration": 34,
    "start_time": "2023-06-30T13:56:03.247Z"
   },
   {
    "duration": 31,
    "start_time": "2023-06-30T13:56:03.283Z"
   },
   {
    "duration": 14,
    "start_time": "2023-06-30T13:56:03.318Z"
   },
   {
    "duration": 79,
    "start_time": "2023-06-30T13:56:03.334Z"
   },
   {
    "duration": 66,
    "start_time": "2023-06-30T13:56:03.415Z"
   },
   {
    "duration": 694,
    "start_time": "2023-06-30T13:56:03.486Z"
   },
   {
    "duration": 9,
    "start_time": "2023-06-30T13:56:04.183Z"
   },
   {
    "duration": 71,
    "start_time": "2023-06-30T13:56:04.194Z"
   },
   {
    "duration": 582,
    "start_time": "2023-06-30T13:56:04.266Z"
   },
   {
    "duration": 6,
    "start_time": "2023-06-30T13:56:04.852Z"
   },
   {
    "duration": 64,
    "start_time": "2023-06-30T13:56:04.860Z"
   },
   {
    "duration": 677,
    "start_time": "2023-06-30T13:56:04.926Z"
   },
   {
    "duration": 11,
    "start_time": "2023-06-30T13:56:05.606Z"
   },
   {
    "duration": 19,
    "start_time": "2023-06-30T13:56:05.619Z"
   },
   {
    "duration": 33,
    "start_time": "2023-06-30T13:56:05.653Z"
   },
   {
    "duration": 52,
    "start_time": "2023-06-30T13:56:05.689Z"
   },
   {
    "duration": 21,
    "start_time": "2023-06-30T13:56:05.743Z"
   },
   {
    "duration": 37,
    "start_time": "2023-06-30T13:56:05.771Z"
   },
   {
    "duration": 13,
    "start_time": "2023-06-30T13:56:05.810Z"
   },
   {
    "duration": 45,
    "start_time": "2023-06-30T13:56:05.825Z"
   },
   {
    "duration": 13,
    "start_time": "2023-06-30T13:56:05.873Z"
   },
   {
    "duration": 19,
    "start_time": "2023-06-30T13:56:05.888Z"
   },
   {
    "duration": 39,
    "start_time": "2023-06-30T13:56:05.909Z"
   },
   {
    "duration": 45,
    "start_time": "2023-06-30T13:56:05.950Z"
   },
   {
    "duration": 37,
    "start_time": "2023-06-30T13:56:05.997Z"
   },
   {
    "duration": 6,
    "start_time": "2023-06-30T13:56:06.036Z"
   },
   {
    "duration": 41,
    "start_time": "2023-06-30T13:56:06.043Z"
   },
   {
    "duration": 27,
    "start_time": "2023-06-30T13:56:06.086Z"
   },
   {
    "duration": 31,
    "start_time": "2023-06-30T13:56:06.115Z"
   },
   {
    "duration": 23,
    "start_time": "2023-06-30T13:56:06.149Z"
   },
   {
    "duration": 35,
    "start_time": "2023-06-30T13:56:06.174Z"
   },
   {
    "duration": 7,
    "start_time": "2023-06-30T13:57:11.250Z"
   },
   {
    "duration": 327,
    "start_time": "2023-06-30T13:57:11.264Z"
   },
   {
    "duration": 4,
    "start_time": "2023-06-30T13:57:11.593Z"
   },
   {
    "duration": 27,
    "start_time": "2023-06-30T13:57:11.599Z"
   },
   {
    "duration": 106,
    "start_time": "2023-06-30T13:57:11.629Z"
   },
   {
    "duration": 45,
    "start_time": "2023-06-30T13:57:11.738Z"
   },
   {
    "duration": 6,
    "start_time": "2023-06-30T13:57:11.786Z"
   },
   {
    "duration": 18,
    "start_time": "2023-06-30T13:57:11.794Z"
   },
   {
    "duration": 81,
    "start_time": "2023-06-30T13:57:11.814Z"
   },
   {
    "duration": 19,
    "start_time": "2023-06-30T13:57:11.897Z"
   },
   {
    "duration": 7,
    "start_time": "2023-06-30T13:57:11.918Z"
   },
   {
    "duration": 99,
    "start_time": "2023-06-30T13:57:11.927Z"
   },
   {
    "duration": 6,
    "start_time": "2023-06-30T13:57:12.029Z"
   },
   {
    "duration": 44,
    "start_time": "2023-06-30T13:57:12.037Z"
   },
   {
    "duration": 95,
    "start_time": "2023-06-30T13:57:12.083Z"
   },
   {
    "duration": 1658,
    "start_time": "2023-06-30T13:57:12.180Z"
   },
   {
    "duration": 75,
    "start_time": "2023-06-30T13:57:13.840Z"
   },
   {
    "duration": 949,
    "start_time": "2023-06-30T13:57:13.917Z"
   },
   {
    "duration": 16,
    "start_time": "2023-06-30T13:57:14.868Z"
   },
   {
    "duration": 28,
    "start_time": "2023-06-30T13:57:14.887Z"
   },
   {
    "duration": 50,
    "start_time": "2023-06-30T13:57:14.917Z"
   },
   {
    "duration": 18,
    "start_time": "2023-06-30T13:57:14.969Z"
   },
   {
    "duration": 28,
    "start_time": "2023-06-30T13:57:14.989Z"
   },
   {
    "duration": 71,
    "start_time": "2023-06-30T13:57:15.020Z"
   },
   {
    "duration": 40,
    "start_time": "2023-06-30T13:57:15.093Z"
   },
   {
    "duration": 54,
    "start_time": "2023-06-30T13:57:15.136Z"
   },
   {
    "duration": 35,
    "start_time": "2023-06-30T13:57:15.193Z"
   },
   {
    "duration": 9,
    "start_time": "2023-06-30T13:57:15.230Z"
   },
   {
    "duration": 70,
    "start_time": "2023-06-30T13:57:15.242Z"
   },
   {
    "duration": 28,
    "start_time": "2023-06-30T13:57:15.315Z"
   },
   {
    "duration": 38,
    "start_time": "2023-06-30T13:57:15.345Z"
   },
   {
    "duration": 18,
    "start_time": "2023-06-30T13:57:15.385Z"
   },
   {
    "duration": 45,
    "start_time": "2023-06-30T13:57:15.405Z"
   },
   {
    "duration": 23,
    "start_time": "2023-06-30T13:57:15.458Z"
   },
   {
    "duration": 452,
    "start_time": "2023-06-30T13:57:15.484Z"
   },
   {
    "duration": 46,
    "start_time": "2023-06-30T13:57:15.938Z"
   },
   {
    "duration": 15,
    "start_time": "2023-06-30T13:57:15.989Z"
   },
   {
    "duration": 140,
    "start_time": "2023-06-30T13:57:16.006Z"
   },
   {
    "duration": 30,
    "start_time": "2023-06-30T13:57:16.152Z"
   },
   {
    "duration": 45,
    "start_time": "2023-06-30T13:57:16.184Z"
   },
   {
    "duration": 646,
    "start_time": "2023-06-30T13:57:16.231Z"
   },
   {
    "duration": 9,
    "start_time": "2023-06-30T13:57:16.880Z"
   },
   {
    "duration": 47,
    "start_time": "2023-06-30T13:57:16.891Z"
   },
   {
    "duration": 643,
    "start_time": "2023-06-30T13:57:16.939Z"
   },
   {
    "duration": 7,
    "start_time": "2023-06-30T13:57:17.584Z"
   },
   {
    "duration": 43,
    "start_time": "2023-06-30T13:57:17.593Z"
   },
   {
    "duration": 645,
    "start_time": "2023-06-30T13:57:17.652Z"
   },
   {
    "duration": 13,
    "start_time": "2023-06-30T13:57:18.299Z"
   },
   {
    "duration": 35,
    "start_time": "2023-06-30T13:57:18.314Z"
   },
   {
    "duration": 50,
    "start_time": "2023-06-30T13:57:18.354Z"
   },
   {
    "duration": 65,
    "start_time": "2023-06-30T13:57:18.406Z"
   },
   {
    "duration": 25,
    "start_time": "2023-06-30T13:57:18.473Z"
   },
   {
    "duration": 30,
    "start_time": "2023-06-30T13:57:18.500Z"
   },
   {
    "duration": 33,
    "start_time": "2023-06-30T13:57:18.532Z"
   },
   {
    "duration": 49,
    "start_time": "2023-06-30T13:57:18.574Z"
   },
   {
    "duration": 23,
    "start_time": "2023-06-30T13:57:18.626Z"
   },
   {
    "duration": 96,
    "start_time": "2023-06-30T13:57:18.652Z"
   },
   {
    "duration": 45,
    "start_time": "2023-06-30T13:57:18.750Z"
   },
   {
    "duration": 5,
    "start_time": "2023-06-30T13:57:18.797Z"
   },
   {
    "duration": 23,
    "start_time": "2023-06-30T13:57:18.804Z"
   },
   {
    "duration": 14,
    "start_time": "2023-06-30T13:57:18.829Z"
   },
   {
    "duration": 41,
    "start_time": "2023-06-30T13:57:18.845Z"
   },
   {
    "duration": 18,
    "start_time": "2023-06-30T13:57:18.888Z"
   },
   {
    "duration": 57,
    "start_time": "2023-06-30T13:57:18.908Z"
   },
   {
    "duration": 21,
    "start_time": "2023-06-30T13:57:18.975Z"
   },
   {
    "duration": 11,
    "start_time": "2023-06-30T13:57:18.998Z"
   },
   {
    "duration": 1612,
    "start_time": "2023-06-30T16:53:48.395Z"
   },
   {
    "duration": 311,
    "start_time": "2023-06-30T16:53:50.009Z"
   },
   {
    "duration": 3,
    "start_time": "2023-06-30T16:53:50.322Z"
   },
   {
    "duration": 30,
    "start_time": "2023-06-30T16:53:50.327Z"
   },
   {
    "duration": 61,
    "start_time": "2023-06-30T16:53:50.360Z"
   },
   {
    "duration": 31,
    "start_time": "2023-06-30T16:53:50.423Z"
   },
   {
    "duration": 10,
    "start_time": "2023-06-30T16:53:50.456Z"
   },
   {
    "duration": 13,
    "start_time": "2023-06-30T16:53:50.468Z"
   },
   {
    "duration": 43,
    "start_time": "2023-06-30T16:53:50.483Z"
   },
   {
    "duration": 20,
    "start_time": "2023-06-30T16:53:50.533Z"
   },
   {
    "duration": 11,
    "start_time": "2023-06-30T16:53:50.555Z"
   },
   {
    "duration": 118,
    "start_time": "2023-06-30T16:53:50.568Z"
   },
   {
    "duration": 5,
    "start_time": "2023-06-30T16:53:50.688Z"
   },
   {
    "duration": 56,
    "start_time": "2023-06-30T16:53:50.697Z"
   },
   {
    "duration": 131,
    "start_time": "2023-06-30T16:53:50.755Z"
   },
   {
    "duration": 1628,
    "start_time": "2023-06-30T16:53:50.888Z"
   },
   {
    "duration": 44,
    "start_time": "2023-06-30T16:53:52.518Z"
   },
   {
    "duration": 829,
    "start_time": "2023-06-30T16:53:52.564Z"
   },
   {
    "duration": 14,
    "start_time": "2023-06-30T16:53:53.394Z"
   },
   {
    "duration": 40,
    "start_time": "2023-06-30T16:53:53.410Z"
   },
   {
    "duration": 15,
    "start_time": "2023-06-30T16:53:53.453Z"
   },
   {
    "duration": 80,
    "start_time": "2023-06-30T16:53:53.469Z"
   },
   {
    "duration": 26,
    "start_time": "2023-06-30T16:53:53.550Z"
   },
   {
    "duration": 102,
    "start_time": "2023-06-30T16:53:53.577Z"
   },
   {
    "duration": 37,
    "start_time": "2023-06-30T16:53:53.682Z"
   },
   {
    "duration": 18,
    "start_time": "2023-06-30T16:53:53.721Z"
   },
   {
    "duration": 18,
    "start_time": "2023-06-30T16:53:53.741Z"
   },
   {
    "duration": 128,
    "start_time": "2023-06-30T16:53:53.761Z"
   },
   {
    "duration": 34,
    "start_time": "2023-06-30T16:53:53.891Z"
   },
   {
    "duration": 41,
    "start_time": "2023-06-30T16:53:53.927Z"
   },
   {
    "duration": 7,
    "start_time": "2023-06-30T16:53:53.970Z"
   },
   {
    "duration": 14,
    "start_time": "2023-06-30T16:53:53.978Z"
   },
   {
    "duration": 22,
    "start_time": "2023-06-30T16:53:53.994Z"
   },
   {
    "duration": 9,
    "start_time": "2023-06-30T16:53:54.017Z"
   },
   {
    "duration": 427,
    "start_time": "2023-06-30T16:53:54.027Z"
   },
   {
    "duration": 19,
    "start_time": "2023-06-30T16:53:54.455Z"
   },
   {
    "duration": 8,
    "start_time": "2023-06-30T16:53:54.475Z"
   },
   {
    "duration": 881,
    "start_time": "2023-06-30T16:53:54.485Z"
   },
   {
    "duration": 23,
    "start_time": "2023-06-30T16:53:55.367Z"
   },
   {
    "duration": 40,
    "start_time": "2023-06-30T16:53:55.433Z"
   },
   {
    "duration": 593,
    "start_time": "2023-06-30T16:53:55.476Z"
   },
   {
    "duration": 10,
    "start_time": "2023-06-30T16:53:56.071Z"
   },
   {
    "duration": 64,
    "start_time": "2023-06-30T16:53:56.083Z"
   },
   {
    "duration": 516,
    "start_time": "2023-06-30T16:53:56.149Z"
   },
   {
    "duration": 5,
    "start_time": "2023-06-30T16:53:56.667Z"
   },
   {
    "duration": 251,
    "start_time": "2023-06-30T16:53:56.673Z"
   },
   {
    "duration": 541,
    "start_time": "2023-06-30T16:53:56.925Z"
   },
   {
    "duration": 8,
    "start_time": "2023-06-30T16:53:57.468Z"
   },
   {
    "duration": 8,
    "start_time": "2023-06-30T16:53:57.477Z"
   },
   {
    "duration": 12,
    "start_time": "2023-06-30T16:53:57.487Z"
   },
   {
    "duration": 52,
    "start_time": "2023-06-30T16:53:57.501Z"
   },
   {
    "duration": 12,
    "start_time": "2023-06-30T16:53:57.555Z"
   },
   {
    "duration": 15,
    "start_time": "2023-06-30T16:53:57.569Z"
   },
   {
    "duration": 12,
    "start_time": "2023-06-30T16:53:57.586Z"
   },
   {
    "duration": 9,
    "start_time": "2023-06-30T16:53:57.600Z"
   },
   {
    "duration": 37,
    "start_time": "2023-06-30T16:53:57.610Z"
   },
   {
    "duration": 22,
    "start_time": "2023-06-30T16:53:57.649Z"
   },
   {
    "duration": 24,
    "start_time": "2023-06-30T16:53:57.673Z"
   },
   {
    "duration": 18,
    "start_time": "2023-06-30T16:53:57.699Z"
   },
   {
    "duration": 26,
    "start_time": "2023-06-30T16:53:57.718Z"
   },
   {
    "duration": 4,
    "start_time": "2023-06-30T16:53:57.746Z"
   },
   {
    "duration": 38,
    "start_time": "2023-06-30T16:53:57.752Z"
   },
   {
    "duration": 11,
    "start_time": "2023-06-30T16:53:57.792Z"
   },
   {
    "duration": 18,
    "start_time": "2023-06-30T16:53:57.804Z"
   },
   {
    "duration": 39,
    "start_time": "2023-06-30T16:53:57.823Z"
   },
   {
    "duration": 14,
    "start_time": "2023-06-30T16:53:57.866Z"
   },
   {
    "duration": 1839,
    "start_time": "2023-07-03T10:52:42.617Z"
   },
   {
    "duration": 448,
    "start_time": "2023-07-03T10:52:44.458Z"
   },
   {
    "duration": 5,
    "start_time": "2023-07-03T10:52:44.907Z"
   },
   {
    "duration": 29,
    "start_time": "2023-07-03T10:52:44.915Z"
   },
   {
    "duration": 74,
    "start_time": "2023-07-03T10:52:44.946Z"
   },
   {
    "duration": 20,
    "start_time": "2023-07-03T10:52:45.022Z"
   },
   {
    "duration": 12,
    "start_time": "2023-07-03T10:52:45.044Z"
   },
   {
    "duration": 14,
    "start_time": "2023-07-03T10:52:45.058Z"
   },
   {
    "duration": 54,
    "start_time": "2023-07-03T10:52:45.073Z"
   },
   {
    "duration": 12,
    "start_time": "2023-07-03T10:52:45.129Z"
   },
   {
    "duration": 4,
    "start_time": "2023-07-03T10:52:45.143Z"
   },
   {
    "duration": 95,
    "start_time": "2023-07-03T10:52:45.148Z"
   },
   {
    "duration": 5,
    "start_time": "2023-07-03T10:52:45.245Z"
   },
   {
    "duration": 10,
    "start_time": "2023-07-03T10:52:45.253Z"
   },
   {
    "duration": 96,
    "start_time": "2023-07-03T10:52:45.264Z"
   },
   {
    "duration": 1657,
    "start_time": "2023-07-03T10:52:45.362Z"
   },
   {
    "duration": 47,
    "start_time": "2023-07-03T10:52:47.021Z"
   },
   {
    "duration": 1053,
    "start_time": "2023-07-03T10:52:47.069Z"
   },
   {
    "duration": 13,
    "start_time": "2023-07-03T10:52:48.123Z"
   },
   {
    "duration": 35,
    "start_time": "2023-07-03T10:52:48.137Z"
   },
   {
    "duration": 15,
    "start_time": "2023-07-03T10:52:48.174Z"
   },
   {
    "duration": 25,
    "start_time": "2023-07-03T10:52:48.190Z"
   },
   {
    "duration": 38,
    "start_time": "2023-07-03T10:52:48.216Z"
   },
   {
    "duration": 35,
    "start_time": "2023-07-03T10:52:48.256Z"
   },
   {
    "duration": 30,
    "start_time": "2023-07-03T10:52:48.293Z"
   },
   {
    "duration": 25,
    "start_time": "2023-07-03T10:52:48.326Z"
   },
   {
    "duration": 17,
    "start_time": "2023-07-03T10:52:48.354Z"
   },
   {
    "duration": 10,
    "start_time": "2023-07-03T10:52:48.372Z"
   },
   {
    "duration": 32,
    "start_time": "2023-07-03T10:52:48.384Z"
   },
   {
    "duration": 20,
    "start_time": "2023-07-03T10:52:48.417Z"
   },
   {
    "duration": 7,
    "start_time": "2023-07-03T10:52:48.439Z"
   },
   {
    "duration": 14,
    "start_time": "2023-07-03T10:52:48.448Z"
   },
   {
    "duration": 18,
    "start_time": "2023-07-03T10:52:48.464Z"
   },
   {
    "duration": 35,
    "start_time": "2023-07-03T10:52:48.484Z"
   },
   {
    "duration": 442,
    "start_time": "2023-07-03T10:52:48.520Z"
   },
   {
    "duration": 22,
    "start_time": "2023-07-03T10:52:48.964Z"
   },
   {
    "duration": 63,
    "start_time": "2023-07-03T10:52:48.987Z"
   },
   {
    "duration": 260,
    "start_time": "2023-07-03T10:52:49.052Z"
   },
   {
    "duration": 30,
    "start_time": "2023-07-03T10:52:49.313Z"
   },
   {
    "duration": 101,
    "start_time": "2023-07-03T10:52:49.345Z"
   },
   {
    "duration": 623,
    "start_time": "2023-07-03T10:52:49.450Z"
   },
   {
    "duration": 7,
    "start_time": "2023-07-03T10:52:50.075Z"
   },
   {
    "duration": 52,
    "start_time": "2023-07-03T10:52:50.083Z"
   },
   {
    "duration": 612,
    "start_time": "2023-07-03T10:52:50.137Z"
   },
   {
    "duration": 6,
    "start_time": "2023-07-03T10:52:50.751Z"
   },
   {
    "duration": 54,
    "start_time": "2023-07-03T10:52:50.758Z"
   },
   {
    "duration": 574,
    "start_time": "2023-07-03T10:52:50.817Z"
   },
   {
    "duration": 21,
    "start_time": "2023-07-03T10:52:51.393Z"
   },
   {
    "duration": 24,
    "start_time": "2023-07-03T10:52:51.415Z"
   },
   {
    "duration": 13,
    "start_time": "2023-07-03T10:52:51.440Z"
   },
   {
    "duration": 52,
    "start_time": "2023-07-03T10:52:51.455Z"
   },
   {
    "duration": 15,
    "start_time": "2023-07-03T10:52:51.517Z"
   },
   {
    "duration": 21,
    "start_time": "2023-07-03T10:52:51.534Z"
   },
   {
    "duration": 7,
    "start_time": "2023-07-03T10:52:51.557Z"
   },
   {
    "duration": 16,
    "start_time": "2023-07-03T10:52:51.566Z"
   },
   {
    "duration": 37,
    "start_time": "2023-07-03T10:52:51.584Z"
   },
   {
    "duration": 10,
    "start_time": "2023-07-03T10:52:51.622Z"
   },
   {
    "duration": 24,
    "start_time": "2023-07-03T10:52:51.633Z"
   },
   {
    "duration": 11,
    "start_time": "2023-07-03T10:52:51.659Z"
   },
   {
    "duration": 19,
    "start_time": "2023-07-03T10:52:51.672Z"
   },
   {
    "duration": 4,
    "start_time": "2023-07-03T10:52:51.693Z"
   },
   {
    "duration": 48,
    "start_time": "2023-07-03T10:52:51.704Z"
   },
   {
    "duration": 12,
    "start_time": "2023-07-03T10:52:51.754Z"
   },
   {
    "duration": 17,
    "start_time": "2023-07-03T10:52:51.767Z"
   },
   {
    "duration": 31,
    "start_time": "2023-07-03T10:52:51.786Z"
   },
   {
    "duration": 8,
    "start_time": "2023-07-03T10:52:51.819Z"
   },
   {
    "duration": 171,
    "start_time": "2023-07-03T10:53:28.596Z"
   },
   {
    "duration": 11,
    "start_time": "2023-07-03T10:54:14.818Z"
   },
   {
    "duration": 92,
    "start_time": "2023-07-03T10:54:28.995Z"
   },
   {
    "duration": 52,
    "start_time": "2023-07-03T10:56:54.927Z"
   },
   {
    "duration": 80,
    "start_time": "2023-07-03T11:00:21.731Z"
   },
   {
    "duration": 200,
    "start_time": "2023-07-03T11:02:45.417Z"
   },
   {
    "duration": 9,
    "start_time": "2023-07-03T11:03:35.544Z"
   },
   {
    "duration": 38,
    "start_time": "2023-07-03T11:03:46.986Z"
   },
   {
    "duration": 5664,
    "start_time": "2023-07-03T11:03:59.230Z"
   },
   {
    "duration": 20,
    "start_time": "2023-07-03T11:05:24.267Z"
   },
   {
    "duration": 57,
    "start_time": "2023-07-03T11:05:50.102Z"
   },
   {
    "duration": 36,
    "start_time": "2023-07-03T11:21:51.545Z"
   },
   {
    "duration": 6781,
    "start_time": "2023-07-03T11:22:06.994Z"
   },
   {
    "duration": 5767,
    "start_time": "2023-07-03T12:31:54.186Z"
   },
   {
    "duration": 1848,
    "start_time": "2023-07-04T07:23:00.092Z"
   },
   {
    "duration": 274,
    "start_time": "2023-07-04T07:23:01.942Z"
   },
   {
    "duration": 4,
    "start_time": "2023-07-04T07:23:02.218Z"
   },
   {
    "duration": 56,
    "start_time": "2023-07-04T07:23:02.224Z"
   },
   {
    "duration": 84,
    "start_time": "2023-07-04T07:23:02.282Z"
   },
   {
    "duration": 23,
    "start_time": "2023-07-04T07:23:02.368Z"
   },
   {
    "duration": 33,
    "start_time": "2023-07-04T07:23:02.393Z"
   },
   {
    "duration": 32,
    "start_time": "2023-07-04T07:23:02.428Z"
   },
   {
    "duration": 68,
    "start_time": "2023-07-04T07:23:02.462Z"
   },
   {
    "duration": 15,
    "start_time": "2023-07-04T07:23:02.532Z"
   },
   {
    "duration": 23,
    "start_time": "2023-07-04T07:23:02.548Z"
   },
   {
    "duration": 107,
    "start_time": "2023-07-04T07:23:02.572Z"
   },
   {
    "duration": 6,
    "start_time": "2023-07-04T07:23:02.682Z"
   },
   {
    "duration": 28,
    "start_time": "2023-07-04T07:23:02.691Z"
   },
   {
    "duration": 146,
    "start_time": "2023-07-04T07:23:02.720Z"
   },
   {
    "duration": 1627,
    "start_time": "2023-07-04T07:23:02.868Z"
   },
   {
    "duration": 43,
    "start_time": "2023-07-04T07:23:04.497Z"
   },
   {
    "duration": 786,
    "start_time": "2023-07-04T07:23:04.542Z"
   },
   {
    "duration": 13,
    "start_time": "2023-07-04T07:23:05.330Z"
   },
   {
    "duration": 53,
    "start_time": "2023-07-04T07:23:05.344Z"
   },
   {
    "duration": 16,
    "start_time": "2023-07-04T07:23:05.398Z"
   },
   {
    "duration": 35,
    "start_time": "2023-07-04T07:23:05.415Z"
   },
   {
    "duration": 31,
    "start_time": "2023-07-04T07:23:05.452Z"
   },
   {
    "duration": 32,
    "start_time": "2023-07-04T07:23:05.485Z"
   },
   {
    "duration": 30,
    "start_time": "2023-07-04T07:23:05.518Z"
   },
   {
    "duration": 28,
    "start_time": "2023-07-04T07:23:05.550Z"
   },
   {
    "duration": 27,
    "start_time": "2023-07-04T07:23:05.580Z"
   },
   {
    "duration": 14,
    "start_time": "2023-07-04T07:23:05.609Z"
   },
   {
    "duration": 42,
    "start_time": "2023-07-04T07:23:05.624Z"
   },
   {
    "duration": 28,
    "start_time": "2023-07-04T07:23:05.668Z"
   },
   {
    "duration": 12,
    "start_time": "2023-07-04T07:23:05.698Z"
   },
   {
    "duration": 28,
    "start_time": "2023-07-04T07:23:05.712Z"
   },
   {
    "duration": 65,
    "start_time": "2023-07-04T07:23:05.742Z"
   },
   {
    "duration": 12,
    "start_time": "2023-07-04T07:23:05.809Z"
   },
   {
    "duration": 486,
    "start_time": "2023-07-04T07:23:05.823Z"
   },
   {
    "duration": 23,
    "start_time": "2023-07-04T07:23:06.311Z"
   },
   {
    "duration": 49,
    "start_time": "2023-07-04T07:23:06.336Z"
   },
   {
    "duration": 235,
    "start_time": "2023-07-04T07:23:06.387Z"
   },
   {
    "duration": 39,
    "start_time": "2023-07-04T07:23:06.624Z"
   },
   {
    "duration": 97,
    "start_time": "2023-07-04T07:23:06.665Z"
   },
   {
    "duration": 618,
    "start_time": "2023-07-04T07:23:06.766Z"
   },
   {
    "duration": 8,
    "start_time": "2023-07-04T07:23:07.386Z"
   },
   {
    "duration": 66,
    "start_time": "2023-07-04T07:23:07.396Z"
   },
   {
    "duration": 590,
    "start_time": "2023-07-04T07:23:07.464Z"
   },
   {
    "duration": 6,
    "start_time": "2023-07-04T07:23:08.056Z"
   },
   {
    "duration": 67,
    "start_time": "2023-07-04T07:23:08.064Z"
   },
   {
    "duration": 659,
    "start_time": "2023-07-04T07:23:08.133Z"
   },
   {
    "duration": 8,
    "start_time": "2023-07-04T07:23:08.794Z"
   },
   {
    "duration": 8,
    "start_time": "2023-07-04T07:23:08.803Z"
   },
   {
    "duration": 17,
    "start_time": "2023-07-04T07:23:08.813Z"
   },
   {
    "duration": 61,
    "start_time": "2023-07-04T07:23:08.832Z"
   },
   {
    "duration": 16,
    "start_time": "2023-07-04T07:23:08.895Z"
   },
   {
    "duration": 19,
    "start_time": "2023-07-04T07:23:08.913Z"
   },
   {
    "duration": 8,
    "start_time": "2023-07-04T07:23:08.954Z"
   },
   {
    "duration": 10,
    "start_time": "2023-07-04T07:23:08.964Z"
   },
   {
    "duration": 12,
    "start_time": "2023-07-04T07:23:08.976Z"
   },
   {
    "duration": 8,
    "start_time": "2023-07-04T07:23:08.990Z"
   },
   {
    "duration": 19,
    "start_time": "2023-07-04T07:23:09.000Z"
   },
   {
    "duration": 38,
    "start_time": "2023-07-04T07:23:09.021Z"
   },
   {
    "duration": 26,
    "start_time": "2023-07-04T07:23:09.062Z"
   },
   {
    "duration": 48,
    "start_time": "2023-07-04T07:23:09.090Z"
   },
   {
    "duration": 67,
    "start_time": "2023-07-04T07:23:09.140Z"
   },
   {
    "duration": 17,
    "start_time": "2023-07-04T07:23:09.208Z"
   },
   {
    "duration": 29,
    "start_time": "2023-07-04T07:23:09.227Z"
   },
   {
    "duration": 21,
    "start_time": "2023-07-04T07:23:09.257Z"
   },
   {
    "duration": 10,
    "start_time": "2023-07-04T07:23:09.280Z"
   },
   {
    "duration": 122,
    "start_time": "2023-07-04T07:23:09.292Z"
   },
   {
    "duration": 59,
    "start_time": "2023-07-04T07:23:09.416Z"
   },
   {
    "duration": 86,
    "start_time": "2023-07-04T07:23:09.477Z"
   },
   {
    "duration": 25,
    "start_time": "2023-07-04T07:27:23.593Z"
   },
   {
    "duration": 162,
    "start_time": "2023-07-04T07:27:27.478Z"
   },
   {
    "duration": 20,
    "start_time": "2023-07-04T07:27:40.589Z"
   },
   {
    "duration": 14,
    "start_time": "2023-07-04T07:28:11.024Z"
   },
   {
    "duration": 5,
    "start_time": "2023-07-04T07:29:46.956Z"
   },
   {
    "duration": 399,
    "start_time": "2023-07-04T07:29:46.963Z"
   },
   {
    "duration": 4,
    "start_time": "2023-07-04T07:29:47.365Z"
   },
   {
    "duration": 39,
    "start_time": "2023-07-04T07:29:47.372Z"
   },
   {
    "duration": 90,
    "start_time": "2023-07-04T07:29:47.413Z"
   },
   {
    "duration": 24,
    "start_time": "2023-07-04T07:29:47.505Z"
   },
   {
    "duration": 26,
    "start_time": "2023-07-04T07:29:47.531Z"
   },
   {
    "duration": 18,
    "start_time": "2023-07-04T07:29:47.560Z"
   },
   {
    "duration": 58,
    "start_time": "2023-07-04T07:29:47.580Z"
   },
   {
    "duration": 21,
    "start_time": "2023-07-04T07:29:47.640Z"
   },
   {
    "duration": 7,
    "start_time": "2023-07-04T07:29:47.665Z"
   },
   {
    "duration": 68,
    "start_time": "2023-07-04T07:29:47.674Z"
   },
   {
    "duration": 16,
    "start_time": "2023-07-04T07:29:47.744Z"
   },
   {
    "duration": 7,
    "start_time": "2023-07-04T07:29:47.762Z"
   },
   {
    "duration": 89,
    "start_time": "2023-07-04T07:29:47.771Z"
   },
   {
    "duration": 1587,
    "start_time": "2023-07-04T07:29:47.863Z"
   },
   {
    "duration": 43,
    "start_time": "2023-07-04T07:29:49.452Z"
   },
   {
    "duration": 840,
    "start_time": "2023-07-04T07:29:49.497Z"
   },
   {
    "duration": 16,
    "start_time": "2023-07-04T07:29:50.339Z"
   },
   {
    "duration": 24,
    "start_time": "2023-07-04T07:29:50.357Z"
   },
   {
    "duration": 16,
    "start_time": "2023-07-04T07:29:50.383Z"
   },
   {
    "duration": 12,
    "start_time": "2023-07-04T07:29:50.401Z"
   },
   {
    "duration": 42,
    "start_time": "2023-07-04T07:29:50.415Z"
   },
   {
    "duration": 16,
    "start_time": "2023-07-04T07:29:50.459Z"
   },
   {
    "duration": 7,
    "start_time": "2023-07-04T07:29:50.477Z"
   },
   {
    "duration": 14,
    "start_time": "2023-07-04T07:29:50.486Z"
   },
   {
    "duration": 16,
    "start_time": "2023-07-04T07:29:50.502Z"
   },
   {
    "duration": 36,
    "start_time": "2023-07-04T07:29:50.520Z"
   },
   {
    "duration": 25,
    "start_time": "2023-07-04T07:29:50.560Z"
   },
   {
    "duration": 18,
    "start_time": "2023-07-04T07:29:50.587Z"
   },
   {
    "duration": 6,
    "start_time": "2023-07-04T07:29:50.608Z"
   },
   {
    "duration": 43,
    "start_time": "2023-07-04T07:29:50.616Z"
   },
   {
    "duration": 21,
    "start_time": "2023-07-04T07:29:50.661Z"
   },
   {
    "duration": 10,
    "start_time": "2023-07-04T07:29:50.683Z"
   },
   {
    "duration": 481,
    "start_time": "2023-07-04T07:29:50.695Z"
   },
   {
    "duration": 22,
    "start_time": "2023-07-04T07:29:51.178Z"
   },
   {
    "duration": 10,
    "start_time": "2023-07-04T07:29:51.201Z"
   },
   {
    "duration": 9,
    "start_time": "2023-07-04T07:29:51.213Z"
   },
   {
    "duration": 47,
    "start_time": "2023-07-04T07:29:51.224Z"
   },
   {
    "duration": 39,
    "start_time": "2023-07-04T07:29:51.273Z"
   },
   {
    "duration": 632,
    "start_time": "2023-07-04T07:29:51.314Z"
   },
   {
    "duration": 12,
    "start_time": "2023-07-04T07:29:51.948Z"
   },
   {
    "duration": 37,
    "start_time": "2023-07-04T07:29:51.962Z"
   },
   {
    "duration": 712,
    "start_time": "2023-07-04T07:29:52.001Z"
   },
   {
    "duration": 7,
    "start_time": "2023-07-04T07:29:52.715Z"
   },
   {
    "duration": 51,
    "start_time": "2023-07-04T07:29:52.724Z"
   },
   {
    "duration": 583,
    "start_time": "2023-07-04T07:29:52.777Z"
   },
   {
    "duration": 9,
    "start_time": "2023-07-04T07:29:53.361Z"
   },
   {
    "duration": 19,
    "start_time": "2023-07-04T07:29:53.372Z"
   },
   {
    "duration": 8,
    "start_time": "2023-07-04T07:29:53.392Z"
   },
   {
    "duration": 35,
    "start_time": "2023-07-04T07:29:53.402Z"
   },
   {
    "duration": 14,
    "start_time": "2023-07-04T07:29:53.455Z"
   },
   {
    "duration": 11,
    "start_time": "2023-07-04T07:29:53.470Z"
   },
   {
    "duration": 9,
    "start_time": "2023-07-04T07:29:53.483Z"
   },
   {
    "duration": 17,
    "start_time": "2023-07-04T07:29:53.494Z"
   },
   {
    "duration": 9,
    "start_time": "2023-07-04T07:29:53.513Z"
   },
   {
    "duration": 31,
    "start_time": "2023-07-04T07:29:53.524Z"
   },
   {
    "duration": 19,
    "start_time": "2023-07-04T07:29:53.556Z"
   },
   {
    "duration": 4,
    "start_time": "2023-07-04T07:29:53.577Z"
   },
   {
    "duration": 19,
    "start_time": "2023-07-04T07:29:53.583Z"
   },
   {
    "duration": 7,
    "start_time": "2023-07-04T07:29:53.604Z"
   },
   {
    "duration": 58,
    "start_time": "2023-07-04T07:29:53.613Z"
   },
   {
    "duration": 11,
    "start_time": "2023-07-04T07:29:53.673Z"
   },
   {
    "duration": 17,
    "start_time": "2023-07-04T07:29:53.685Z"
   },
   {
    "duration": 14,
    "start_time": "2023-07-04T07:29:53.704Z"
   },
   {
    "duration": 36,
    "start_time": "2023-07-04T07:29:53.719Z"
   },
   {
    "duration": 85,
    "start_time": "2023-07-04T07:29:53.756Z"
   },
   {
    "duration": 54,
    "start_time": "2023-07-04T07:29:53.843Z"
   },
   {
    "duration": 75,
    "start_time": "2023-07-04T07:29:53.899Z"
   },
   {
    "duration": 22,
    "start_time": "2023-07-04T07:29:53.975Z"
   },
   {
    "duration": 33,
    "start_time": "2023-07-04T07:30:02.218Z"
   },
   {
    "duration": 14,
    "start_time": "2023-07-04T07:30:09.290Z"
   },
   {
    "duration": 45,
    "start_time": "2023-07-04T07:32:13.677Z"
   },
   {
    "duration": 16,
    "start_time": "2023-07-04T07:34:04.653Z"
   },
   {
    "duration": 55,
    "start_time": "2023-07-04T07:34:19.593Z"
   },
   {
    "duration": 47,
    "start_time": "2023-07-04T07:34:28.065Z"
   },
   {
    "duration": 5,
    "start_time": "2023-07-04T07:34:55.722Z"
   },
   {
    "duration": 307,
    "start_time": "2023-07-04T07:34:55.736Z"
   },
   {
    "duration": 9,
    "start_time": "2023-07-04T07:34:56.045Z"
   },
   {
    "duration": 26,
    "start_time": "2023-07-04T07:34:56.056Z"
   },
   {
    "duration": 89,
    "start_time": "2023-07-04T07:34:56.084Z"
   },
   {
    "duration": 19,
    "start_time": "2023-07-04T07:34:56.176Z"
   },
   {
    "duration": 32,
    "start_time": "2023-07-04T07:34:56.197Z"
   },
   {
    "duration": 19,
    "start_time": "2023-07-04T07:34:56.231Z"
   },
   {
    "duration": 57,
    "start_time": "2023-07-04T07:34:56.252Z"
   },
   {
    "duration": 30,
    "start_time": "2023-07-04T07:34:56.311Z"
   },
   {
    "duration": 16,
    "start_time": "2023-07-04T07:34:56.343Z"
   },
   {
    "duration": 103,
    "start_time": "2023-07-04T07:34:56.360Z"
   },
   {
    "duration": 7,
    "start_time": "2023-07-04T07:34:56.465Z"
   },
   {
    "duration": 22,
    "start_time": "2023-07-04T07:34:56.475Z"
   },
   {
    "duration": 102,
    "start_time": "2023-07-04T07:34:56.502Z"
   },
   {
    "duration": 1653,
    "start_time": "2023-07-04T07:34:56.606Z"
   },
   {
    "duration": 43,
    "start_time": "2023-07-04T07:34:58.260Z"
   },
   {
    "duration": 856,
    "start_time": "2023-07-04T07:34:58.304Z"
   },
   {
    "duration": 14,
    "start_time": "2023-07-04T07:34:59.162Z"
   },
   {
    "duration": 31,
    "start_time": "2023-07-04T07:34:59.178Z"
   },
   {
    "duration": 15,
    "start_time": "2023-07-04T07:34:59.211Z"
   },
   {
    "duration": 32,
    "start_time": "2023-07-04T07:34:59.228Z"
   },
   {
    "duration": 13,
    "start_time": "2023-07-04T07:34:59.262Z"
   },
   {
    "duration": 22,
    "start_time": "2023-07-04T07:34:59.277Z"
   },
   {
    "duration": 7,
    "start_time": "2023-07-04T07:34:59.301Z"
   },
   {
    "duration": 12,
    "start_time": "2023-07-04T07:34:59.310Z"
   },
   {
    "duration": 44,
    "start_time": "2023-07-04T07:34:59.324Z"
   },
   {
    "duration": 4,
    "start_time": "2023-07-04T07:34:59.371Z"
   },
   {
    "duration": 27,
    "start_time": "2023-07-04T07:34:59.377Z"
   },
   {
    "duration": 17,
    "start_time": "2023-07-04T07:34:59.406Z"
   },
   {
    "duration": 31,
    "start_time": "2023-07-04T07:34:59.425Z"
   },
   {
    "duration": 9,
    "start_time": "2023-07-04T07:34:59.458Z"
   },
   {
    "duration": 18,
    "start_time": "2023-07-04T07:34:59.469Z"
   },
   {
    "duration": 10,
    "start_time": "2023-07-04T07:34:59.489Z"
   },
   {
    "duration": 496,
    "start_time": "2023-07-04T07:34:59.501Z"
   },
   {
    "duration": 24,
    "start_time": "2023-07-04T07:34:59.999Z"
   },
   {
    "duration": 36,
    "start_time": "2023-07-04T07:35:00.025Z"
   },
   {
    "duration": 12,
    "start_time": "2023-07-04T07:35:00.063Z"
   },
   {
    "duration": 22,
    "start_time": "2023-07-04T07:35:00.077Z"
   },
   {
    "duration": 61,
    "start_time": "2023-07-04T07:35:00.100Z"
   },
   {
    "duration": 594,
    "start_time": "2023-07-04T07:35:00.163Z"
   },
   {
    "duration": 7,
    "start_time": "2023-07-04T07:35:00.762Z"
   },
   {
    "duration": 69,
    "start_time": "2023-07-04T07:35:00.771Z"
   },
   {
    "duration": 589,
    "start_time": "2023-07-04T07:35:00.842Z"
   },
   {
    "duration": 7,
    "start_time": "2023-07-04T07:35:01.432Z"
   },
   {
    "duration": 65,
    "start_time": "2023-07-04T07:35:01.441Z"
   },
   {
    "duration": 622,
    "start_time": "2023-07-04T07:35:01.507Z"
   },
   {
    "duration": 9,
    "start_time": "2023-07-04T07:35:02.131Z"
   },
   {
    "duration": 21,
    "start_time": "2023-07-04T07:35:02.142Z"
   },
   {
    "duration": 33,
    "start_time": "2023-07-04T07:35:02.165Z"
   },
   {
    "duration": 172,
    "start_time": "2023-07-04T07:35:02.200Z"
   },
   {
    "duration": 17,
    "start_time": "2023-07-04T07:35:02.374Z"
   },
   {
    "duration": 30,
    "start_time": "2023-07-04T07:35:02.393Z"
   },
   {
    "duration": 16,
    "start_time": "2023-07-04T07:35:02.425Z"
   },
   {
    "duration": 15,
    "start_time": "2023-07-04T07:35:02.443Z"
   },
   {
    "duration": 13,
    "start_time": "2023-07-04T07:35:02.460Z"
   },
   {
    "duration": 12,
    "start_time": "2023-07-04T07:35:02.475Z"
   },
   {
    "duration": 32,
    "start_time": "2023-07-04T07:35:02.490Z"
   },
   {
    "duration": 14,
    "start_time": "2023-07-04T07:35:02.524Z"
   },
   {
    "duration": 27,
    "start_time": "2023-07-04T07:35:02.539Z"
   },
   {
    "duration": 4,
    "start_time": "2023-07-04T07:35:02.568Z"
   },
   {
    "duration": 30,
    "start_time": "2023-07-04T07:35:02.573Z"
   },
   {
    "duration": 11,
    "start_time": "2023-07-04T07:35:02.605Z"
   },
   {
    "duration": 45,
    "start_time": "2023-07-04T07:35:02.618Z"
   },
   {
    "duration": 13,
    "start_time": "2023-07-04T07:35:02.665Z"
   },
   {
    "duration": 7,
    "start_time": "2023-07-04T07:35:02.680Z"
   },
   {
    "duration": 85,
    "start_time": "2023-07-04T07:35:02.689Z"
   },
   {
    "duration": 49,
    "start_time": "2023-07-04T07:35:02.776Z"
   },
   {
    "duration": 78,
    "start_time": "2023-07-04T07:35:02.827Z"
   },
   {
    "duration": 23,
    "start_time": "2023-07-04T07:35:02.907Z"
   },
   {
    "duration": 26,
    "start_time": "2023-07-04T07:35:02.931Z"
   },
   {
    "duration": 56,
    "start_time": "2023-07-04T07:35:02.958Z"
   },
   {
    "duration": 48,
    "start_time": "2023-07-04T07:35:13.564Z"
   },
   {
    "duration": 13,
    "start_time": "2023-07-04T07:37:14.384Z"
   },
   {
    "duration": 7,
    "start_time": "2023-07-04T07:37:31.394Z"
   },
   {
    "duration": 389,
    "start_time": "2023-07-04T07:37:31.404Z"
   },
   {
    "duration": 4,
    "start_time": "2023-07-04T07:37:31.795Z"
   },
   {
    "duration": 50,
    "start_time": "2023-07-04T07:37:31.800Z"
   },
   {
    "duration": 82,
    "start_time": "2023-07-04T07:37:31.852Z"
   },
   {
    "duration": 19,
    "start_time": "2023-07-04T07:37:31.936Z"
   },
   {
    "duration": 26,
    "start_time": "2023-07-04T07:37:31.957Z"
   },
   {
    "duration": 35,
    "start_time": "2023-07-04T07:37:31.985Z"
   },
   {
    "duration": 50,
    "start_time": "2023-07-04T07:37:32.023Z"
   },
   {
    "duration": 185,
    "start_time": "2023-07-04T07:37:32.075Z"
   },
   {
    "duration": 5,
    "start_time": "2023-07-04T07:37:32.262Z"
   },
   {
    "duration": 73,
    "start_time": "2023-07-04T07:37:32.269Z"
   },
   {
    "duration": 9,
    "start_time": "2023-07-04T07:37:32.354Z"
   },
   {
    "duration": 23,
    "start_time": "2023-07-04T07:37:32.367Z"
   },
   {
    "duration": 129,
    "start_time": "2023-07-04T07:37:32.392Z"
   },
   {
    "duration": 1681,
    "start_time": "2023-07-04T07:37:32.523Z"
   },
   {
    "duration": 57,
    "start_time": "2023-07-04T07:37:34.205Z"
   },
   {
    "duration": 861,
    "start_time": "2023-07-04T07:37:34.264Z"
   },
   {
    "duration": 13,
    "start_time": "2023-07-04T07:37:35.127Z"
   },
   {
    "duration": 21,
    "start_time": "2023-07-04T07:37:35.153Z"
   },
   {
    "duration": 17,
    "start_time": "2023-07-04T07:37:35.176Z"
   },
   {
    "duration": 12,
    "start_time": "2023-07-04T07:37:35.195Z"
   },
   {
    "duration": 14,
    "start_time": "2023-07-04T07:37:35.209Z"
   },
   {
    "duration": 16,
    "start_time": "2023-07-04T07:37:35.255Z"
   },
   {
    "duration": 7,
    "start_time": "2023-07-04T07:37:35.273Z"
   },
   {
    "duration": 13,
    "start_time": "2023-07-04T07:37:35.281Z"
   },
   {
    "duration": 16,
    "start_time": "2023-07-04T07:37:35.296Z"
   },
   {
    "duration": 42,
    "start_time": "2023-07-04T07:37:35.315Z"
   },
   {
    "duration": 23,
    "start_time": "2023-07-04T07:37:35.359Z"
   },
   {
    "duration": 21,
    "start_time": "2023-07-04T07:37:35.384Z"
   },
   {
    "duration": 8,
    "start_time": "2023-07-04T07:37:35.408Z"
   },
   {
    "duration": 45,
    "start_time": "2023-07-04T07:37:35.418Z"
   },
   {
    "duration": 23,
    "start_time": "2023-07-04T07:37:35.465Z"
   },
   {
    "duration": 11,
    "start_time": "2023-07-04T07:37:35.490Z"
   },
   {
    "duration": 506,
    "start_time": "2023-07-04T07:37:35.503Z"
   },
   {
    "duration": 25,
    "start_time": "2023-07-04T07:37:36.012Z"
   },
   {
    "duration": 24,
    "start_time": "2023-07-04T07:37:36.039Z"
   },
   {
    "duration": 11,
    "start_time": "2023-07-04T07:37:36.064Z"
   },
   {
    "duration": 20,
    "start_time": "2023-07-04T07:37:36.077Z"
   },
   {
    "duration": 74,
    "start_time": "2023-07-04T07:37:36.099Z"
   },
   {
    "duration": 641,
    "start_time": "2023-07-04T07:37:36.177Z"
   },
   {
    "duration": 7,
    "start_time": "2023-07-04T07:37:36.819Z"
   },
   {
    "duration": 51,
    "start_time": "2023-07-04T07:37:36.828Z"
   },
   {
    "duration": 595,
    "start_time": "2023-07-04T07:37:36.882Z"
   },
   {
    "duration": 9,
    "start_time": "2023-07-04T07:37:37.480Z"
   },
   {
    "duration": 71,
    "start_time": "2023-07-04T07:37:37.491Z"
   },
   {
    "duration": 596,
    "start_time": "2023-07-04T07:37:37.564Z"
   },
   {
    "duration": 9,
    "start_time": "2023-07-04T07:37:38.162Z"
   },
   {
    "duration": 9,
    "start_time": "2023-07-04T07:37:38.173Z"
   },
   {
    "duration": 7,
    "start_time": "2023-07-04T07:37:38.184Z"
   },
   {
    "duration": 73,
    "start_time": "2023-07-04T07:37:38.193Z"
   },
   {
    "duration": 22,
    "start_time": "2023-07-04T07:37:38.269Z"
   },
   {
    "duration": 12,
    "start_time": "2023-07-04T07:37:38.293Z"
   },
   {
    "duration": 8,
    "start_time": "2023-07-04T07:37:38.307Z"
   },
   {
    "duration": 16,
    "start_time": "2023-07-04T07:37:38.317Z"
   },
   {
    "duration": 11,
    "start_time": "2023-07-04T07:37:38.355Z"
   },
   {
    "duration": 7,
    "start_time": "2023-07-04T07:37:38.367Z"
   },
   {
    "duration": 22,
    "start_time": "2023-07-04T07:37:38.376Z"
   },
   {
    "duration": 6,
    "start_time": "2023-07-04T07:37:38.399Z"
   },
   {
    "duration": 56,
    "start_time": "2023-07-04T07:37:38.407Z"
   },
   {
    "duration": 11,
    "start_time": "2023-07-04T07:37:38.464Z"
   },
   {
    "duration": 32,
    "start_time": "2023-07-04T07:37:38.478Z"
   },
   {
    "duration": 12,
    "start_time": "2023-07-04T07:37:38.511Z"
   },
   {
    "duration": 46,
    "start_time": "2023-07-04T07:37:38.525Z"
   },
   {
    "duration": 15,
    "start_time": "2023-07-04T07:37:38.573Z"
   },
   {
    "duration": 8,
    "start_time": "2023-07-04T07:37:38.590Z"
   },
   {
    "duration": 104,
    "start_time": "2023-07-04T07:37:38.600Z"
   },
   {
    "duration": 58,
    "start_time": "2023-07-04T07:37:38.705Z"
   },
   {
    "duration": 61,
    "start_time": "2023-07-04T07:37:38.765Z"
   },
   {
    "duration": 42,
    "start_time": "2023-07-04T07:37:38.828Z"
   },
   {
    "duration": 47,
    "start_time": "2023-07-04T07:37:44.945Z"
   },
   {
    "duration": 12,
    "start_time": "2023-07-04T07:37:48.340Z"
   },
   {
    "duration": 117,
    "start_time": "2023-07-04T07:38:43.885Z"
   },
   {
    "duration": 5,
    "start_time": "2023-07-04T07:39:47.237Z"
   },
   {
    "duration": 289,
    "start_time": "2023-07-04T07:39:47.244Z"
   },
   {
    "duration": 5,
    "start_time": "2023-07-04T07:39:47.535Z"
   },
   {
    "duration": 48,
    "start_time": "2023-07-04T07:39:47.542Z"
   },
   {
    "duration": 103,
    "start_time": "2023-07-04T07:39:47.593Z"
   },
   {
    "duration": 24,
    "start_time": "2023-07-04T07:39:47.698Z"
   },
   {
    "duration": 16,
    "start_time": "2023-07-04T07:39:47.724Z"
   },
   {
    "duration": 20,
    "start_time": "2023-07-04T07:39:47.741Z"
   },
   {
    "duration": 39,
    "start_time": "2023-07-04T07:39:47.762Z"
   },
   {
    "duration": 14,
    "start_time": "2023-07-04T07:39:47.803Z"
   },
   {
    "duration": 7,
    "start_time": "2023-07-04T07:39:47.818Z"
   },
   {
    "duration": 63,
    "start_time": "2023-07-04T07:39:47.854Z"
   },
   {
    "duration": 6,
    "start_time": "2023-07-04T07:39:47.919Z"
   },
   {
    "duration": 26,
    "start_time": "2023-07-04T07:39:47.928Z"
   },
   {
    "duration": 100,
    "start_time": "2023-07-04T07:39:47.956Z"
   },
   {
    "duration": 1596,
    "start_time": "2023-07-04T07:39:48.058Z"
   },
   {
    "duration": 45,
    "start_time": "2023-07-04T07:39:49.656Z"
   },
   {
    "duration": 876,
    "start_time": "2023-07-04T07:39:49.703Z"
   },
   {
    "duration": 13,
    "start_time": "2023-07-04T07:39:50.581Z"
   },
   {
    "duration": 24,
    "start_time": "2023-07-04T07:39:50.595Z"
   },
   {
    "duration": 36,
    "start_time": "2023-07-04T07:39:50.621Z"
   },
   {
    "duration": 21,
    "start_time": "2023-07-04T07:39:50.659Z"
   },
   {
    "duration": 34,
    "start_time": "2023-07-04T07:39:50.682Z"
   },
   {
    "duration": 23,
    "start_time": "2023-07-04T07:39:50.718Z"
   },
   {
    "duration": 12,
    "start_time": "2023-07-04T07:39:50.743Z"
   },
   {
    "duration": 16,
    "start_time": "2023-07-04T07:39:50.756Z"
   },
   {
    "duration": 16,
    "start_time": "2023-07-04T07:39:50.773Z"
   },
   {
    "duration": 3,
    "start_time": "2023-07-04T07:39:50.791Z"
   },
   {
    "duration": 22,
    "start_time": "2023-07-04T07:39:50.796Z"
   },
   {
    "duration": 50,
    "start_time": "2023-07-04T07:39:50.820Z"
   },
   {
    "duration": 6,
    "start_time": "2023-07-04T07:39:50.871Z"
   },
   {
    "duration": 10,
    "start_time": "2023-07-04T07:39:50.879Z"
   },
   {
    "duration": 30,
    "start_time": "2023-07-04T07:39:50.891Z"
   },
   {
    "duration": 39,
    "start_time": "2023-07-04T07:39:50.923Z"
   },
   {
    "duration": 521,
    "start_time": "2023-07-04T07:39:50.964Z"
   },
   {
    "duration": 24,
    "start_time": "2023-07-04T07:39:51.486Z"
   },
   {
    "duration": 11,
    "start_time": "2023-07-04T07:39:51.512Z"
   },
   {
    "duration": 35,
    "start_time": "2023-07-04T07:39:51.526Z"
   },
   {
    "duration": 30,
    "start_time": "2023-07-04T07:39:51.563Z"
   },
   {
    "duration": 38,
    "start_time": "2023-07-04T07:39:51.595Z"
   },
   {
    "duration": 594,
    "start_time": "2023-07-04T07:39:51.639Z"
   },
   {
    "duration": 8,
    "start_time": "2023-07-04T07:39:52.235Z"
   },
   {
    "duration": 37,
    "start_time": "2023-07-04T07:39:52.255Z"
   },
   {
    "duration": 742,
    "start_time": "2023-07-04T07:39:52.295Z"
   },
   {
    "duration": 15,
    "start_time": "2023-07-04T07:39:53.039Z"
   },
   {
    "duration": 42,
    "start_time": "2023-07-04T07:39:53.056Z"
   },
   {
    "duration": 651,
    "start_time": "2023-07-04T07:39:53.100Z"
   },
   {
    "duration": 10,
    "start_time": "2023-07-04T07:39:53.754Z"
   },
   {
    "duration": 18,
    "start_time": "2023-07-04T07:39:53.766Z"
   },
   {
    "duration": 25,
    "start_time": "2023-07-04T07:39:53.786Z"
   },
   {
    "duration": 45,
    "start_time": "2023-07-04T07:39:53.813Z"
   },
   {
    "duration": 15,
    "start_time": "2023-07-04T07:39:53.860Z"
   },
   {
    "duration": 23,
    "start_time": "2023-07-04T07:39:53.876Z"
   },
   {
    "duration": 9,
    "start_time": "2023-07-04T07:39:53.901Z"
   },
   {
    "duration": 38,
    "start_time": "2023-07-04T07:39:53.911Z"
   },
   {
    "duration": 16,
    "start_time": "2023-07-04T07:39:53.951Z"
   },
   {
    "duration": 32,
    "start_time": "2023-07-04T07:39:53.968Z"
   },
   {
    "duration": 18,
    "start_time": "2023-07-04T07:39:54.003Z"
   },
   {
    "duration": 14,
    "start_time": "2023-07-04T07:39:54.023Z"
   },
   {
    "duration": 34,
    "start_time": "2023-07-04T07:39:54.039Z"
   },
   {
    "duration": 10,
    "start_time": "2023-07-04T07:39:54.075Z"
   },
   {
    "duration": 36,
    "start_time": "2023-07-04T07:39:54.086Z"
   },
   {
    "duration": 13,
    "start_time": "2023-07-04T07:39:54.123Z"
   },
   {
    "duration": 17,
    "start_time": "2023-07-04T07:39:54.154Z"
   },
   {
    "duration": 19,
    "start_time": "2023-07-04T07:39:54.173Z"
   },
   {
    "duration": 35,
    "start_time": "2023-07-04T07:39:54.194Z"
   },
   {
    "duration": 88,
    "start_time": "2023-07-04T07:39:54.231Z"
   },
   {
    "duration": 55,
    "start_time": "2023-07-04T07:39:54.320Z"
   },
   {
    "duration": 78,
    "start_time": "2023-07-04T07:39:54.377Z"
   },
   {
    "duration": 24,
    "start_time": "2023-07-04T07:39:54.458Z"
   },
   {
    "duration": 2,
    "start_time": "2023-07-04T07:39:54.484Z"
   },
   {
    "duration": 73,
    "start_time": "2023-07-04T07:39:54.488Z"
   },
   {
    "duration": 118,
    "start_time": "2023-07-04T07:39:54.563Z"
   },
   {
    "duration": 5357,
    "start_time": "2023-07-04T07:39:54.683Z"
   },
   {
    "duration": 7,
    "start_time": "2023-07-04T09:00:18.028Z"
   },
   {
    "duration": 731,
    "start_time": "2023-07-04T09:00:18.039Z"
   },
   {
    "duration": 12,
    "start_time": "2023-07-04T09:00:18.777Z"
   },
   {
    "duration": 52,
    "start_time": "2023-07-04T09:00:18.793Z"
   },
   {
    "duration": 117,
    "start_time": "2023-07-04T09:00:18.852Z"
   },
   {
    "duration": 36,
    "start_time": "2023-07-04T09:00:18.975Z"
   },
   {
    "duration": 20,
    "start_time": "2023-07-04T09:00:19.019Z"
   },
   {
    "duration": 54,
    "start_time": "2023-07-04T09:00:19.051Z"
   },
   {
    "duration": 71,
    "start_time": "2023-07-04T09:00:19.120Z"
   },
   {
    "duration": 26,
    "start_time": "2023-07-04T09:00:19.201Z"
   },
   {
    "duration": 10,
    "start_time": "2023-07-04T09:00:19.230Z"
   },
   {
    "duration": 149,
    "start_time": "2023-07-04T09:00:19.242Z"
   },
   {
    "duration": 20,
    "start_time": "2023-07-04T09:00:19.394Z"
   },
   {
    "duration": 41,
    "start_time": "2023-07-04T09:00:19.419Z"
   },
   {
    "duration": 171,
    "start_time": "2023-07-04T09:00:19.471Z"
   },
   {
    "duration": 2480,
    "start_time": "2023-07-04T09:00:19.644Z"
   },
   {
    "duration": 86,
    "start_time": "2023-07-04T09:00:22.127Z"
   },
   {
    "duration": 1547,
    "start_time": "2023-07-04T09:00:22.218Z"
   },
   {
    "duration": 24,
    "start_time": "2023-07-04T09:00:23.767Z"
   },
   {
    "duration": 43,
    "start_time": "2023-07-04T09:00:23.793Z"
   },
   {
    "duration": 25,
    "start_time": "2023-07-04T09:00:23.838Z"
   },
   {
    "duration": 45,
    "start_time": "2023-07-04T09:00:23.865Z"
   },
   {
    "duration": 48,
    "start_time": "2023-07-04T09:00:23.919Z"
   },
   {
    "duration": 43,
    "start_time": "2023-07-04T09:00:23.969Z"
   },
   {
    "duration": 8,
    "start_time": "2023-07-04T09:00:24.015Z"
   },
   {
    "duration": 56,
    "start_time": "2023-07-04T09:00:24.025Z"
   },
   {
    "duration": 22,
    "start_time": "2023-07-04T09:00:24.083Z"
   },
   {
    "duration": 7,
    "start_time": "2023-07-04T09:00:24.110Z"
   },
   {
    "duration": 62,
    "start_time": "2023-07-04T09:00:24.119Z"
   },
   {
    "duration": 24,
    "start_time": "2023-07-04T09:00:24.183Z"
   },
   {
    "duration": 6,
    "start_time": "2023-07-04T09:00:24.209Z"
   },
   {
    "duration": 13,
    "start_time": "2023-07-04T09:00:24.217Z"
   },
   {
    "duration": 27,
    "start_time": "2023-07-04T09:00:24.232Z"
   },
   {
    "duration": 27,
    "start_time": "2023-07-04T09:00:24.261Z"
   },
   {
    "duration": 536,
    "start_time": "2023-07-04T09:00:24.294Z"
   },
   {
    "duration": 52,
    "start_time": "2023-07-04T09:00:24.833Z"
   },
   {
    "duration": 30,
    "start_time": "2023-07-04T09:00:24.887Z"
   },
   {
    "duration": 39,
    "start_time": "2023-07-04T09:00:24.920Z"
   },
   {
    "duration": 61,
    "start_time": "2023-07-04T09:00:24.962Z"
   },
   {
    "duration": 68,
    "start_time": "2023-07-04T09:00:25.025Z"
   },
   {
    "duration": 691,
    "start_time": "2023-07-04T09:00:25.100Z"
   },
   {
    "duration": 12,
    "start_time": "2023-07-04T09:00:25.797Z"
   },
   {
    "duration": 44,
    "start_time": "2023-07-04T09:00:25.813Z"
   },
   {
    "duration": 683,
    "start_time": "2023-07-04T09:00:25.871Z"
   },
   {
    "duration": 19,
    "start_time": "2023-07-04T09:00:26.562Z"
   },
   {
    "duration": 93,
    "start_time": "2023-07-04T09:00:26.583Z"
   },
   {
    "duration": 778,
    "start_time": "2023-07-04T09:00:26.681Z"
   },
   {
    "duration": 14,
    "start_time": "2023-07-04T09:00:27.460Z"
   },
   {
    "duration": 19,
    "start_time": "2023-07-04T09:00:27.476Z"
   },
   {
    "duration": 24,
    "start_time": "2023-07-04T09:00:27.499Z"
   },
   {
    "duration": 241,
    "start_time": "2023-07-04T09:00:27.529Z"
   },
   {
    "duration": 30,
    "start_time": "2023-07-04T09:00:27.775Z"
   },
   {
    "duration": 25,
    "start_time": "2023-07-04T09:00:27.811Z"
   },
   {
    "duration": 14,
    "start_time": "2023-07-04T09:00:27.838Z"
   },
   {
    "duration": 38,
    "start_time": "2023-07-04T09:00:27.866Z"
   },
   {
    "duration": 20,
    "start_time": "2023-07-04T09:00:27.908Z"
   },
   {
    "duration": 39,
    "start_time": "2023-07-04T09:00:27.931Z"
   },
   {
    "duration": 43,
    "start_time": "2023-07-04T09:00:27.974Z"
   },
   {
    "duration": 8,
    "start_time": "2023-07-04T09:00:28.020Z"
   },
   {
    "duration": 72,
    "start_time": "2023-07-04T09:00:28.032Z"
   },
   {
    "duration": 11,
    "start_time": "2023-07-04T09:00:28.109Z"
   },
   {
    "duration": 81,
    "start_time": "2023-07-04T09:00:28.130Z"
   },
   {
    "duration": 16,
    "start_time": "2023-07-04T09:00:28.213Z"
   },
   {
    "duration": 53,
    "start_time": "2023-07-04T09:00:28.231Z"
   },
   {
    "duration": 27,
    "start_time": "2023-07-04T09:00:28.291Z"
   },
   {
    "duration": 14,
    "start_time": "2023-07-04T09:00:28.321Z"
   },
   {
    "duration": 104,
    "start_time": "2023-07-04T09:00:28.338Z"
   },
   {
    "duration": 92,
    "start_time": "2023-07-04T09:00:28.445Z"
   },
   {
    "duration": 82,
    "start_time": "2023-07-04T09:00:28.539Z"
   },
   {
    "duration": 22,
    "start_time": "2023-07-04T09:00:28.622Z"
   },
   {
    "duration": 13,
    "start_time": "2023-07-04T09:00:28.646Z"
   },
   {
    "duration": 79,
    "start_time": "2023-07-04T09:00:28.665Z"
   },
   {
    "duration": 160,
    "start_time": "2023-07-04T09:00:28.746Z"
   },
   {
    "duration": 7913,
    "start_time": "2023-07-04T09:00:28.908Z"
   },
   {
    "duration": 5,
    "start_time": "2023-07-04T09:00:42.308Z"
   },
   {
    "duration": 330,
    "start_time": "2023-07-04T09:00:42.315Z"
   },
   {
    "duration": 15,
    "start_time": "2023-07-04T09:00:42.647Z"
   },
   {
    "duration": 45,
    "start_time": "2023-07-04T09:00:42.664Z"
   },
   {
    "duration": 95,
    "start_time": "2023-07-04T09:00:42.716Z"
   },
   {
    "duration": 55,
    "start_time": "2023-07-04T09:00:42.813Z"
   },
   {
    "duration": 7,
    "start_time": "2023-07-04T09:00:42.881Z"
   },
   {
    "duration": 23,
    "start_time": "2023-07-04T09:00:42.894Z"
   },
   {
    "duration": 57,
    "start_time": "2023-07-04T09:00:42.919Z"
   },
   {
    "duration": 30,
    "start_time": "2023-07-04T09:00:42.982Z"
   },
   {
    "duration": 6,
    "start_time": "2023-07-04T09:00:43.015Z"
   },
   {
    "duration": 89,
    "start_time": "2023-07-04T09:00:43.023Z"
   },
   {
    "duration": 6,
    "start_time": "2023-07-04T09:00:43.115Z"
   },
   {
    "duration": 20,
    "start_time": "2023-07-04T09:00:43.125Z"
   },
   {
    "duration": 131,
    "start_time": "2023-07-04T09:00:43.147Z"
   },
   {
    "duration": 1913,
    "start_time": "2023-07-04T09:00:43.282Z"
   },
   {
    "duration": 55,
    "start_time": "2023-07-04T09:00:45.197Z"
   },
   {
    "duration": 1063,
    "start_time": "2023-07-04T09:00:45.274Z"
   },
   {
    "duration": 39,
    "start_time": "2023-07-04T09:00:46.339Z"
   },
   {
    "duration": 37,
    "start_time": "2023-07-04T09:00:46.390Z"
   },
   {
    "duration": 38,
    "start_time": "2023-07-04T09:00:46.433Z"
   },
   {
    "duration": 19,
    "start_time": "2023-07-04T09:00:46.473Z"
   },
   {
    "duration": 24,
    "start_time": "2023-07-04T09:00:46.501Z"
   },
   {
    "duration": 19,
    "start_time": "2023-07-04T09:00:46.529Z"
   },
   {
    "duration": 12,
    "start_time": "2023-07-04T09:00:46.551Z"
   },
   {
    "duration": 21,
    "start_time": "2023-07-04T09:00:46.568Z"
   },
   {
    "duration": 28,
    "start_time": "2023-07-04T09:00:46.591Z"
   },
   {
    "duration": 8,
    "start_time": "2023-07-04T09:00:46.621Z"
   },
   {
    "duration": 51,
    "start_time": "2023-07-04T09:00:46.631Z"
   },
   {
    "duration": 22,
    "start_time": "2023-07-04T09:00:46.691Z"
   },
   {
    "duration": 16,
    "start_time": "2023-07-04T09:00:46.715Z"
   },
   {
    "duration": 13,
    "start_time": "2023-07-04T09:00:46.735Z"
   },
   {
    "duration": 49,
    "start_time": "2023-07-04T09:00:46.751Z"
   },
   {
    "duration": 19,
    "start_time": "2023-07-04T09:00:46.811Z"
   },
   {
    "duration": 526,
    "start_time": "2023-07-04T09:00:46.832Z"
   },
   {
    "duration": 59,
    "start_time": "2023-07-04T09:00:47.365Z"
   },
   {
    "duration": 18,
    "start_time": "2023-07-04T09:00:47.427Z"
   },
   {
    "duration": 24,
    "start_time": "2023-07-04T09:00:47.447Z"
   },
   {
    "duration": 28,
    "start_time": "2023-07-04T09:00:47.473Z"
   },
   {
    "duration": 55,
    "start_time": "2023-07-04T09:00:47.503Z"
   },
   {
    "duration": 745,
    "start_time": "2023-07-04T09:00:47.567Z"
   },
   {
    "duration": 7,
    "start_time": "2023-07-04T09:00:48.318Z"
   },
   {
    "duration": 57,
    "start_time": "2023-07-04T09:00:48.327Z"
   },
   {
    "duration": 628,
    "start_time": "2023-07-04T09:00:48.395Z"
   },
   {
    "duration": 6,
    "start_time": "2023-07-04T09:00:49.025Z"
   },
   {
    "duration": 77,
    "start_time": "2023-07-04T09:00:49.033Z"
   },
   {
    "duration": 705,
    "start_time": "2023-07-04T09:00:49.113Z"
   },
   {
    "duration": 10,
    "start_time": "2023-07-04T09:00:49.820Z"
   },
   {
    "duration": 35,
    "start_time": "2023-07-04T09:00:49.832Z"
   },
   {
    "duration": 18,
    "start_time": "2023-07-04T09:00:49.870Z"
   },
   {
    "duration": 50,
    "start_time": "2023-07-04T09:00:49.890Z"
   },
   {
    "duration": 23,
    "start_time": "2023-07-04T09:00:49.942Z"
   },
   {
    "duration": 30,
    "start_time": "2023-07-04T09:00:49.967Z"
   },
   {
    "duration": 11,
    "start_time": "2023-07-04T09:00:50.002Z"
   },
   {
    "duration": 9,
    "start_time": "2023-07-04T09:00:50.015Z"
   },
   {
    "duration": 12,
    "start_time": "2023-07-04T09:00:50.026Z"
   },
   {
    "duration": 16,
    "start_time": "2023-07-04T09:00:50.041Z"
   },
   {
    "duration": 30,
    "start_time": "2023-07-04T09:00:50.063Z"
   },
   {
    "duration": 8,
    "start_time": "2023-07-04T09:00:50.097Z"
   },
   {
    "duration": 29,
    "start_time": "2023-07-04T09:00:50.108Z"
   },
   {
    "duration": 22,
    "start_time": "2023-07-04T09:00:50.139Z"
   },
   {
    "duration": 52,
    "start_time": "2023-07-04T09:00:50.163Z"
   },
   {
    "duration": 20,
    "start_time": "2023-07-04T09:00:50.221Z"
   },
   {
    "duration": 38,
    "start_time": "2023-07-04T09:00:50.243Z"
   },
   {
    "duration": 24,
    "start_time": "2023-07-04T09:00:50.283Z"
   },
   {
    "duration": 10,
    "start_time": "2023-07-04T09:00:50.313Z"
   },
   {
    "duration": 116,
    "start_time": "2023-07-04T09:00:50.325Z"
   },
   {
    "duration": 80,
    "start_time": "2023-07-04T09:00:50.443Z"
   },
   {
    "duration": 100,
    "start_time": "2023-07-04T09:00:50.525Z"
   },
   {
    "duration": 41,
    "start_time": "2023-07-04T09:00:50.627Z"
   },
   {
    "duration": 80,
    "start_time": "2023-07-04T09:00:50.671Z"
   },
   {
    "duration": 178,
    "start_time": "2023-07-04T09:00:50.758Z"
   },
   {
    "duration": 9992,
    "start_time": "2023-07-04T09:00:50.939Z"
   },
   {
    "duration": 1372,
    "start_time": "2023-07-20T11:40:38.838Z"
   },
   {
    "duration": 383,
    "start_time": "2023-07-20T11:40:40.212Z"
   },
   {
    "duration": 4,
    "start_time": "2023-07-20T11:40:40.596Z"
   },
   {
    "duration": 28,
    "start_time": "2023-07-20T11:40:40.602Z"
   },
   {
    "duration": 77,
    "start_time": "2023-07-20T11:40:40.631Z"
   },
   {
    "duration": 17,
    "start_time": "2023-07-20T11:40:40.710Z"
   },
   {
    "duration": 25,
    "start_time": "2023-07-20T11:40:40.729Z"
   },
   {
    "duration": 15,
    "start_time": "2023-07-20T11:40:40.756Z"
   },
   {
    "duration": 48,
    "start_time": "2023-07-20T11:40:40.772Z"
   },
   {
    "duration": 12,
    "start_time": "2023-07-20T11:40:40.823Z"
   },
   {
    "duration": 16,
    "start_time": "2023-07-20T11:40:40.836Z"
   },
   {
    "duration": 68,
    "start_time": "2023-07-20T11:40:40.853Z"
   },
   {
    "duration": 5,
    "start_time": "2023-07-20T11:40:40.922Z"
   },
   {
    "duration": 26,
    "start_time": "2023-07-20T11:40:40.928Z"
   },
   {
    "duration": 75,
    "start_time": "2023-07-20T11:40:40.955Z"
   },
   {
    "duration": 1249,
    "start_time": "2023-07-20T11:40:41.032Z"
   },
   {
    "duration": 48,
    "start_time": "2023-07-20T11:40:42.283Z"
   },
   {
    "duration": 753,
    "start_time": "2023-07-20T11:40:42.332Z"
   },
   {
    "duration": 10,
    "start_time": "2023-07-20T11:40:43.087Z"
   },
   {
    "duration": 21,
    "start_time": "2023-07-20T11:40:43.098Z"
   },
   {
    "duration": 13,
    "start_time": "2023-07-20T11:40:43.120Z"
   },
   {
    "duration": 21,
    "start_time": "2023-07-20T11:40:43.134Z"
   },
   {
    "duration": 47,
    "start_time": "2023-07-20T11:40:43.156Z"
   },
   {
    "duration": 35,
    "start_time": "2023-07-20T11:40:43.205Z"
   },
   {
    "duration": 20,
    "start_time": "2023-07-20T11:40:43.242Z"
   },
   {
    "duration": 30,
    "start_time": "2023-07-20T11:40:43.263Z"
   },
   {
    "duration": 35,
    "start_time": "2023-07-20T11:40:43.295Z"
   },
   {
    "duration": 45,
    "start_time": "2023-07-20T11:40:43.334Z"
   },
   {
    "duration": 42,
    "start_time": "2023-07-20T11:40:43.381Z"
   },
   {
    "duration": 47,
    "start_time": "2023-07-20T11:40:43.425Z"
   },
   {
    "duration": 49,
    "start_time": "2023-07-20T11:40:43.474Z"
   },
   {
    "duration": 52,
    "start_time": "2023-07-20T11:40:43.525Z"
   },
   {
    "duration": 33,
    "start_time": "2023-07-20T11:40:43.578Z"
   },
   {
    "duration": 29,
    "start_time": "2023-07-20T11:40:43.613Z"
   },
   {
    "duration": 393,
    "start_time": "2023-07-20T11:40:43.643Z"
   },
   {
    "duration": 22,
    "start_time": "2023-07-20T11:40:44.038Z"
   },
   {
    "duration": 15,
    "start_time": "2023-07-20T11:40:44.061Z"
   },
   {
    "duration": 244,
    "start_time": "2023-07-20T11:40:44.077Z"
   },
   {
    "duration": 22,
    "start_time": "2023-07-20T11:40:44.323Z"
   },
   {
    "duration": 90,
    "start_time": "2023-07-20T11:40:44.347Z"
   },
   {
    "duration": 587,
    "start_time": "2023-07-20T11:40:44.439Z"
   },
   {
    "duration": 6,
    "start_time": "2023-07-20T11:40:45.028Z"
   },
   {
    "duration": 54,
    "start_time": "2023-07-20T11:40:45.035Z"
   },
   {
    "duration": 499,
    "start_time": "2023-07-20T11:40:45.090Z"
   },
   {
    "duration": 5,
    "start_time": "2023-07-20T11:40:45.591Z"
   },
   {
    "duration": 34,
    "start_time": "2023-07-20T11:40:45.597Z"
   },
   {
    "duration": 480,
    "start_time": "2023-07-20T11:40:45.632Z"
   },
   {
    "duration": 7,
    "start_time": "2023-07-20T11:40:46.114Z"
   },
   {
    "duration": 9,
    "start_time": "2023-07-20T11:40:46.122Z"
   },
   {
    "duration": 25,
    "start_time": "2023-07-20T11:40:46.132Z"
   },
   {
    "duration": 31,
    "start_time": "2023-07-20T11:40:46.158Z"
   },
   {
    "duration": 22,
    "start_time": "2023-07-20T11:40:46.190Z"
   },
   {
    "duration": 10,
    "start_time": "2023-07-20T11:40:46.213Z"
   },
   {
    "duration": 6,
    "start_time": "2023-07-20T11:40:46.225Z"
   },
   {
    "duration": 20,
    "start_time": "2023-07-20T11:40:46.232Z"
   },
   {
    "duration": 8,
    "start_time": "2023-07-20T11:40:46.254Z"
   },
   {
    "duration": 14,
    "start_time": "2023-07-20T11:40:46.263Z"
   },
   {
    "duration": 21,
    "start_time": "2023-07-20T11:40:46.279Z"
   },
   {
    "duration": 4,
    "start_time": "2023-07-20T11:40:46.306Z"
   },
   {
    "duration": 19,
    "start_time": "2023-07-20T11:40:46.311Z"
   },
   {
    "duration": 8,
    "start_time": "2023-07-20T11:40:46.332Z"
   },
   {
    "duration": 40,
    "start_time": "2023-07-20T11:40:46.341Z"
   },
   {
    "duration": 9,
    "start_time": "2023-07-20T11:40:46.382Z"
   },
   {
    "duration": 32,
    "start_time": "2023-07-20T11:40:46.393Z"
   },
   {
    "duration": 15,
    "start_time": "2023-07-20T11:40:46.426Z"
   },
   {
    "duration": 10,
    "start_time": "2023-07-20T11:40:46.442Z"
   },
   {
    "duration": 5,
    "start_time": "2023-07-20T11:48:17.461Z"
   },
   {
    "duration": 296,
    "start_time": "2023-07-20T11:48:17.468Z"
   },
   {
    "duration": 3,
    "start_time": "2023-07-20T11:48:17.766Z"
   },
   {
    "duration": 23,
    "start_time": "2023-07-20T11:48:17.770Z"
   },
   {
    "duration": 77,
    "start_time": "2023-07-20T11:48:17.794Z"
   },
   {
    "duration": 16,
    "start_time": "2023-07-20T11:48:17.872Z"
   },
   {
    "duration": 23,
    "start_time": "2023-07-20T11:48:17.890Z"
   },
   {
    "duration": 23,
    "start_time": "2023-07-20T11:48:17.914Z"
   },
   {
    "duration": 50,
    "start_time": "2023-07-20T11:48:17.938Z"
   },
   {
    "duration": 11,
    "start_time": "2023-07-20T11:48:17.989Z"
   },
   {
    "duration": 7,
    "start_time": "2023-07-20T11:48:18.001Z"
   },
   {
    "duration": 97,
    "start_time": "2023-07-20T11:48:18.010Z"
   },
   {
    "duration": 5,
    "start_time": "2023-07-20T11:48:18.108Z"
   },
   {
    "duration": 15,
    "start_time": "2023-07-20T11:48:18.115Z"
   },
   {
    "duration": 90,
    "start_time": "2023-07-20T11:48:18.131Z"
   },
   {
    "duration": 1327,
    "start_time": "2023-07-20T11:48:18.222Z"
   },
   {
    "duration": 40,
    "start_time": "2023-07-20T11:48:19.550Z"
   },
   {
    "duration": 720,
    "start_time": "2023-07-20T11:48:19.592Z"
   },
   {
    "duration": 10,
    "start_time": "2023-07-20T11:48:20.313Z"
   },
   {
    "duration": 45,
    "start_time": "2023-07-20T11:48:20.325Z"
   },
   {
    "duration": 16,
    "start_time": "2023-07-20T11:48:20.372Z"
   },
   {
    "duration": 23,
    "start_time": "2023-07-20T11:48:20.390Z"
   },
   {
    "duration": 25,
    "start_time": "2023-07-20T11:48:20.415Z"
   },
   {
    "duration": 54,
    "start_time": "2023-07-20T11:48:20.441Z"
   },
   {
    "duration": 13,
    "start_time": "2023-07-20T11:48:20.496Z"
   },
   {
    "duration": 24,
    "start_time": "2023-07-20T11:48:20.510Z"
   },
   {
    "duration": 24,
    "start_time": "2023-07-20T11:48:20.535Z"
   },
   {
    "duration": 4,
    "start_time": "2023-07-20T11:48:20.561Z"
   },
   {
    "duration": 28,
    "start_time": "2023-07-20T11:48:20.566Z"
   },
   {
    "duration": 26,
    "start_time": "2023-07-20T11:48:20.596Z"
   },
   {
    "duration": 21,
    "start_time": "2023-07-20T11:48:20.624Z"
   },
   {
    "duration": 26,
    "start_time": "2023-07-20T11:48:20.646Z"
   },
   {
    "duration": 17,
    "start_time": "2023-07-20T11:48:20.673Z"
   },
   {
    "duration": 39,
    "start_time": "2023-07-20T11:48:20.692Z"
   },
   {
    "duration": 383,
    "start_time": "2023-07-20T11:48:20.732Z"
   },
   {
    "duration": 18,
    "start_time": "2023-07-20T11:48:21.117Z"
   },
   {
    "duration": 8,
    "start_time": "2023-07-20T11:48:21.137Z"
   },
   {
    "duration": 10,
    "start_time": "2023-07-20T11:48:21.147Z"
   },
   {
    "duration": 21,
    "start_time": "2023-07-20T11:48:21.159Z"
   },
   {
    "duration": 59,
    "start_time": "2023-07-20T11:48:21.181Z"
   },
   {
    "duration": 546,
    "start_time": "2023-07-20T11:48:21.242Z"
   },
   {
    "duration": 5,
    "start_time": "2023-07-20T11:48:21.790Z"
   },
   {
    "duration": 47,
    "start_time": "2023-07-20T11:48:21.805Z"
   },
   {
    "duration": 594,
    "start_time": "2023-07-20T11:48:21.853Z"
   },
   {
    "duration": 6,
    "start_time": "2023-07-20T11:48:22.449Z"
   },
   {
    "duration": 51,
    "start_time": "2023-07-20T11:48:22.457Z"
   },
   {
    "duration": 536,
    "start_time": "2023-07-20T11:48:22.510Z"
   },
   {
    "duration": 7,
    "start_time": "2023-07-20T11:48:23.048Z"
   },
   {
    "duration": 11,
    "start_time": "2023-07-20T11:48:23.056Z"
   },
   {
    "duration": 26,
    "start_time": "2023-07-20T11:48:23.069Z"
   },
   {
    "duration": 37,
    "start_time": "2023-07-20T11:48:23.096Z"
   },
   {
    "duration": 10,
    "start_time": "2023-07-20T11:48:23.135Z"
   },
   {
    "duration": 14,
    "start_time": "2023-07-20T11:48:23.147Z"
   },
   {
    "duration": 11,
    "start_time": "2023-07-20T11:48:23.162Z"
   },
   {
    "duration": 17,
    "start_time": "2023-07-20T11:48:23.174Z"
   },
   {
    "duration": 15,
    "start_time": "2023-07-20T11:48:23.193Z"
   },
   {
    "duration": 27,
    "start_time": "2023-07-20T11:48:23.209Z"
   },
   {
    "duration": 23,
    "start_time": "2023-07-20T11:48:23.237Z"
   },
   {
    "duration": 16,
    "start_time": "2023-07-20T11:48:23.262Z"
   },
   {
    "duration": 17,
    "start_time": "2023-07-20T11:48:23.279Z"
   },
   {
    "duration": 12,
    "start_time": "2023-07-20T11:48:23.297Z"
   },
   {
    "duration": 26,
    "start_time": "2023-07-20T11:48:23.311Z"
   },
   {
    "duration": 9,
    "start_time": "2023-07-20T11:48:23.339Z"
   },
   {
    "duration": 12,
    "start_time": "2023-07-20T11:48:23.349Z"
   },
   {
    "duration": 10,
    "start_time": "2023-07-20T11:48:23.362Z"
   },
   {
    "duration": 12,
    "start_time": "2023-07-20T11:48:23.373Z"
   }
  ],
  "kernelspec": {
   "display_name": "Python 3 (ipykernel)",
   "language": "python",
   "name": "python3"
  },
  "language_info": {
   "codemirror_mode": {
    "name": "ipython",
    "version": 3
   },
   "file_extension": ".py",
   "mimetype": "text/x-python",
   "name": "python",
   "nbconvert_exporter": "python",
   "pygments_lexer": "ipython3",
   "version": "3.9.5"
  },
  "toc": {
   "base_numbering": 1,
   "nav_menu": {},
   "number_sections": true,
   "sideBar": true,
   "skip_h1_title": true,
   "title_cell": "Table of Contents",
   "title_sidebar": "Contents",
   "toc_cell": false,
   "toc_position": {},
   "toc_section_display": true,
   "toc_window_display": true
  }
 },
 "nbformat": 4,
 "nbformat_minor": 2
}
