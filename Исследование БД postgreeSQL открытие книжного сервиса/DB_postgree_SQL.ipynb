{
 "cells": [
  {
   "cell_type": "markdown",
   "metadata": {},
   "source": [
    "# Проект по SQL\n"
   ]
  },
  {
   "cell_type": "markdown",
   "metadata": {},
   "source": [
    "***АНАЛИТИКА БАЗЫ ДАННЫХ ДЛЯ КРУПНОГО КНИЖНОГО СЕРВИСА***"
   ]
  },
  {
   "cell_type": "markdown",
   "metadata": {},
   "source": [
    "***ЦЕЛЬ:*** Проанализировать существующую базу данных для определение ценностного предложения для нового продукта."
   ]
  },
  {
   "cell_type": "markdown",
   "metadata": {},
   "source": [
    "***ОПИСАНИЕ ДАННЫХ:***\n",
    "\n",
    "Таблица books\n",
    "Содержит данные о книгах:\n",
    "\n",
    "book_id — идентификатор книги;\n",
    "\n",
    "author_id — идентификатор автора;\n",
    "\n",
    "title — название книги;\n",
    "\n",
    "num_pages — количество страниц;\n",
    "\n",
    "publication_date — дата публикации книги;\n",
    "\n",
    "publisher_id — идентификатор издателя.\n",
    "\n",
    "Таблица authors\n",
    "Содержит данные об авторах:\n",
    "\n",
    "author_id — идентификатор автора;\n",
    "\n",
    "author — имя автора.\n",
    "\n",
    "Таблица publishers\n",
    "Содержит данные об издательствах:\n",
    "\n",
    "publisher_id — идентификатор издательства;\n",
    "\n",
    "publisher — название издательства;\n",
    "\n",
    "Таблица ratings\n",
    "Содержит данные о пользовательских оценках книг:\n",
    "\n",
    "rating_id — идентификатор оценки;\n",
    "\n",
    "book_id — идентификатор книги;\n",
    "\n",
    "username — имя пользователя, оставившего оценку;\n",
    "\n",
    "rating — оценка книги.\n",
    "\n",
    "Таблица reviews\n",
    "Содержит данные о пользовательских обзорах:\n",
    "\n",
    "review_id — идентификатор обзора;\n",
    "\n",
    "book_id — идентификатор книги;\n",
    "\n",
    "username — имя автора обзора;\n",
    "\n",
    "text — текст обзора."
   ]
  },
  {
   "cell_type": "markdown",
   "metadata": {},
   "source": [
    "<div >\n",
    "    \n",
    "\n",
    "\n",
    "\n",
    "***СХЕМА ДАННЫХ***  \n",
    "\n",
    "![image.png](https://pictures.s3.yandex.net/resources/scheme_1589269096.png)"
   ]
  },
  {
   "cell_type": "markdown",
   "metadata": {},
   "source": [
    "***ПОДКЛЮЧЕНИЕ К БАЗЕ ДАННЫХ***"
   ]
  },
  {
   "cell_type": "code",
   "execution_count": 1,
   "metadata": {},
   "outputs": [],
   "source": [
    "# импортируем библиотеки\n",
    "import pandas as pd\n",
    "from sqlalchemy import text, create_engine"
   ]
  },
  {
   "cell_type": "code",
   "execution_count": 2,
   "metadata": {},
   "outputs": [],
   "source": [
    "# устанавливаем параметры\n",
    "db_config = {'user': 'praktikum_student', # имя пользователя\n",
    "'pwd': 'Sdf4$2;d-d30pp', # пароль\n",
    "'host': 'rc1b-wcoijxj3yxfsf3fs.mdb.yandexcloud.net',\n",
    "'port': 6432, # порт подключения\n",
    "'db': 'data-analyst-final-project-db'} # название базы данных\n",
    "connection_string = 'postgresql://{user}:{pwd}@{host}:{port}/{db}'.format(**db_config)\n",
    "# сохраняем коннектор"
   ]
  },
  {
   "cell_type": "code",
   "execution_count": 3,
   "metadata": {},
   "outputs": [],
   "source": [
    "engine = create_engine(connection_string, connect_args={'sslmode':'require'})\n",
    "# чтобы выполнить SQL-запрос, используем Pandas"
   ]
  },
  {
   "cell_type": "markdown",
   "metadata": {},
   "source": [
    "***ВЫВЕДЕМ ПЕРВЫЕ ПЯТЬ СТРОК БД***"
   ]
  },
  {
   "cell_type": "code",
   "execution_count": 4,
   "metadata": {
    "scrolled": true
   },
   "outputs": [
    {
     "data": {
      "text/html": [
       "<div>\n",
       "<style scoped>\n",
       "    .dataframe tbody tr th:only-of-type {\n",
       "        vertical-align: middle;\n",
       "    }\n",
       "\n",
       "    .dataframe tbody tr th {\n",
       "        vertical-align: top;\n",
       "    }\n",
       "\n",
       "    .dataframe thead th {\n",
       "        text-align: right;\n",
       "    }\n",
       "</style>\n",
       "<table border=\"1\" class=\"dataframe\">\n",
       "  <thead>\n",
       "    <tr style=\"text-align: right;\">\n",
       "      <th></th>\n",
       "      <th>book_id</th>\n",
       "      <th>author_id</th>\n",
       "      <th>title</th>\n",
       "      <th>num_pages</th>\n",
       "      <th>publication_date</th>\n",
       "      <th>publisher_id</th>\n",
       "    </tr>\n",
       "  </thead>\n",
       "  <tbody>\n",
       "    <tr>\n",
       "      <th>0</th>\n",
       "      <td>1</td>\n",
       "      <td>546</td>\n",
       "      <td>'Salem's Lot</td>\n",
       "      <td>594</td>\n",
       "      <td>2005-11-01</td>\n",
       "      <td>93</td>\n",
       "    </tr>\n",
       "    <tr>\n",
       "      <th>1</th>\n",
       "      <td>2</td>\n",
       "      <td>465</td>\n",
       "      <td>1 000 Places to See Before You Die</td>\n",
       "      <td>992</td>\n",
       "      <td>2003-05-22</td>\n",
       "      <td>336</td>\n",
       "    </tr>\n",
       "    <tr>\n",
       "      <th>2</th>\n",
       "      <td>3</td>\n",
       "      <td>407</td>\n",
       "      <td>13 Little Blue Envelopes (Little Blue Envelope...</td>\n",
       "      <td>322</td>\n",
       "      <td>2010-12-21</td>\n",
       "      <td>135</td>\n",
       "    </tr>\n",
       "    <tr>\n",
       "      <th>3</th>\n",
       "      <td>4</td>\n",
       "      <td>82</td>\n",
       "      <td>1491: New Revelations of the Americas Before C...</td>\n",
       "      <td>541</td>\n",
       "      <td>2006-10-10</td>\n",
       "      <td>309</td>\n",
       "    </tr>\n",
       "    <tr>\n",
       "      <th>4</th>\n",
       "      <td>5</td>\n",
       "      <td>125</td>\n",
       "      <td>1776</td>\n",
       "      <td>386</td>\n",
       "      <td>2006-07-04</td>\n",
       "      <td>268</td>\n",
       "    </tr>\n",
       "  </tbody>\n",
       "</table>\n",
       "</div>"
      ],
      "text/plain": [
       "   book_id  author_id                                              title  \\\n",
       "0        1        546                                       'Salem's Lot   \n",
       "1        2        465                 1 000 Places to See Before You Die   \n",
       "2        3        407  13 Little Blue Envelopes (Little Blue Envelope...   \n",
       "3        4         82  1491: New Revelations of the Americas Before C...   \n",
       "4        5        125                                               1776   \n",
       "\n",
       "   num_pages publication_date  publisher_id  \n",
       "0        594       2005-11-01            93  \n",
       "1        992       2003-05-22           336  \n",
       "2        322       2010-12-21           135  \n",
       "3        541       2006-10-10           309  \n",
       "4        386       2006-07-04           268  "
      ]
     },
     "execution_count": 4,
     "metadata": {},
     "output_type": "execute_result"
    }
   ],
   "source": [
    "query = '''SELECT * FROM books LIMIT 5'''\n",
    "con=engine.connect()\n",
    "pd.io.sql.read_sql(sql=text(query), con = con)"
   ]
  },
  {
   "cell_type": "code",
   "execution_count": 5,
   "metadata": {},
   "outputs": [
    {
     "data": {
      "text/html": [
       "<div>\n",
       "<style scoped>\n",
       "    .dataframe tbody tr th:only-of-type {\n",
       "        vertical-align: middle;\n",
       "    }\n",
       "\n",
       "    .dataframe tbody tr th {\n",
       "        vertical-align: top;\n",
       "    }\n",
       "\n",
       "    .dataframe thead th {\n",
       "        text-align: right;\n",
       "    }\n",
       "</style>\n",
       "<table border=\"1\" class=\"dataframe\">\n",
       "  <thead>\n",
       "    <tr style=\"text-align: right;\">\n",
       "      <th></th>\n",
       "      <th>author_id</th>\n",
       "      <th>author</th>\n",
       "    </tr>\n",
       "  </thead>\n",
       "  <tbody>\n",
       "    <tr>\n",
       "      <th>0</th>\n",
       "      <td>1</td>\n",
       "      <td>A.S. Byatt</td>\n",
       "    </tr>\n",
       "    <tr>\n",
       "      <th>1</th>\n",
       "      <td>2</td>\n",
       "      <td>Aesop/Laura Harris/Laura Gibbs</td>\n",
       "    </tr>\n",
       "    <tr>\n",
       "      <th>2</th>\n",
       "      <td>3</td>\n",
       "      <td>Agatha Christie</td>\n",
       "    </tr>\n",
       "    <tr>\n",
       "      <th>3</th>\n",
       "      <td>4</td>\n",
       "      <td>Alan Brennert</td>\n",
       "    </tr>\n",
       "    <tr>\n",
       "      <th>4</th>\n",
       "      <td>5</td>\n",
       "      <td>Alan Moore/David   Lloyd</td>\n",
       "    </tr>\n",
       "  </tbody>\n",
       "</table>\n",
       "</div>"
      ],
      "text/plain": [
       "   author_id                          author\n",
       "0          1                      A.S. Byatt\n",
       "1          2  Aesop/Laura Harris/Laura Gibbs\n",
       "2          3                 Agatha Christie\n",
       "3          4                   Alan Brennert\n",
       "4          5        Alan Moore/David   Lloyd"
      ]
     },
     "execution_count": 5,
     "metadata": {},
     "output_type": "execute_result"
    }
   ],
   "source": [
    "query = '''SELECT * FROM authors LIMIT 5'''\n",
    "con=engine.connect()\n",
    "pd.io.sql.read_sql(sql=text(query), con = con)"
   ]
  },
  {
   "cell_type": "code",
   "execution_count": 6,
   "metadata": {},
   "outputs": [
    {
     "data": {
      "text/html": [
       "<div>\n",
       "<style scoped>\n",
       "    .dataframe tbody tr th:only-of-type {\n",
       "        vertical-align: middle;\n",
       "    }\n",
       "\n",
       "    .dataframe tbody tr th {\n",
       "        vertical-align: top;\n",
       "    }\n",
       "\n",
       "    .dataframe thead th {\n",
       "        text-align: right;\n",
       "    }\n",
       "</style>\n",
       "<table border=\"1\" class=\"dataframe\">\n",
       "  <thead>\n",
       "    <tr style=\"text-align: right;\">\n",
       "      <th></th>\n",
       "      <th>rating_id</th>\n",
       "      <th>book_id</th>\n",
       "      <th>username</th>\n",
       "      <th>rating</th>\n",
       "    </tr>\n",
       "  </thead>\n",
       "  <tbody>\n",
       "    <tr>\n",
       "      <th>0</th>\n",
       "      <td>1</td>\n",
       "      <td>1</td>\n",
       "      <td>ryanfranco</td>\n",
       "      <td>4</td>\n",
       "    </tr>\n",
       "    <tr>\n",
       "      <th>1</th>\n",
       "      <td>2</td>\n",
       "      <td>1</td>\n",
       "      <td>grantpatricia</td>\n",
       "      <td>2</td>\n",
       "    </tr>\n",
       "    <tr>\n",
       "      <th>2</th>\n",
       "      <td>3</td>\n",
       "      <td>1</td>\n",
       "      <td>brandtandrea</td>\n",
       "      <td>5</td>\n",
       "    </tr>\n",
       "    <tr>\n",
       "      <th>3</th>\n",
       "      <td>4</td>\n",
       "      <td>2</td>\n",
       "      <td>lorichen</td>\n",
       "      <td>3</td>\n",
       "    </tr>\n",
       "    <tr>\n",
       "      <th>4</th>\n",
       "      <td>5</td>\n",
       "      <td>2</td>\n",
       "      <td>mariokeller</td>\n",
       "      <td>2</td>\n",
       "    </tr>\n",
       "  </tbody>\n",
       "</table>\n",
       "</div>"
      ],
      "text/plain": [
       "   rating_id  book_id       username  rating\n",
       "0          1        1     ryanfranco       4\n",
       "1          2        1  grantpatricia       2\n",
       "2          3        1   brandtandrea       5\n",
       "3          4        2       lorichen       3\n",
       "4          5        2    mariokeller       2"
      ]
     },
     "execution_count": 6,
     "metadata": {},
     "output_type": "execute_result"
    }
   ],
   "source": [
    "query = '''SELECT * FROM ratings LIMIT 5'''\n",
    "con=engine.connect()\n",
    "pd.io.sql.read_sql(sql=text(query), con = con)"
   ]
  },
  {
   "cell_type": "code",
   "execution_count": 7,
   "metadata": {},
   "outputs": [
    {
     "data": {
      "text/html": [
       "<div>\n",
       "<style scoped>\n",
       "    .dataframe tbody tr th:only-of-type {\n",
       "        vertical-align: middle;\n",
       "    }\n",
       "\n",
       "    .dataframe tbody tr th {\n",
       "        vertical-align: top;\n",
       "    }\n",
       "\n",
       "    .dataframe thead th {\n",
       "        text-align: right;\n",
       "    }\n",
       "</style>\n",
       "<table border=\"1\" class=\"dataframe\">\n",
       "  <thead>\n",
       "    <tr style=\"text-align: right;\">\n",
       "      <th></th>\n",
       "      <th>review_id</th>\n",
       "      <th>book_id</th>\n",
       "      <th>username</th>\n",
       "      <th>text</th>\n",
       "    </tr>\n",
       "  </thead>\n",
       "  <tbody>\n",
       "    <tr>\n",
       "      <th>0</th>\n",
       "      <td>1</td>\n",
       "      <td>1</td>\n",
       "      <td>brandtandrea</td>\n",
       "      <td>Mention society tell send professor analysis. ...</td>\n",
       "    </tr>\n",
       "    <tr>\n",
       "      <th>1</th>\n",
       "      <td>2</td>\n",
       "      <td>1</td>\n",
       "      <td>ryanfranco</td>\n",
       "      <td>Foot glass pretty audience hit themselves. Amo...</td>\n",
       "    </tr>\n",
       "    <tr>\n",
       "      <th>2</th>\n",
       "      <td>3</td>\n",
       "      <td>2</td>\n",
       "      <td>lorichen</td>\n",
       "      <td>Listen treat keep worry. Miss husband tax but ...</td>\n",
       "    </tr>\n",
       "    <tr>\n",
       "      <th>3</th>\n",
       "      <td>4</td>\n",
       "      <td>3</td>\n",
       "      <td>johnsonamanda</td>\n",
       "      <td>Finally month interesting blue could nature cu...</td>\n",
       "    </tr>\n",
       "    <tr>\n",
       "      <th>4</th>\n",
       "      <td>5</td>\n",
       "      <td>3</td>\n",
       "      <td>scotttamara</td>\n",
       "      <td>Nation purpose heavy give wait song will. List...</td>\n",
       "    </tr>\n",
       "  </tbody>\n",
       "</table>\n",
       "</div>"
      ],
      "text/plain": [
       "   review_id  book_id       username  \\\n",
       "0          1        1   brandtandrea   \n",
       "1          2        1     ryanfranco   \n",
       "2          3        2       lorichen   \n",
       "3          4        3  johnsonamanda   \n",
       "4          5        3    scotttamara   \n",
       "\n",
       "                                                text  \n",
       "0  Mention society tell send professor analysis. ...  \n",
       "1  Foot glass pretty audience hit themselves. Amo...  \n",
       "2  Listen treat keep worry. Miss husband tax but ...  \n",
       "3  Finally month interesting blue could nature cu...  \n",
       "4  Nation purpose heavy give wait song will. List...  "
      ]
     },
     "execution_count": 7,
     "metadata": {},
     "output_type": "execute_result"
    }
   ],
   "source": [
    "query = '''SELECT * FROM reviews LIMIT 5'''\n",
    "con=engine.connect()\n",
    "pd.io.sql.read_sql(sql=text(query), con = con)"
   ]
  },
  {
   "cell_type": "code",
   "execution_count": 8,
   "metadata": {},
   "outputs": [
    {
     "data": {
      "text/html": [
       "<div>\n",
       "<style scoped>\n",
       "    .dataframe tbody tr th:only-of-type {\n",
       "        vertical-align: middle;\n",
       "    }\n",
       "\n",
       "    .dataframe tbody tr th {\n",
       "        vertical-align: top;\n",
       "    }\n",
       "\n",
       "    .dataframe thead th {\n",
       "        text-align: right;\n",
       "    }\n",
       "</style>\n",
       "<table border=\"1\" class=\"dataframe\">\n",
       "  <thead>\n",
       "    <tr style=\"text-align: right;\">\n",
       "      <th></th>\n",
       "      <th>publisher_id</th>\n",
       "      <th>publisher</th>\n",
       "    </tr>\n",
       "  </thead>\n",
       "  <tbody>\n",
       "    <tr>\n",
       "      <th>0</th>\n",
       "      <td>1</td>\n",
       "      <td>Ace</td>\n",
       "    </tr>\n",
       "    <tr>\n",
       "      <th>1</th>\n",
       "      <td>2</td>\n",
       "      <td>Ace Book</td>\n",
       "    </tr>\n",
       "    <tr>\n",
       "      <th>2</th>\n",
       "      <td>3</td>\n",
       "      <td>Ace Books</td>\n",
       "    </tr>\n",
       "    <tr>\n",
       "      <th>3</th>\n",
       "      <td>4</td>\n",
       "      <td>Ace Hardcover</td>\n",
       "    </tr>\n",
       "    <tr>\n",
       "      <th>4</th>\n",
       "      <td>5</td>\n",
       "      <td>Addison Wesley Publishing Company</td>\n",
       "    </tr>\n",
       "  </tbody>\n",
       "</table>\n",
       "</div>"
      ],
      "text/plain": [
       "   publisher_id                          publisher\n",
       "0             1                                Ace\n",
       "1             2                           Ace Book\n",
       "2             3                          Ace Books\n",
       "3             4                      Ace Hardcover\n",
       "4             5  Addison Wesley Publishing Company"
      ]
     },
     "execution_count": 8,
     "metadata": {},
     "output_type": "execute_result"
    }
   ],
   "source": [
    "query = '''SELECT * FROM publishers LIMIT 5'''\n",
    "con=engine.connect()\n",
    "pd.io.sql.read_sql(sql=text(query), con = con)"
   ]
  },
  {
   "cell_type": "markdown",
   "metadata": {},
   "source": [
    "***ЗАДАНИЯ***\n",
    "\n",
    "1.Посчитайте, сколько книг вышло после 1 января 2000 года;"
   ]
  },
  {
   "cell_type": "code",
   "execution_count": 9,
   "metadata": {},
   "outputs": [
    {
     "data": {
      "text/html": [
       "<div>\n",
       "<style scoped>\n",
       "    .dataframe tbody tr th:only-of-type {\n",
       "        vertical-align: middle;\n",
       "    }\n",
       "\n",
       "    .dataframe tbody tr th {\n",
       "        vertical-align: top;\n",
       "    }\n",
       "\n",
       "    .dataframe thead th {\n",
       "        text-align: right;\n",
       "    }\n",
       "</style>\n",
       "<table border=\"1\" class=\"dataframe\">\n",
       "  <thead>\n",
       "    <tr style=\"text-align: right;\">\n",
       "      <th></th>\n",
       "      <th>count</th>\n",
       "    </tr>\n",
       "  </thead>\n",
       "  <tbody>\n",
       "    <tr>\n",
       "      <th>0</th>\n",
       "      <td>819</td>\n",
       "    </tr>\n",
       "  </tbody>\n",
       "</table>\n",
       "</div>"
      ],
      "text/plain": [
       "   count\n",
       "0    819"
      ]
     },
     "execution_count": 9,
     "metadata": {},
     "output_type": "execute_result"
    }
   ],
   "source": [
    "query = '''SELECT COUNT (DISTINCT book_id)\n",
    "FROM books\n",
    "WHERE publication_date > '2000-01-01' '''\n",
    "con=engine.connect()\n",
    "pd.io.sql.read_sql(sql=text(query), con = con)"
   ]
  },
  {
   "cell_type": "markdown",
   "metadata": {},
   "source": [
    "***ВЫВОД:*** После 1 января 2000 года вышло 819 книг."
   ]
  },
  {
   "cell_type": "markdown",
   "metadata": {},
   "source": [
    "2.Для каждой книги посчитайте количество обзоров и среднюю оценку;"
   ]
  },
  {
   "cell_type": "code",
   "execution_count": 10,
   "metadata": {},
   "outputs": [
    {
     "data": {
      "text/html": [
       "<div>\n",
       "<style scoped>\n",
       "    .dataframe tbody tr th:only-of-type {\n",
       "        vertical-align: middle;\n",
       "    }\n",
       "\n",
       "    .dataframe tbody tr th {\n",
       "        vertical-align: top;\n",
       "    }\n",
       "\n",
       "    .dataframe thead th {\n",
       "        text-align: right;\n",
       "    }\n",
       "</style>\n",
       "<table border=\"1\" class=\"dataframe\">\n",
       "  <thead>\n",
       "    <tr style=\"text-align: right;\">\n",
       "      <th></th>\n",
       "      <th>book_id</th>\n",
       "      <th>title</th>\n",
       "      <th>rev_cnt</th>\n",
       "      <th>avg_rat</th>\n",
       "    </tr>\n",
       "  </thead>\n",
       "  <tbody>\n",
       "    <tr>\n",
       "      <th>0</th>\n",
       "      <td>948</td>\n",
       "      <td>Twilight (Twilight  #1)</td>\n",
       "      <td>7</td>\n",
       "      <td>3.66</td>\n",
       "    </tr>\n",
       "    <tr>\n",
       "      <th>1</th>\n",
       "      <td>302</td>\n",
       "      <td>Harry Potter and the Prisoner of Azkaban (Harr...</td>\n",
       "      <td>6</td>\n",
       "      <td>4.41</td>\n",
       "    </tr>\n",
       "    <tr>\n",
       "      <th>2</th>\n",
       "      <td>299</td>\n",
       "      <td>Harry Potter and the Chamber of Secrets (Harry...</td>\n",
       "      <td>6</td>\n",
       "      <td>4.29</td>\n",
       "    </tr>\n",
       "    <tr>\n",
       "      <th>3</th>\n",
       "      <td>656</td>\n",
       "      <td>The Book Thief</td>\n",
       "      <td>6</td>\n",
       "      <td>4.26</td>\n",
       "    </tr>\n",
       "    <tr>\n",
       "      <th>4</th>\n",
       "      <td>734</td>\n",
       "      <td>The Glass Castle</td>\n",
       "      <td>6</td>\n",
       "      <td>4.21</td>\n",
       "    </tr>\n",
       "    <tr>\n",
       "      <th>...</th>\n",
       "      <td>...</td>\n",
       "      <td>...</td>\n",
       "      <td>...</td>\n",
       "      <td>...</td>\n",
       "    </tr>\n",
       "    <tr>\n",
       "      <th>995</th>\n",
       "      <td>191</td>\n",
       "      <td>Disney's Beauty and the Beast (A Little Golden...</td>\n",
       "      <td>0</td>\n",
       "      <td>4.00</td>\n",
       "    </tr>\n",
       "    <tr>\n",
       "      <th>996</th>\n",
       "      <td>387</td>\n",
       "      <td>Leonardo's Notebooks</td>\n",
       "      <td>0</td>\n",
       "      <td>4.00</td>\n",
       "    </tr>\n",
       "    <tr>\n",
       "      <th>997</th>\n",
       "      <td>221</td>\n",
       "      <td>Essential Tales and Poems</td>\n",
       "      <td>0</td>\n",
       "      <td>4.00</td>\n",
       "    </tr>\n",
       "    <tr>\n",
       "      <th>998</th>\n",
       "      <td>83</td>\n",
       "      <td>Anne Rice's The Vampire Lestat: A Graphic Novel</td>\n",
       "      <td>0</td>\n",
       "      <td>3.67</td>\n",
       "    </tr>\n",
       "    <tr>\n",
       "      <th>999</th>\n",
       "      <td>808</td>\n",
       "      <td>The Natural Way to Draw</td>\n",
       "      <td>0</td>\n",
       "      <td>3.00</td>\n",
       "    </tr>\n",
       "  </tbody>\n",
       "</table>\n",
       "<p>1000 rows × 4 columns</p>\n",
       "</div>"
      ],
      "text/plain": [
       "     book_id                                              title  rev_cnt  \\\n",
       "0        948                            Twilight (Twilight  #1)        7   \n",
       "1        302  Harry Potter and the Prisoner of Azkaban (Harr...        6   \n",
       "2        299  Harry Potter and the Chamber of Secrets (Harry...        6   \n",
       "3        656                                     The Book Thief        6   \n",
       "4        734                                   The Glass Castle        6   \n",
       "..       ...                                                ...      ...   \n",
       "995      191  Disney's Beauty and the Beast (A Little Golden...        0   \n",
       "996      387                               Leonardo's Notebooks        0   \n",
       "997      221                          Essential Tales and Poems        0   \n",
       "998       83    Anne Rice's The Vampire Lestat: A Graphic Novel        0   \n",
       "999      808                            The Natural Way to Draw        0   \n",
       "\n",
       "     avg_rat  \n",
       "0       3.66  \n",
       "1       4.41  \n",
       "2       4.29  \n",
       "3       4.26  \n",
       "4       4.21  \n",
       "..       ...  \n",
       "995     4.00  \n",
       "996     4.00  \n",
       "997     4.00  \n",
       "998     3.67  \n",
       "999     3.00  \n",
       "\n",
       "[1000 rows x 4 columns]"
      ]
     },
     "execution_count": 10,
     "metadata": {},
     "output_type": "execute_result"
    }
   ],
   "source": [
    "query = '''WITH \n",
    "\n",
    "reviews_count AS\n",
    "(SELECT b.book_id, b.title, COUNT (rw.review_id) as rev_cnt\n",
    "FROM books AS b\n",
    "LEFT JOIN reviews AS rw ON b.book_id = rw.book_id\n",
    "GROUP BY b.book_id),\n",
    "\n",
    "avg_rat AS \n",
    "(SELECT b.book_id, ROUND (AVG (r.rating),2) as avg_rat\n",
    "FROM books AS b\n",
    "LEFT JOIN ratings AS r ON b.book_id = r.book_id\n",
    "GROUP BY b.book_id)\n",
    "\n",
    "SELECT cr.book_id, cr.title, cr.rev_cnt, av.avg_rat\n",
    "FROM reviews_count AS cr\n",
    "LEFT JOIN avg_rat AS av ON cr.book_id = av.book_id\n",
    "ORDER BY rev_cnt DESC, avg_rat DESC '''\n",
    "con=engine.connect()\n",
    "pd.io.sql.read_sql(sql=text(query), con = con)"
   ]
  },
  {
   "cell_type": "markdown",
   "metadata": {},
   "source": [
    "***ВЫВОД:*** Есть более популярные и менее популярные книги, стоит отменить, не смотря на большее количетсво обзоров рейтинг сохраняется в пределах 3,6 - 4 как и у книг без обзоров."
   ]
  },
  {
   "cell_type": "markdown",
   "metadata": {},
   "source": [
    "3.Определите издательство, которое выпустило наибольшее число книг толще 50 страниц — так вы исключите из анализа брошюры;"
   ]
  },
  {
   "cell_type": "code",
   "execution_count": 11,
   "metadata": {},
   "outputs": [
    {
     "data": {
      "text/html": [
       "<div>\n",
       "<style scoped>\n",
       "    .dataframe tbody tr th:only-of-type {\n",
       "        vertical-align: middle;\n",
       "    }\n",
       "\n",
       "    .dataframe tbody tr th {\n",
       "        vertical-align: top;\n",
       "    }\n",
       "\n",
       "    .dataframe thead th {\n",
       "        text-align: right;\n",
       "    }\n",
       "</style>\n",
       "<table border=\"1\" class=\"dataframe\">\n",
       "  <thead>\n",
       "    <tr style=\"text-align: right;\">\n",
       "      <th></th>\n",
       "      <th>publisher</th>\n",
       "      <th>cnt</th>\n",
       "    </tr>\n",
       "  </thead>\n",
       "  <tbody>\n",
       "    <tr>\n",
       "      <th>0</th>\n",
       "      <td>Penguin Books</td>\n",
       "      <td>42</td>\n",
       "    </tr>\n",
       "  </tbody>\n",
       "</table>\n",
       "</div>"
      ],
      "text/plain": [
       "       publisher  cnt\n",
       "0  Penguin Books   42"
      ]
     },
     "execution_count": 11,
     "metadata": {},
     "output_type": "execute_result"
    }
   ],
   "source": [
    "query = '''WITH \n",
    "not_br AS \n",
    "(SELECT (COUNT (b.book_id)) AS cnt, b.publisher_id\n",
    "FROM books AS b\n",
    "WHERE num_pages > 50\n",
    "GROUP BY b.publisher_id\n",
    "ORDER BY cnt DESC\n",
    "LIMIT 1)\n",
    ",\n",
    "\n",
    "publisher AS \n",
    "(SELECT p.publisher_id, p.publisher\n",
    "FROM publishers AS p)\n",
    "\n",
    "SELECT pb.publisher, cnt\n",
    "FROM not_br AS nb\n",
    "LEFT JOIN publisher AS pb ON nb.publisher_id = pb.publisher_id\n",
    "'''\n",
    "\n",
    "con=engine.connect()\n",
    "pd.io.sql.read_sql(sql=text(query), con = con)"
   ]
  },
  {
   "cell_type": "markdown",
   "metadata": {},
   "source": [
    "***ВЫВОД:*** Изадтельство  Penguin Books выпустило наибольшее количество книг (42) толще 50 страниц."
   ]
  },
  {
   "cell_type": "markdown",
   "metadata": {},
   "source": [
    "4.Определите автора с самой высокой средней оценкой книг — учитывайте только книги с 50 и более оценками;"
   ]
  },
  {
   "cell_type": "code",
   "execution_count": 12,
   "metadata": {},
   "outputs": [
    {
     "data": {
      "text/html": [
       "<div>\n",
       "<style scoped>\n",
       "    .dataframe tbody tr th:only-of-type {\n",
       "        vertical-align: middle;\n",
       "    }\n",
       "\n",
       "    .dataframe tbody tr th {\n",
       "        vertical-align: top;\n",
       "    }\n",
       "\n",
       "    .dataframe thead th {\n",
       "        text-align: right;\n",
       "    }\n",
       "</style>\n",
       "<table border=\"1\" class=\"dataframe\">\n",
       "  <thead>\n",
       "    <tr style=\"text-align: right;\">\n",
       "      <th></th>\n",
       "      <th>author</th>\n",
       "      <th>round</th>\n",
       "    </tr>\n",
       "  </thead>\n",
       "  <tbody>\n",
       "    <tr>\n",
       "      <th>0</th>\n",
       "      <td>J.K. Rowling/Mary GrandPré</td>\n",
       "      <td>4.285</td>\n",
       "    </tr>\n",
       "  </tbody>\n",
       "</table>\n",
       "</div>"
      ],
      "text/plain": [
       "                       author  round\n",
       "0  J.K. Rowling/Mary GrandPré  4.285"
      ]
     },
     "execution_count": 12,
     "metadata": {},
     "output_type": "execute_result"
    }
   ],
   "source": [
    "query ='''WITH \n",
    "\n",
    "rating_b AS\n",
    "(SELECT COUNT (rating_id) AS cnt,book_id, ROUND (AVG (rating), 2) AS z\n",
    "FROM ratings\n",
    "GROUP BY book_id\n",
    "HAVING COUNT (rating_id) >=50\n",
    "ORDER BY AVG (rating) DESC),\n",
    "\n",
    "books_a AS \n",
    "(SELECT book_id, author_id, title\n",
    "FROM books),\n",
    "\n",
    "author_a AS \n",
    "(SELECT author_id, author\n",
    "FROM authors)\n",
    "\n",
    "SELECT  a.author, ROUND (AVG (rb.z),3)\n",
    "FROM rating_b AS rb\n",
    "LEFT JOIN books AS b ON rb.book_id = b.book_id\n",
    "LEFT JOIN author_a AS a ON b.author_id = a.author_id\n",
    "GROUP BY a.author\n",
    "LIMIT 1'''\n",
    "con=engine.connect()\n",
    "pd.io.sql.read_sql(sql=text(query), con = con)"
   ]
  },
  {
   "cell_type": "markdown",
   "metadata": {},
   "source": [
    "***ВЫВОД:*** J.K. Rowling/Mary GrandPré является авторами  с наибольшей средней оценкой среди книг с 50 и более оценками."
   ]
  },
  {
   "cell_type": "markdown",
   "metadata": {},
   "source": [
    "5.Посчитайте среднее количество обзоров от пользователей, которые поставили больше 48 оценок."
   ]
  },
  {
   "cell_type": "code",
   "execution_count": 13,
   "metadata": {},
   "outputs": [
    {
     "data": {
      "text/html": [
       "<div>\n",
       "<style scoped>\n",
       "    .dataframe tbody tr th:only-of-type {\n",
       "        vertical-align: middle;\n",
       "    }\n",
       "\n",
       "    .dataframe tbody tr th {\n",
       "        vertical-align: top;\n",
       "    }\n",
       "\n",
       "    .dataframe thead th {\n",
       "        text-align: right;\n",
       "    }\n",
       "</style>\n",
       "<table border=\"1\" class=\"dataframe\">\n",
       "  <thead>\n",
       "    <tr style=\"text-align: right;\">\n",
       "      <th></th>\n",
       "      <th>avg</th>\n",
       "    </tr>\n",
       "  </thead>\n",
       "  <tbody>\n",
       "    <tr>\n",
       "      <th>0</th>\n",
       "      <td>24.0</td>\n",
       "    </tr>\n",
       "  </tbody>\n",
       "</table>\n",
       "</div>"
      ],
      "text/plain": [
       "    avg\n",
       "0  24.0"
      ]
     },
     "execution_count": 13,
     "metadata": {},
     "output_type": "execute_result"
    }
   ],
   "source": [
    "query ='''WITH\n",
    "\n",
    "users_rat AS (SELECT COUNT (rating_id), username\n",
    "FROM ratings\n",
    "GROUP BY  username\n",
    "HAVING COUNT (rating_id) > 48),\n",
    "\n",
    "users_rev AS (SELECT COUNT(review_id) AS cnt, username\n",
    "FROM reviews\n",
    "GROUP BY username)\n",
    "\n",
    "SELECT  AVG(ure.cnt)\n",
    "FROM  users_rat AS ura\n",
    "LEFT JOIN users_rev AS ure ON ura.username = ure.username'''\n",
    "\n",
    "con=engine.connect()\n",
    "pd.io.sql.read_sql(sql=text(query), con = con)"
   ]
  },
  {
   "cell_type": "markdown",
   "metadata": {},
   "source": [
    "***ВЫВОД:*** Среднее количество обзоров 24 у пользователей, которые поставили более 48 оценок."
   ]
  },
  {
   "cell_type": "markdown",
   "metadata": {},
   "source": [
    "***ФИНАЛЬНЫЙ ВЫВОД: \n",
    "После проведенного исследования базы данных, можно сделать вывод о предпочтениях пользователей, более популярными книгами являются Twilight (Сумерки) и  серия книг про Harry Potter, но не смотря на большое количество обзоров рейтинг сохраняется в пределах 3,6 - 4, как и у книг без обзоров. Наиболее популярным автором является автор Harry Potter- J.K. Rowling/Mary GrandPré. Издательство, которое выпустило наибольшее количество книг (42) толще 50 страниц Penguin Books.  Среднее количество обзоров пользователей составило 24 обзора (у пользователей с оценками  48+ ). Указанную информацию можно использовать для нового продукта (книжный сервис), например, размещать наиболее популярных авторов и их издания.***"
   ]
  }
 ],
 "metadata": {
  "ExecuteTimeLog": [
   {
    "duration": 181,
    "start_time": "2023-07-11T08:26:11.442Z"
   },
   {
    "duration": 29242,
    "start_time": "2023-07-11T08:44:53.453Z"
   },
   {
    "duration": 3,
    "start_time": "2023-07-11T08:45:28.928Z"
   },
   {
    "duration": 6,
    "start_time": "2023-07-11T08:46:03.240Z"
   },
   {
    "duration": 12,
    "start_time": "2023-07-11T08:46:03.253Z"
   },
   {
    "duration": 58,
    "start_time": "2023-07-11T08:46:03.267Z"
   },
   {
    "duration": 384,
    "start_time": "2023-07-11T08:46:09.537Z"
   },
   {
    "duration": 253,
    "start_time": "2023-07-11T08:46:55.043Z"
   },
   {
    "duration": 241,
    "start_time": "2023-07-11T08:47:09.630Z"
   },
   {
    "duration": 55,
    "start_time": "2023-07-11T08:47:22.637Z"
   },
   {
    "duration": 286,
    "start_time": "2023-07-11T08:47:49.457Z"
   },
   {
    "duration": 56,
    "start_time": "2023-07-11T08:48:06.226Z"
   },
   {
    "duration": 265,
    "start_time": "2023-07-11T08:48:17.027Z"
   },
   {
    "duration": 3,
    "start_time": "2023-07-11T08:50:44.723Z"
   },
   {
    "duration": 8,
    "start_time": "2023-07-11T08:50:47.923Z"
   },
   {
    "duration": 4,
    "start_time": "2023-07-11T08:54:01.223Z"
   },
   {
    "duration": 8,
    "start_time": "2023-07-11T08:54:05.529Z"
   },
   {
    "duration": 263,
    "start_time": "2023-07-11T09:03:42.517Z"
   },
   {
    "duration": 106,
    "start_time": "2023-07-11T09:07:23.975Z"
   },
   {
    "duration": 76,
    "start_time": "2023-07-11T09:08:30.333Z"
   },
   {
    "duration": 91,
    "start_time": "2023-07-11T09:10:50.881Z"
   },
   {
    "duration": 235,
    "start_time": "2023-07-11T09:11:26.527Z"
   },
   {
    "duration": 279,
    "start_time": "2023-07-11T09:11:33.199Z"
   },
   {
    "duration": 106,
    "start_time": "2023-07-11T09:11:39.447Z"
   },
   {
    "duration": 251,
    "start_time": "2023-07-11T09:11:53.396Z"
   },
   {
    "duration": 76,
    "start_time": "2023-07-11T09:12:02.160Z"
   },
   {
    "duration": 205,
    "start_time": "2023-07-11T09:12:41.750Z"
   },
   {
    "duration": 44,
    "start_time": "2023-07-11T09:12:49.634Z"
   },
   {
    "duration": 66,
    "start_time": "2023-07-11T09:13:49.515Z"
   },
   {
    "duration": 91,
    "start_time": "2023-07-11T09:18:28.892Z"
   },
   {
    "duration": 105,
    "start_time": "2023-07-11T09:19:05.263Z"
   },
   {
    "duration": 58,
    "start_time": "2023-07-11T09:19:10.917Z"
   },
   {
    "duration": 81,
    "start_time": "2023-07-11T09:22:11.561Z"
   },
   {
    "duration": 108,
    "start_time": "2023-07-11T09:24:28.037Z"
   },
   {
    "duration": 96,
    "start_time": "2023-07-11T09:24:39.383Z"
   },
   {
    "duration": 85,
    "start_time": "2023-07-11T09:27:44.149Z"
   },
   {
    "duration": 89,
    "start_time": "2023-07-11T09:28:39.162Z"
   },
   {
    "duration": 89,
    "start_time": "2023-07-11T09:28:48.367Z"
   },
   {
    "duration": 100,
    "start_time": "2023-07-11T09:29:06.217Z"
   },
   {
    "duration": 109,
    "start_time": "2023-07-11T09:30:48.048Z"
   },
   {
    "duration": 111,
    "start_time": "2023-07-11T09:31:22.353Z"
   },
   {
    "duration": 105,
    "start_time": "2023-07-11T09:31:36.371Z"
   },
   {
    "duration": 96,
    "start_time": "2023-07-11T09:31:55.395Z"
   },
   {
    "duration": 112,
    "start_time": "2023-07-11T09:33:23.952Z"
   },
   {
    "duration": 118,
    "start_time": "2023-07-11T09:34:27.812Z"
   },
   {
    "duration": 115,
    "start_time": "2023-07-11T09:35:00.524Z"
   },
   {
    "duration": 118,
    "start_time": "2023-07-11T09:35:14.404Z"
   },
   {
    "duration": 151,
    "start_time": "2023-07-11T09:35:31.716Z"
   },
   {
    "duration": 107,
    "start_time": "2023-07-11T09:35:42.052Z"
   },
   {
    "duration": 117,
    "start_time": "2023-07-11T09:36:14.156Z"
   },
   {
    "duration": 106,
    "start_time": "2023-07-11T09:39:50.763Z"
   },
   {
    "duration": 80,
    "start_time": "2023-07-11T09:40:05.155Z"
   },
   {
    "duration": 93,
    "start_time": "2023-07-11T09:40:28.520Z"
   },
   {
    "duration": 89,
    "start_time": "2023-07-11T09:41:05.727Z"
   },
   {
    "duration": 108,
    "start_time": "2023-07-11T09:41:49.971Z"
   },
   {
    "duration": 222,
    "start_time": "2023-07-11T09:43:35.394Z"
   },
   {
    "duration": 84,
    "start_time": "2023-07-11T09:43:53.335Z"
   },
   {
    "duration": 97,
    "start_time": "2023-07-11T09:44:03.152Z"
   },
   {
    "duration": 109,
    "start_time": "2023-07-11T09:44:53.068Z"
   },
   {
    "duration": 144,
    "start_time": "2023-07-11T09:53:39.570Z"
   },
   {
    "duration": 149,
    "start_time": "2023-07-11T10:03:11.138Z"
   },
   {
    "duration": 115,
    "start_time": "2023-07-11T10:03:34.662Z"
   },
   {
    "duration": 128,
    "start_time": "2023-07-11T10:04:21.639Z"
   },
   {
    "duration": 155,
    "start_time": "2023-07-11T10:07:51.430Z"
   },
   {
    "duration": 119,
    "start_time": "2023-07-11T10:10:52.110Z"
   },
   {
    "duration": 123,
    "start_time": "2023-07-11T10:30:32.670Z"
   },
   {
    "duration": 101,
    "start_time": "2023-07-11T10:31:02.866Z"
   },
   {
    "duration": 77,
    "start_time": "2023-07-11T10:31:08.418Z"
   },
   {
    "duration": 66,
    "start_time": "2023-07-11T10:31:14.331Z"
   },
   {
    "duration": 52,
    "start_time": "2023-07-11T10:31:36.543Z"
   },
   {
    "duration": 78,
    "start_time": "2023-07-11T10:31:55.414Z"
   },
   {
    "duration": 71,
    "start_time": "2023-07-11T10:32:25.026Z"
   },
   {
    "duration": 90,
    "start_time": "2023-07-11T10:33:17.459Z"
   },
   {
    "duration": 76,
    "start_time": "2023-07-11T10:33:47.622Z"
   },
   {
    "duration": 68,
    "start_time": "2023-07-11T10:34:50.827Z"
   },
   {
    "duration": 91,
    "start_time": "2023-07-11T10:36:49.391Z"
   },
   {
    "duration": 113,
    "start_time": "2023-07-11T10:38:18.859Z"
   },
   {
    "duration": 68,
    "start_time": "2023-07-11T10:38:34.395Z"
   },
   {
    "duration": 91,
    "start_time": "2023-07-11T10:39:01.266Z"
   },
   {
    "duration": 115,
    "start_time": "2023-07-11T10:39:28.065Z"
   },
   {
    "duration": 104,
    "start_time": "2023-07-11T10:49:34.717Z"
   },
   {
    "duration": 115,
    "start_time": "2023-07-11T10:50:01.830Z"
   },
   {
    "duration": 59,
    "start_time": "2023-07-11T10:50:16.730Z"
   },
   {
    "duration": 94,
    "start_time": "2023-07-11T10:55:00.488Z"
   },
   {
    "duration": 111,
    "start_time": "2023-07-11T10:55:18.182Z"
   },
   {
    "duration": 75,
    "start_time": "2023-07-11T10:57:28.750Z"
   },
   {
    "duration": 226,
    "start_time": "2023-07-11T10:57:35.232Z"
   },
   {
    "duration": 183,
    "start_time": "2023-07-11T10:58:04.295Z"
   },
   {
    "duration": 97,
    "start_time": "2023-07-11T10:58:19.291Z"
   },
   {
    "duration": 46,
    "start_time": "2023-07-11T10:58:40.242Z"
   },
   {
    "duration": 169,
    "start_time": "2023-07-11T11:02:13.190Z"
   },
   {
    "duration": 89,
    "start_time": "2023-07-11T11:02:35.395Z"
   },
   {
    "duration": 71,
    "start_time": "2023-07-11T11:03:34.452Z"
   },
   {
    "duration": 83,
    "start_time": "2023-07-11T11:03:39.595Z"
   },
   {
    "duration": 7,
    "start_time": "2023-07-11T11:33:11.624Z"
   },
   {
    "duration": 28,
    "start_time": "2023-07-11T11:33:11.632Z"
   },
   {
    "duration": 10,
    "start_time": "2023-07-11T11:33:11.661Z"
   },
   {
    "duration": 8,
    "start_time": "2023-07-11T11:33:11.673Z"
   },
   {
    "duration": 376,
    "start_time": "2023-07-11T11:33:11.682Z"
   },
   {
    "duration": 185,
    "start_time": "2023-07-11T11:33:12.059Z"
   },
   {
    "duration": 83,
    "start_time": "2023-07-11T11:33:12.250Z"
   },
   {
    "duration": 62,
    "start_time": "2023-07-11T11:33:12.334Z"
   },
   {
    "duration": 84,
    "start_time": "2023-07-11T11:33:12.397Z"
   },
   {
    "duration": 72,
    "start_time": "2023-07-11T11:33:12.484Z"
   },
   {
    "duration": 123,
    "start_time": "2023-07-11T11:33:12.558Z"
   },
   {
    "duration": 59,
    "start_time": "2023-07-11T11:33:12.682Z"
   },
   {
    "duration": 135,
    "start_time": "2023-07-11T11:33:12.743Z"
   },
   {
    "duration": 94,
    "start_time": "2023-07-11T11:33:15.590Z"
   },
   {
    "duration": 93,
    "start_time": "2023-07-11T11:33:30.787Z"
   },
   {
    "duration": 186,
    "start_time": "2023-07-11T11:33:46.390Z"
   },
   {
    "duration": 250,
    "start_time": "2023-07-11T11:35:19.829Z"
   },
   {
    "duration": 163,
    "start_time": "2023-07-11T11:35:45.623Z"
   },
   {
    "duration": 97,
    "start_time": "2023-07-11T11:35:50.946Z"
   },
   {
    "duration": 111,
    "start_time": "2023-07-11T11:36:29.558Z"
   },
   {
    "duration": 109,
    "start_time": "2023-07-11T11:36:42.589Z"
   },
   {
    "duration": 96,
    "start_time": "2023-07-11T11:36:48.917Z"
   },
   {
    "duration": 270,
    "start_time": "2023-07-11T11:37:13.755Z"
   },
   {
    "duration": 267,
    "start_time": "2023-07-11T11:40:04.698Z"
   },
   {
    "duration": 107,
    "start_time": "2023-07-11T11:49:51.083Z"
   },
   {
    "duration": 59,
    "start_time": "2023-07-11T11:50:36.934Z"
   },
   {
    "duration": 131,
    "start_time": "2023-07-11T11:52:24.122Z"
   },
   {
    "duration": 80,
    "start_time": "2023-07-11T11:52:45.715Z"
   },
   {
    "duration": 55,
    "start_time": "2023-07-11T11:53:14.654Z"
   },
   {
    "duration": 95,
    "start_time": "2023-07-11T11:53:31.074Z"
   },
   {
    "duration": 81,
    "start_time": "2023-07-11T11:55:08.311Z"
   },
   {
    "duration": 1271,
    "start_time": "2023-07-11T11:55:35.786Z"
   },
   {
    "duration": 2,
    "start_time": "2023-07-11T12:00:14.471Z"
   },
   {
    "duration": 110,
    "start_time": "2023-07-11T12:00:14.475Z"
   },
   {
    "duration": 56,
    "start_time": "2023-07-11T12:00:14.586Z"
   },
   {
    "duration": 338,
    "start_time": "2023-07-11T12:00:14.644Z"
   },
   {
    "duration": 184,
    "start_time": "2023-07-11T12:00:14.984Z"
   },
   {
    "duration": 94,
    "start_time": "2023-07-11T12:00:15.169Z"
   },
   {
    "duration": 87,
    "start_time": "2023-07-11T12:00:15.265Z"
   },
   {
    "duration": 91,
    "start_time": "2023-07-11T12:00:15.362Z"
   },
   {
    "duration": 87,
    "start_time": "2023-07-11T12:00:15.454Z"
   },
   {
    "duration": 115,
    "start_time": "2023-07-11T12:00:15.554Z"
   },
   {
    "duration": 88,
    "start_time": "2023-07-11T12:00:15.671Z"
   },
   {
    "duration": 97,
    "start_time": "2023-07-11T12:00:15.761Z"
   },
   {
    "duration": 78,
    "start_time": "2023-07-11T12:00:15.859Z"
   },
   {
    "duration": 575,
    "start_time": "2023-07-11T13:40:09.178Z"
   },
   {
    "duration": 3,
    "start_time": "2023-07-11T13:40:09.756Z"
   },
   {
    "duration": 11375,
    "start_time": "2023-07-11T13:40:09.761Z"
   },
   {
    "duration": 89,
    "start_time": "2023-07-11T13:40:21.138Z"
   },
   {
    "duration": 69,
    "start_time": "2023-07-11T13:40:21.229Z"
   },
   {
    "duration": 12,
    "start_time": "2023-07-11T13:40:21.300Z"
   },
   {
    "duration": 24,
    "start_time": "2023-07-11T13:40:21.316Z"
   },
   {
    "duration": 25,
    "start_time": "2023-07-11T13:40:21.342Z"
   },
   {
    "duration": 17,
    "start_time": "2023-07-11T13:40:21.369Z"
   },
   {
    "duration": 57,
    "start_time": "2023-07-11T13:40:21.388Z"
   },
   {
    "duration": 13,
    "start_time": "2023-07-11T13:40:21.448Z"
   },
   {
    "duration": 43,
    "start_time": "2023-07-11T13:40:21.462Z"
   },
   {
    "duration": 35,
    "start_time": "2023-07-11T13:40:21.507Z"
   },
   {
    "duration": 515,
    "start_time": "2023-07-11T14:19:53.006Z"
   },
   {
    "duration": 3,
    "start_time": "2023-07-11T14:19:53.524Z"
   },
   {
    "duration": 7032,
    "start_time": "2023-07-11T14:19:53.528Z"
   },
   {
    "duration": 75,
    "start_time": "2023-07-11T14:20:00.562Z"
   },
   {
    "duration": 75,
    "start_time": "2023-07-11T14:20:00.641Z"
   },
   {
    "duration": 15,
    "start_time": "2023-07-11T14:20:00.718Z"
   },
   {
    "duration": 52,
    "start_time": "2023-07-11T14:20:00.735Z"
   },
   {
    "duration": 42,
    "start_time": "2023-07-11T14:20:00.788Z"
   },
   {
    "duration": 34,
    "start_time": "2023-07-11T14:20:00.832Z"
   },
   {
    "duration": 59,
    "start_time": "2023-07-11T14:20:00.868Z"
   },
   {
    "duration": 48,
    "start_time": "2023-07-11T14:20:00.929Z"
   },
   {
    "duration": 42,
    "start_time": "2023-07-11T14:20:00.979Z"
   },
   {
    "duration": 35,
    "start_time": "2023-07-11T14:20:01.023Z"
   },
   {
    "duration": 61,
    "start_time": "2023-07-11T14:21:14.710Z"
   },
   {
    "duration": 118,
    "start_time": "2023-07-11T14:21:38.792Z"
   },
   {
    "duration": 23,
    "start_time": "2023-07-11T14:23:01.012Z"
   },
   {
    "duration": 117,
    "start_time": "2023-07-11T14:27:03.994Z"
   },
   {
    "duration": 23,
    "start_time": "2023-07-11T14:28:19.933Z"
   },
   {
    "duration": 40,
    "start_time": "2023-07-11T14:30:04.287Z"
   },
   {
    "duration": 101,
    "start_time": "2023-07-11T14:32:07.933Z"
   },
   {
    "duration": 32,
    "start_time": "2023-07-11T14:32:43.514Z"
   },
   {
    "duration": 107,
    "start_time": "2023-07-11T14:34:09.094Z"
   },
   {
    "duration": 108,
    "start_time": "2023-07-11T14:34:23.599Z"
   },
   {
    "duration": 15,
    "start_time": "2023-07-11T14:35:09.237Z"
   },
   {
    "duration": 31,
    "start_time": "2023-07-11T14:35:30.405Z"
   },
   {
    "duration": 15,
    "start_time": "2023-07-11T14:36:09.937Z"
   },
   {
    "duration": 22,
    "start_time": "2023-07-11T14:37:28.280Z"
   },
   {
    "duration": 22,
    "start_time": "2023-07-11T14:38:33.061Z"
   },
   {
    "duration": 14,
    "start_time": "2023-07-11T14:38:56.637Z"
   },
   {
    "duration": 15,
    "start_time": "2023-07-11T14:39:19.461Z"
   },
   {
    "duration": 23,
    "start_time": "2023-07-11T14:43:39.961Z"
   },
   {
    "duration": 15,
    "start_time": "2023-07-11T14:43:48.449Z"
   },
   {
    "duration": 27,
    "start_time": "2023-07-11T14:46:37.757Z"
   },
   {
    "duration": 20,
    "start_time": "2023-07-11T14:49:07.533Z"
   },
   {
    "duration": 23,
    "start_time": "2023-07-11T14:52:12.321Z"
   },
   {
    "duration": 24,
    "start_time": "2023-07-11T14:52:24.091Z"
   },
   {
    "duration": 15,
    "start_time": "2023-07-11T14:52:35.841Z"
   },
   {
    "duration": 99,
    "start_time": "2023-07-11T14:53:36.797Z"
   },
   {
    "duration": 23,
    "start_time": "2023-07-11T14:54:40.556Z"
   },
   {
    "duration": 26,
    "start_time": "2023-07-11T14:54:49.342Z"
   },
   {
    "duration": 22,
    "start_time": "2023-07-11T14:55:00.090Z"
   },
   {
    "duration": 20,
    "start_time": "2023-07-11T15:00:46.636Z"
   },
   {
    "duration": 63,
    "start_time": "2023-07-11T15:01:30.046Z"
   },
   {
    "duration": 17,
    "start_time": "2023-07-11T15:01:38.092Z"
   },
   {
    "duration": 25,
    "start_time": "2023-07-11T15:05:29.725Z"
   },
   {
    "duration": 29,
    "start_time": "2023-07-11T15:05:53.674Z"
   },
   {
    "duration": 29,
    "start_time": "2023-07-11T15:06:10.279Z"
   },
   {
    "duration": 23,
    "start_time": "2023-07-11T15:06:38.892Z"
   },
   {
    "duration": 23,
    "start_time": "2023-07-11T15:06:48.980Z"
   },
   {
    "duration": 125,
    "start_time": "2023-07-11T15:07:21.500Z"
   },
   {
    "duration": 21,
    "start_time": "2023-07-11T15:07:58.889Z"
   },
   {
    "duration": 25,
    "start_time": "2023-07-11T15:08:32.257Z"
   },
   {
    "duration": 21,
    "start_time": "2023-07-11T15:08:53.787Z"
   },
   {
    "duration": 16,
    "start_time": "2023-07-11T15:09:35.649Z"
   },
   {
    "duration": 15,
    "start_time": "2023-07-11T15:09:47.806Z"
   },
   {
    "duration": 15,
    "start_time": "2023-07-11T15:10:35.591Z"
   },
   {
    "duration": 15,
    "start_time": "2023-07-11T15:11:08.637Z"
   },
   {
    "duration": 530,
    "start_time": "2023-07-20T12:07:22.453Z"
   },
   {
    "duration": 3,
    "start_time": "2023-07-20T12:07:22.986Z"
   },
   {
    "duration": 8297,
    "start_time": "2023-07-20T12:07:22.991Z"
   },
   {
    "duration": 93,
    "start_time": "2023-07-20T12:07:31.289Z"
   },
   {
    "duration": 71,
    "start_time": "2023-07-20T12:07:31.384Z"
   },
   {
    "duration": 14,
    "start_time": "2023-07-20T12:07:31.456Z"
   },
   {
    "duration": 30,
    "start_time": "2023-07-20T12:07:31.472Z"
   },
   {
    "duration": 30,
    "start_time": "2023-07-20T12:07:31.504Z"
   },
   {
    "duration": 27,
    "start_time": "2023-07-20T12:07:31.536Z"
   },
   {
    "duration": 39,
    "start_time": "2023-07-20T12:07:31.564Z"
   },
   {
    "duration": 26,
    "start_time": "2023-07-20T12:07:31.604Z"
   },
   {
    "duration": 41,
    "start_time": "2023-07-20T12:07:31.631Z"
   },
   {
    "duration": 29,
    "start_time": "2023-07-20T12:07:31.673Z"
   }
  ],
  "kernelspec": {
   "display_name": "Python 3 (ipykernel)",
   "language": "python",
   "name": "python3"
  },
  "language_info": {
   "codemirror_mode": {
    "name": "ipython",
    "version": 3
   },
   "file_extension": ".py",
   "mimetype": "text/x-python",
   "name": "python",
   "nbconvert_exporter": "python",
   "pygments_lexer": "ipython3",
   "version": "3.9.5"
  },
  "toc": {
   "base_numbering": 1,
   "nav_menu": {},
   "number_sections": true,
   "sideBar": true,
   "skip_h1_title": true,
   "title_cell": "Table of Contents",
   "title_sidebar": "Contents",
   "toc_cell": false,
   "toc_position": {},
   "toc_section_display": true,
   "toc_window_display": true
  }
 },
 "nbformat": 4,
 "nbformat_minor": 2
}
